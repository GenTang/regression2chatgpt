{
 "cells": [
  {
   "cell_type": "code",
   "execution_count": 1,
   "metadata": {},
   "outputs": [],
   "source": [
    "import numpy as np\n",
    "import pandas as pd\n",
    "from sklearn.model_selection import train_test_split\n",
    "import statsmodels.api as sm\n",
    "from statsmodels.graphics.mosaicplot import mosaic\n",
    "import matplotlib.pyplot as plt\n",
    "%matplotlib inline\n",
    "\n",
    "\n",
    "pd.set_option('display.width', 1000)\n",
    "pd.set_option('display.precision', 1)"
   ]
  },
  {
   "cell_type": "code",
   "execution_count": 2,
   "metadata": {},
   "outputs": [
    {
     "data": {
      "text/html": [
       "<div>\n",
       "<style scoped>\n",
       "    .dataframe tbody tr th:only-of-type {\n",
       "        vertical-align: middle;\n",
       "    }\n",
       "\n",
       "    .dataframe tbody tr th {\n",
       "        vertical-align: top;\n",
       "    }\n",
       "\n",
       "    .dataframe thead th {\n",
       "        text-align: right;\n",
       "    }\n",
       "</style>\n",
       "<table border=\"1\" class=\"dataframe\">\n",
       "  <thead>\n",
       "    <tr style=\"text-align: right;\">\n",
       "      <th></th>\n",
       "      <th>age</th>\n",
       "      <th>education_num</th>\n",
       "      <th>capital_gain</th>\n",
       "      <th>capital_loss</th>\n",
       "      <th>hours_per_week</th>\n",
       "      <th>label</th>\n",
       "    </tr>\n",
       "  </thead>\n",
       "  <tbody>\n",
       "    <tr>\n",
       "      <th>0</th>\n",
       "      <td>39</td>\n",
       "      <td>13</td>\n",
       "      <td>2174</td>\n",
       "      <td>0</td>\n",
       "      <td>40</td>\n",
       "      <td>&lt;=50K</td>\n",
       "    </tr>\n",
       "    <tr>\n",
       "      <th>1</th>\n",
       "      <td>50</td>\n",
       "      <td>13</td>\n",
       "      <td>0</td>\n",
       "      <td>0</td>\n",
       "      <td>13</td>\n",
       "      <td>&lt;=50K</td>\n",
       "    </tr>\n",
       "    <tr>\n",
       "      <th>2</th>\n",
       "      <td>38</td>\n",
       "      <td>9</td>\n",
       "      <td>0</td>\n",
       "      <td>0</td>\n",
       "      <td>40</td>\n",
       "      <td>&lt;=50K</td>\n",
       "    </tr>\n",
       "    <tr>\n",
       "      <th>3</th>\n",
       "      <td>53</td>\n",
       "      <td>7</td>\n",
       "      <td>0</td>\n",
       "      <td>0</td>\n",
       "      <td>40</td>\n",
       "      <td>&lt;=50K</td>\n",
       "    </tr>\n",
       "    <tr>\n",
       "      <th>4</th>\n",
       "      <td>28</td>\n",
       "      <td>13</td>\n",
       "      <td>0</td>\n",
       "      <td>0</td>\n",
       "      <td>40</td>\n",
       "      <td>&lt;=50K</td>\n",
       "    </tr>\n",
       "    <tr>\n",
       "      <th>...</th>\n",
       "      <td>...</td>\n",
       "      <td>...</td>\n",
       "      <td>...</td>\n",
       "      <td>...</td>\n",
       "      <td>...</td>\n",
       "      <td>...</td>\n",
       "    </tr>\n",
       "    <tr>\n",
       "      <th>32556</th>\n",
       "      <td>27</td>\n",
       "      <td>12</td>\n",
       "      <td>0</td>\n",
       "      <td>0</td>\n",
       "      <td>38</td>\n",
       "      <td>&lt;=50K</td>\n",
       "    </tr>\n",
       "    <tr>\n",
       "      <th>32557</th>\n",
       "      <td>40</td>\n",
       "      <td>9</td>\n",
       "      <td>0</td>\n",
       "      <td>0</td>\n",
       "      <td>40</td>\n",
       "      <td>&gt;50K</td>\n",
       "    </tr>\n",
       "    <tr>\n",
       "      <th>32558</th>\n",
       "      <td>58</td>\n",
       "      <td>9</td>\n",
       "      <td>0</td>\n",
       "      <td>0</td>\n",
       "      <td>40</td>\n",
       "      <td>&lt;=50K</td>\n",
       "    </tr>\n",
       "    <tr>\n",
       "      <th>32559</th>\n",
       "      <td>22</td>\n",
       "      <td>9</td>\n",
       "      <td>0</td>\n",
       "      <td>0</td>\n",
       "      <td>20</td>\n",
       "      <td>&lt;=50K</td>\n",
       "    </tr>\n",
       "    <tr>\n",
       "      <th>32560</th>\n",
       "      <td>52</td>\n",
       "      <td>9</td>\n",
       "      <td>15024</td>\n",
       "      <td>0</td>\n",
       "      <td>40</td>\n",
       "      <td>&gt;50K</td>\n",
       "    </tr>\n",
       "  </tbody>\n",
       "</table>\n",
       "<p>32561 rows × 6 columns</p>\n",
       "</div>"
      ],
      "text/plain": [
       "       age  education_num  capital_gain  capital_loss  hours_per_week   label\n",
       "0       39             13          2174             0              40   <=50K\n",
       "1       50             13             0             0              13   <=50K\n",
       "2       38              9             0             0              40   <=50K\n",
       "3       53              7             0             0              40   <=50K\n",
       "4       28             13             0             0              40   <=50K\n",
       "...    ...            ...           ...           ...             ...     ...\n",
       "32556   27             12             0             0              38   <=50K\n",
       "32557   40              9             0             0              40    >50K\n",
       "32558   58              9             0             0              40   <=50K\n",
       "32559   22              9             0             0              20   <=50K\n",
       "32560   52              9         15024             0              40    >50K\n",
       "\n",
       "[32561 rows x 6 columns]"
      ]
     },
     "execution_count": 2,
     "metadata": {},
     "output_type": "execute_result"
    }
   ],
   "source": [
    "data = pd.read_csv('./data/adult.data')\n",
    "cols = ['age', 'education_num', 'capital_gain', 'capital_loss', 'hours_per_week', 'label']\n",
    "data = data[cols]\n",
    "data"
   ]
  },
  {
   "cell_type": "code",
   "execution_count": 3,
   "metadata": {},
   "outputs": [
    {
     "data": {
      "text/html": [
       "<div>\n",
       "<style scoped>\n",
       "    .dataframe tbody tr th:only-of-type {\n",
       "        vertical-align: middle;\n",
       "    }\n",
       "\n",
       "    .dataframe tbody tr th {\n",
       "        vertical-align: top;\n",
       "    }\n",
       "\n",
       "    .dataframe thead th {\n",
       "        text-align: right;\n",
       "    }\n",
       "</style>\n",
       "<table border=\"1\" class=\"dataframe\">\n",
       "  <thead>\n",
       "    <tr style=\"text-align: right;\">\n",
       "      <th></th>\n",
       "      <th>label</th>\n",
       "      <th>label_code</th>\n",
       "    </tr>\n",
       "  </thead>\n",
       "  <tbody>\n",
       "    <tr>\n",
       "      <th>0</th>\n",
       "      <td>&lt;=50K</td>\n",
       "      <td>0</td>\n",
       "    </tr>\n",
       "    <tr>\n",
       "      <th>1</th>\n",
       "      <td>&lt;=50K</td>\n",
       "      <td>0</td>\n",
       "    </tr>\n",
       "    <tr>\n",
       "      <th>2</th>\n",
       "      <td>&lt;=50K</td>\n",
       "      <td>0</td>\n",
       "    </tr>\n",
       "    <tr>\n",
       "      <th>3</th>\n",
       "      <td>&lt;=50K</td>\n",
       "      <td>0</td>\n",
       "    </tr>\n",
       "    <tr>\n",
       "      <th>4</th>\n",
       "      <td>&lt;=50K</td>\n",
       "      <td>0</td>\n",
       "    </tr>\n",
       "    <tr>\n",
       "      <th>...</th>\n",
       "      <td>...</td>\n",
       "      <td>...</td>\n",
       "    </tr>\n",
       "    <tr>\n",
       "      <th>32556</th>\n",
       "      <td>&lt;=50K</td>\n",
       "      <td>0</td>\n",
       "    </tr>\n",
       "    <tr>\n",
       "      <th>32557</th>\n",
       "      <td>&gt;50K</td>\n",
       "      <td>1</td>\n",
       "    </tr>\n",
       "    <tr>\n",
       "      <th>32558</th>\n",
       "      <td>&lt;=50K</td>\n",
       "      <td>0</td>\n",
       "    </tr>\n",
       "    <tr>\n",
       "      <th>32559</th>\n",
       "      <td>&lt;=50K</td>\n",
       "      <td>0</td>\n",
       "    </tr>\n",
       "    <tr>\n",
       "      <th>32560</th>\n",
       "      <td>&gt;50K</td>\n",
       "      <td>1</td>\n",
       "    </tr>\n",
       "  </tbody>\n",
       "</table>\n",
       "<p>32561 rows × 2 columns</p>\n",
       "</div>"
      ],
      "text/plain": [
       "        label  label_code\n",
       "0       <=50K           0\n",
       "1       <=50K           0\n",
       "2       <=50K           0\n",
       "3       <=50K           0\n",
       "4       <=50K           0\n",
       "...       ...         ...\n",
       "32556   <=50K           0\n",
       "32557    >50K           1\n",
       "32558   <=50K           0\n",
       "32559   <=50K           0\n",
       "32560    >50K           1\n",
       "\n",
       "[32561 rows x 2 columns]"
      ]
     },
     "execution_count": 3,
     "metadata": {},
     "output_type": "execute_result"
    }
   ],
   "source": [
    "# 将文字变量转化为数字变量\n",
    "data['label_code'] = pd.Categorical(data.label).codes\n",
    "data[['label', 'label_code']]"
   ]
  },
  {
   "cell_type": "code",
   "execution_count": 4,
   "metadata": {},
   "outputs": [
    {
     "data": {
      "image/png": "[encoded data removed]",
      "text/plain": [
       "<Figure size 2000x500 with 4 Axes>"
      ]
     },
     "metadata": {
      "needs_background": "light"
     },
     "output_type": "display_data"
    }
   ],
   "source": [
    "plt.rcParams.update({'font.size': 13})\n",
    "fig, ax = plt.subplots(1, 4, figsize=(20, 5), dpi=100)\n",
    "hist_data = data[['age', 'education_num', 'hours_per_week', 'label_code']]\n",
    "hist_data.hist(rwidth=0.9, grid=False, alpha=0.6, color='grey', ax=ax)\n",
    "plt.savefig('logit_hist.png', dpi=200)\n",
    "plt.show()"
   ]
  },
  {
   "cell_type": "code",
   "execution_count": 5,
   "metadata": {},
   "outputs": [
    {
     "data": {
      "text/html": [
       "<div>\n",
       "<style scoped>\n",
       "    .dataframe tbody tr th:only-of-type {\n",
       "        vertical-align: middle;\n",
       "    }\n",
       "\n",
       "    .dataframe tbody tr th {\n",
       "        vertical-align: top;\n",
       "    }\n",
       "\n",
       "    .dataframe thead th {\n",
       "        text-align: right;\n",
       "    }\n",
       "</style>\n",
       "<table border=\"1\" class=\"dataframe\">\n",
       "  <thead>\n",
       "    <tr style=\"text-align: right;\">\n",
       "      <th></th>\n",
       "      <th>age</th>\n",
       "      <th>education_num</th>\n",
       "      <th>capital_gain</th>\n",
       "      <th>capital_loss</th>\n",
       "      <th>hours_per_week</th>\n",
       "      <th>label_code</th>\n",
       "    </tr>\n",
       "  </thead>\n",
       "  <tbody>\n",
       "    <tr>\n",
       "      <th>count</th>\n",
       "      <td>32561.0</td>\n",
       "      <td>32561.0</td>\n",
       "      <td>32561.0</td>\n",
       "      <td>32561.0</td>\n",
       "      <td>32561.0</td>\n",
       "      <td>32561.0</td>\n",
       "    </tr>\n",
       "    <tr>\n",
       "      <th>mean</th>\n",
       "      <td>38.6</td>\n",
       "      <td>10.1</td>\n",
       "      <td>1077.6</td>\n",
       "      <td>87.3</td>\n",
       "      <td>40.4</td>\n",
       "      <td>0.2</td>\n",
       "    </tr>\n",
       "    <tr>\n",
       "      <th>std</th>\n",
       "      <td>13.6</td>\n",
       "      <td>2.6</td>\n",
       "      <td>7385.3</td>\n",
       "      <td>403.0</td>\n",
       "      <td>12.3</td>\n",
       "      <td>0.4</td>\n",
       "    </tr>\n",
       "    <tr>\n",
       "      <th>min</th>\n",
       "      <td>17.0</td>\n",
       "      <td>1.0</td>\n",
       "      <td>0.0</td>\n",
       "      <td>0.0</td>\n",
       "      <td>1.0</td>\n",
       "      <td>0.0</td>\n",
       "    </tr>\n",
       "    <tr>\n",
       "      <th>25%</th>\n",
       "      <td>28.0</td>\n",
       "      <td>9.0</td>\n",
       "      <td>0.0</td>\n",
       "      <td>0.0</td>\n",
       "      <td>40.0</td>\n",
       "      <td>0.0</td>\n",
       "    </tr>\n",
       "    <tr>\n",
       "      <th>50%</th>\n",
       "      <td>37.0</td>\n",
       "      <td>10.0</td>\n",
       "      <td>0.0</td>\n",
       "      <td>0.0</td>\n",
       "      <td>40.0</td>\n",
       "      <td>0.0</td>\n",
       "    </tr>\n",
       "    <tr>\n",
       "      <th>75%</th>\n",
       "      <td>48.0</td>\n",
       "      <td>12.0</td>\n",
       "      <td>0.0</td>\n",
       "      <td>0.0</td>\n",
       "      <td>45.0</td>\n",
       "      <td>0.0</td>\n",
       "    </tr>\n",
       "    <tr>\n",
       "      <th>max</th>\n",
       "      <td>90.0</td>\n",
       "      <td>16.0</td>\n",
       "      <td>99999.0</td>\n",
       "      <td>4356.0</td>\n",
       "      <td>99.0</td>\n",
       "      <td>1.0</td>\n",
       "    </tr>\n",
       "  </tbody>\n",
       "</table>\n",
       "</div>"
      ],
      "text/plain": [
       "           age  education_num  capital_gain  capital_loss  hours_per_week  label_code\n",
       "count  32561.0        32561.0       32561.0       32561.0         32561.0     32561.0\n",
       "mean      38.6           10.1        1077.6          87.3            40.4         0.2\n",
       "std       13.6            2.6        7385.3         403.0            12.3         0.4\n",
       "min       17.0            1.0           0.0           0.0             1.0         0.0\n",
       "25%       28.0            9.0           0.0           0.0            40.0         0.0\n",
       "50%       37.0           10.0           0.0           0.0            40.0         0.0\n",
       "75%       48.0           12.0           0.0           0.0            45.0         0.0\n",
       "max       90.0           16.0       99999.0        4356.0            99.0         1.0"
      ]
     },
     "execution_count": 5,
     "metadata": {},
     "output_type": "execute_result"
    }
   ],
   "source": [
    "# 通过统计方法，了解数据性质\n",
    "# 显示基本统计信息\n",
    "data.describe()"
   ]
  },
  {
   "cell_type": "code",
   "execution_count": 6,
   "metadata": {},
   "outputs": [
    {
     "data": {
      "text/html": [
       "<div>\n",
       "<style scoped>\n",
       "    .dataframe tbody tr th:only-of-type {\n",
       "        vertical-align: middle;\n",
       "    }\n",
       "\n",
       "    .dataframe tbody tr th {\n",
       "        vertical-align: top;\n",
       "    }\n",
       "\n",
       "    .dataframe thead th {\n",
       "        text-align: right;\n",
       "    }\n",
       "</style>\n",
       "<table border=\"1\" class=\"dataframe\">\n",
       "  <thead>\n",
       "    <tr style=\"text-align: right;\">\n",
       "      <th>label</th>\n",
       "      <th>&lt;=50K</th>\n",
       "      <th>&gt;50K</th>\n",
       "    </tr>\n",
       "    <tr>\n",
       "      <th>hours_per_week</th>\n",
       "      <th></th>\n",
       "      <th></th>\n",
       "    </tr>\n",
       "  </thead>\n",
       "  <tbody>\n",
       "    <tr>\n",
       "      <th>(0.9, 20.6]</th>\n",
       "      <td>0.9</td>\n",
       "      <td>6.7e-02</td>\n",
       "    </tr>\n",
       "    <tr>\n",
       "      <th>(20.6, 40.2]</th>\n",
       "      <td>0.8</td>\n",
       "      <td>1.9e-01</td>\n",
       "    </tr>\n",
       "    <tr>\n",
       "      <th>(40.2, 59.8]</th>\n",
       "      <td>0.6</td>\n",
       "      <td>4.0e-01</td>\n",
       "    </tr>\n",
       "    <tr>\n",
       "      <th>(59.8, 79.4]</th>\n",
       "      <td>0.6</td>\n",
       "      <td>4.2e-01</td>\n",
       "    </tr>\n",
       "    <tr>\n",
       "      <th>(79.4, 99.0]</th>\n",
       "      <td>0.6</td>\n",
       "      <td>3.5e-01</td>\n",
       "    </tr>\n",
       "  </tbody>\n",
       "</table>\n",
       "</div>"
      ],
      "text/plain": [
       "label            <=50K     >50K\n",
       "hours_per_week                 \n",
       "(0.9, 20.6]        0.9  6.7e-02\n",
       "(20.6, 40.2]       0.8  1.9e-01\n",
       "(40.2, 59.8]       0.6  4.0e-01\n",
       "(59.8, 79.4]       0.6  4.2e-01\n",
       "(79.4, 99.0]       0.6  3.5e-01"
      ]
     },
     "execution_count": 6,
     "metadata": {},
     "output_type": "execute_result"
    }
   ],
   "source": [
    "# 计算hours_per_week, label交叉报表\n",
    "cut = pd.cut(data['hours_per_week'], 5, precision=1)\n",
    "cross = pd.crosstab(cut, data['label'])\n",
    "# 将交叉报表归一化，利于分析数据\n",
    "cross_norm = cross.div(cross.sum(1).astype(float), axis=0)\n",
    "cross_norm    "
   ]
  },
  {
   "cell_type": "code",
   "execution_count": 7,
   "metadata": {},
   "outputs": [
    {
     "data": {
      "image/png": "[encoded data removed]",
      "text/plain": [
       "<Figure size 800x600 with 1 Axes>"
      ]
     },
     "metadata": {
      "needs_background": "light"
     },
     "output_type": "display_data"
    }
   ],
   "source": [
    "# 图形化归一化后的交叉报表\n",
    "plt.rcParams.update({'font.size': 13})\n",
    "fig, ax = plt.subplots(1, 1, figsize=(8, 6), dpi=100)\n",
    "cross_norm.plot(kind='bar', color=['#C6E2FF', '0.45'], rot=0, ax=ax)\n",
    "plt.savefig('logit_mosaic.png', dpi=200)\n",
    "plt.show()"
   ]
  },
  {
   "cell_type": "code",
   "execution_count": 8,
   "metadata": {},
   "outputs": [
    {
     "data": {
      "text/html": [
       "<div>\n",
       "<style scoped>\n",
       "    .dataframe tbody tr th:only-of-type {\n",
       "        vertical-align: middle;\n",
       "    }\n",
       "\n",
       "    .dataframe tbody tr th {\n",
       "        vertical-align: top;\n",
       "    }\n",
       "\n",
       "    .dataframe thead th {\n",
       "        text-align: right;\n",
       "    }\n",
       "</style>\n",
       "<table border=\"1\" class=\"dataframe\">\n",
       "  <thead>\n",
       "    <tr style=\"text-align: right;\">\n",
       "      <th>label</th>\n",
       "      <th>&lt;=50K</th>\n",
       "      <th>&gt;50K</th>\n",
       "    </tr>\n",
       "    <tr>\n",
       "      <th>education_num</th>\n",
       "      <th></th>\n",
       "      <th></th>\n",
       "    </tr>\n",
       "  </thead>\n",
       "  <tbody>\n",
       "    <tr>\n",
       "      <th>[1, 9]</th>\n",
       "      <td>12835</td>\n",
       "      <td>1919</td>\n",
       "    </tr>\n",
       "    <tr>\n",
       "      <th>(9, 10]</th>\n",
       "      <td>5904</td>\n",
       "      <td>1387</td>\n",
       "    </tr>\n",
       "    <tr>\n",
       "      <th>(10, 12]</th>\n",
       "      <td>1823</td>\n",
       "      <td>626</td>\n",
       "    </tr>\n",
       "    <tr>\n",
       "      <th>(12, 16]</th>\n",
       "      <td>4158</td>\n",
       "      <td>3909</td>\n",
       "    </tr>\n",
       "  </tbody>\n",
       "</table>\n",
       "</div>"
      ],
      "text/plain": [
       "label           <=50K   >50K\n",
       "education_num               \n",
       "[1, 9]          12835   1919\n",
       "(9, 10]          5904   1387\n",
       "(10, 12]         1823    626\n",
       "(12, 16]         4158   3909"
      ]
     },
     "execution_count": 8,
     "metadata": {},
     "output_type": "execute_result"
    }
   ],
   "source": [
    "# 计算education_num, label交叉报表\n",
    "## 为了展示美观，手动定义labels\n",
    "bins = [0, 0.25, 0.5, 0.75, 1]\n",
    "_, edges = pd.qcut(data['education_num'], bins, precision=3, retbins=True)\n",
    "labels = []\n",
    "for i in range(len(edges) - 1):\n",
    "    if i == 0:\n",
    "        labels.append(f'[{int(edges[i])}, {int(edges[i+1])}]')\n",
    "    else:\n",
    "        labels.append(f'({int(edges[i])}, {int(edges[i+1])}]')\n",
    "cut1 = pd.qcut(data['education_num'], bins, labels=labels)\n",
    "cross1 = pd.crosstab(cut1, data['label'])\n",
    "cross1"
   ]
  },
  {
   "cell_type": "code",
   "execution_count": 9,
   "metadata": {},
   "outputs": [
    {
     "data": {
      "image/png": "[encoded data removed]",
      "text/plain": [
       "<Figure size 800x600 with 3 Axes>"
      ]
     },
     "metadata": {
      "needs_background": "light"
     },
     "output_type": "display_data"
    }
   ],
   "source": [
    "# 将交叉报表图形化\n",
    "plt.rcParams.update({'font.size': 13})\n",
    "fig, ax = plt.subplots(1, 1, figsize=(8, 6), dpi=100)\n",
    "props = lambda key: {'color': '0.45'} if ' >50K' in key else {'color': '#C6E2FF'}\n",
    "mosaic(cross1[[' >50K', ' <=50K']].stack(), properties=props, ax=ax)\n",
    "ax.set_xlabel(cross1.index.name)\n",
    "plt.savefig('logit_mosaic2.png', dpi=200)\n",
    "plt.show()"
   ]
  },
  {
   "cell_type": "code",
   "execution_count": 10,
   "metadata": {},
   "outputs": [],
   "source": [
    "# 将数据分为训练集和测试集\n",
    "train_set, test_set = train_test_split(data, test_size=0.2, random_state=2310)"
   ]
  },
  {
   "cell_type": "code",
   "execution_count": 11,
   "metadata": {},
   "outputs": [
    {
     "name": "stdout",
     "output_type": "stream",
     "text": [
      "Optimization terminated successfully.\n",
      "         Current function value: 0.406725\n",
      "         Iterations 8\n",
      "                           Logit Regression Results                           \n",
      "==============================================================================\n",
      "Dep. Variable:             label_code   No. Observations:                32561\n",
      "Model:                          Logit   Df Residuals:                    32555\n",
      "Method:                           MLE   Df Model:                            5\n",
      "Date:                Sat, 04 Nov 2023   Pseudo R-squ.:                  0.2632\n",
      "Time:                        15:43:02   Log-Likelihood:                -13243.\n",
      "converged:                       True   LL-Null:                       -17974.\n",
      "Covariance Type:            nonrobust   LLR p-value:                     0.000\n",
      "==================================================================================\n",
      "                     coef    std err          z      P>|z|      [0.025      0.975]\n",
      "----------------------------------------------------------------------------------\n",
      "Intercept         -8.3157      0.115    -72.240      0.000      -8.541      -8.090\n",
      "age                0.0430      0.001     35.211      0.000       0.041       0.045\n",
      "education_num      0.3228      0.007     47.361      0.000       0.309       0.336\n",
      "capital_gain       0.0003   9.68e-06     32.916      0.000       0.000       0.000\n",
      "capital_loss       0.0007   3.25e-05     21.480      0.000       0.001       0.001\n",
      "hours_per_week     0.0407      0.001     30.776      0.000       0.038       0.043\n",
      "==================================================================================\n"
     ]
    }
   ],
   "source": [
    "# 训练模型并分析模型效果\n",
    "formula = 'label_code ~ age + education_num + capital_gain + capital_loss + hours_per_week'\n",
    "model = sm.Logit.from_formula(formula, data=data)\n",
    "re = model.fit()\n",
    "print(re.summary())"
   ]
  },
  {
   "cell_type": "code",
   "execution_count": 12,
   "metadata": {},
   "outputs": [
    {
     "name": "stdout",
     "output_type": "stream",
     "text": [
      "检验假设education_num的系数等于0：\n",
      "<F test: F=2243.090738470156, p=0.0, df_denom=3.26e+04, df_num=1>\n",
      "检验假设education_num的系数等于0.32和hours_per_week的系数等于0.04同时成立：\n",
      "<F test: F=0.230516045737942, p=0.794124988795008, df_denom=3.26e+04, df_num=2>\n"
     ]
    }
   ],
   "source": [
    "# 用f test检验education_num的系数是否显著\n",
    "print('检验假设education_num的系数等于0：')\n",
    "print(re.f_test('education_num=0'))\n",
    "# 用f test检验两个假设是否同时成立\n",
    "print('检验假设education_num的系数等于0.32和hours_per_week的系数等于0.04同时成立：')\n",
    "print(re.f_test('education_num=0.32, hours_per_week=0.04'))"
   ]
  },
  {
   "cell_type": "code",
   "execution_count": 13,
   "metadata": {},
   "outputs": [
    {
     "name": "stdout",
     "output_type": "stream",
     "text": [
      "                  2.5%   97.5%      OR\n",
      "Intercept       0.0002  0.0003  0.0002\n",
      "age             1.0415  1.0465  1.0440\n",
      "education_num   1.3626  1.3995  1.3809\n",
      "capital_gain    1.0003  1.0003  1.0003\n",
      "capital_loss    1.0006  1.0008  1.0007\n",
      "hours_per_week  1.0389  1.0443  1.0416\n"
     ]
    }
   ],
   "source": [
    "# 理解模型结果\n",
    "pd.set_option('display.precision', 4)\n",
    "conf = re.conf_int()\n",
    "conf['OR'] = re.params\n",
    "# 计算各个变量对事件发生比的影响\n",
    "# conf里的三列：置信区间的下界、上界和估计值\n",
    "conf.columns = ['2.5%', '97.5%', 'OR']\n",
    "# 各个变量对事件发生比的影响\n",
    "print(np.exp(conf))"
   ]
  },
  {
   "cell_type": "code",
   "execution_count": 14,
   "metadata": {},
   "outputs": [
    {
     "name": "stdout",
     "output_type": "stream",
     "text": [
      "        Logit Marginal Effects       \n",
      "=====================================\n",
      "Dep. Variable:             label_code\n",
      "Method:                          dydx\n",
      "At:                           overall\n",
      "==================================================================================\n",
      "                    dy/dx    std err          z      P>|z|      [0.025      0.975]\n",
      "----------------------------------------------------------------------------------\n",
      "age                0.0055      0.000     37.227      0.000       0.005       0.006\n",
      "education_num      0.0415      0.001     53.118      0.000       0.040       0.043\n",
      "capital_gain    4.099e-05   1.17e-06     34.942      0.000    3.87e-05    4.33e-05\n",
      "capital_loss    8.991e-05   4.08e-06     22.062      0.000    8.19e-05    9.79e-05\n",
      "hours_per_week     0.0052      0.000     32.171      0.000       0.005       0.006\n",
      "==================================================================================\n"
     ]
    }
   ],
   "source": [
    "# 计算各个变量的边际效应\n",
    "print(re.get_margeff(at='overall').summary())"
   ]
  },
  {
   "cell_type": "code",
   "execution_count": 15,
   "metadata": {},
   "outputs": [
    {
     "name": "stdout",
     "output_type": "stream",
     "text": [
      "事件发生概率（预测概率）大于0.6的数据个数：\n",
      "584\n",
      "事件发生概率（预测概率）大于0.5的数据个数：\n",
      "846\n"
     ]
    }
   ],
   "source": [
    "# 使用训练好的模型对测试数据做预测\n",
    "# 计算事件发生的概率\n",
    "test_set['prob'] = re.predict(test_set)\n",
    "print('事件发生概率（预测概率）大于0.6的数据个数：')\n",
    "print(test_set[test_set['prob'] > 0.6].shape[0])\n",
    "print('事件发生概率（预测概率）大于0.5的数据个数：')\n",
    "print(test_set[test_set['prob'] > 0.5].shape[0])\n",
    "# 根据预测的概率，得出最终的预测\n",
    "alpha=0.5\n",
    "test_set['pred'] = test_set.apply(lambda x: 1 if x['prob'] > alpha else 0, axis=1)"
   ]
  },
  {
   "cell_type": "code",
   "execution_count": 16,
   "metadata": {},
   "outputs": [
    {
     "name": "stdout",
     "output_type": "stream",
     "text": [
      "查准率: 0.702, 查全率: 0.377, f1: 0.491\n"
     ]
    }
   ],
   "source": [
    "# 计算预测结果的查准查全率以及f1\n",
    "bins = np.array([0, 0.5, 1])\n",
    "label = test_set['label_code']\n",
    "pred = test_set['pred']\n",
    "tn, fp, fn, tp = np.histogram2d(label, pred, bins=bins)[0].flatten()\n",
    "precision = tp / (tp + fp) \n",
    "recall = tp / (tp + fn)\n",
    "f1 = 2 * precision * recall / (precision + recall)\n",
    "print('查准率: %.3f, 查全率: %.3f, f1: %.3f' % (precision, recall, f1))"
   ]
  }
 ],
 "metadata": {
  "kernelspec": {
   "display_name": "Python 3",
   "language": "python",
   "name": "python3"
  },
  "language_info": {
   "codemirror_mode": {
    "name": "ipython",
    "version": 3
   },
   "file_extension": ".py",
   "mimetype": "text/x-python",
   "name": "python",
   "nbconvert_exporter": "python",
   "pygments_lexer": "ipython3",
   "version": "3.8.5"
  }
 },
 "nbformat": 4,
 "nbformat_minor": 4
}
