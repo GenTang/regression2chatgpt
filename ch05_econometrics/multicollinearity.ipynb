{
 "cells": [
  {
   "cell_type": "code",
   "execution_count": 1,
   "metadata": {},
   "outputs": [],
   "source": [
    "import numpy as np\n",
    "import pandas as pd\n",
    "import statsmodels.api as sm\n",
    "from statsmodels.stats.outliers_influence import variance_inflation_factor\n",
    "import scipy.stats.stats as scss\n",
    "import matplotlib.pyplot as plt\n",
    "%matplotlib inline\n",
    "\n",
    "# 设置随机数种子，使运行结果可复现\n",
    "np.random.seed(2046)"
   ]
  },
  {
   "cell_type": "code",
   "execution_count": 2,
   "metadata": {},
   "outputs": [
    {
     "data": {
      "text/html": [
       "<div>\n",
       "<style scoped>\n",
       "    .dataframe tbody tr th:only-of-type {\n",
       "        vertical-align: middle;\n",
       "    }\n",
       "\n",
       "    .dataframe tbody tr th {\n",
       "        vertical-align: top;\n",
       "    }\n",
       "\n",
       "    .dataframe thead th {\n",
       "        text-align: right;\n",
       "    }\n",
       "</style>\n",
       "<table border=\"1\" class=\"dataframe\">\n",
       "  <thead>\n",
       "    <tr style=\"text-align: right;\">\n",
       "      <th></th>\n",
       "      <th>x1</th>\n",
       "      <th>x2</th>\n",
       "      <th>x3</th>\n",
       "      <th>y</th>\n",
       "    </tr>\n",
       "  </thead>\n",
       "  <tbody>\n",
       "    <tr>\n",
       "      <th>0</th>\n",
       "      <td>0</td>\n",
       "      <td>0</td>\n",
       "      <td>0.894992</td>\n",
       "      <td>0.297397</td>\n",
       "    </tr>\n",
       "    <tr>\n",
       "      <th>1</th>\n",
       "      <td>0</td>\n",
       "      <td>1</td>\n",
       "      <td>0.596078</td>\n",
       "      <td>-0.888134</td>\n",
       "    </tr>\n",
       "    <tr>\n",
       "      <th>2</th>\n",
       "      <td>0</td>\n",
       "      <td>2</td>\n",
       "      <td>0.435564</td>\n",
       "      <td>-1.979664</td>\n",
       "    </tr>\n",
       "    <tr>\n",
       "      <th>3</th>\n",
       "      <td>1</td>\n",
       "      <td>0</td>\n",
       "      <td>1.153073</td>\n",
       "      <td>1.115046</td>\n",
       "    </tr>\n",
       "    <tr>\n",
       "      <th>4</th>\n",
       "      <td>1</td>\n",
       "      <td>1</td>\n",
       "      <td>1.340793</td>\n",
       "      <td>0.064129</td>\n",
       "    </tr>\n",
       "    <tr>\n",
       "      <th>5</th>\n",
       "      <td>1</td>\n",
       "      <td>2</td>\n",
       "      <td>1.621597</td>\n",
       "      <td>-0.930433</td>\n",
       "    </tr>\n",
       "    <tr>\n",
       "      <th>6</th>\n",
       "      <td>2</td>\n",
       "      <td>0</td>\n",
       "      <td>2.139849</td>\n",
       "      <td>2.060672</td>\n",
       "    </tr>\n",
       "    <tr>\n",
       "      <th>7</th>\n",
       "      <td>2</td>\n",
       "      <td>1</td>\n",
       "      <td>2.488654</td>\n",
       "      <td>1.067725</td>\n",
       "    </tr>\n",
       "    <tr>\n",
       "      <th>8</th>\n",
       "      <td>2</td>\n",
       "      <td>2</td>\n",
       "      <td>2.049478</td>\n",
       "      <td>-0.115373</td>\n",
       "    </tr>\n",
       "    <tr>\n",
       "      <th>9</th>\n",
       "      <td>0</td>\n",
       "      <td>0</td>\n",
       "      <td>0.564523</td>\n",
       "      <td>0.206383</td>\n",
       "    </tr>\n",
       "    <tr>\n",
       "      <th>10</th>\n",
       "      <td>0</td>\n",
       "      <td>1</td>\n",
       "      <td>0.270165</td>\n",
       "      <td>-1.018755</td>\n",
       "    </tr>\n",
       "    <tr>\n",
       "      <th>11</th>\n",
       "      <td>0</td>\n",
       "      <td>2</td>\n",
       "      <td>0.596075</td>\n",
       "      <td>-2.018875</td>\n",
       "    </tr>\n",
       "    <tr>\n",
       "      <th>12</th>\n",
       "      <td>1</td>\n",
       "      <td>0</td>\n",
       "      <td>1.291240</td>\n",
       "      <td>1.134136</td>\n",
       "    </tr>\n",
       "    <tr>\n",
       "      <th>13</th>\n",
       "      <td>1</td>\n",
       "      <td>1</td>\n",
       "      <td>1.251871</td>\n",
       "      <td>0.026758</td>\n",
       "    </tr>\n",
       "    <tr>\n",
       "      <th>14</th>\n",
       "      <td>1</td>\n",
       "      <td>2</td>\n",
       "      <td>1.110560</td>\n",
       "      <td>-1.144212</td>\n",
       "    </tr>\n",
       "    <tr>\n",
       "      <th>15</th>\n",
       "      <td>2</td>\n",
       "      <td>0</td>\n",
       "      <td>2.805694</td>\n",
       "      <td>2.271965</td>\n",
       "    </tr>\n",
       "    <tr>\n",
       "      <th>16</th>\n",
       "      <td>2</td>\n",
       "      <td>1</td>\n",
       "      <td>2.465100</td>\n",
       "      <td>1.058364</td>\n",
       "    </tr>\n",
       "    <tr>\n",
       "      <th>17</th>\n",
       "      <td>2</td>\n",
       "      <td>2</td>\n",
       "      <td>2.258865</td>\n",
       "      <td>-0.081940</td>\n",
       "    </tr>\n",
       "  </tbody>\n",
       "</table>\n",
       "</div>"
      ],
      "text/plain": [
       "    x1  x2        x3         y\n",
       "0    0   0  0.894992  0.297397\n",
       "1    0   1  0.596078 -0.888134\n",
       "2    0   2  0.435564 -1.979664\n",
       "3    1   0  1.153073  1.115046\n",
       "4    1   1  1.340793  0.064129\n",
       "5    1   2  1.621597 -0.930433\n",
       "6    2   0  2.139849  2.060672\n",
       "7    2   1  2.488654  1.067725\n",
       "8    2   2  2.049478 -0.115373\n",
       "9    0   0  0.564523  0.206383\n",
       "10   0   1  0.270165 -1.018755\n",
       "11   0   2  0.596075 -2.018875\n",
       "12   1   0  1.291240  1.134136\n",
       "13   1   1  1.251871  0.026758\n",
       "14   1   2  1.110560 -1.144212\n",
       "15   2   0  2.805694  2.271965\n",
       "16   2   1  2.465100  1.058364\n",
       "17   2   2  2.258865 -0.081940"
      ]
     },
     "execution_count": 2,
     "metadata": {},
     "output_type": "execute_result"
    }
   ],
   "source": [
    "# 生成模型数据，其中x1，x2为不相关的特征；x1，x3强相关\n",
    "n = 2\n",
    "data = []\n",
    "for i in range(0, 3):\n",
    "    for j in range(0, 3):\n",
    "        data.append({'x1': i, 'x2': j})\n",
    "data = pd.DataFrame(data * n)\n",
    "# 生成强相关自特征\n",
    "data['x3'] = data['x1'] + np.random.random(9 * n)\n",
    "# 生成被预测值\n",
    "error = 0.1 * np.random.random(9 * n)\n",
    "data['y'] = 0.7 * data['x1'] - 1.1 * data['x2'] + 0.3 * data['x3'] + error\n",
    "data"
   ]
  },
  {
   "cell_type": "code",
   "execution_count": 3,
   "metadata": {},
   "outputs": [
    {
     "data": {
      "image/png": "[encoded data removed]",
      "text/plain": [
       "<Figure size 1800x600 with 3 Axes>"
      ]
     },
     "metadata": {},
     "output_type": "display_data"
    }
   ],
   "source": [
    "# 为在Matplotlib中显示中文，设置特殊字体\n",
    "plt.rcParams[\"font.sans-serif\"] = [\"SimHei\"]\n",
    "# 正确显示负号\n",
    "plt.rcParams['axes.unicode_minus'] = False\n",
    "plt.rcParams.update({'font.size': 20})\n",
    "# 创建一个图形框\n",
    "fig = plt.figure(figsize=(18, 6), dpi=100)\n",
    "# 计算相关系数\n",
    "corr = data.corr(method='pearson')\n",
    "var = [('x1', 'x2'), ('x1', 'x3'), ('x2', 'x3')]\n",
    "for i, (v1, v2) in enumerate(var):\n",
    "    ax = fig.add_subplot(1, 3, i + 1)\n",
    "    ax.set_xlabel(f'${v1}$')\n",
    "    ax.set_ylabel(f'${v2}$')\n",
    "    ax.scatter(data[v1], data[v2])\n",
    "    ax.annotate(f'相关系数：{corr[v1][v2]:.2f}', (0.5, 0.9),\n",
    "                xycoords='axes fraction', ha='center', va='center')\n",
    "    ax.set_xticks([])\n",
    "    ax.set_yticks([])\n",
    "plt.savefig('multicollinearity_data.png', dpi=200)\n",
    "plt.show()"
   ]
  },
  {
   "cell_type": "code",
   "execution_count": 4,
   "metadata": {},
   "outputs": [],
   "source": [
    "def train_model(X, Y):\n",
    "    '''\n",
    "    训练线性回归模型\n",
    "    '''\n",
    "    model = sm.OLS(Y, X)\n",
    "    re = model.fit()\n",
    "    return re"
   ]
  },
  {
   "cell_type": "code",
   "execution_count": 5,
   "metadata": {},
   "outputs": [
    {
     "name": "stdout",
     "output_type": "stream",
     "text": [
      "                            OLS Regression Results                            \n",
      "==============================================================================\n",
      "Dep. Variable:                      y   R-squared:                       0.431\n",
      "Model:                            OLS   Adj. R-squared:                  0.396\n",
      "Method:                 Least Squares   F-statistic:                     12.14\n",
      "Date:                Tue, 07 Nov 2023   Prob (F-statistic):            0.00307\n",
      "Time:                        17:46:01   Log-Likelihood:                -23.867\n",
      "No. Observations:                  18   AIC:                             51.73\n",
      "Df Residuals:                      16   BIC:                             53.51\n",
      "Df Model:                           1                                         \n",
      "Covariance Type:            nonrobust                                         \n",
      "==============================================================================\n",
      "                 coef    std err          t      P>|t|      [0.025      0.975]\n",
      "------------------------------------------------------------------------------\n",
      "const         -0.9094      0.360     -2.525      0.023      -1.673      -0.146\n",
      "x1             0.9719      0.279      3.484      0.003       0.380       1.563\n",
      "==============================================================================\n",
      "Omnibus:                        6.365   Durbin-Watson:                   2.636\n",
      "Prob(Omnibus):                  0.041   Jarque-Bera (JB):                1.638\n",
      "Skew:                           0.020   Prob(JB):                        0.441\n",
      "Kurtosis:                       1.523   Cond. No.                         2.92\n",
      "==============================================================================\n",
      "\n",
      "Notes:\n",
      "[1] Standard Errors assume that the covariance matrix of the errors is correctly specified.\n"
     ]
    },
    {
     "name": "stderr",
     "output_type": "stream",
     "text": [
      "/Users/tgbaggio/opt/anaconda3/lib/python3.8/site-packages/scipy/stats/stats.py:1603: UserWarning: kurtosistest only valid for n>=20 ... continuing anyway, n=18\n",
      "  warnings.warn(\"kurtosistest only valid for n>=20 ... continuing \"\n"
     ]
    }
   ],
   "source": [
    "# 用x1搭建回归模型\n",
    "Y = data['y']\n",
    "X = sm.add_constant(data['x1'])\n",
    "re = train_model(X, Y)\n",
    "print(re.summary())"
   ]
  },
  {
   "cell_type": "code",
   "execution_count": 6,
   "metadata": {},
   "outputs": [
    {
     "name": "stdout",
     "output_type": "stream",
     "text": [
      "                            OLS Regression Results                            \n",
      "==============================================================================\n",
      "Dep. Variable:                      y   R-squared:                       0.566\n",
      "Model:                            OLS   Adj. R-squared:                  0.539\n",
      "Method:                 Least Squares   F-statistic:                     20.84\n",
      "Date:                Tue, 07 Nov 2023   Prob (F-statistic):           0.000318\n",
      "Time:                        17:46:01   Log-Likelihood:                -21.442\n",
      "No. Observations:                  18   AIC:                             46.88\n",
      "Df Residuals:                      16   BIC:                             48.66\n",
      "Df Model:                           1                                         \n",
      "Covariance Type:            nonrobust                                         \n",
      "==============================================================================\n",
      "                 coef    std err          t      P>|t|      [0.025      0.975]\n",
      "------------------------------------------------------------------------------\n",
      "const          1.1755      0.315      3.734      0.002       0.508       1.843\n",
      "x2            -1.1130      0.244     -4.565      0.000      -1.630      -0.596\n",
      "==============================================================================\n",
      "Omnibus:                        6.451   Durbin-Watson:                   0.642\n",
      "Prob(Omnibus):                  0.040   Jarque-Bera (JB):                1.649\n",
      "Skew:                           0.035   Prob(JB):                        0.438\n",
      "Kurtosis:                       1.519   Cond. No.                         2.92\n",
      "==============================================================================\n",
      "\n",
      "Notes:\n",
      "[1] Standard Errors assume that the covariance matrix of the errors is correctly specified.\n"
     ]
    },
    {
     "name": "stderr",
     "output_type": "stream",
     "text": [
      "/Users/tgbaggio/opt/anaconda3/lib/python3.8/site-packages/scipy/stats/stats.py:1603: UserWarning: kurtosistest only valid for n>=20 ... continuing anyway, n=18\n",
      "  warnings.warn(\"kurtosistest only valid for n>=20 ... continuing \"\n"
     ]
    }
   ],
   "source": [
    "# 用x2搭建回归模型\n",
    "X1 = sm.add_constant(data['x2'])\n",
    "re1 = train_model(X1, Y)\n",
    "print(re1.summary())"
   ]
  },
  {
   "cell_type": "code",
   "execution_count": 7,
   "metadata": {},
   "outputs": [
    {
     "name": "stdout",
     "output_type": "stream",
     "text": [
      "                            OLS Regression Results                            \n",
      "==============================================================================\n",
      "Dep. Variable:                      y   R-squared:                       0.997\n",
      "Model:                            OLS   Adj. R-squared:                  0.997\n",
      "Method:                 Least Squares   F-statistic:                     2488.\n",
      "Date:                Tue, 07 Nov 2023   Prob (F-statistic):           1.21e-19\n",
      "Time:                        17:46:01   Log-Likelihood:                 23.319\n",
      "No. Observations:                  18   AIC:                            -40.64\n",
      "Df Residuals:                      15   BIC:                            -37.97\n",
      "Df Model:                           2                                         \n",
      "Covariance Type:            nonrobust                                         \n",
      "==============================================================================\n",
      "                 coef    std err          t      P>|t|      [0.025      0.975]\n",
      "------------------------------------------------------------------------------\n",
      "const          0.2036      0.034      5.952      0.000       0.131       0.277\n",
      "x1             0.9719      0.021     46.398      0.000       0.927       1.017\n",
      "x2            -1.1130      0.021    -53.133      0.000      -1.158      -1.068\n",
      "==============================================================================\n",
      "Omnibus:                        0.411   Durbin-Watson:                   2.369\n",
      "Prob(Omnibus):                  0.814   Jarque-Bera (JB):                0.514\n",
      "Skew:                           0.278   Prob(JB):                        0.774\n",
      "Kurtosis:                       2.387   Cond. No.                         4.26\n",
      "==============================================================================\n",
      "\n",
      "Notes:\n",
      "[1] Standard Errors assume that the covariance matrix of the errors is correctly specified.\n"
     ]
    },
    {
     "name": "stderr",
     "output_type": "stream",
     "text": [
      "/Users/tgbaggio/opt/anaconda3/lib/python3.8/site-packages/scipy/stats/stats.py:1603: UserWarning: kurtosistest only valid for n>=20 ... continuing anyway, n=18\n",
      "  warnings.warn(\"kurtosistest only valid for n>=20 ... continuing \"\n"
     ]
    }
   ],
   "source": [
    "# 用不相关的x1，x2搭建回归模型\n",
    "X2 = sm.add_constant(data[['x1', 'x2']])\n",
    "re2 = train_model(X2, Y)\n",
    "print(re2.summary())"
   ]
  },
  {
   "cell_type": "code",
   "execution_count": 8,
   "metadata": {},
   "outputs": [
    {
     "name": "stderr",
     "output_type": "stream",
     "text": [
      "/Users/tgbaggio/opt/anaconda3/lib/python3.8/site-packages/scipy/stats/stats.py:1603: UserWarning: kurtosistest only valid for n>=20 ... continuing anyway, n=18\n",
      "  warnings.warn(\"kurtosistest only valid for n>=20 ... continuing \"\n"
     ]
    },
    {
     "name": "stdout",
     "output_type": "stream",
     "text": [
      "                            OLS Regression Results                            \n",
      "==============================================================================\n",
      "Dep. Variable:                      y   R-squared:                       0.431\n",
      "Model:                            OLS   Adj. R-squared:                  0.396\n",
      "Method:                 Least Squares   F-statistic:                     12.14\n",
      "Date:                Tue, 07 Nov 2023   Prob (F-statistic):            0.00307\n",
      "Time:                        17:46:01   Log-Likelihood:                -23.867\n",
      "No. Observations:                  18   AIC:                             51.73\n",
      "Df Residuals:                      16   BIC:                             53.51\n",
      "Df Model:                           1                                         \n",
      "Covariance Type:            nonrobust                                         \n",
      "==============================================================================\n",
      "                 coef    std err          t      P>|t|      [0.025      0.975]\n",
      "------------------------------------------------------------------------------\n",
      "const         -0.9094      0.360     -2.525      0.023      -1.673      -0.146\n",
      "x1             0.9719      0.279      3.484      0.003       0.380       1.563\n",
      "==============================================================================\n",
      "Omnibus:                        6.365   Durbin-Watson:                   2.636\n",
      "Prob(Omnibus):                  0.041   Jarque-Bera (JB):                1.638\n",
      "Skew:                           0.020   Prob(JB):                        0.441\n",
      "Kurtosis:                       1.523   Cond. No.                         2.92\n",
      "==============================================================================\n",
      "\n",
      "Notes:\n",
      "[1] Standard Errors assume that the covariance matrix of the errors is correctly specified.\n"
     ]
    }
   ],
   "source": [
    "# 用强相关的x1，x3搭建模型\n",
    "Y = data['y']\n",
    "X = sm.add_constant(data['x1'])\n",
    "re = train_model(X, Y)\n",
    "print(re.summary())"
   ]
  },
  {
   "cell_type": "code",
   "execution_count": 9,
   "metadata": {},
   "outputs": [
    {
     "name": "stdout",
     "output_type": "stream",
     "text": [
      "                            OLS Regression Results                            \n",
      "==============================================================================\n",
      "Dep. Variable:                      y   R-squared:                       0.483\n",
      "Model:                            OLS   Adj. R-squared:                  0.451\n",
      "Method:                 Least Squares   F-statistic:                     14.96\n",
      "Date:                Tue, 07 Nov 2023   Prob (F-statistic):            0.00136\n",
      "Time:                        17:46:01   Log-Likelihood:                -23.007\n",
      "No. Observations:                  18   AIC:                             50.01\n",
      "Df Residuals:                      16   BIC:                             51.79\n",
      "Df Model:                           1                                         \n",
      "Covariance Type:            nonrobust                                         \n",
      "==============================================================================\n",
      "                 coef    std err          t      P>|t|      [0.025      0.975]\n",
      "------------------------------------------------------------------------------\n",
      "const         -1.4717      0.452     -3.254      0.005      -2.431      -0.513\n",
      "x3             1.0901      0.282      3.867      0.001       0.493       1.688\n",
      "==============================================================================\n",
      "Omnibus:                        4.131   Durbin-Watson:                   2.709\n",
      "Prob(Omnibus):                  0.127   Jarque-Bera (JB):                1.375\n",
      "Skew:                           0.060   Prob(JB):                        0.503\n",
      "Kurtosis:                       1.652   Cond. No.                         4.41\n",
      "==============================================================================\n",
      "\n",
      "Notes:\n",
      "[1] Standard Errors assume that the covariance matrix of the errors is correctly specified.\n"
     ]
    },
    {
     "name": "stderr",
     "output_type": "stream",
     "text": [
      "/Users/tgbaggio/opt/anaconda3/lib/python3.8/site-packages/scipy/stats/stats.py:1603: UserWarning: kurtosistest only valid for n>=20 ... continuing anyway, n=18\n",
      "  warnings.warn(\"kurtosistest only valid for n>=20 ... continuing \"\n"
     ]
    }
   ],
   "source": [
    "X1 = sm.add_constant(data['x3'])\n",
    "re1 = train_model(X1, Y)\n",
    "print(re1.summary())"
   ]
  },
  {
   "cell_type": "code",
   "execution_count": 10,
   "metadata": {},
   "outputs": [
    {
     "name": "stderr",
     "output_type": "stream",
     "text": [
      "/Users/tgbaggio/opt/anaconda3/lib/python3.8/site-packages/scipy/stats/stats.py:1603: UserWarning: kurtosistest only valid for n>=20 ... continuing anyway, n=18\n",
      "  warnings.warn(\"kurtosistest only valid for n>=20 ... continuing \"\n"
     ]
    },
    {
     "name": "stdout",
     "output_type": "stream",
     "text": [
      "                            OLS Regression Results                            \n",
      "==============================================================================\n",
      "Dep. Variable:                      y   R-squared:                       0.484\n",
      "Model:                            OLS   Adj. R-squared:                  0.415\n",
      "Method:                 Least Squares   F-statistic:                     7.040\n",
      "Date:                Tue, 07 Nov 2023   Prob (F-statistic):            0.00698\n",
      "Time:                        17:46:01   Log-Likelihood:                -22.989\n",
      "No. Observations:                  18   AIC:                             51.98\n",
      "Df Residuals:                      15   BIC:                             54.65\n",
      "Df Model:                           2                                         \n",
      "Covariance Type:            nonrobust                                         \n",
      "==============================================================================\n",
      "                 coef    std err          t      P>|t|      [0.025      0.975]\n",
      "------------------------------------------------------------------------------\n",
      "const         -1.5437      0.622     -2.480      0.025      -2.870      -0.217\n",
      "x1            -0.1677      0.959     -0.175      0.864      -2.213       1.877\n",
      "x3             1.2604      1.017      1.240      0.234      -0.907       3.428\n",
      "==============================================================================\n",
      "Omnibus:                        3.209   Durbin-Watson:                   2.726\n",
      "Prob(Omnibus):                  0.201   Jarque-Bera (JB):                1.239\n",
      "Skew:                           0.079   Prob(JB):                        0.538\n",
      "Kurtosis:                       1.724   Cond. No.                         14.5\n",
      "==============================================================================\n",
      "\n",
      "Notes:\n",
      "[1] Standard Errors assume that the covariance matrix of the errors is correctly specified.\n"
     ]
    }
   ],
   "source": [
    "X2 = sm.add_constant(data[['x1', 'x3']])\n",
    "re2 = train_model(X2, Y)\n",
    "print(re2.summary())"
   ]
  },
  {
   "cell_type": "code",
   "execution_count": 11,
   "metadata": {},
   "outputs": [
    {
     "name": "stdout",
     "output_type": "stream",
     "text": [
      "检测假设x1和x3同时不显著：\n",
      "<F test: F=7.040116180053257, p=0.006977508919044013, df_denom=15, df_num=2>\n"
     ]
    },
    {
     "data": {
      "text/html": [
       "<div>\n",
       "<style scoped>\n",
       "    .dataframe tbody tr th:only-of-type {\n",
       "        vertical-align: middle;\n",
       "    }\n",
       "\n",
       "    .dataframe tbody tr th {\n",
       "        vertical-align: top;\n",
       "    }\n",
       "\n",
       "    .dataframe thead th {\n",
       "        text-align: right;\n",
       "    }\n",
       "</style>\n",
       "<table border=\"1\" class=\"dataframe\">\n",
       "  <thead>\n",
       "    <tr style=\"text-align: right;\">\n",
       "      <th></th>\n",
       "      <th>VIF Factor</th>\n",
       "      <th>features</th>\n",
       "    </tr>\n",
       "  </thead>\n",
       "  <tbody>\n",
       "    <tr>\n",
       "      <th>0</th>\n",
       "      <td>11.049590</td>\n",
       "      <td>const</td>\n",
       "    </tr>\n",
       "    <tr>\n",
       "      <th>1</th>\n",
       "      <td>12.907932</td>\n",
       "      <td>x1</td>\n",
       "    </tr>\n",
       "    <tr>\n",
       "      <th>2</th>\n",
       "      <td>1.061102</td>\n",
       "      <td>x2</td>\n",
       "    </tr>\n",
       "    <tr>\n",
       "      <th>3</th>\n",
       "      <td>12.969034</td>\n",
       "      <td>x3</td>\n",
       "    </tr>\n",
       "  </tbody>\n",
       "</table>\n",
       "</div>"
      ],
      "text/plain": [
       "   VIF Factor features\n",
       "0   11.049590    const\n",
       "1   12.907932       x1\n",
       "2    1.061102       x2\n",
       "3   12.969034       x3"
      ]
     },
     "execution_count": 11,
     "metadata": {},
     "output_type": "execute_result"
    }
   ],
   "source": [
    "# 检测多重共线性\n",
    "print('检测假设x1和x3同时不显著：')\n",
    "print(re2.f_test(['x1=0', 'x3=0']))\n",
    "vif = pd.DataFrame()\n",
    "X = sm.add_constant(data[['x1', 'x2', 'x3']])\n",
    "vif['VIF Factor'] = [variance_inflation_factor(X.values, i) for i in range(X.shape[1])]\n",
    "vif['features'] = X.columns\n",
    "vif"
   ]
  },
  {
   "cell_type": "code",
   "execution_count": 12,
   "metadata": {},
   "outputs": [
    {
     "data": {
      "image/png": "[encoded data removed]",
      "text/plain": [
       "<Figure size 1200x600 with 2 Axes>"
      ]
     },
     "metadata": {
      "needs_background": "light"
     },
     "output_type": "display_data"
    }
   ],
   "source": [
    "# 将特征的中心重置为0\n",
    "Y = data['y']\n",
    "X = data[['x3']]\n",
    "X2 = X ** 2\n",
    "# 为在Matplotlib中显示中文，设置特殊字体\n",
    "plt.rcParams['font.sans-serif'] = ['SimHei']\n",
    "# 正确显示负号\n",
    "plt.rcParams['axes.unicode_minus'] = False\n",
    "plt.rcParams.update({'font.size': 13})\n",
    "fig = plt.figure(figsize=(12, 6), dpi=100)\n",
    "ax = fig.add_subplot(1, 2, 1)\n",
    "ax.scatter(X, X2)\n",
    "ax.set_xlabel('$x3$')\n",
    "ax.set_ylabel('$x3^2$')\n",
    "ax1 = fig.add_subplot(1, 2, 2)\n",
    "center_x = X - X.mean()\n",
    "center_x2 = center_x ** 2\n",
    "ax1.scatter(center_x, center_x2)\n",
    "ax1.set_xlabel(r'$x3 - \\overline{x3}$')\n",
    "ax1.set_ylabel(r'$(x3 - \\overline{x3})^2$')\n",
    "plt.savefig('center_data.png', dpi=200)\n",
    "plt.show()"
   ]
  },
  {
   "cell_type": "code",
   "execution_count": 13,
   "metadata": {},
   "outputs": [
    {
     "name": "stdout",
     "output_type": "stream",
     "text": [
      "                            OLS Regression Results                            \n",
      "==============================================================================\n",
      "Dep. Variable:                      y   R-squared:                       0.483\n",
      "Model:                            OLS   Adj. R-squared:                  0.414\n",
      "Method:                 Least Squares   F-statistic:                     7.016\n",
      "Date:                Tue, 07 Nov 2023   Prob (F-statistic):            0.00706\n",
      "Time:                        17:46:03   Log-Likelihood:                -23.004\n",
      "No. Observations:                  18   AIC:                             52.01\n",
      "Df Residuals:                      15   BIC:                             54.68\n",
      "Df Model:                           2                                         \n",
      "Covariance Type:            nonrobust                                         \n",
      "==============================================================================\n",
      "                 coef    std err          t      P>|t|      [0.025      0.975]\n",
      "------------------------------------------------------------------------------\n",
      "const         -1.5275      0.877     -1.742      0.102      -3.397       0.342\n",
      "x3             1.1905      1.367      0.871      0.398      -1.723       4.104\n",
      "x3_squared    -0.0332      0.442     -0.075      0.941      -0.975       0.908\n",
      "==============================================================================\n",
      "Omnibus:                        4.288   Durbin-Watson:                   2.713\n",
      "Prob(Omnibus):                  0.117   Jarque-Bera (JB):                1.393\n",
      "Skew:                           0.045   Prob(JB):                        0.498\n",
      "Kurtosis:                       1.640   Cond. No.                         28.9\n",
      "==============================================================================\n",
      "\n",
      "Notes:\n",
      "[1] Standard Errors assume that the covariance matrix of the errors is correctly specified.\n"
     ]
    },
    {
     "name": "stderr",
     "output_type": "stream",
     "text": [
      "/Users/tgbaggio/opt/anaconda3/lib/python3.8/site-packages/scipy/stats/stats.py:1603: UserWarning: kurtosistest only valid for n>=20 ... continuing anyway, n=18\n",
      "  warnings.warn(\"kurtosistest only valid for n>=20 ... continuing \"\n"
     ]
    }
   ],
   "source": [
    "# 使用未归一化的特征建模\n",
    "X = pd.concat([X, X2], axis=1, ignore_index=True)\n",
    "X.columns = ['x3', 'x3_squared']\n",
    "X = sm.add_constant(X)\n",
    "re = train_model(X, Y)\n",
    "print(re.summary())"
   ]
  },
  {
   "cell_type": "code",
   "execution_count": 14,
   "metadata": {},
   "outputs": [
    {
     "name": "stderr",
     "output_type": "stream",
     "text": [
      "/Users/tgbaggio/opt/anaconda3/lib/python3.8/site-packages/scipy/stats/stats.py:1603: UserWarning: kurtosistest only valid for n>=20 ... continuing anyway, n=18\n",
      "  warnings.warn(\"kurtosistest only valid for n>=20 ... continuing \"\n"
     ]
    },
    {
     "name": "stdout",
     "output_type": "stream",
     "text": [
      "                            OLS Regression Results                            \n",
      "==============================================================================\n",
      "Dep. Variable:                      y   R-squared:                       0.483\n",
      "Model:                            OLS   Adj. R-squared:                  0.414\n",
      "Method:                 Least Squares   F-statistic:                     7.016\n",
      "Date:                Tue, 07 Nov 2023   Prob (F-statistic):            0.00706\n",
      "Time:                        17:46:03   Log-Likelihood:                -23.004\n",
      "No. Observations:                  18   AIC:                             52.01\n",
      "Df Residuals:                      15   BIC:                             54.68\n",
      "Df Model:                           2                                         \n",
      "Covariance Type:            nonrobust                                         \n",
      "=====================================================================================\n",
      "                        coef    std err          t      P>|t|      [0.025      0.975]\n",
      "-------------------------------------------------------------------------------------\n",
      "const                 0.0822      0.345      0.238      0.815      -0.653       0.818\n",
      "x3_center             1.0970      0.305      3.594      0.003       0.446       1.748\n",
      "x3_center_sqaured    -0.0332      0.442     -0.075      0.941      -0.975       0.908\n",
      "==============================================================================\n",
      "Omnibus:                        4.288   Durbin-Watson:                   2.713\n",
      "Prob(Omnibus):                  0.117   Jarque-Bera (JB):                1.393\n",
      "Skew:                           0.045   Prob(JB):                        0.498\n",
      "Kurtosis:                       1.640   Cond. No.                         2.89\n",
      "==============================================================================\n",
      "\n",
      "Notes:\n",
      "[1] Standard Errors assume that the covariance matrix of the errors is correctly specified.\n"
     ]
    }
   ],
   "source": [
    "# 使用重置之后的特征建模\n",
    "X = pd.concat([center_x, center_x2], axis=1, ignore_index=True)\n",
    "X.columns = ['x3_center', 'x3_center_sqaured']\n",
    "X = sm.add_constant(X)\n",
    "re1 = train_model(X, Y)\n",
    "print(re1.summary())"
   ]
  }
 ],
 "metadata": {
  "kernelspec": {
   "display_name": "Python 3",
   "language": "python",
   "name": "python3"
  },
  "language_info": {
   "codemirror_mode": {
    "name": "ipython",
    "version": 3
   },
   "file_extension": ".py",
   "mimetype": "text/x-python",
   "name": "python",
   "nbconvert_exporter": "python",
   "pygments_lexer": "ipython3",
   "version": "3.8.5"
  }
 },
 "nbformat": 4,
 "nbformat_minor": 4
}
