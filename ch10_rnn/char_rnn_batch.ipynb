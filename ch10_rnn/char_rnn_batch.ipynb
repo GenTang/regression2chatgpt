{
 "cells": [
  {
   "cell_type": "code",
   "execution_count": 1,
   "metadata": {
    "colab": {
     "base_uri": "https://localhost:8080/"
    },
    "id": "GXlFwZFG03LB",
    "outputId": "a83e497e-7b91-47ca-a154-fda44fb6ece8"
   },
   "outputs": [
    {
     "data": {
      "text/plain": [
       "<torch._C.Generator at 0x7db9cb4abb50>"
      ]
     },
     "execution_count": 1,
     "metadata": {},
     "output_type": "execute_result"
    }
   ],
   "source": [
    "import torch\n",
    "import torch.nn as nn\n",
    "import torch.nn.functional as F\n",
    "import torch.optim as optim\n",
    "from datasets import load_dataset\n",
    "import matplotlib.pyplot as plt\n",
    "%matplotlib inline\n",
    "\n",
    "\n",
    "torch.manual_seed(12046)"
   ]
  },
  {
   "cell_type": "code",
   "execution_count": 2,
   "metadata": {
    "id": "G37XHrLc03LF"
   },
   "outputs": [],
   "source": [
    "learning_rate = 1e-3\n",
    "eval_iters = 10\n",
    "batch_size=5000\n",
    "sequence_len=64\n",
    "device = 'cuda' if torch.cuda.is_available() else 'cpu'"
   ]
  },
  {
   "cell_type": "code",
   "execution_count": 3,
   "metadata": {
    "id": "53cFFO3C03LF"
   },
   "outputs": [],
   "source": [
    "raw_datasets = load_dataset(\"code_search_net\", \"python\")\n",
    "datasets = raw_datasets['train'].filter(lambda x: 'apache/spark' in x['repository_name'])"
   ]
  },
  {
   "cell_type": "code",
   "execution_count": 4,
   "metadata": {
    "colab": {
     "base_uri": "https://localhost:8080/"
    },
    "id": "fqu8u80A03LG",
    "outputId": "c90ba7b1-fbe3-4025-901b-bbb7c5f2be4d"
   },
   "outputs": [
    {
     "data": {
      "text/plain": [
       "98"
      ]
     },
     "execution_count": 4,
     "metadata": {},
     "output_type": "execute_result"
    }
   ],
   "source": [
    "class char_tokenizer:\n",
    "\n",
    "    def __init__(self, data):\n",
    "        # 数据中出现的所有字符构成字典\n",
    "        chars = sorted(list(set(''.join(data))))\n",
    "        # 预留一个位置给结尾的特殊字符\n",
    "        self.char2ind = {s : i + 1 for i, s in enumerate(chars)}\n",
    "        self.char2ind['<|e|>'] = 0\n",
    "        self.ind2char = {i : s for s, i in self.char2ind.items()}\n",
    "\n",
    "    def encode(self, text):\n",
    "        return [self.char2ind[c] for c in text]\n",
    "\n",
    "    def decode(self, enc):\n",
    "        if isinstance(enc, int):\n",
    "            return self.ind2char[enc]\n",
    "        return [self.ind2char[i] for i in enc]\n",
    "\n",
    "tok = char_tokenizer(datasets['whole_func_string'])\n",
    "len(tok.char2ind)"
   ]
  },
  {
   "cell_type": "code",
   "execution_count": 5,
   "metadata": {
    "id": "lEXNR5-S03LH"
   },
   "outputs": [],
   "source": [
    "class RNN(nn.Module):\n",
    "\n",
    "    def __init__(self, input_size, hidden_size):\n",
    "        super().__init__()\n",
    "        self.hidden_size = hidden_size\n",
    "        self.i2h = nn.Linear(input_size + hidden_size, hidden_size)\n",
    "\n",
    "    def forward(self, x, hidden=None):\n",
    "        re = []\n",
    "        # B batch_size,\n",
    "        # T sequence length,\n",
    "        # C number of channels.\n",
    "        B, T, C = x.shape\n",
    "        x = x.transpose(0, 1) # (T, B, C)\n",
    "        seq_len = x.shape[0]\n",
    "        if hidden is None:\n",
    "            hidden = self.init_hidden(B, x.device)\n",
    "        for i in range(seq_len):\n",
    "            # x[i]: (B, C); hidden: (B, H)\n",
    "            combined = torch.cat((x[i], hidden), dim=1)\n",
    "            hidden = F.relu(self.i2h(combined))  # (   B, H)\n",
    "            re.append(hidden)\n",
    "        result_tensor = torch.stack(re, dim=0)   # (T, B, H)\n",
    "        return result_tensor.transpose(0, 1)     # (B, T, H)\n",
    "\n",
    "    def init_hidden(self, B, device):\n",
    "        return torch.zeros((B, self.hidden_size), device=device)\n",
    "\n",
    "class CharRNNBatch(nn.Module):\n",
    "\n",
    "    def __init__(self, vs):\n",
    "        super().__init__()\n",
    "        self.emb_size = 256\n",
    "        self.hidden_size = 128\n",
    "        self.embedding = nn.Embedding(vs, self.emb_size)\n",
    "        self.dp = nn.Dropout(0.4)\n",
    "        self.rnn1 = RNN(self.emb_size, self.hidden_size)\n",
    "        self.rnn2 = RNN(self.hidden_size, self.hidden_size)\n",
    "        self.h2o = nn.Linear(self.hidden_size, vs)\n",
    "\n",
    "    def forward(self, x):\n",
    "        # x: (B, T)\n",
    "        emb = self.embedding(x)      # (B, T, C)\n",
    "        h = self.dp(self.rnn1(emb))  # (B, T, H)\n",
    "        h = self.dp(self.rnn2(h))    # (B, T, H)\n",
    "        output = self.h2o(h)         # (B, T, V)\n",
    "        return output\n",
    "\n",
    "model = CharRNNBatch(len(tok.char2ind)).to(device)"
   ]
  },
  {
   "cell_type": "code",
   "execution_count": 6,
   "metadata": {
    "colab": {
     "base_uri": "https://localhost:8080/"
    },
    "id": "vgDVyHDL03LI",
    "outputId": "9367edcb-732b-41cb-e31d-3719fb8e41da"
   },
   "outputs": [
    {
     "data": {
      "text/plain": [
       "CharRNNBatch(\n",
       "  (embedding): Embedding(98, 256)\n",
       "  (dp): Dropout(p=0.4, inplace=False)\n",
       "  (rnn1): RNN(\n",
       "    (i2h): Linear(in_features=384, out_features=128, bias=True)\n",
       "  )\n",
       "  (rnn2): RNN(\n",
       "    (i2h): Linear(in_features=256, out_features=128, bias=True)\n",
       "  )\n",
       "  (h2o): Linear(in_features=128, out_features=98, bias=True)\n",
       ")"
      ]
     },
     "execution_count": 6,
     "metadata": {},
     "output_type": "execute_result"
    }
   ],
   "source": [
    "model"
   ]
  },
  {
   "cell_type": "code",
   "execution_count": 7,
   "metadata": {
    "id": "KZiIPgh603LI"
   },
   "outputs": [],
   "source": [
    "@torch.no_grad()\n",
    "def generate_batch(model, idx, max_new_tokens=300):\n",
    "    for _ in range(max_new_tokens):\n",
    "        # 限制背景长度，使之与模型训练时的状况更相符\n",
    "        # 当然也可以不限制\n",
    "        context = idx[:, -sequence_len:]\n",
    "        # 在文本生成时，模型的计算效率很低，因为有很多重复计算\n",
    "        logits = model(context)\n",
    "        logits = logits[:, -1, :]\n",
    "        probs = F.softmax(logits, dim=-1)\n",
    "        ix = torch.multinomial(probs, num_samples=1)\n",
    "        idx = torch.cat((idx, ix), dim=1)\n",
    "        if ix.item() == 0:\n",
    "            break\n",
    "    return idx.tolist()[0]"
   ]
  },
  {
   "cell_type": "code",
   "execution_count": 8,
   "metadata": {
    "colab": {
     "base_uri": "https://localhost:8080/"
    },
    "id": "Xc6EEzgL03LI",
    "outputId": "e90d1a03-b6f4-4b25-c2fe-2cbe47759942"
   },
   "outputs": [
    {
     "name": "stdout",
     "output_type": "stream",
     "text": [
      "defO/(PZ?w:_QNKCAia+jAWöxy\"iaW\\&(\n",
      "t^xc@_jU_G&__98/#=WacJ+vtM G~8]FR/5^VZhT>C4{ZDF\n",
      "m3B0blCcG0boO:S9pr&n9#^7HQLvB*Km=Zz(RQ|A/esC)pg7:'#5;>MT'}<|e|>\n"
     ]
    }
   ],
   "source": [
    "begin_text = torch.tensor(tok.encode('def'), device=device).unsqueeze(0)\n",
    "print(''.join(tok.decode(generate_batch(model, begin_text))))"
   ]
  },
  {
   "cell_type": "code",
   "execution_count": 9,
   "metadata": {
    "colab": {
     "base_uri": "https://localhost:8080/"
    },
    "id": "Vu7WY3Pe03LJ",
    "outputId": "463fff58-c0c6-4d3e-db72-f60292ae6b09"
   },
   "outputs": [
    {
     "data": {
      "text/plain": [
       "Dataset({\n",
       "    features: ['inputs', 'labels'],\n",
       "    num_rows: 668546\n",
       "})"
      ]
     },
     "execution_count": 9,
     "metadata": {},
     "output_type": "execute_result"
    }
   ],
   "source": [
    "def process(data, sequence_len=sequence_len):\n",
    "    text = data['whole_func_string']\n",
    "    inputs, labels = [], []\n",
    "    for i in text:\n",
    "        enc = tok.encode(i)\n",
    "        # 0对应着文本结束\n",
    "        enc += [0]\n",
    "        for i in range(len(enc) - sequence_len):\n",
    "            inputs.append(enc[i: i + sequence_len])\n",
    "            labels.append(enc[i + 1: i + 1 + sequence_len])\n",
    "    return {'inputs': inputs, 'labels': labels}\n",
    "\n",
    "tokenized = datasets.map(process, batched=True, remove_columns=datasets.column_names)\n",
    "tokenized.set_format(type='torch', device=device)\n",
    "tokenized"
   ]
  },
  {
   "cell_type": "code",
   "execution_count": 10,
   "metadata": {
    "colab": {
     "base_uri": "https://localhost:8080/"
    },
    "id": "QUAlXU5803LJ",
    "outputId": "78172946-155a-4d2b-863a-8dbaf215c810"
   },
   "outputs": [
    {
     "data": {
      "text/plain": [
       "{'inputs': tensor([[75, 81, 80,  ...,  2,  2,  2],\n",
       "         [87, 71, 14,  ..., 69, 74, 71],\n",
       "         [86, 52, 71,  ..., 70, 75, 69],\n",
       "         ...,\n",
       "         [84, 67, 79,  ..., 74,  2, 28],\n",
       "         [78, 67, 68,  ..., 84, 87, 71],\n",
       "         [80, 69, 71,  ...,  2, 67, 82]], device='cuda:0'),\n",
       " 'labels': tensor([[81, 80,  2,  ...,  2,  2,  2],\n",
       "         [71, 14,  2,  ..., 74, 71, 79],\n",
       "         [52, 71, 69,  ..., 75, 69, 67],\n",
       "         ...,\n",
       "         [67, 79, 71,  ...,  2, 28, 79],\n",
       "         [67, 68, 78,  ..., 87, 71, 11],\n",
       "         [69, 71,  2,  ..., 67, 82, 82]], device='cuda:0')}"
      ]
     },
     "execution_count": 10,
     "metadata": {},
     "output_type": "execute_result"
    }
   ],
   "source": [
    "from torch.utils.data import DataLoader\n",
    "\n",
    "# 构建数据读取器\n",
    "train_loader = DataLoader(tokenized, batch_size=batch_size, shuffle=True)\n",
    "# 获取一个批量的数据\n",
    "next(iter(train_loader))"
   ]
  },
  {
   "cell_type": "code",
   "execution_count": 11,
   "metadata": {
    "id": "Wlb2hwJ503LK"
   },
   "outputs": [],
   "source": [
    "def estimate_loss(model):\n",
    "    re = {}\n",
    "    # 将模型切换至评估模式\n",
    "    model.eval()\n",
    "    re['train'] = _loss(model, train_loader)\n",
    "    # 将模型切换至训练模式\n",
    "    model.train()\n",
    "    return re\n",
    "\n",
    "@torch.no_grad()\n",
    "def _loss(model, data_loader):\n",
    "    \"\"\"\n",
    "    计算模型在不同数据集下面的评估指标\n",
    "    \"\"\"\n",
    "    loss = []\n",
    "    data_iter = iter(data_loader)\n",
    "    for k in range(eval_iters):\n",
    "        data = next(data_iter, None)\n",
    "        if data is None:\n",
    "            break\n",
    "        inputs, labels = data['inputs'], data['labels']\n",
    "        logits = model(inputs)\n",
    "        logits = logits.transpose(-2, -1)\n",
    "        loss.append(F.cross_entropy(logits, labels))\n",
    "    return torch.tensor(loss).mean().item()"
   ]
  },
  {
   "cell_type": "code",
   "execution_count": 12,
   "metadata": {
    "id": "gqyC2yaA03LK"
   },
   "outputs": [],
   "source": [
    "def train_rnn(model, optimizer, data_loader, epochs=10):\n",
    "    lossi = []\n",
    "    for epoch in range(epochs):\n",
    "        for i, data in enumerate(data_loader, 0):\n",
    "            inputs, labels = data['inputs'], data['labels']\n",
    "            optimizer.zero_grad()\n",
    "            logits = model(inputs)\n",
    "            logits = logits.transpose(-2, -1)\n",
    "            loss = F.cross_entropy(logits, labels)\n",
    "            lossi.append(loss.item())\n",
    "            loss.backward()\n",
    "            optimizer.step()\n",
    "        # 评估模型，并输出结果\n",
    "        stats = estimate_loss(model)\n",
    "        print(f'epoch {epoch:>2}: train loss {stats[\"train\"]:.4f}')\n",
    "    return lossi"
   ]
  },
  {
   "cell_type": "code",
   "execution_count": 13,
   "metadata": {
    "colab": {
     "base_uri": "https://localhost:8080/"
    },
    "id": "XHzkjkOd03LK",
    "outputId": "9b97e367-4a4e-416b-f346-e08278c4764a"
   },
   "outputs": [
    {
     "name": "stdout",
     "output_type": "stream",
     "text": [
      "epoch  0: train loss 2.0047\n",
      "epoch  1: train loss 1.7041\n",
      "epoch  2: train loss 1.5795\n",
      "epoch  3: train loss 1.5052\n",
      "epoch  4: train loss 1.4530\n",
      "epoch  5: train loss 1.4146\n",
      "epoch  6: train loss 1.3852\n",
      "epoch  7: train loss 1.3658\n",
      "epoch  8: train loss 1.3485\n",
      "epoch  9: train loss 1.3327\n"
     ]
    }
   ],
   "source": [
    "l = train_rnn(model, optim.Adam(model.parameters(), lr=learning_rate), train_loader)"
   ]
  },
  {
   "cell_type": "code",
   "execution_count": 14,
   "metadata": {
    "colab": {
     "base_uri": "https://localhost:8080/",
     "height": 448
    },
    "id": "e94Xbj3003LL",
    "outputId": "78d4facb-e80c-4528-d361-be5974aa6f82"
   },
   "outputs": [
    {
     "data": {
      "text/plain": [
       "[<matplotlib.lines.Line2D at 0x7db8f15410f0>]"
      ]
     },
     "execution_count": 14,
     "metadata": {},
     "output_type": "execute_result"
    },
    {
     "data": {
      "image/png": "[encoded data removed]",
      "text/plain": [
       "<Figure size 640x480 with 1 Axes>"
      ]
     },
     "metadata": {},
     "output_type": "display_data"
    }
   ],
   "source": [
    "plt.plot(torch.tensor(l).view(-1, 10).mean(1).numpy())"
   ]
  },
  {
   "cell_type": "code",
   "execution_count": 15,
   "metadata": {
    "colab": {
     "base_uri": "https://localhost:8080/"
    },
    "id": "ygy6T1JZ03LL",
    "outputId": "558c6fd3-6fd7-41ec-b403-21fe41d678a5"
   },
   "outputs": [
    {
     "name": "stdout",
     "output_type": "stream",
     "text": [
      "def x\n",
      "        a sc is a\n",
      "            setuck(\n",
      "                    khep coumelinn ty batcobmat\n",
      "        pythore to\n",
      "                   v the thos a ubbars a impycape., used('ToFse)\n",
      "    strunctionValues = felpartiles = [([laNo.), \n",
      "       spark, xmarscifias us' site haitr 100159472'[7, 1, [\",.']])\n",
      "        >>>\n"
     ]
    }
   ],
   "source": [
    "begin_text = torch.tensor(tok.encode('def'), device=device).unsqueeze(0)\n",
    "print(''.join(tok.decode(generate_batch(model, begin_text))))"
   ]
  }
 ],
 "metadata": {
  "accelerator": "GPU",
  "colab": {
   "gpuType": "V100",
   "provenance": []
  },
  "kernelspec": {
   "display_name": "Python 3",
   "language": "python",
   "name": "python3"
  },
  "language_info": {
   "codemirror_mode": {
    "name": "ipython",
    "version": 3
   },
   "file_extension": ".py",
   "mimetype": "text/x-python",
   "name": "python",
   "nbconvert_exporter": "python",
   "pygments_lexer": "ipython3",
   "version": "3.8.5"
  }
 },
 "nbformat": 4,
 "nbformat_minor": 1
}
