{
 "cells": [
  {
   "cell_type": "code",
   "execution_count": 1,
   "metadata": {
    "colab": {
     "base_uri": "https://localhost:8080/"
    },
    "id": "GXlFwZFG03LB",
    "outputId": "aaf47f2e-6f85-41b1-cb5f-6fb19fe3e2a9"
   },
   "outputs": [
    {
     "data": {
      "text/plain": [
       "<torch._C.Generator at 0x7b1e583140f0>"
      ]
     },
     "execution_count": 1,
     "metadata": {},
     "output_type": "execute_result"
    }
   ],
   "source": [
    "import torch\n",
    "import torch.nn as nn\n",
    "import torch.nn.functional as F\n",
    "import torch.optim as optim\n",
    "from torch.utils.data import DataLoader\n",
    "from datasets import load_dataset\n",
    "import matplotlib.pyplot as plt\n",
    "%matplotlib inline\n",
    "\n",
    "\n",
    "torch.manual_seed(12046)"
   ]
  },
  {
   "cell_type": "code",
   "execution_count": 2,
   "metadata": {
    "id": "G37XHrLc03LF"
   },
   "outputs": [],
   "source": [
    "learning_rate = 1e-3\n",
    "eval_iters = 10\n",
    "batch_size=1000\n",
    "sequence_len=64\n",
    "device = 'cuda' if torch.cuda.is_available() else 'cpu'"
   ]
  },
  {
   "cell_type": "code",
   "execution_count": 3,
   "metadata": {
    "id": "53cFFO3C03LF"
   },
   "outputs": [],
   "source": [
    "raw_datasets = load_dataset(\"code_search_net\", \"python\")\n",
    "datasets = raw_datasets['train'].filter(lambda x: 'apache/spark' in x['repository_name'])"
   ]
  },
  {
   "cell_type": "code",
   "execution_count": 4,
   "metadata": {
    "colab": {
     "base_uri": "https://localhost:8080/"
    },
    "id": "fqu8u80A03LG",
    "outputId": "a422650d-9988-4d21-d5fa-2483774a68c3"
   },
   "outputs": [
    {
     "data": {
      "text/plain": [
       "98"
      ]
     },
     "execution_count": 4,
     "metadata": {},
     "output_type": "execute_result"
    }
   ],
   "source": [
    "class char_tokenizer:\n",
    "\n",
    "    def __init__(self, data):\n",
    "        # 数据中出现的所有字符构成字典\n",
    "        chars = sorted(list(set(''.join(data))))\n",
    "        # 预留一个位置给结尾的特殊字符\n",
    "        self.char2ind = {s : i + 1 for i, s in enumerate(chars)}\n",
    "        self.char2ind['<|e|>'] = 0\n",
    "        self.ind2char = {i : s for s, i in self.char2ind.items()}\n",
    "\n",
    "    def encode(self, text):\n",
    "        return [self.char2ind[c] for c in text]\n",
    "\n",
    "    def decode(self, enc):\n",
    "        if isinstance(enc, int):\n",
    "            return self.ind2char[enc]\n",
    "        return [self.ind2char[i] for i in enc]\n",
    "\n",
    "tok = char_tokenizer(datasets['whole_func_string'])\n",
    "len(tok.char2ind)"
   ]
  },
  {
   "cell_type": "code",
   "execution_count": 5,
   "metadata": {
    "id": "lEXNR5-S03LH"
   },
   "outputs": [],
   "source": [
    "class RNN(nn.Module):\n",
    "\n",
    "    def __init__(self, input_size, hidden_size):\n",
    "        super().__init__()\n",
    "        self.hidden_size = hidden_size\n",
    "        self.i2h = nn.Linear(input_size + hidden_size, hidden_size)\n",
    "\n",
    "    def forward(self, x, hidden=None):\n",
    "        re = []\n",
    "        # B batch_size,\n",
    "        # T sequence length,\n",
    "        # C number of channels.\n",
    "        B, T, C = x.shape\n",
    "        x = x.transpose(0, 1) # (T, B, C)\n",
    "        if hidden is None:\n",
    "            hidden = self.init_hidden(B, x.device)\n",
    "        for i in range(T):\n",
    "            # x[i]: (B, C); hidden: (B, H)\n",
    "            combined = torch.cat((x[i], hidden), dim=1)\n",
    "            hidden = F.relu(self.i2h(combined))  # (   B, H)\n",
    "            re.append(hidden)\n",
    "        result_tensor = torch.stack(re, dim=0)   # (T, B, H)\n",
    "        return result_tensor.transpose(0, 1)     # (B, T, H)\n",
    "\n",
    "    def init_hidden(self, B, device):\n",
    "        return torch.zeros((B, self.hidden_size), device=device)\n",
    "\n",
    "class CharRNNBatch(nn.Module):\n",
    "\n",
    "    def __init__(self, vs):\n",
    "        super().__init__()\n",
    "        self.emb_size = 256\n",
    "        self.hidden_size = 128\n",
    "        self.embedding = nn.Embedding(vs, self.emb_size)\n",
    "        self.dp = nn.Dropout(0.4)\n",
    "        self.rnn1 = RNN(self.emb_size, self.hidden_size)\n",
    "        self.rnn2 = RNN(self.hidden_size, self.hidden_size)\n",
    "        self.h2o = nn.Linear(self.hidden_size, vs)\n",
    "\n",
    "    def forward(self, x):\n",
    "        # x: (B, T)\n",
    "        emb = self.embedding(x)      # (B, T,  C)\n",
    "        h = self.dp(self.rnn1(emb))  # (B, T,  H)\n",
    "        h = self.dp(self.rnn2(h))    # (B, T,  H)\n",
    "        output = self.h2o(h)         # (B, T, vs)\n",
    "        return output\n",
    "\n",
    "model = CharRNNBatch(len(tok.char2ind)).to(device)"
   ]
  },
  {
   "cell_type": "code",
   "execution_count": 6,
   "metadata": {
    "colab": {
     "base_uri": "https://localhost:8080/"
    },
    "id": "vgDVyHDL03LI",
    "outputId": "bdcbf844-a850-4c01-e990-8e79864806f3"
   },
   "outputs": [
    {
     "data": {
      "text/plain": [
       "CharRNNBatch(\n",
       "  (embedding): Embedding(98, 256)\n",
       "  (dp): Dropout(p=0.4, inplace=False)\n",
       "  (rnn1): RNN(\n",
       "    (i2h): Linear(in_features=384, out_features=128, bias=True)\n",
       "  )\n",
       "  (rnn2): RNN(\n",
       "    (i2h): Linear(in_features=256, out_features=128, bias=True)\n",
       "  )\n",
       "  (h2o): Linear(in_features=128, out_features=98, bias=True)\n",
       ")"
      ]
     },
     "execution_count": 6,
     "metadata": {},
     "output_type": "execute_result"
    }
   ],
   "source": [
    "model"
   ]
  },
  {
   "cell_type": "code",
   "execution_count": 7,
   "metadata": {
    "id": "KZiIPgh603LI"
   },
   "outputs": [],
   "source": [
    "@torch.no_grad()\n",
    "def generate_batch(model, idx, max_new_tokens=300):\n",
    "    # 将模型切换至评估模式\n",
    "    model.eval()\n",
    "    for _ in range(max_new_tokens):\n",
    "        # 限制背景长度，使之与模型训练时的状况更相符\n",
    "        # 当然也可以不限制\n",
    "        context = idx[:, -sequence_len:]\n",
    "        # 在文本生成时，模型的计算效率很低，因为有很多重复计算\n",
    "        logits = model(context)\n",
    "        logits = logits[:, -1, :]\n",
    "        probs = F.softmax(logits, dim=-1)\n",
    "        ix = torch.multinomial(probs, num_samples=1)\n",
    "        idx = torch.cat((idx, ix), dim=1)\n",
    "        if ix.item() == 0:\n",
    "            break\n",
    "    # 将模型切换至训练模式\n",
    "    model.train()\n",
    "    return idx.tolist()[0]"
   ]
  },
  {
   "cell_type": "code",
   "execution_count": 8,
   "metadata": {
    "colab": {
     "base_uri": "https://localhost:8080/"
    },
    "id": "Xc6EEzgL03LI",
    "outputId": "d5ea86e2-73fb-476c-9e9d-a1b53f239109"
   },
   "outputs": [
    {
     "name": "stdout",
     "output_type": "stream",
     "text": [
      "def*ZO(F/of(\"YP{BZE G|uw=3:1'_$?Q9NN[{KQ=CK(AM:iKcaR;+Q3j<sAegWS$ö0Nx!qyT3\"yMm5Za)'W~5\\Wm&B\"({r\n",
      "cdtMh^DA11zc<|e|>\n"
     ]
    }
   ],
   "source": [
    "begin_text = torch.tensor(tok.encode('def'), device=device).unsqueeze(0)\n",
    "print(''.join(tok.decode(generate_batch(model, begin_text))))"
   ]
  },
  {
   "cell_type": "code",
   "execution_count": 9,
   "metadata": {
    "colab": {
     "base_uri": "https://localhost:8080/"
    },
    "id": "Vu7WY3Pe03LJ",
    "outputId": "60655900-62a4-47ad-eb39-89cee9dfd44c"
   },
   "outputs": [
    {
     "data": {
      "text/plain": [
       "(torch.Size([605913, 64]), torch.Size([605913, 64]))"
      ]
     },
     "execution_count": 9,
     "metadata": {},
     "output_type": "execute_result"
    }
   ],
   "source": [
    "def process(data, sequence_len=sequence_len):\n",
    "    text = data['whole_func_string']\n",
    "    inputs, labels = [], []\n",
    "    for i in text:\n",
    "        enc = tok.encode(i)\n",
    "        # 0对应着文本结束\n",
    "        enc += [0]\n",
    "        for i in range(len(enc) - sequence_len):\n",
    "            inputs.append(enc[i: i + sequence_len])\n",
    "            labels.append(enc[i + 1: i + 1 + sequence_len])\n",
    "    return {'inputs': inputs, 'labels': labels}\n",
    "\n",
    "tokenized = datasets.train_test_split(test_size=0.1, seed=1024, shuffle=True)\n",
    "tokenized = tokenized.map(process, batched=True, remove_columns=datasets.column_names)\n",
    "tokenized.set_format(type='torch', device=device)\n",
    "\n",
    "tokenized['train']['inputs'].shape, tokenized['train']['labels'].shape"
   ]
  },
  {
   "cell_type": "code",
   "execution_count": 10,
   "metadata": {
    "colab": {
     "base_uri": "https://localhost:8080/"
    },
    "id": "QUAlXU5803LJ",
    "outputId": "8587946f-dc8a-42e4-d9ff-e993f77b56fc"
   },
   "outputs": [
    {
     "data": {
      "text/plain": [
       "{'inputs': tensor([[16, 76, 85,  ..., 69, 67, 80],\n",
       "         [ 2,  2,  2,  ..., 71, 72, 71],\n",
       "         [89, 37, 81,  ..., 70, 40, 75],\n",
       "         ...,\n",
       "         [76, 71, 69,  ...,  2,  2,  2],\n",
       "         [ 2, 19,  1,  ..., 74, 67, 86],\n",
       "         [48, 81, 84,  ..., 78,  2, 70]], device='cuda:0'),\n",
       " 'labels': tensor([[76, 85, 81,  ..., 67, 80,  2],\n",
       "         [ 2,  2,  2,  ..., 72, 71, 84],\n",
       "         [37, 81, 79,  ..., 40, 75, 71],\n",
       "         ...,\n",
       "         [71, 69, 86,  ...,  2,  2,  2],\n",
       "         [19,  1,  2,  ..., 67, 86,  2],\n",
       "         [81, 84, 79,  ...,  2, 70, 75]], device='cuda:0')}"
      ]
     },
     "execution_count": 10,
     "metadata": {},
     "output_type": "execute_result"
    }
   ],
   "source": [
    "# 构建数据读取器\n",
    "train_loader = DataLoader(tokenized['train'], batch_size=batch_size, shuffle=True)\n",
    "test_loader = DataLoader(tokenized['test'], batch_size=batch_size, shuffle=True)\n",
    "# 获取一个批量的数据\n",
    "next(iter(test_loader))"
   ]
  },
  {
   "cell_type": "code",
   "execution_count": 11,
   "metadata": {
    "colab": {
     "base_uri": "https://localhost:8080/"
    },
    "id": "Wlb2hwJ503LK",
    "outputId": "14c6a6a2-5a1e-466a-ba3b-95e27de190ac"
   },
   "outputs": [
    {
     "data": {
      "text/plain": [
       "{'train': 4.5722737312316895, 'test': 4.5736470222473145}"
      ]
     },
     "execution_count": 11,
     "metadata": {},
     "output_type": "execute_result"
    }
   ],
   "source": [
    "def estimate_loss(model):\n",
    "    re = {}\n",
    "    # 将模型切换至评估模式\n",
    "    model.eval()\n",
    "    _train = lambda: next(iter(train_loader))\n",
    "    re['train'] = _loss(model, _train)\n",
    "    _test = lambda: next(iter(test_loader))\n",
    "    re['test'] = _loss(model, _test)\n",
    "    # 将模型切换至训练模式\n",
    "    model.train()\n",
    "    return re\n",
    "\n",
    "@torch.no_grad()\n",
    "def _loss(model, data_loader):\n",
    "    \"\"\"\n",
    "    计算模型在不同数据集下面的评估指标\n",
    "    \"\"\"\n",
    "    loss = []\n",
    "    for k in range(eval_iters):\n",
    "        data = data_loader()\n",
    "        inputs, labels = data['inputs'], data['labels']\n",
    "        logits = model(inputs)\n",
    "        logits = logits.transpose(-2, -1)\n",
    "        loss.append(F.cross_entropy(logits, labels).item())\n",
    "    return torch.tensor(loss).mean().item()\n",
    "\n",
    "estimate_loss(model)"
   ]
  },
  {
   "cell_type": "code",
   "execution_count": 12,
   "metadata": {
    "id": "gqyC2yaA03LK"
   },
   "outputs": [],
   "source": [
    "def train_rnn(model, optimizer, data_loader, epochs=10):\n",
    "    lossi = []\n",
    "    for epoch in range(epochs):\n",
    "        for i, data in enumerate(data_loader, 0):\n",
    "            inputs, labels = data['inputs'], data['labels']\n",
    "            optimizer.zero_grad()\n",
    "            logits = model(inputs)\n",
    "            logits = logits.transpose(-2, -1)\n",
    "            loss = F.cross_entropy(logits, labels)\n",
    "            lossi.append(loss.item())\n",
    "            loss.backward()\n",
    "            optimizer.step()\n",
    "        # 评估模型，并输出结果\n",
    "        stats = estimate_loss(model)\n",
    "        train_loss = f'train loss {stats[\"train\"]:.4f}'\n",
    "        test_loss = f'test loss {stats[\"test\"]:.4f}'\n",
    "        print(f'epoch {epoch:>2}: {train_loss}, {test_loss}')\n",
    "    return lossi"
   ]
  },
  {
   "cell_type": "code",
   "execution_count": 13,
   "metadata": {
    "colab": {
     "base_uri": "https://localhost:8080/"
    },
    "id": "XHzkjkOd03LK",
    "outputId": "3161c84e-f34b-4af5-ec81-9dff8fa7b74c"
   },
   "outputs": [
    {
     "name": "stdout",
     "output_type": "stream",
     "text": [
      "epoch  0: train loss 1.4958, test loss 1.6121\n",
      "epoch  1: train loss 1.3703, test loss 1.4883\n",
      "epoch  2: train loss 1.3150, test loss 1.4406\n",
      "epoch  3: train loss 1.2851, test loss 1.4160\n",
      "epoch  4: train loss 1.2645, test loss 1.4023\n",
      "epoch  5: train loss 1.2545, test loss 1.3954\n",
      "epoch  6: train loss 1.2403, test loss 1.3771\n",
      "epoch  7: train loss 1.2358, test loss 1.3824\n",
      "epoch  8: train loss 1.2180, test loss 1.3689\n",
      "epoch  9: train loss 1.2146, test loss 1.3682\n"
     ]
    }
   ],
   "source": [
    "l = train_rnn(model, optim.Adam(model.parameters(), lr=learning_rate), train_loader)"
   ]
  },
  {
   "cell_type": "code",
   "execution_count": 14,
   "metadata": {
    "colab": {
     "base_uri": "https://localhost:8080/",
     "height": 448
    },
    "id": "e94Xbj3003LL",
    "outputId": "ea049f65-31c5-4105-d0ce-5ff2a81cd131"
   },
   "outputs": [
    {
     "data": {
      "text/plain": [
       "[<matplotlib.lines.Line2D at 0x7b1d7046fb20>]"
      ]
     },
     "execution_count": 14,
     "metadata": {},
     "output_type": "execute_result"
    },
    {
     "data": {
      "image/png": "[encoded data removed]",
      "text/plain": [
       "<Figure size 640x480 with 1 Axes>"
      ]
     },
     "metadata": {},
     "output_type": "display_data"
    }
   ],
   "source": [
    "plt.plot(torch.tensor(l).view(-1, 10).mean(1).numpy())"
   ]
  },
  {
   "cell_type": "code",
   "execution_count": 15,
   "metadata": {
    "colab": {
     "base_uri": "https://localhost:8080/"
    },
    "id": "ygy6T1JZ03LL",
    "outputId": "d0d83c37-1e66-4de1-fc12-11fbe054eaa6"
   },
   "outputs": [
    {
     "name": "stdout",
     "output_type": "stream",
     "text": [
      "def name=(dezer==5.0,\n",
      "                \"filed (preract(nullable)|               not numPartitions((_kenagi=<htr-minthor(3, 0'3\n",
      "    [2, 2,, ]\n",
      "\n",
      "        func(iper_tobupiel(rrort.gatewervalt, schissConf()\n",
      "            obj aw 5.0.0\n",
      "        >>> pValeed(dataFrom_j2iek,'},('d)|.e.iriod())\n",
      "                if jsfd\n"
     ]
    }
   ],
   "source": [
    "begin_text = torch.tensor(tok.encode('def'), device=device).unsqueeze(0)\n",
    "print(''.join(tok.decode(generate_batch(model, begin_text))))"
   ]
  }
 ],
 "metadata": {
  "accelerator": "GPU",
  "colab": {
   "gpuType": "V100",
   "provenance": []
  },
  "kernelspec": {
   "display_name": "Python 3",
   "language": "python",
   "name": "python3"
  },
  "language_info": {
   "codemirror_mode": {
    "name": "ipython",
    "version": 3
   },
   "file_extension": ".py",
   "mimetype": "text/x-python",
   "name": "python",
   "nbconvert_exporter": "python",
   "pygments_lexer": "ipython3",
   "version": "3.8.5"
  }
 },
 "nbformat": 4,
 "nbformat_minor": 1
}
