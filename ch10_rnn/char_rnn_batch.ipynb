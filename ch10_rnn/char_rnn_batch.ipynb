{
 "cells": [
  {
   "cell_type": "code",
   "execution_count": 1,
   "metadata": {
    "colab": {
     "base_uri": "https://localhost:8080/"
    },
    "id": "GXlFwZFG03LB",
    "outputId": "9ff10d1d-1441-4bc3-fb6b-7a2dfcc1e7db"
   },
   "outputs": [
    {
     "data": {
      "text/plain": [
       "<torch._C.Generator at 0x782a68ef4030>"
      ]
     },
     "execution_count": 1,
     "metadata": {},
     "output_type": "execute_result"
    }
   ],
   "source": [
    "import torch\n",
    "import torch.nn as nn\n",
    "import torch.nn.functional as F\n",
    "import torch.optim as optim\n",
    "from torch.utils.data import DataLoader\n",
    "from datasets import load_dataset\n",
    "import matplotlib.pyplot as plt\n",
    "%matplotlib inline\n",
    "\n",
    "\n",
    "torch.manual_seed(12046)"
   ]
  },
  {
   "cell_type": "code",
   "execution_count": 2,
   "metadata": {
    "id": "G37XHrLc03LF"
   },
   "outputs": [],
   "source": [
    "# 一些超参数\n",
    "learning_rate = 1e-3\n",
    "eval_iters = 10\n",
    "batch_size=1000\n",
    "sequence_len=64\n",
    "# 如果有GPU，该脚本将使用GPU进行计算\n",
    "device = 'cuda' if torch.cuda.is_available() else 'cpu'"
   ]
  },
  {
   "cell_type": "code",
   "execution_count": 3,
   "metadata": {
    "id": "53cFFO3C03LF"
   },
   "outputs": [],
   "source": [
    "raw_datasets = load_dataset(\"code_search_net\", \"python\")\n",
    "datasets = raw_datasets['train'].filter(lambda x: 'apache/spark' in x['repository_name'])"
   ]
  },
  {
   "cell_type": "code",
   "execution_count": 4,
   "metadata": {
    "colab": {
     "base_uri": "https://localhost:8080/"
    },
    "id": "fqu8u80A03LG",
    "outputId": "e4b19214-fc74-4bea-8ac3-05aca4c23dd3"
   },
   "outputs": [
    {
     "data": {
      "text/plain": [
       "98"
      ]
     },
     "execution_count": 4,
     "metadata": {},
     "output_type": "execute_result"
    }
   ],
   "source": [
    "class char_tokenizer:\n",
    "\n",
    "    def __init__(self, data):\n",
    "        # 数据中出现的所有字符构成字典\n",
    "        chars = sorted(list(set(''.join(data))))\n",
    "        # 预留一个位置给结尾的特殊字符\n",
    "        self.char2ind = {s : i + 1 for i, s in enumerate(chars)}\n",
    "        self.char2ind['<|e|>'] = 0\n",
    "        self.ind2char = {i : s for s, i in self.char2ind.items()}\n",
    "\n",
    "    def encode(self, text):\n",
    "        return [self.char2ind[c] for c in text]\n",
    "\n",
    "    def decode(self, enc):\n",
    "        if isinstance(enc, int):\n",
    "            return self.ind2char[enc]\n",
    "        return [self.ind2char[i] for i in enc]\n",
    "\n",
    "tok = char_tokenizer(datasets['whole_func_string'])\n",
    "len(tok.char2ind)"
   ]
  },
  {
   "cell_type": "code",
   "execution_count": 5,
   "metadata": {
    "id": "lEXNR5-S03LH"
   },
   "outputs": [],
   "source": [
    "class RNN(nn.Module):\n",
    "\n",
    "    def __init__(self, input_size, hidden_size):\n",
    "        '''\n",
    "        循环神经网络的神经元（支持批量计算）\n",
    "        参数\n",
    "        ----\n",
    "        input_size ：int，输入数据的特征长度\n",
    "        hidden_size ：int，隐藏状态的特征长度\n",
    "        '''\n",
    "        super().__init__()\n",
    "        self.hidden_size = hidden_size\n",
    "        self.i2h = nn.Linear(input_size + hidden_size, hidden_size)\n",
    "\n",
    "    def forward(self, x, hidden=None):\n",
    "        '''\n",
    "        向前传播\n",
    "        参数\n",
    "        ----\n",
    "        x ：torch.FloatTensor\n",
    "            输入数据的集合，形状为(B, T, C)，其中B表示批量大小，T表示文本长度，C表示文字特征的长度（input_size）\n",
    "        hidden ：torch.FloatTensor\n",
    "            初始的隐藏状态，形状为(B, H)，其中H表示隐藏状态的长度（hidden_size）\n",
    "        返回\n",
    "        ----\n",
    "        hidden ：torch.FloatTensor，所有隐藏状态的集合，形状为(B, T, H)\n",
    "        '''\n",
    "        re = []\n",
    "        B, T, C = x.shape\n",
    "        x = x.transpose(0, 1)  # (T, B, C)\n",
    "        if hidden is None:\n",
    "            hidden = self.init_hidden(B, x.device)\n",
    "        for i in range(T):\n",
    "            # x[i]的形状是(B, C); hidden的形状是(B, H)\n",
    "            combined = torch.cat((x[i], hidden), dim=1)  # (B, C + H)\n",
    "            hidden = F.relu(self.i2h(combined))  # (   B, H)\n",
    "            re.append(hidden)\n",
    "        result_tensor = torch.stack(re, dim=0)   # (T, B, H)\n",
    "        return result_tensor.transpose(0, 1)     # (B, T, H)\n",
    "\n",
    "    def init_hidden(self, B, device):\n",
    "        # 默认的初始隐藏状态全部等于0\n",
    "        return torch.zeros((B, self.hidden_size), device=device)\n",
    "\n",
    "class CharRNNBatch(nn.Module):\n",
    "\n",
    "    def __init__(self, vs):\n",
    "        '''\n",
    "        双层的循环神经网络（支持批量计算）\n",
    "        参数\n",
    "        ----\n",
    "        vs ：int，字典大小\n",
    "        '''\n",
    "        super().__init__()\n",
    "        # 定义文字嵌入的特征长度\n",
    "        self.emb_size = 256\n",
    "        # 定义隐藏状态的特征长度\n",
    "        self.hidden_size = 128\n",
    "        # 文字嵌入层\n",
    "        self.embedding = nn.Embedding(vs, self.emb_size)\n",
    "        # 随机失活\n",
    "        self.dp = nn.Dropout(0.4)\n",
    "        # 第一层循环神经网络\n",
    "        self.rnn1 = RNN(self.emb_size, self.hidden_size)\n",
    "        # 第二层循环神经网络\n",
    "        self.rnn2 = RNN(self.hidden_size, self.hidden_size)\n",
    "        # 语言建模头，根据隐藏状态预测下一个字母是什么\n",
    "        self.h2o = nn.Linear(self.hidden_size, vs)\n",
    "\n",
    "    def forward(self, x):\n",
    "        '''\n",
    "        向前传播\n",
    "        参数\n",
    "        ----\n",
    "        x ：torch.LongTensor，当前字母在字典中的位置，形状为(B, T)\n",
    "        返回\n",
    "        ----\n",
    "        output ：torch.FloatTensor，预测结果的logits，形状为(B, T, vs)\n",
    "        '''\n",
    "        emb = self.embedding(x)      # (B, T,  C)\n",
    "        h = self.dp(self.rnn1(emb))  # (B, T,  H)\n",
    "        # 第一层的隐藏状态是第二层的输入\n",
    "        h = self.dp(self.rnn2(h))    # (B, T,  H)\n",
    "        # 使用第二层的隐藏状态预测下一个字母是什么\n",
    "        output = self.h2o(h)         # (B, T, vs)\n",
    "        return output\n",
    "\n",
    "model = CharRNNBatch(len(tok.char2ind)).to(device)"
   ]
  },
  {
   "cell_type": "code",
   "execution_count": 6,
   "metadata": {
    "colab": {
     "base_uri": "https://localhost:8080/"
    },
    "id": "vgDVyHDL03LI",
    "outputId": "f9d86d52-3f06-4503-e3e5-08985129b4c1"
   },
   "outputs": [
    {
     "data": {
      "text/plain": [
       "CharRNNBatch(\n",
       "  (embedding): Embedding(98, 256)\n",
       "  (dp): Dropout(p=0.4, inplace=False)\n",
       "  (rnn1): RNN(\n",
       "    (i2h): Linear(in_features=384, out_features=128, bias=True)\n",
       "  )\n",
       "  (rnn2): RNN(\n",
       "    (i2h): Linear(in_features=256, out_features=128, bias=True)\n",
       "  )\n",
       "  (h2o): Linear(in_features=128, out_features=98, bias=True)\n",
       ")"
      ]
     },
     "execution_count": 6,
     "metadata": {},
     "output_type": "execute_result"
    }
   ],
   "source": [
    "# 展示模型结构\n",
    "model"
   ]
  },
  {
   "cell_type": "code",
   "execution_count": 7,
   "metadata": {
    "id": "KZiIPgh603LI"
   },
   "outputs": [],
   "source": [
    "@torch.no_grad()\n",
    "def generate_batch(model, idx, max_new_tokens=300):\n",
    "    '''\n",
    "    利用模型生成文本（反复使用模型进行预测）\n",
    "    参数\n",
    "    ----\n",
    "    model ：CharRNNBatch，生成文本的模型\n",
    "    idx ：torch.LongTensor，当前字母在字典中的位置，形状为(1, T)\n",
    "    max_new_tokens ：int，生成文本的最大长度\n",
    "    返回\n",
    "    ----\n",
    "    out ：list[int]，生成的文本\n",
    "    '''\n",
    "    # 将模型切换至评估模式\n",
    "    model.eval()\n",
    "    for _ in range(max_new_tokens):\n",
    "        # 限制背景长度，使之与模型训练时的状况更相符\n",
    "        # 当然也可以不限制\n",
    "        context = idx[:, -sequence_len:]\n",
    "        # 在文本生成时，模型的计算效率很低，因为有很多重复计算\n",
    "        logits = model(context)\n",
    "        # 只使用最后一个预测结果\n",
    "        logits = logits[:, -1, :]\n",
    "        probs = F.softmax(logits, dim=-1)\n",
    "        # 根据模型预测的概率，得到最终的预测结果（下一个字母）\n",
    "        # 这一步运算有一定随机性\n",
    "        ix = torch.multinomial(probs, num_samples=1)\n",
    "        idx = torch.cat((idx, ix), dim=1)\n",
    "        if ix.item() == 0:\n",
    "            break\n",
    "    # 将模型切换至训练模式\n",
    "    model.train()\n",
    "    return idx.tolist()[0]"
   ]
  },
  {
   "cell_type": "code",
   "execution_count": 8,
   "metadata": {
    "colab": {
     "base_uri": "https://localhost:8080/"
    },
    "id": "Xc6EEzgL03LI",
    "outputId": "197a5c39-d194-4d55-f19e-cc9bf3a5301f"
   },
   "outputs": [
    {
     "name": "stdout",
     "output_type": "stream",
     "text": [
      "def*ZO(F/of(\"YP{BZE G|uw=3:1'_$?Q9NN[{KQ=CK(AM:iKcaR;+Q3j<sAegWS$ö0Nx!qyT3\"yMm5Za)'W~5\\Wm&B\"({r\n",
      "cdtMh^DA11zc<|e|>\n"
     ]
    }
   ],
   "source": [
    "# 使用模型来生成文本\n",
    "begin_text = torch.tensor(tok.encode('def'), device=device).unsqueeze(0)\n",
    "print(''.join(tok.decode(generate_batch(model, begin_text))))"
   ]
  },
  {
   "cell_type": "code",
   "execution_count": 9,
   "metadata": {
    "colab": {
     "base_uri": "https://localhost:8080/"
    },
    "id": "Vu7WY3Pe03LJ",
    "outputId": "2e3c0195-ba98-4eff-b9a2-a053ebd3a6ba"
   },
   "outputs": [
    {
     "data": {
      "text/plain": [
       "(torch.Size([605913, 64]), torch.Size([605913, 64]))"
      ]
     },
     "execution_count": 9,
     "metadata": {},
     "output_type": "execute_result"
    }
   ],
   "source": [
    "def process(data, sequence_len=sequence_len):\n",
    "    '''\n",
    "    根据文本生成训练数据\n",
    "    '''\n",
    "    # text是字符串列表\n",
    "    text = data['whole_func_string']\n",
    "    inputs, labels = [], []\n",
    "    for i in text:\n",
    "        enc = tok.encode(i)\n",
    "        # 0对应着文本结束\n",
    "        enc += [0]\n",
    "        # 将文本转换为多个训练数据\n",
    "        for i in range(len(enc) - sequence_len):\n",
    "            inputs.append(enc[i: i + sequence_len])\n",
    "            # 预测标签是下一个字母，因此只需要挪动一个位置即可\n",
    "            labels.append(enc[i + 1: i + 1 + sequence_len])\n",
    "    return {'inputs': inputs, 'labels': labels}\n",
    "\n",
    "# 将数据分为训练集和测试集\n",
    "tokenized = datasets.train_test_split(test_size=0.1, seed=1024, shuffle=True)\n",
    "# 将文本转换为训练数据，里面包含inputs和labels\n",
    "tokenized = tokenized.map(process, batched=True, remove_columns=datasets.column_names)\n",
    "tokenized.set_format(type='torch', device=device)\n",
    "\n",
    "tokenized['train']['inputs'].shape, tokenized['train']['labels'].shape"
   ]
  },
  {
   "cell_type": "code",
   "execution_count": 10,
   "metadata": {
    "colab": {
     "base_uri": "https://localhost:8080/"
    },
    "id": "QUAlXU5803LJ",
    "outputId": "3b9e68a6-0eb4-4432-88e7-0cbfdce72c8c"
   },
   "outputs": [
    {
     "data": {
      "text/plain": [
       "{'inputs': tensor([[16, 76, 85,  ..., 69, 67, 80],\n",
       "         [ 2,  2,  2,  ..., 71, 72, 71],\n",
       "         [89, 37, 81,  ..., 70, 40, 75],\n",
       "         ...,\n",
       "         [76, 71, 69,  ...,  2,  2,  2],\n",
       "         [ 2, 19,  1,  ..., 74, 67, 86],\n",
       "         [48, 81, 84,  ..., 78,  2, 70]], device='cuda:0'),\n",
       " 'labels': tensor([[76, 85, 81,  ..., 67, 80,  2],\n",
       "         [ 2,  2,  2,  ..., 72, 71, 84],\n",
       "         [37, 81, 79,  ..., 40, 75, 71],\n",
       "         ...,\n",
       "         [71, 69, 86,  ...,  2,  2,  2],\n",
       "         [19,  1,  2,  ..., 67, 86,  2],\n",
       "         [81, 84, 79,  ...,  2, 70, 75]], device='cuda:0')}"
      ]
     },
     "execution_count": 10,
     "metadata": {},
     "output_type": "execute_result"
    }
   ],
   "source": [
    "# 构建数据读取器\n",
    "train_loader = DataLoader(tokenized['train'], batch_size=batch_size, shuffle=True)\n",
    "test_loader = DataLoader(tokenized['test'], batch_size=batch_size, shuffle=True)\n",
    "# 获取一个批量的数据\n",
    "next(iter(test_loader))"
   ]
  },
  {
   "cell_type": "code",
   "execution_count": 11,
   "metadata": {
    "colab": {
     "base_uri": "https://localhost:8080/"
    },
    "id": "Wlb2hwJ503LK",
    "outputId": "8cb04947-2c64-49c5-cbb8-6b0a4a30bcfc"
   },
   "outputs": [
    {
     "data": {
      "text/plain": [
       "{'train': 4.572356224060059, 'test': 4.573554515838623}"
      ]
     },
     "execution_count": 11,
     "metadata": {},
     "output_type": "execute_result"
    }
   ],
   "source": [
    "def estimate_loss(model):\n",
    "    re = {}\n",
    "    # 将模型切换至评估模式\n",
    "    model.eval()\n",
    "    re['train'] = _loss(model, train_loader)\n",
    "    re['test'] = _loss(model, test_loader)\n",
    "    # 将模型切换至训练模式\n",
    "    model.train()\n",
    "    return re\n",
    "\n",
    "@torch.no_grad()\n",
    "def _loss(model, data_loader):\n",
    "    \"\"\"\n",
    "    计算模型在不同数据集下面的评估指标\n",
    "    \"\"\"\n",
    "    loss = []\n",
    "    data_iter= iter(data_loader)\n",
    "    # 随机使用多个批量数据来预估模型效果\n",
    "    for k in range(eval_iters):\n",
    "        data = next(data_iter, None)\n",
    "        if data is None:\n",
    "            data_iter = iter(data_loader)\n",
    "            data = next(data_iter, None)\n",
    "        inputs, labels = data['inputs'], data['labels']\n",
    "        logits = model(inputs)\n",
    "        # 根据cross_entropy的定义，需要对logits进行转置运算\n",
    "        # 具体细节请参考cross_entropy的官方文档\n",
    "        logits = logits.transpose(-2, -1)\n",
    "        loss.append(F.cross_entropy(logits, labels).item())\n",
    "    return torch.tensor(loss).mean().item()\n",
    "\n",
    "estimate_loss(model)"
   ]
  },
  {
   "cell_type": "code",
   "execution_count": 12,
   "metadata": {
    "id": "gqyC2yaA03LK"
   },
   "outputs": [],
   "source": [
    "def train_rnn(model, optimizer, data_loader, epochs=10):\n",
    "    lossi = []\n",
    "    for epoch in range(epochs):\n",
    "        for i, data in enumerate(data_loader, 0):\n",
    "            inputs, labels = data['inputs'], data['labels']\n",
    "            optimizer.zero_grad()\n",
    "            logits = model(inputs)\n",
    "            # 根据cross_entropy的定义，需要对logits进行转置运算\n",
    "            # 具体细节请参考cross_entropy的官方文档\n",
    "            logits = logits.transpose(-2, -1)\n",
    "            loss = F.cross_entropy(logits, labels)\n",
    "            lossi.append(loss.item())\n",
    "            loss.backward()\n",
    "            optimizer.step()\n",
    "        # 评估模型，并输出结果\n",
    "        stats = estimate_loss(model)\n",
    "        train_loss = f'train loss {stats[\"train\"]:.4f}'\n",
    "        test_loss = f'test loss {stats[\"test\"]:.4f}'\n",
    "        print(f'epoch {epoch:>2}: {train_loss}, {test_loss}')\n",
    "    return lossi"
   ]
  },
  {
   "cell_type": "code",
   "execution_count": 13,
   "metadata": {
    "colab": {
     "base_uri": "https://localhost:8080/"
    },
    "id": "XHzkjkOd03LK",
    "outputId": "b2bac2a9-48f5-4ae6-d644-75655eaee19c"
   },
   "outputs": [
    {
     "name": "stdout",
     "output_type": "stream",
     "text": [
      "epoch  0: train loss 1.4990, test loss 1.6117\n",
      "epoch  1: train loss 1.3739, test loss 1.4928\n",
      "epoch  2: train loss 1.3112, test loss 1.4462\n",
      "epoch  3: train loss 1.2822, test loss 1.4168\n",
      "epoch  4: train loss 1.2611, test loss 1.3976\n",
      "epoch  5: train loss 1.2440, test loss 1.3893\n",
      "epoch  6: train loss 1.2383, test loss 1.3751\n",
      "epoch  7: train loss 1.2313, test loss 1.3710\n",
      "epoch  8: train loss 1.2095, test loss 1.3622\n",
      "epoch  9: train loss 1.2253, test loss 1.3593\n"
     ]
    }
   ],
   "source": [
    "l = train_rnn(model, optim.Adam(model.parameters(), lr=learning_rate), train_loader)"
   ]
  },
  {
   "cell_type": "code",
   "execution_count": 14,
   "metadata": {
    "colab": {
     "base_uri": "https://localhost:8080/",
     "height": 448
    },
    "id": "e94Xbj3003LL",
    "outputId": "743f41aa-a6d1-4a50-d003-1726c5497988"
   },
   "outputs": [
    {
     "data": {
      "text/plain": [
       "[<matplotlib.lines.Line2D at 0x782918314880>]"
      ]
     },
     "execution_count": 14,
     "metadata": {},
     "output_type": "execute_result"
    },
    {
     "data": {
      "image/png": "[encoded data removed]",
      "text/plain": [
       "<Figure size 640x480 with 1 Axes>"
      ]
     },
     "metadata": {},
     "output_type": "display_data"
    }
   ],
   "source": [
    "plt.plot(torch.tensor(l).view(-1, 10).mean(1).numpy())"
   ]
  },
  {
   "cell_type": "code",
   "execution_count": 15,
   "metadata": {
    "colab": {
     "base_uri": "https://localhost:8080/"
    },
    "id": "ygy6T1JZ03LL",
    "outputId": "e8b3da29-1fd1-4e0e-8b61-7d56d420a8fc"
   },
   "outputs": [
    {
     "name": "stdout",
     "output_type": "stream",
     "text": [
      "def name=2.9], False,\n",
      "                \"fiend num rawfo data a verifien the resunc to end\n",
      "                # Deraming or not 'las1: semrine DataFrame.\n",
      "\n",
      "        >>> c.ichurrert.gat.ines = MLsib, inmente`,\n",
      "               whineQuiter is not None in data.\n",
      "\n",
      "    2.e dlec('dingentrine())\n",
      "    __bosle' matrix lic\n"
     ]
    }
   ],
   "source": [
    "# 使用模型来生成文本\n",
    "begin_text = torch.tensor(tok.encode('def'), device=device).unsqueeze(0)\n",
    "print(''.join(tok.decode(generate_batch(model, begin_text))))"
   ]
  }
 ],
 "metadata": {
  "accelerator": "GPU",
  "colab": {
   "gpuType": "V100",
   "provenance": []
  },
  "kernelspec": {
   "display_name": "Python 3",
   "language": "python",
   "name": "python3"
  },
  "language_info": {
   "codemirror_mode": {
    "name": "ipython",
    "version": 3
   },
   "file_extension": ".py",
   "mimetype": "text/x-python",
   "name": "python",
   "nbconvert_exporter": "python",
   "pygments_lexer": "ipython3",
   "version": "3.8.5"
  }
 },
 "nbformat": 4,
 "nbformat_minor": 1
}
