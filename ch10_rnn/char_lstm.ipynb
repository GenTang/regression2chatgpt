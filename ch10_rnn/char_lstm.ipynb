{
 "cells": [
  {
   "cell_type": "code",
   "execution_count": 1,
   "metadata": {
    "colab": {
     "base_uri": "https://localhost:8080/"
    },
    "id": "I62LYlwE6GsQ",
    "outputId": "81ea934e-f098-409f-95b1-d56a3c4af4c3"
   },
   "outputs": [
    {
     "data": {
      "text/plain": [
       "<torch._C.Generator at 0x7a261c23beb0>"
      ]
     },
     "execution_count": 1,
     "metadata": {},
     "output_type": "execute_result"
    }
   ],
   "source": [
    "import torch\n",
    "import torch.nn as nn\n",
    "import torch.nn.functional as F\n",
    "import torch.optim as optim\n",
    "from datasets import load_dataset\n",
    "import matplotlib.pyplot as plt\n",
    "%matplotlib inline\n",
    "\n",
    "\n",
    "torch.manual_seed(12046)"
   ]
  },
  {
   "cell_type": "code",
   "execution_count": 2,
   "metadata": {
    "id": "GkGf5INJ6GsS"
   },
   "outputs": [],
   "source": [
    "learning_rate = 1e-3\n",
    "eval_iters = 10\n",
    "batch_size=5000\n",
    "sequence_len=64\n",
    "device = 'cuda' if torch.cuda.is_available() else 'cpu'"
   ]
  },
  {
   "cell_type": "code",
   "execution_count": 3,
   "metadata": {
    "id": "sVBANefB6GsT"
   },
   "outputs": [],
   "source": [
    "raw_datasets = load_dataset(\"code_search_net\", \"python\")\n",
    "datasets = raw_datasets['train'].filter(lambda x: 'apache/spark' in x['repository_name'])"
   ]
  },
  {
   "cell_type": "code",
   "execution_count": 4,
   "metadata": {
    "colab": {
     "base_uri": "https://localhost:8080/"
    },
    "id": "PHlZuu2O6GsT",
    "outputId": "dccc2700-d1b8-4bfa-836e-dfc540aee946"
   },
   "outputs": [
    {
     "data": {
      "text/plain": [
       "98"
      ]
     },
     "execution_count": 4,
     "metadata": {},
     "output_type": "execute_result"
    }
   ],
   "source": [
    "class char_tokenizer:\n",
    "\n",
    "    def __init__(self, data):\n",
    "        # 数据中出现的所有字符构成字典\n",
    "        chars = sorted(list(set(''.join(data))))\n",
    "        # 预留一个位置给结尾的特殊字符\n",
    "        self.char2ind = {s : i + 1 for i, s in enumerate(chars)}\n",
    "        self.char2ind['<|e|>'] = 0\n",
    "        self.ind2char = {i : s for s, i in self.char2ind.items()}\n",
    "\n",
    "    def encode(self, text):\n",
    "        return [self.char2ind[c] for c in text]\n",
    "\n",
    "    def decode(self, enc):\n",
    "        if isinstance(enc, int):\n",
    "            return self.ind2char[enc]\n",
    "        return [self.ind2char[i] for i in enc]\n",
    "\n",
    "tok = char_tokenizer(datasets['whole_func_string'])\n",
    "len(tok.char2ind)"
   ]
  },
  {
   "cell_type": "code",
   "execution_count": 5,
   "metadata": {
    "colab": {
     "base_uri": "https://localhost:8080/"
    },
    "id": "Tjg3Hmgu6GsU",
    "outputId": "412067c5-77b9-477c-a6f4-26ff4483a705"
   },
   "outputs": [
    {
     "name": "stderr",
     "output_type": "stream",
     "text": [
      "/usr/local/lib/python3.10/dist-packages/torch/nn/modules/rnn.py:71: UserWarning: dropout option adds dropout after all but last recurrent layer, so non-zero dropout expects num_layers greater than 1, but got dropout=0.4 and num_layers=1\n",
      "  warnings.warn(\"dropout option adds dropout after all but last \"\n"
     ]
    }
   ],
   "source": [
    "class CharLSTM(nn.Module):\n",
    "\n",
    "    def __init__(self, vs):\n",
    "        super().__init__()\n",
    "        self.emb_size = 256\n",
    "        self.hidden_size = 128\n",
    "        self.embedding = nn.Embedding(vs, self.emb_size)\n",
    "        self.lstm1 = nn.LSTM(self.emb_size, self.hidden_size, 1,\n",
    "                            batch_first=True, dropout=0.4)\n",
    "        self.norm1 = nn.LayerNorm(self.hidden_size)\n",
    "        self.lstm2 = nn.LSTM(self.emb_size, self.hidden_size, 1,\n",
    "                            batch_first=True, dropout=0.4)\n",
    "        self.norm2 = nn.LayerNorm(self.hidden_size)\n",
    "        self.lstm3 = nn.LSTM(self.emb_size, self.hidden_size, 1,\n",
    "                            batch_first=True, dropout=0.4)\n",
    "        self.norm3 = nn.LayerNorm(self.hidden_size)\n",
    "        self.h2o = nn.Linear(self.hidden_size, vs)\n",
    "\n",
    "    def forward(self, x):\n",
    "        # x: (B, T)\n",
    "        emb = self.embedding(x)      # (B, T, C)\n",
    "        h = self.norm1(self.lstm1(emb)[0])       # (B, T, H)\n",
    "        h = self.norm2(self.lstm2(emb)[0])       # (B, T, H)\n",
    "        h = self.norm3(self.lstm3(emb)[0])       # (B, T, H)\n",
    "        output = self.h2o(h)         # (B, T, V)\n",
    "        return output\n",
    "\n",
    "model = CharLSTM(len(tok.char2ind)).to(device)"
   ]
  },
  {
   "cell_type": "code",
   "execution_count": 6,
   "metadata": {
    "colab": {
     "base_uri": "https://localhost:8080/"
    },
    "id": "e0ouQIXk6GsV",
    "outputId": "29ab38e3-e81c-41ae-df6b-c08001441744"
   },
   "outputs": [
    {
     "data": {
      "text/plain": [
       "CharLSTM(\n",
       "  (embedding): Embedding(98, 256)\n",
       "  (lstm1): LSTM(256, 128, batch_first=True, dropout=0.4)\n",
       "  (norm1): LayerNorm((128,), eps=1e-05, elementwise_affine=True)\n",
       "  (lstm2): LSTM(256, 128, batch_first=True, dropout=0.4)\n",
       "  (norm2): LayerNorm((128,), eps=1e-05, elementwise_affine=True)\n",
       "  (lstm3): LSTM(256, 128, batch_first=True, dropout=0.4)\n",
       "  (norm3): LayerNorm((128,), eps=1e-05, elementwise_affine=True)\n",
       "  (h2o): Linear(in_features=128, out_features=98, bias=True)\n",
       ")"
      ]
     },
     "execution_count": 6,
     "metadata": {},
     "output_type": "execute_result"
    }
   ],
   "source": [
    "model"
   ]
  },
  {
   "cell_type": "code",
   "execution_count": 7,
   "metadata": {
    "id": "rOdLWTkr6GsV"
   },
   "outputs": [],
   "source": [
    "@torch.no_grad()\n",
    "def generate_batch(model, idx, max_new_tokens=300):\n",
    "    for _ in range(max_new_tokens):\n",
    "        # 限制背景长度，使之与模型训练时的状况更相符\n",
    "        # 当然也可以不限制\n",
    "        context = idx[:, -sequence_len:]\n",
    "        logits = model(context)\n",
    "        logits = logits[:, -1, :]\n",
    "        probs = F.softmax(logits, dim=-1)\n",
    "        ix = torch.multinomial(probs, num_samples=1)\n",
    "        idx = torch.cat((idx, ix), dim=1)\n",
    "        if ix.item() == 0:\n",
    "            break\n",
    "    return idx.tolist()[0]"
   ]
  },
  {
   "cell_type": "code",
   "execution_count": 8,
   "metadata": {
    "colab": {
     "base_uri": "https://localhost:8080/"
    },
    "id": "Xeyajoun6GsV",
    "outputId": "3a30c56f-1d7b-426b-f63b-ab3309bb8d2d"
   },
   "outputs": [
    {
     "name": "stdout",
     "output_type": "stream",
     "text": [
      "def$O(F/of(\"YA{BoE G|uw=3:1'L$?Q9)N[-KQ=CKfAM:iKcaR%+Q3j<sA!uWö$?09x!q/T3\"yMm54a)'B~5\\WP&B?({r{cNtMhSD*<|e|>\n"
     ]
    }
   ],
   "source": [
    "re = generate_batch(model, torch.tensor(tok.encode('def'), device=device).unsqueeze(0))\n",
    "print(''.join(tok.decode(re)))"
   ]
  },
  {
   "cell_type": "code",
   "execution_count": 9,
   "metadata": {
    "colab": {
     "base_uri": "https://localhost:8080/"
    },
    "id": "oCafajNa6GsW",
    "outputId": "cacbd23b-dad9-4e58-c291-87b4ad76548b"
   },
   "outputs": [
    {
     "data": {
      "text/plain": [
       "Dataset({\n",
       "    features: ['inputs', 'labels'],\n",
       "    num_rows: 668546\n",
       "})"
      ]
     },
     "execution_count": 9,
     "metadata": {},
     "output_type": "execute_result"
    }
   ],
   "source": [
    "def process(data, sequence_len=sequence_len):\n",
    "    text = data['whole_func_string']\n",
    "    inputs, labels = [], []\n",
    "    for i in text:\n",
    "        enc = tok.encode(i)\n",
    "        enc += [0]\n",
    "        for i in range(len(enc) - sequence_len):\n",
    "            inputs.append(enc[i: i + sequence_len])\n",
    "            labels.append(enc[i + 1: i + 1 + sequence_len])\n",
    "    return {'inputs': inputs, 'labels': labels}\n",
    "\n",
    "tokenized = datasets.map(process, batched=True, remove_columns=datasets.column_names)\n",
    "tokenized.set_format(type='torch', device=device)\n",
    "tokenized"
   ]
  },
  {
   "cell_type": "code",
   "execution_count": 10,
   "metadata": {
    "colab": {
     "base_uri": "https://localhost:8080/"
    },
    "id": "cdpBjO1p6GsW",
    "outputId": "2db7a669-aad4-4897-be7f-ac37147c4585"
   },
   "outputs": [
    {
     "data": {
      "text/plain": [
       "{'inputs': tensor([[ 2,  2,  2,  ...,  1,  2,  2],\n",
       "         [71, 85, 86,  ..., 78, 75, 85],\n",
       "         [78, 85, 63,  ..., 78, 85,  2],\n",
       "         ...,\n",
       "         [73, 80, 81,  ..., 85, 87, 68],\n",
       "         [91,  2, 67,  ..., 70, 71, 84],\n",
       "         [71, 78, 75,  ..., 78, 75, 72]], device='cuda:0'),\n",
       " 'labels': tensor([[ 2,  2,  2,  ...,  2,  2,  2],\n",
       "         [85, 86, 84,  ..., 75, 85, 86],\n",
       "         [85, 63,  1,  ..., 85,  2, 31],\n",
       "         ...,\n",
       "         [80, 81, 84,  ..., 87, 68, 85],\n",
       "         [ 2, 67, 82,  ..., 71, 84,  2],\n",
       "         [78, 75, 72,  ..., 75, 72,  2]], device='cuda:0')}"
      ]
     },
     "execution_count": 10,
     "metadata": {},
     "output_type": "execute_result"
    }
   ],
   "source": [
    "from torch.utils.data import DataLoader\n",
    "\n",
    "# 构建数据读取器\n",
    "train_loader = DataLoader(tokenized, batch_size=batch_size, shuffle=True)\n",
    "# 获取一个批量的数据\n",
    "next(iter(train_loader))"
   ]
  },
  {
   "cell_type": "code",
   "execution_count": 11,
   "metadata": {
    "id": "6WXyKbAZ6GsW"
   },
   "outputs": [],
   "source": [
    "def estimate_loss(model):\n",
    "    re = {}\n",
    "    # 将模型切换至评估模式\n",
    "    model.eval()\n",
    "    re['train'] = _loss(model, train_loader)\n",
    "    # 将模型切换至训练模式\n",
    "    model.train()\n",
    "    return re\n",
    "\n",
    "@torch.no_grad()\n",
    "def _loss(model, data_loader):\n",
    "    \"\"\"\n",
    "    计算模型在不同数据集下面的评估指标\n",
    "    \"\"\"\n",
    "    loss = []\n",
    "    data_iter = iter(data_loader)\n",
    "    for k in range(eval_iters):\n",
    "        data = next(data_iter, None)\n",
    "        if data is None:\n",
    "            break\n",
    "        inputs, labels = data['inputs'], data['labels']\n",
    "        logits = model(inputs)\n",
    "        logits = logits.transpose(-2, -1)\n",
    "        loss.append(F.cross_entropy(logits, labels))\n",
    "    return torch.tensor(loss).mean().item()"
   ]
  },
  {
   "cell_type": "code",
   "execution_count": 12,
   "metadata": {
    "id": "NZSR2NJn6GsX"
   },
   "outputs": [],
   "source": [
    "def train_lstm(model, optimizer, data_loader, epochs=10):\n",
    "    lossi = []\n",
    "    for epoch in range(epochs):\n",
    "        for i, data in enumerate(data_loader, 0):\n",
    "            inputs, labels = data['inputs'], data['labels']\n",
    "            optimizer.zero_grad()\n",
    "            logits = model(inputs)\n",
    "            logits = logits.transpose(-2, -1)\n",
    "            loss = F.cross_entropy(logits, labels)\n",
    "            lossi.append(loss.item())\n",
    "            loss.backward()\n",
    "            optimizer.step()\n",
    "        # 评估模型，并输出结果\n",
    "        stats = estimate_loss(model)\n",
    "        print(f'epoch {epoch:>2}: train loss {stats[\"train\"]:.4f}')\n",
    "    return lossi"
   ]
  },
  {
   "cell_type": "code",
   "execution_count": 13,
   "metadata": {
    "colab": {
     "base_uri": "https://localhost:8080/"
    },
    "id": "1mfoXanS6GsX",
    "outputId": "1dd3b91e-5eef-41b3-d923-4670229e55d2"
   },
   "outputs": [
    {
     "name": "stdout",
     "output_type": "stream",
     "text": [
      "epoch  0: train loss 1.7597\n",
      "epoch  1: train loss 1.4172\n",
      "epoch  2: train loss 1.2542\n",
      "epoch  3: train loss 1.1489\n",
      "epoch  4: train loss 1.0838\n",
      "epoch  5: train loss 1.0351\n",
      "epoch  6: train loss 0.9965\n",
      "epoch  7: train loss 0.9658\n",
      "epoch  8: train loss 0.9409\n",
      "epoch  9: train loss 0.9180\n"
     ]
    }
   ],
   "source": [
    "l = train_lstm(model, optim.Adam(model.parameters(), lr=learning_rate), train_loader)"
   ]
  },
  {
   "cell_type": "code",
   "execution_count": 14,
   "metadata": {
    "colab": {
     "base_uri": "https://localhost:8080/",
     "height": 448
    },
    "id": "S_vOudzX6GsX",
    "outputId": "73b8bdc9-d897-41a4-8073-711bae83fe66"
   },
   "outputs": [
    {
     "data": {
      "text/plain": [
       "[<matplotlib.lines.Line2D at 0x7a252c3d7e20>]"
      ]
     },
     "execution_count": 14,
     "metadata": {},
     "output_type": "execute_result"
    },
    {
     "data": {
      "image/png": "[encoded data removed]",
      "text/plain": [
       "<Figure size 640x480 with 1 Axes>"
      ]
     },
     "metadata": {},
     "output_type": "display_data"
    }
   ],
   "source": [
    "plt.plot(torch.tensor(l).view(-1, 10).mean(1).numpy())"
   ]
  },
  {
   "cell_type": "code",
   "execution_count": 15,
   "metadata": {
    "colab": {
     "base_uri": "https://localhost:8080/"
    },
    "id": "EU47xH9E6GsX",
    "outputId": "2bf6ca67-254b-4a2e-eced-c946201f4af2"
   },
   "outputs": [
    {
     "name": "stdout",
     "output_type": "stream",
     "text": [
      "def1 integer.\"\"\"Tast combineQuor_array(self.intercept_suctTyps(e))\n",
      "        c += new_argspect(from_arroint__name)\n",
      "        else:\n",
      "        procolFunc=portable)\n",
      "        sparkStmAsTime = _mode_jira or open(distinct):\n",
      "            re/genext(most) of __'(1\\099728510')]\n",
      "    \"\"\"\n",
      "    sape(pyspark.ml.issmalledingKM\n"
     ]
    }
   ],
   "source": [
    "re = generate_batch(model, torch.tensor(tok.encode('def'), device=device).unsqueeze(0))\n",
    "print(''.join(tok.decode(re)))"
   ]
  }
 ],
 "metadata": {
  "accelerator": "GPU",
  "colab": {
   "gpuType": "V100",
   "provenance": []
  },
  "kernelspec": {
   "display_name": "Python 3",
   "language": "python",
   "name": "python3"
  },
  "language_info": {
   "codemirror_mode": {
    "name": "ipython",
    "version": 3
   },
   "file_extension": ".py",
   "mimetype": "text/x-python",
   "name": "python",
   "nbconvert_exporter": "python",
   "pygments_lexer": "ipython3",
   "version": "3.8.5"
  }
 },
 "nbformat": 4,
 "nbformat_minor": 1
}
