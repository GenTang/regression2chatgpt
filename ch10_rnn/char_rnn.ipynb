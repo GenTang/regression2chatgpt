{
 "cells": [
  {
   "cell_type": "code",
   "execution_count": 1,
   "metadata": {
    "colab": {
     "base_uri": "https://localhost:8080/"
    },
    "id": "07W9tE81x6Ky",
    "outputId": "572da941-653f-47be-8e6c-5cf90d005ebf"
   },
   "outputs": [
    {
     "data": {
      "text/plain": [
       "<torch._C.Generator at 0x7b95012cba70>"
      ]
     },
     "execution_count": 1,
     "metadata": {},
     "output_type": "execute_result"
    }
   ],
   "source": [
    "import torch\n",
    "import torch.nn as nn\n",
    "import torch.nn.functional as F\n",
    "import torch.optim as optim\n",
    "from datasets import load_dataset\n",
    "import matplotlib.pyplot as plt\n",
    "%matplotlib inline\n",
    "\n",
    "\n",
    "torch.manual_seed(12046)"
   ]
  },
  {
   "cell_type": "code",
   "execution_count": 2,
   "metadata": {
    "id": "ChYX0H9jx6K2"
   },
   "outputs": [],
   "source": [
    "learning_rate = 1e-3\n",
    "device = 'cuda' if torch.cuda.is_available() else 'cpu'"
   ]
  },
  {
   "cell_type": "code",
   "execution_count": 3,
   "metadata": {
    "id": "lrW4ceQUx6K3"
   },
   "outputs": [],
   "source": [
    "raw_datasets = load_dataset('code_search_net', 'python')\n",
    "datasets = raw_datasets['train'].filter(lambda x: 'apache/spark' in x['repository_name'])"
   ]
  },
  {
   "cell_type": "code",
   "execution_count": 4,
   "metadata": {
    "id": "B1diphqUx6K3"
   },
   "outputs": [],
   "source": [
    "class char_tokenizer:\n",
    "\n",
    "    def __init__(self, data):\n",
    "        # 数据中出现的所有字符构成字典\n",
    "        chars = sorted(list(set(''.join(data))))\n",
    "        # 预留一个位置给结尾的特殊字符\n",
    "        self.char2ind = {s : i + 1 for i, s in enumerate(chars)}\n",
    "        self.char2ind['<|e|>'] = 0\n",
    "        self.ind2char = {i : s for s, i in self.char2ind.items()}\n",
    "\n",
    "    def encode(self, text):\n",
    "        return [self.char2ind[c] for c in text]\n",
    "\n",
    "    def decode(self, enc):\n",
    "        if isinstance(enc, int):\n",
    "            return self.ind2char[enc]\n",
    "        return [self.ind2char[i] for i in enc]"
   ]
  },
  {
   "cell_type": "code",
   "execution_count": 5,
   "metadata": {
    "colab": {
     "base_uri": "https://localhost:8080/"
    },
    "id": "YhaYe9rtx6K4",
    "outputId": "3d1a3d5f-324b-4835-db55-146ad4c4b405"
   },
   "outputs": [
    {
     "data": {
      "text/plain": [
       "('def post(self):', 98)"
      ]
     },
     "execution_count": 5,
     "metadata": {},
     "output_type": "execute_result"
    }
   ],
   "source": [
    "# 举例验证分词器\n",
    "tok = char_tokenizer(datasets['whole_func_string'])\n",
    "example_text = 'def post(self):'\n",
    "''.join(tok.decode(tok.encode(example_text))), len(tok.char2ind)"
   ]
  },
  {
   "cell_type": "code",
   "execution_count": 6,
   "metadata": {
    "id": "9zIh_XMzx6K4"
   },
   "outputs": [],
   "source": [
    "class RNNCell(nn.Module):\n",
    "\n",
    "    def __init__(self, input_size, hidden_size):\n",
    "        super().__init__()\n",
    "        self.input_size = input_size\n",
    "        self.hidden_size = hidden_size\n",
    "        combined_size = self.input_size + self.hidden_size\n",
    "        self.i2h = nn.Linear(combined_size, self.hidden_size)\n",
    "\n",
    "    def forward(self, inputs, hidden=None):\n",
    "        if hidden is None:\n",
    "            hidden = self.init_hidden(inputs.device)   # (1,     H)\n",
    "        # inputs: (1, I)\n",
    "        combined = torch.cat((inputs, hidden), dim=1)  # (1, I + H)\n",
    "        hidden = F.relu(self.i2h(combined))            # (1,     H)\n",
    "        return hidden\n",
    "\n",
    "    def init_hidden(self, device):\n",
    "        return torch.zeros((1, self.hidden_size), device=device)\n",
    "\n",
    "\n",
    "class CharRNN(nn.Module):\n",
    "\n",
    "    def __init__(self, vs):\n",
    "        super().__init__()\n",
    "        self.emb_size = 30\n",
    "        self.hidden_size = 50\n",
    "        self.embedding = nn.Embedding(vs, self.emb_size)\n",
    "        self.rnn = RNNCell(self.emb_size, self.hidden_size)\n",
    "        self.h2o = nn.Linear(self.hidden_size, vs)\n",
    "\n",
    "    def forward(self, x, hidden=None):\n",
    "        # x: (1); hidden: (1, 50)\n",
    "        emb = self.embedding(x)         # (1, 30)\n",
    "        hidden = self.rnn(emb, hidden)  # (1, 50)\n",
    "        output = self.h2o(hidden)       # (1, vs)\n",
    "        return output, hidden\n",
    "\n",
    "c_model = CharRNN(len(tok.char2ind)).to(device)"
   ]
  },
  {
   "cell_type": "code",
   "execution_count": 7,
   "metadata": {
    "colab": {
     "base_uri": "https://localhost:8080/"
    },
    "id": "frHZYPQSx6K6",
    "outputId": "e12e3ebe-a5dc-41cc-e1c4-1406147086d6"
   },
   "outputs": [
    {
     "data": {
      "text/plain": [
       "(torch.Size([1, 98]), torch.Size([1, 50]))"
      ]
     },
     "execution_count": 7,
     "metadata": {},
     "output_type": "execute_result"
    }
   ],
   "source": [
    "inputs = torch.tensor(tok.encode('d'), device=device)\n",
    "hidden = None\n",
    "logits, hidden = c_model(inputs, hidden)\n",
    "logits.shape, hidden.shape"
   ]
  },
  {
   "cell_type": "code",
   "execution_count": 8,
   "metadata": {
    "id": "3uo7Pzlqx6K6"
   },
   "outputs": [],
   "source": [
    "@torch.no_grad()\n",
    "def generate(model, idx, max_new_tokens=300):\n",
    "    out = idx.tolist()\n",
    "    hidden = None\n",
    "    for _ in range(max_new_tokens):\n",
    "        logits, hidden = model(idx, hidden)\n",
    "        probs = F.softmax(logits, dim=-1)\n",
    "        ix = torch.multinomial(probs, num_samples=1)\n",
    "        out.append(ix.item())\n",
    "        # 注意调整模型输入的形状\n",
    "        idx = ix.squeeze(0)\n",
    "        if ix.item() == 0:\n",
    "            break\n",
    "    return out"
   ]
  },
  {
   "cell_type": "code",
   "execution_count": 9,
   "metadata": {
    "colab": {
     "base_uri": "https://localhost:8080/"
    },
    "id": "QQ2MFkLWx6K6",
    "outputId": "11f2c2ca-6e8f-42f7-e7dd-f66b791f1df6"
   },
   "outputs": [
    {
     "name": "stdout",
     "output_type": "stream",
     "text": [
      "d*ZO(F/of(\"YP{BZE G|uw=R:1'_$?Q9)N[{KQ=CKfAM:iKca\"|+Q3j<sAegWS$ö8Px!q9T3\"yum5Za)'W~5\\Wm&B\"({r\n",
      "cdtMR^DA11zc<|e|>\n"
     ]
    }
   ],
   "source": [
    "begin_text = torch.tensor(tok.encode('d'), device=device)\n",
    "print(''.join(tok.decode(generate(c_model, begin_text))))"
   ]
  },
  {
   "cell_type": "code",
   "execution_count": 10,
   "metadata": {
    "colab": {
     "base_uri": "https://localhost:8080/"
    },
    "id": "F-OErxYDx6K6",
    "outputId": "9cb661bf-e502-4b53-ee40-ea4dc0e622dd"
   },
   "outputs": [
    {
     "name": "stdout",
     "output_type": "stream",
     "text": [
      "tensor([70, 71, 72,  2, 82, 81, 85, 86, 10, 85, 71, 78, 72, 11, 28],\n",
      "       device='cuda:0')\n",
      "tensor([71, 72,  2, 82, 81, 85, 86, 10, 85, 71, 78, 72, 11, 28,  0],\n",
      "       device='cuda:0')\n",
      "The input is tensor([70], device='cuda:0'), the implied input is tensor([70], device='cuda:0'), the target is 71\n",
      "The input is tensor([71], device='cuda:0'), the implied input is tensor([70, 71], device='cuda:0'), the target is 72\n",
      "The input is tensor([72], device='cuda:0'), the implied input is tensor([70, 71, 72], device='cuda:0'), the target is 2\n",
      "The input is tensor([2], device='cuda:0'), the implied input is tensor([70, 71, 72,  2], device='cuda:0'), the target is 82\n",
      "The input is tensor([82], device='cuda:0'), the implied input is tensor([70, 71, 72,  2, 82], device='cuda:0'), the target is 81\n",
      "The input is tensor([81], device='cuda:0'), the implied input is tensor([70, 71, 72,  2, 82, 81], device='cuda:0'), the target is 85\n",
      "The input is tensor([85], device='cuda:0'), the implied input is tensor([70, 71, 72,  2, 82, 81, 85], device='cuda:0'), the target is 86\n",
      "The input is tensor([86], device='cuda:0'), the implied input is tensor([70, 71, 72,  2, 82, 81, 85, 86], device='cuda:0'), the target is 10\n",
      "The input is tensor([10], device='cuda:0'), the implied input is tensor([70, 71, 72,  2, 82, 81, 85, 86, 10], device='cuda:0'), the target is 85\n",
      "The input is tensor([85], device='cuda:0'), the implied input is tensor([70, 71, 72,  2, 82, 81, 85, 86, 10, 85], device='cuda:0'), the target is 71\n",
      "The input is tensor([71], device='cuda:0'), the implied input is tensor([70, 71, 72,  2, 82, 81, 85, 86, 10, 85, 71], device='cuda:0'), the target is 78\n",
      "The input is tensor([78], device='cuda:0'), the implied input is tensor([70, 71, 72,  2, 82, 81, 85, 86, 10, 85, 71, 78], device='cuda:0'), the target is 72\n",
      "The input is tensor([72], device='cuda:0'), the implied input is tensor([70, 71, 72,  2, 82, 81, 85, 86, 10, 85, 71, 78, 72], device='cuda:0'), the target is 11\n",
      "The input is tensor([11], device='cuda:0'), the implied input is tensor([70, 71, 72,  2, 82, 81, 85, 86, 10, 85, 71, 78, 72, 11],\n",
      "       device='cuda:0'), the target is 28\n",
      "The input is tensor([28], device='cuda:0'), the implied input is tensor([70, 71, 72,  2, 82, 81, 85, 86, 10, 85, 71, 78, 72, 11, 28],\n",
      "       device='cuda:0'), the target is 0\n"
     ]
    }
   ],
   "source": [
    "def encoding(text):\n",
    "    enc = tok.encode(text)\n",
    "    return (torch.tensor(enc, device=device), torch.tensor(enc[1:] + [0], device=device))\n",
    "\n",
    "inputs, labels = encoding(example_text)\n",
    "print(inputs)\n",
    "print(labels)\n",
    "for i in range(len(inputs)):\n",
    "    context = inputs[:i + 1]\n",
    "    target = labels[i]\n",
    "    print(f'The input is {inputs[i].unsqueeze(0)}, ' +\n",
    "          f'the implied input is {context}, the target is {target}')"
   ]
  },
  {
   "cell_type": "code",
   "execution_count": 11,
   "metadata": {
    "id": "JDtx4jTix6K7"
   },
   "outputs": [],
   "source": [
    "lossi = []\n",
    "epochs = 1\n",
    "optimizer = optim.Adam(c_model.parameters(), lr=learning_rate)\n",
    "\n",
    "for epoch in range(epochs):\n",
    "    for data in datasets:\n",
    "        inputs, labels = encoding(data['whole_func_string'])\n",
    "        hidden = None\n",
    "        loss = torch.tensor([0.], device=device)\n",
    "        optimizer.zero_grad()\n",
    "        lens = inputs.shape[0]\n",
    "        for i in range(lens):\n",
    "            logits, hidden = c_model(inputs[i].unsqueeze(0), hidden)\n",
    "            loss += F.cross_entropy(logits, labels[i].unsqueeze(0)) / lens\n",
    "        lossi.append(loss.item())\n",
    "        loss.backward()\n",
    "        optimizer.step()"
   ]
  },
  {
   "cell_type": "code",
   "execution_count": 12,
   "metadata": {
    "colab": {
     "base_uri": "https://localhost:8080/",
     "height": 448
    },
    "id": "XHceUlaBx6K7",
    "outputId": "7f1b6271-a8be-4630-8de5-b087721cfc2d"
   },
   "outputs": [
    {
     "data": {
      "text/plain": [
       "[<matplotlib.lines.Line2D at 0x7b9423312a70>]"
      ]
     },
     "execution_count": 12,
     "metadata": {},
     "output_type": "execute_result"
    },
    {
     "data": {
      "image/png": "[encoded data removed]",
      "text/plain": [
       "<Figure size 640x480 with 1 Axes>"
      ]
     },
     "metadata": {},
     "output_type": "display_data"
    }
   ],
   "source": [
    "plt.plot(lossi)"
   ]
  },
  {
   "cell_type": "code",
   "execution_count": 13,
   "metadata": {
    "colab": {
     "base_uri": "https://localhost:8080/"
    },
    "id": "cPmymAa3x6K7",
    "outputId": "799671a9-a287-4464-80ea-707e6d151733"
   },
   "outputs": [
    {
     "name": "stdout",
     "output_type": "stream",
     "text": [
      "def.areartT    civeif the _are _sext(am pestranatucby sstervcet \"cot che = srd Not Fit the = Notintorn aresTiveb), essingparte = pe \"ome   retiothe ted th ches %ond(mesgtor :c_lue\n",
      "      or on Jngien pyrame dor it = veri/g():\n",
      "    siltonf_ante   \"\"\"\n",
      "            sedenv)<|e|>\n"
     ]
    }
   ],
   "source": [
    "begin_text = torch.tensor(tok.encode('d'), device=device)\n",
    "print(''.join(tok.decode(generate(c_model, begin_text))))"
   ]
  }
 ],
 "metadata": {
  "accelerator": "GPU",
  "colab": {
   "gpuType": "V100",
   "provenance": []
  },
  "kernelspec": {
   "display_name": "Python 3",
   "language": "python",
   "name": "python3"
  },
  "language_info": {
   "codemirror_mode": {
    "name": "ipython",
    "version": 3
   },
   "file_extension": ".py",
   "mimetype": "text/x-python",
   "name": "python",
   "nbconvert_exporter": "python",
   "pygments_lexer": "ipython3",
   "version": "3.8.5"
  }
 },
 "nbformat": 4,
 "nbformat_minor": 1
}
