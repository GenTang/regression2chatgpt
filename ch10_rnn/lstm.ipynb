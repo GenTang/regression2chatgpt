{
  "cells": [
    {
      "cell_type": "code",
      "execution_count": 1,
      "metadata": {
        "colab": {
          "base_uri": "https://localhost:8080/"
        },
        "id": "ATlvvGTUto8T",
        "outputId": "127773b4-c6d8-498c-f639-aa268ddca72f"
      },
      "outputs": [
        {
          "output_type": "execute_result",
          "data": {
            "text/plain": [
              "<torch._C.Generator at 0x79e7442bc050>"
            ]
          },
          "metadata": {},
          "execution_count": 1
        }
      ],
      "source": [
        "import torch\n",
        "import torch.nn as nn\n",
        "import torch.nn.functional as F\n",
        "import torch.optim as optim\n",
        "from torch.utils.data import DataLoader\n",
        "from datasets import load_dataset\n",
        "import matplotlib.pyplot as plt\n",
        "%matplotlib inline\n",
        "\n",
        "\n",
        "torch.manual_seed(12046)"
      ]
    },
    {
      "cell_type": "code",
      "execution_count": 2,
      "metadata": {
        "id": "UV7wHrEFto8V"
      },
      "outputs": [],
      "source": [
        "class LSTMCell(nn.Module):\n",
        "\n",
        "    def __init__(self, input_size, hidden_size):\n",
        "        super().__init__()\n",
        "        self.input_size = input_size\n",
        "        self.hidden_size = hidden_size\n",
        "        combined_size = self.input_size + self.hidden_size\n",
        "        self.in_gate = nn.Linear(combined_size, self.hidden_size)\n",
        "        self.forget_gate = nn.Linear(combined_size, self.hidden_size)\n",
        "        self.new_cell_state = nn.Linear(combined_size, self.hidden_size)\n",
        "        self.out_gate = nn.Linear(combined_size, self.hidden_size)\n",
        "\n",
        "    def forward(self, inputs, state=None):\n",
        "        B, _ = inputs.shape                                 # (B,     I)\n",
        "        # state: ((B, H), (B, H))\n",
        "        if state is None:\n",
        "            state = self.init_state(B, inputs.device)\n",
        "        hs, cs = state\n",
        "        combined = torch.cat((inputs, hs), dim=1)           # (B, I + H)\n",
        "        ingate = F.sigmoid(self.in_gate(combined))          # (B,     H)\n",
        "        forgetgate = F.sigmoid(self.forget_gate(combined))  # (B,     H)\n",
        "        outgate = F.sigmoid(self.out_gate(combined))        # (B,     H)\n",
        "        # 更新细胞状态\n",
        "        ncs = F.tanh(self.new_cell_state(combined))         # (B,     H)\n",
        "        cs = (forgetgate * cs) + (ingate * ncs)             # (B,     H)\n",
        "        # 更新隐藏状态\n",
        "        hs = outgate * F.tanh(cs)                           # (B,     H)\n",
        "        return hs, cs\n",
        "\n",
        "    def init_state(self, B, device):\n",
        "        cs = torch.zeros((B, self.hidden_size), device=device)\n",
        "        hs = torch.zeros((B, self.hidden_size), device=device)\n",
        "        return hs, cs\n",
        "\n",
        "class LSTM(nn.Module):\n",
        "\n",
        "    def __init__(self, input_size, hidden_size):\n",
        "        super().__init__()\n",
        "        self.input_size = input_size\n",
        "        self.hidden_size = hidden_size\n",
        "        self.lstm = LSTMCell(self.input_size, self.hidden_size)\n",
        "\n",
        "    def forward(self, inputs, state=None):\n",
        "        re = []\n",
        "        # B batch_size,\n",
        "        # T sequence length,\n",
        "        # C number of channels.\n",
        "        B, T, C = inputs.shape\n",
        "        inputs = inputs.transpose(0, 1)  # (T, B, C)\n",
        "        for i in range(T):\n",
        "            state = self.lstm(inputs[i], state)\n",
        "            re.append(state[0])  # state[0]: (B, H)\n",
        "        result_tensor = torch.stack(re, dim=0)  # (T, B, H)\n",
        "        return result_tensor.transpose(0, 1)    # (B, T, H)"
      ]
    },
    {
      "cell_type": "code",
      "execution_count": 3,
      "metadata": {
        "colab": {
          "base_uri": "https://localhost:8080/"
        },
        "id": "aGr01cqBto8W",
        "outputId": "70aca77b-9b30-455f-ed1d-0b50e7868279"
      },
      "outputs": [
        {
          "output_type": "execute_result",
          "data": {
            "text/plain": [
              "(tensor(True), (51, 78, 90, 94))"
            ]
          },
          "metadata": {},
          "execution_count": 3
        }
      ],
      "source": [
        "def test_lstm():\n",
        "    B, T, input_size, hidden_size = torch.randint(1, 100, (4,)).tolist()\n",
        "    model = LSTM(input_size, hidden_size)\n",
        "    ref_model = nn.LSTM(input_size, hidden_size, batch_first=True)\n",
        "    # 取出模型参数\n",
        "    p = list(ref_model.parameters())\n",
        "    i, f, c, o = torch.cat((p[0], p[1]), dim=1).chunk(4, 0)\n",
        "    ib, fb, cb, ob = (p[2] + p[3]).chunk(4, 0)\n",
        "    # 设置模型参数\n",
        "    model.lstm.in_gate.weight = nn.Parameter(i)\n",
        "    model.lstm.in_gate.bias = nn.Parameter(ib)\n",
        "    model.lstm.forget_gate.weight = nn.Parameter(f)\n",
        "    model.lstm.forget_gate.bias = nn.Parameter(fb)\n",
        "    model.lstm.new_cell_state.weight = nn.Parameter(c)\n",
        "    model.lstm.new_cell_state.bias = nn.Parameter(cb)\n",
        "    model.lstm.out_gate.weight = nn.Parameter(o)\n",
        "    model.lstm.out_gate.bias = nn.Parameter(ob)\n",
        "    # 随机生成输入\n",
        "    inputs = torch.randn(B, T, input_size)\n",
        "    state = torch.randn((2, B, hidden_size)).chunk(2, 0)\n",
        "    _state = tuple((i.squeeze(0) for i in state))\n",
        "    # 验证计算结果\n",
        "    re = model(inputs, _state)\n",
        "    ref_re, _ = ref_model(inputs, state)\n",
        "    out = torch.all(re - ref_re < 1e-4)\n",
        "    return out, (B, T, input_size, hidden_size)\n",
        "\n",
        "test_lstm()"
      ]
    },
    {
      "cell_type": "code",
      "execution_count": 4,
      "metadata": {
        "id": "FDmaQtfbto8Z"
      },
      "outputs": [],
      "source": [
        "learning_rate = 1e-3\n",
        "eval_iters = 10\n",
        "batch_size=1000\n",
        "sequence_len=64\n",
        "device = 'cuda' if torch.cuda.is_available() else 'cpu'"
      ]
    },
    {
      "cell_type": "code",
      "execution_count": 5,
      "metadata": {
        "colab": {
          "base_uri": "https://localhost:8080/"
        },
        "id": "iKwo5iGnto8Z",
        "outputId": "19058736-e466-4b89-c616-7100954ee6b4"
      },
      "outputs": [
        {
          "output_type": "execute_result",
          "data": {
            "text/plain": [
              "98"
            ]
          },
          "metadata": {},
          "execution_count": 5
        }
      ],
      "source": [
        "raw_datasets = load_dataset(\"code_search_net\", \"python\")\n",
        "datasets = raw_datasets['train'].filter(lambda x: 'apache/spark' in x['repository_name'])\n",
        "\n",
        "class char_tokenizer:\n",
        "\n",
        "    def __init__(self, data):\n",
        "        # 数据中出现的所有字符构成字典\n",
        "        chars = sorted(list(set(''.join(data))))\n",
        "        # 预留一个位置给结尾的特殊字符\n",
        "        self.char2ind = {s : i + 1 for i, s in enumerate(chars)}\n",
        "        self.char2ind['<|e|>'] = 0\n",
        "        self.ind2char = {i : s for s, i in self.char2ind.items()}\n",
        "\n",
        "    def encode(self, text):\n",
        "        return [self.char2ind[c] for c in text]\n",
        "\n",
        "    def decode(self, enc):\n",
        "        if isinstance(enc, int):\n",
        "            return self.ind2char[enc]\n",
        "        return [self.ind2char[i] for i in enc]\n",
        "\n",
        "tok = char_tokenizer(datasets['whole_func_string'])\n",
        "len(tok.char2ind)"
      ]
    },
    {
      "cell_type": "code",
      "execution_count": 6,
      "metadata": {
        "id": "GS3Cfz2wto8a"
      },
      "outputs": [],
      "source": [
        "class CharLSTM(nn.Module):\n",
        "\n",
        "    def __init__(self, vs):\n",
        "        super().__init__()\n",
        "        self.emb_size = 256\n",
        "        self.hidden_size = 300\n",
        "        self.embedding = nn.Embedding(vs, self.emb_size)\n",
        "        self.dp = nn.Dropout(0.4)\n",
        "        self.lstm1 = LSTM(self.emb_size, self.hidden_size)\n",
        "        self.norm1 = nn.LayerNorm(self.hidden_size)\n",
        "        self.lstm2 = LSTM(self.emb_size, self.hidden_size)\n",
        "        self.norm2 = nn.LayerNorm(self.hidden_size)\n",
        "        self.lstm3 = LSTM(self.emb_size, self.hidden_size)\n",
        "        self.norm3 = nn.LayerNorm(self.hidden_size)\n",
        "        self.h2o = nn.Linear(self.hidden_size, vs)\n",
        "\n",
        "    def forward(self, x):\n",
        "        # x: (B, T)\n",
        "        emb = self.embedding(x)                   # (B, T,  C)\n",
        "        h = self.norm1(self.dp(self.lstm1(emb)))  # (B, T,  H)\n",
        "        h = self.norm2(self.dp(self.lstm2(emb)))  # (B, T,  H)\n",
        "        h = self.norm3(self.dp(self.lstm3(emb)))  # (B, T,  H)\n",
        "        output = self.h2o(h)                      # (B, T, vs)\n",
        "        return output\n",
        "\n",
        "model = CharLSTM(len(tok.char2ind)).to(device)"
      ]
    },
    {
      "cell_type": "code",
      "execution_count": 7,
      "metadata": {
        "colab": {
          "base_uri": "https://localhost:8080/"
        },
        "id": "zc5jC4dxto8a",
        "outputId": "f323e265-ac36-42a0-e7f8-281e16b1044e"
      },
      "outputs": [
        {
          "output_type": "execute_result",
          "data": {
            "text/plain": [
              "CharLSTM(\n",
              "  (embedding): Embedding(98, 256)\n",
              "  (dp): Dropout(p=0.4, inplace=False)\n",
              "  (lstm1): LSTM(\n",
              "    (lstm): LSTMCell(\n",
              "      (in_gate): Linear(in_features=556, out_features=300, bias=True)\n",
              "      (forget_gate): Linear(in_features=556, out_features=300, bias=True)\n",
              "      (new_cell_state): Linear(in_features=556, out_features=300, bias=True)\n",
              "      (out_gate): Linear(in_features=556, out_features=300, bias=True)\n",
              "    )\n",
              "  )\n",
              "  (norm1): LayerNorm((300,), eps=1e-05, elementwise_affine=True)\n",
              "  (lstm2): LSTM(\n",
              "    (lstm): LSTMCell(\n",
              "      (in_gate): Linear(in_features=556, out_features=300, bias=True)\n",
              "      (forget_gate): Linear(in_features=556, out_features=300, bias=True)\n",
              "      (new_cell_state): Linear(in_features=556, out_features=300, bias=True)\n",
              "      (out_gate): Linear(in_features=556, out_features=300, bias=True)\n",
              "    )\n",
              "  )\n",
              "  (norm2): LayerNorm((300,), eps=1e-05, elementwise_affine=True)\n",
              "  (lstm3): LSTM(\n",
              "    (lstm): LSTMCell(\n",
              "      (in_gate): Linear(in_features=556, out_features=300, bias=True)\n",
              "      (forget_gate): Linear(in_features=556, out_features=300, bias=True)\n",
              "      (new_cell_state): Linear(in_features=556, out_features=300, bias=True)\n",
              "      (out_gate): Linear(in_features=556, out_features=300, bias=True)\n",
              "    )\n",
              "  )\n",
              "  (norm3): LayerNorm((300,), eps=1e-05, elementwise_affine=True)\n",
              "  (h2o): Linear(in_features=300, out_features=98, bias=True)\n",
              ")"
            ]
          },
          "metadata": {},
          "execution_count": 7
        }
      ],
      "source": [
        "model"
      ]
    },
    {
      "cell_type": "code",
      "execution_count": 8,
      "metadata": {
        "id": "SfRdGvxoto8a"
      },
      "outputs": [],
      "source": [
        "@torch.no_grad()\n",
        "def generate_batch(model, idx, max_new_tokens=300):\n",
        "    # 将模型切换至评估模式\n",
        "    model.eval()\n",
        "    for _ in range(max_new_tokens):\n",
        "        # 限制背景长度，使之与模型训练时的状况更相符\n",
        "        # 当然也可以不限制\n",
        "        context = idx[:, -sequence_len:]\n",
        "        logits = model(context)\n",
        "        logits = logits[:, -1, :]\n",
        "        probs = F.softmax(logits, dim=-1)\n",
        "        ix = torch.multinomial(probs, num_samples=1)\n",
        "        idx = torch.cat((idx, ix), dim=1)\n",
        "        if ix.item() == 0:\n",
        "            break\n",
        "    # 将模型切换至训练模式\n",
        "    model.train()\n",
        "    return idx.tolist()[0]"
      ]
    },
    {
      "cell_type": "code",
      "execution_count": 9,
      "metadata": {
        "colab": {
          "base_uri": "https://localhost:8080/"
        },
        "id": "DfHreqdJto8a",
        "outputId": "0e4787ee-fc5d-49ad-ed81-27e250d8d136"
      },
      "outputs": [
        {
          "output_type": "stream",
          "name": "stdout",
          "text": [
            "def*Zc(F/of(\"YP6BqE ?|uw=3<1'Lv?P9NNsAKQ=CKfAM:iKRaO|+Q3m<sAjZWö$h0tx!qqT3zyZi54a)'W~5\\Wm5B?(~Y\n",
            "cdtMFSDex1zk<|e|>\n"
          ]
        }
      ],
      "source": [
        "begin_text = torch.tensor(tok.encode('def'), device=device).unsqueeze(0)\n",
        "print(''.join(tok.decode(generate_batch(model, begin_text))))"
      ]
    },
    {
      "cell_type": "code",
      "execution_count": 10,
      "metadata": {
        "colab": {
          "base_uri": "https://localhost:8080/"
        },
        "id": "ngIplGT3to8b",
        "outputId": "384ee945-9c98-43b4-8db3-cf15f01507cb"
      },
      "outputs": [
        {
          "output_type": "execute_result",
          "data": {
            "text/plain": [
              "(torch.Size([605913, 64]), torch.Size([605913, 64]))"
            ]
          },
          "metadata": {},
          "execution_count": 10
        }
      ],
      "source": [
        "def process(data, sequence_len=sequence_len):\n",
        "    text = data['whole_func_string']\n",
        "    inputs, labels = [], []\n",
        "    for i in text:\n",
        "        enc = tok.encode(i)\n",
        "        enc += [0]\n",
        "        for i in range(len(enc) - sequence_len):\n",
        "            inputs.append(enc[i: i + sequence_len])\n",
        "            labels.append(enc[i + 1: i + 1 + sequence_len])\n",
        "    return {'inputs': inputs, 'labels': labels}\n",
        "\n",
        "tokenized = datasets.train_test_split(test_size=0.1, seed=1024, shuffle=True)\n",
        "tokenized = tokenized.map(process, batched=True, remove_columns=datasets.column_names)\n",
        "tokenized.set_format(type='torch', device=device)\n",
        "\n",
        "tokenized['train']['inputs'].shape, tokenized['train']['labels'].shape"
      ]
    },
    {
      "cell_type": "code",
      "execution_count": 11,
      "metadata": {
        "colab": {
          "base_uri": "https://localhost:8080/"
        },
        "id": "cFPy9_AWto8b",
        "outputId": "538460c5-ad62-4e33-c73d-035c7f9e9df4"
      },
      "outputs": [
        {
          "output_type": "execute_result",
          "data": {
            "text/plain": [
              "{'inputs': tensor([[86, 67, 40,  ..., 16, 85, 83],\n",
              "         [67, 86,  2,  ...,  9, 84, 71],\n",
              "         [38, 10, 85,  ...,  2,  2,  4],\n",
              "         ...,\n",
              "         [69, 74, 71,  ..., 85, 83, 78],\n",
              "         [ 2,  2,  2,  ..., 85, 87, 68],\n",
              "         [ 2,  2,  2,  ..., 85,  2, 86]], device='cuda:0'),\n",
              " 'labels': tensor([[67, 40, 84,  ..., 85, 83, 78],\n",
              "         [86,  2, 86,  ..., 84, 71,  2],\n",
              "         [10, 85, 69,  ...,  2,  4,  4],\n",
              "         ...,\n",
              "         [74, 71, 16,  ..., 83, 78,  1],\n",
              "         [ 2,  2,  2,  ..., 87, 68, 79],\n",
              "         [ 2,  2,  2,  ...,  2, 86, 74]], device='cuda:0')}"
            ]
          },
          "metadata": {},
          "execution_count": 11
        }
      ],
      "source": [
        "# 构建数据读取器\n",
        "train_loader = DataLoader(tokenized['train'], batch_size=batch_size, shuffle=True)\n",
        "test_loader = DataLoader(tokenized['test'], batch_size=batch_size, shuffle=True)\n",
        "# 获取一个批量的数据\n",
        "next(iter(test_loader))"
      ]
    },
    {
      "cell_type": "code",
      "execution_count": 12,
      "metadata": {
        "id": "oXR279ncto8b",
        "colab": {
          "base_uri": "https://localhost:8080/"
        },
        "outputId": "e907815c-fa8d-4f52-d0aa-fcf87a57aeac"
      },
      "outputs": [
        {
          "output_type": "execute_result",
          "data": {
            "text/plain": [
              "{'train': 4.974900245666504, 'test': 4.959347724914551}"
            ]
          },
          "metadata": {},
          "execution_count": 12
        }
      ],
      "source": [
        "def estimate_loss(model):\n",
        "    re = {}\n",
        "    # 将模型切换至评估模式\n",
        "    model.eval()\n",
        "    _train = lambda: next(iter(train_loader))\n",
        "    re['train'] = _loss(model, _train)\n",
        "    _test = lambda: next(iter(test_loader))\n",
        "    re['test'] = _loss(model, _test)\n",
        "    # 将模型切换至训练模式\n",
        "    model.train()\n",
        "    return re\n",
        "\n",
        "@torch.no_grad()\n",
        "def _loss(model, data_loader):\n",
        "    \"\"\"\n",
        "    计算模型在不同数据集下面的评估指标\n",
        "    \"\"\"\n",
        "    loss = []\n",
        "    for k in range(eval_iters):\n",
        "        data = data_loader()\n",
        "        inputs, labels = data['inputs'], data['labels']\n",
        "        logits = model(inputs)\n",
        "        logits = logits.transpose(-2, -1)\n",
        "        loss.append(F.cross_entropy(logits, labels).item())\n",
        "    return torch.tensor(loss).mean().item()\n",
        "\n",
        "estimate_loss(model)"
      ]
    },
    {
      "cell_type": "code",
      "execution_count": 13,
      "metadata": {
        "id": "5PpRhC4Oto8c"
      },
      "outputs": [],
      "source": [
        "def train_lstm(model, optimizer, data_loader, epochs=10):\n",
        "    lossi = []\n",
        "    for epoch in range(epochs):\n",
        "        for i, data in enumerate(data_loader, 0):\n",
        "            inputs, labels = data['inputs'], data['labels']\n",
        "            optimizer.zero_grad()\n",
        "            logits = model(inputs)\n",
        "            logits = logits.transpose(-2, -1)\n",
        "            loss = F.cross_entropy(logits, labels)\n",
        "            lossi.append(loss.item())\n",
        "            loss.backward()\n",
        "            optimizer.step()\n",
        "        # 评估模型，并输出结果\n",
        "        stats = estimate_loss(model)\n",
        "        train_loss = f'train loss {stats[\"train\"]:.4f}'\n",
        "        test_loss = f'test loss {stats[\"test\"]:.4f}'\n",
        "        print(f'epoch {epoch:>2}: {train_loss}, {test_loss}')\n",
        "    return lossi"
      ]
    },
    {
      "cell_type": "code",
      "execution_count": 14,
      "metadata": {
        "colab": {
          "base_uri": "https://localhost:8080/"
        },
        "id": "WUVdQEcAto8c",
        "outputId": "4a2f13cd-f8ab-44e7-d38e-6eaa7c4a0d7d"
      },
      "outputs": [
        {
          "output_type": "stream",
          "name": "stdout",
          "text": [
            "epoch  0: train loss 0.9637, test loss 1.2093\n",
            "epoch  1: train loss 0.7741, test loss 1.1325\n",
            "epoch  2: train loss 0.6701, test loss 1.1329\n",
            "epoch  3: train loss 0.6160, test loss 1.1686\n",
            "epoch  4: train loss 0.5715, test loss 1.1655\n",
            "epoch  5: train loss 0.5478, test loss 1.1914\n",
            "epoch  6: train loss 0.5349, test loss 1.2044\n",
            "epoch  7: train loss 0.5184, test loss 1.1965\n",
            "epoch  8: train loss 0.5082, test loss 1.2128\n",
            "epoch  9: train loss 0.5017, test loss 1.2177\n"
          ]
        }
      ],
      "source": [
        "l = train_lstm(model, optim.Adam(model.parameters(), lr=learning_rate), train_loader)"
      ]
    },
    {
      "cell_type": "code",
      "execution_count": 15,
      "metadata": {
        "colab": {
          "base_uri": "https://localhost:8080/",
          "height": 448
        },
        "id": "SQ7oEi-Pto8c",
        "outputId": "93d315b3-fed2-4d7c-a857-2436ac4f6998"
      },
      "outputs": [
        {
          "output_type": "execute_result",
          "data": {
            "text/plain": [
              "[<matplotlib.lines.Line2D at 0x79e6684f4940>]"
            ]
          },
          "metadata": {},
          "execution_count": 15
        },
        {
          "output_type": "display_data",
          "data": {
            "text/plain": [
              "<Figure size 640x480 with 1 Axes>"
            ],
            "image/png": "[encoded data removed]"
          },
          "metadata": {}
        }
      ],
      "source": [
        "plt.plot(torch.tensor(l).view(-1, 10).mean(1).numpy())"
      ]
    },
    {
      "cell_type": "code",
      "execution_count": 16,
      "metadata": {
        "colab": {
          "base_uri": "https://localhost:8080/"
        },
        "id": "353K8yRito8c",
        "outputId": "cb691bf7-d08e-4166-cfad-e89bb5d65a51"
      },
      "outputs": [
        {
          "output_type": "stream",
          "name": "stdout",
          "text": [
            "def batchSize()\n",
            "        while key using the given computed in the SQL context import SparkContext.\n",
            "        \"\"\"\n",
            "        if isinstance(value, dict):\n",
            "            raise ValueError(\"Invalid functionType: \"syntypes\" it self._paramMap[param] = spark.createDataFrame([('2015-04-08',)], ['dt'])\n",
            "    >>> df.select\n"
          ]
        }
      ],
      "source": [
        "begin_text = torch.tensor(tok.encode('def'), device=device).unsqueeze(0)\n",
        "print(''.join(tok.decode(generate_batch(model, begin_text))))"
      ]
    },
    {
      "cell_type": "code",
      "execution_count": 17,
      "metadata": {
        "id": "ojDIISnWto8c"
      },
      "outputs": [],
      "source": [
        "# 将层归一化放到在LSTM神经元里面\n",
        "class LSTMLayerNormCell(nn.Module):\n",
        "\n",
        "    def __init__(self, input_size, hidden_size):\n",
        "        super().__init__()\n",
        "        self.input_size = input_size\n",
        "        self.hidden_size = hidden_size\n",
        "        combined_size = self.input_size + self.hidden_size\n",
        "        self.gates = nn.Linear(\n",
        "            combined_size, 4 * self.hidden_size, bias=False)\n",
        "        self.ln_gates = nn.LayerNorm(4 * self.hidden_size)\n",
        "        self.ln_c = nn.LayerNorm(self.hidden_size)\n",
        "\n",
        "    def forward(self, inputs, state=None):\n",
        "        B, _ = inputs.shape  # (B, I)\n",
        "        # state: ((B, H), (B, H))\n",
        "        if state is None:\n",
        "            state = self.init_state(B, inputs.device)\n",
        "        hs, cs = state\n",
        "        combined = torch.cat((inputs, hs), dim=1)  # (B, I + H)\n",
        "        i, f, c, o = self.ln_gates(self.gates(combined)).chunk(4, 1)\n",
        "        ingate = F.sigmoid(i)      # (B, H)\n",
        "        forgetgate = F.sigmoid(f)  # (B, H)\n",
        "        outgate = F.sigmoid(o)     # (B, H)\n",
        "        # 更新细胞状态\n",
        "        ncs = F.tanh(c)            # (B, H)\n",
        "        cs = self.ln_c((forgetgate * cs) + (ingate * ncs))  # (B, H)\n",
        "        # 更新隐藏状态\n",
        "        hs = outgate * F.tanh(cs)                           # (B, H)\n",
        "        return hs, cs\n",
        "\n",
        "    def init_state(self, B, device):\n",
        "        cs = torch.zeros((B, self.hidden_size), device=device)\n",
        "        hs = torch.zeros((B, self.hidden_size), device=device)\n",
        "        return hs, cs\n",
        "\n",
        "class LSTMLayerNorm(nn.Module):\n",
        "\n",
        "    def __init__(self, input_size, hidden_size):\n",
        "        super().__init__()\n",
        "        self.input_size = input_size\n",
        "        self.hidden_size = hidden_size\n",
        "        self.lstm = LSTMLayerNormCell(self.input_size, self.hidden_size)\n",
        "\n",
        "    def forward(self, inputs, state=None):\n",
        "        re = []\n",
        "        # B batch_size,\n",
        "        # T sequence length,\n",
        "        # C number of channels.\n",
        "        B, T, C = inputs.shape\n",
        "        inputs = inputs.transpose(0, 1)  # (T, B, C)\n",
        "        for i in range(T):\n",
        "            state = self.lstm(inputs[i], state)\n",
        "            re.append(state[0])  # state[0]: (B, H)\n",
        "        result_tensor = torch.stack(re, dim=0)  # (T, B, H)\n",
        "        return result_tensor.transpose(0, 1)    # (B, T, H)"
      ]
    },
    {
      "cell_type": "code",
      "execution_count": 18,
      "metadata": {
        "id": "wJ2ypYx6to8d"
      },
      "outputs": [],
      "source": [
        "class CharLSTMLayerNorm(nn.Module):\n",
        "\n",
        "    def __init__(self, vs):\n",
        "        super().__init__()\n",
        "        self.emb_size = 256\n",
        "        self.hidden_size = 300\n",
        "        self.embedding = nn.Embedding(vs, self.emb_size)\n",
        "        self.dp = nn.Dropout(0.4)\n",
        "        self.lstm1 = LSTMLayerNorm(self.emb_size, self.hidden_size)\n",
        "        self.lstm2 = LSTMLayerNorm(self.emb_size, self.hidden_size)\n",
        "        self.lstm3 = LSTMLayerNorm(self.emb_size, self.hidden_size)\n",
        "        self.h2o = nn.Linear(self.hidden_size, vs)\n",
        "\n",
        "    def forward(self, x):\n",
        "        # x: (B, T)\n",
        "        emb = self.embedding(x)       # (B, T,  C)\n",
        "        h = self.dp(self.lstm1(emb))  # (B, T,  H)\n",
        "        h = self.dp(self.lstm2(emb))  # (B, T,  H)\n",
        "        h = self.dp(self.lstm3(emb))  # (B, T,  H)\n",
        "        output = self.h2o(h)          # (B, T, vs)\n",
        "        return output\n",
        "\n",
        "model_norm = CharLSTMLayerNorm(len(tok.char2ind)).to(device)"
      ]
    },
    {
      "cell_type": "code",
      "execution_count": 19,
      "metadata": {
        "colab": {
          "base_uri": "https://localhost:8080/"
        },
        "id": "khqYG4hYto8d",
        "outputId": "a032f96a-4865-473a-ac55-62416f294811"
      },
      "outputs": [
        {
          "output_type": "stream",
          "name": "stdout",
          "text": [
            "epoch  0: train loss 0.8770, test loss 1.1350\n",
            "epoch  1: train loss 0.7232, test loss 1.0757\n",
            "epoch  2: train loss 0.6553, test loss 1.0779\n",
            "epoch  3: train loss 0.6144, test loss 1.0649\n",
            "epoch  4: train loss 0.5811, test loss 1.0790\n",
            "epoch  5: train loss 0.5615, test loss 1.0736\n",
            "epoch  6: train loss 0.5456, test loss 1.0704\n",
            "epoch  7: train loss 0.5356, test loss 1.0684\n",
            "epoch  8: train loss 0.5294, test loss 1.0880\n",
            "epoch  9: train loss 0.5140, test loss 1.0843\n"
          ]
        }
      ],
      "source": [
        "l_norm = train_lstm(model_norm, optim.Adam(model_norm.parameters(), lr=learning_rate),\n",
        "                    train_loader)"
      ]
    },
    {
      "cell_type": "code",
      "execution_count": 20,
      "metadata": {
        "colab": {
          "base_uri": "https://localhost:8080/",
          "height": 448
        },
        "id": "GngdCJHkto8d",
        "outputId": "f440bdca-4dd6-48c8-f6ab-5aae9c697c52"
      },
      "outputs": [
        {
          "output_type": "execute_result",
          "data": {
            "text/plain": [
              "[<matplotlib.lines.Line2D at 0x79e66826a4a0>]"
            ]
          },
          "metadata": {},
          "execution_count": 20
        },
        {
          "output_type": "display_data",
          "data": {
            "text/plain": [
              "<Figure size 640x480 with 1 Axes>"
            ],
            "image/png": "[encoded data removed]"
          },
          "metadata": {}
        }
      ],
      "source": [
        "plt.plot(torch.tensor(l_norm).view(-1, 10).mean(1).numpy())"
      ]
    },
    {
      "cell_type": "code",
      "execution_count": 22,
      "metadata": {
        "colab": {
          "base_uri": "https://localhost:8080/"
        },
        "id": "w87iEsiato8d",
        "outputId": "e27b01f0-9b26-4fe9-99a0-27f339664167"
      },
      "outputs": [
        {
          "output_type": "stream",
          "name": "stdout",
          "text": [
            "def_text, wifile[Type: Streaming with large instance is resplict to False or strings.\n",
            "    :param schema: a string exiscting ats reparting and\n",
            "             Duration\" :param schema: artine string in Java boundary operations\n",
            "        ar storage level.\n",
            "\n",
            "        >>> rdd = sc.parallelize([1, 2, 3])\n",
            "        >>\n"
          ]
        }
      ],
      "source": [
        "begin_text = torch.tensor(tok.encode('def'), device=device).unsqueeze(0)\n",
        "print(''.join(tok.decode(generate_batch(model_norm, begin_text))))"
      ]
    }
  ],
  "metadata": {
    "accelerator": "GPU",
    "colab": {
      "gpuType": "V100",
      "provenance": []
    },
    "kernelspec": {
      "display_name": "Python 3",
      "language": "python",
      "name": "python3"
    },
    "language_info": {
      "codemirror_mode": {
        "name": "ipython",
        "version": 3
      },
      "file_extension": ".py",
      "mimetype": "text/x-python",
      "name": "python",
      "nbconvert_exporter": "python",
      "pygments_lexer": "ipython3",
      "version": "3.8.5"
    }
  },
  "nbformat": 4,
  "nbformat_minor": 0
}