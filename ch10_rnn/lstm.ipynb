{
 "cells": [
  {
   "cell_type": "code",
   "execution_count": 1,
   "metadata": {
    "colab": {
     "base_uri": "https://localhost:8080/"
    },
    "id": "ATlvvGTUto8T",
    "outputId": "d7c61957-e354-4794-9dea-8dfa01656aed"
   },
   "outputs": [
    {
     "data": {
      "text/plain": [
       "<torch._C.Generator at 0x7bf8d65c3b70>"
      ]
     },
     "execution_count": 1,
     "metadata": {},
     "output_type": "execute_result"
    }
   ],
   "source": [
    "import torch\n",
    "import torch.nn as nn\n",
    "import torch.nn.functional as F\n",
    "import torch.optim as optim\n",
    "from datasets import load_dataset\n",
    "import matplotlib.pyplot as plt\n",
    "%matplotlib inline\n",
    "\n",
    "\n",
    "torch.manual_seed(12046)"
   ]
  },
  {
   "cell_type": "code",
   "execution_count": 2,
   "metadata": {
    "id": "UV7wHrEFto8V"
   },
   "outputs": [],
   "source": [
    "class LSTMCell(nn.Module):\n",
    "\n",
    "    def __init__(self, input_size, hidden_size):\n",
    "        super().__init__()\n",
    "        self.input_size = input_size\n",
    "        self.hidden_size = hidden_size\n",
    "        combined_size = self.input_size + self.hidden_size\n",
    "        self.in_gate = nn.Linear(combined_size, self.hidden_size)\n",
    "        self.forget_gate = nn.Linear(combined_size, self.hidden_size)\n",
    "        self.new_cell_state = nn.Linear(combined_size, self.hidden_size)\n",
    "        self.out_gate = nn.Linear(combined_size, self.hidden_size)\n",
    "\n",
    "    def forward(self, inputs, state=None):\n",
    "        B, _ = inputs.shape                                 # (B,     I)\n",
    "        # state: ((B, H), (B, H))\n",
    "        if state is None:\n",
    "            state = self.init_state(B, inputs.device)\n",
    "        hs, cs = state\n",
    "        combined = torch.cat((inputs, hs), dim=1)           # (B, I + H)\n",
    "        ingate = F.sigmoid(self.in_gate(combined))          # (B,     H)\n",
    "        forgetgate = F.sigmoid(self.forget_gate(combined))  # (B,     H)\n",
    "        outgate = F.sigmoid(self.out_gate(combined))        # (B,     H)\n",
    "        # 更新细胞状态\n",
    "        ncs = F.tanh(self.new_cell_state(combined))         # (B,     H)\n",
    "        cs = (forgetgate * cs) + (ingate * ncs)             # (B,     H)\n",
    "        # 更新隐藏状态\n",
    "        hs = outgate * F.tanh(cs)                           # (B,     H)\n",
    "        return hs, cs\n",
    "\n",
    "    def init_state(self, B, device):\n",
    "        cs = torch.zeros((B, self.hidden_size), device=device)\n",
    "        hs = torch.zeros((B, self.hidden_size), device=device)\n",
    "        return hs, cs\n",
    "\n",
    "class LSTM(nn.Module):\n",
    "\n",
    "    def __init__(self, input_size, hidden_size):\n",
    "        super().__init__()\n",
    "        self.input_size = input_size\n",
    "        self.hidden_size = hidden_size\n",
    "        self.lstm = LSTMCell(self.input_size, self.hidden_size)\n",
    "\n",
    "    def forward(self, inputs, state=None):\n",
    "        re = []\n",
    "        # B batch_size,\n",
    "        # T sequence length,\n",
    "        # C number of channels.\n",
    "        B, T, C = inputs.shape\n",
    "        inputs = inputs.transpose(0, 1)  # (T, B, C)\n",
    "        for i in range(T):\n",
    "            state = self.lstm(inputs[i], state)\n",
    "            re.append(state[0])  # state[0]: (B, H)\n",
    "        result_tensor = torch.stack(re, dim=0)  # (T, B, H)\n",
    "        return result_tensor.transpose(0, 1)    # (B, T, H)"
   ]
  },
  {
   "cell_type": "code",
   "execution_count": 3,
   "metadata": {
    "colab": {
     "base_uri": "https://localhost:8080/"
    },
    "id": "aGr01cqBto8W",
    "outputId": "e5b3dbf0-d30c-485d-f32b-12e9ae3ddcfc"
   },
   "outputs": [
    {
     "data": {
      "text/plain": [
       "(tensor(True), (tensor(51), tensor(78), tensor(90), tensor(94)))"
      ]
     },
     "execution_count": 3,
     "metadata": {},
     "output_type": "execute_result"
    }
   ],
   "source": [
    "def test_lstm():\n",
    "    B, T, input_size, hidden_size = torch.randint(1, 100, (4,))\n",
    "    model = LSTM(input_size, hidden_size)\n",
    "    ref_model = nn.LSTM(input_size, hidden_size, batch_first=True)\n",
    "    # 取出模型参数\n",
    "    p = list(ref_model.parameters())\n",
    "    i, f, c, o = torch.cat((p[0], p[1]), dim=1).chunk(4, 0)\n",
    "    ib, fb, cb, ob = (p[2] + p[3]).chunk(4, 0)\n",
    "    # 设置模型参数\n",
    "    model.lstm.in_gate.weight = nn.Parameter(i)\n",
    "    model.lstm.in_gate.bias = nn.Parameter(ib)\n",
    "    model.lstm.forget_gate.weight = nn.Parameter(f)\n",
    "    model.lstm.forget_gate.bias = nn.Parameter(fb)\n",
    "    model.lstm.new_cell_state.weight = nn.Parameter(c)\n",
    "    model.lstm.new_cell_state.bias = nn.Parameter(cb)\n",
    "    model.lstm.out_gate.weight = nn.Parameter(o)\n",
    "    model.lstm.out_gate.bias = nn.Parameter(ob)\n",
    "    # 随机生成输入\n",
    "    inputs = torch.randn(B, T, input_size)\n",
    "    state = torch.randn((2, B, hidden_size)).chunk(2, 0)\n",
    "    _state = tuple((i.squeeze(0) for i in state))\n",
    "    # 验证计算结果\n",
    "    re = model(inputs, _state)\n",
    "    ref_re, _ = ref_model(inputs, state)\n",
    "    out = torch.all(re - ref_re < 1e-4)\n",
    "    return out, (B, T, input_size, hidden_size)\n",
    "\n",
    "test_lstm()"
   ]
  },
  {
   "cell_type": "code",
   "execution_count": 4,
   "metadata": {
    "id": "FDmaQtfbto8Z"
   },
   "outputs": [],
   "source": [
    "learning_rate = 1e-3\n",
    "eval_iters = 10\n",
    "batch_size=5000\n",
    "sequence_len=64\n",
    "device = 'cuda' if torch.cuda.is_available() else 'cpu'"
   ]
  },
  {
   "cell_type": "code",
   "execution_count": 5,
   "metadata": {
    "colab": {
     "base_uri": "https://localhost:8080/"
    },
    "id": "iKwo5iGnto8Z",
    "outputId": "08e491c3-60ad-4b43-b104-bf34b0ef637e"
   },
   "outputs": [
    {
     "data": {
      "text/plain": [
       "98"
      ]
     },
     "execution_count": 5,
     "metadata": {},
     "output_type": "execute_result"
    }
   ],
   "source": [
    "raw_datasets = load_dataset(\"code_search_net\", \"python\")\n",
    "datasets = raw_datasets['train'].filter(lambda x: 'apache/spark' in x['repository_name'])\n",
    "\n",
    "class char_tokenizer:\n",
    "\n",
    "    def __init__(self, data):\n",
    "        # 数据中出现的所有字符构成字典\n",
    "        chars = sorted(list(set(''.join(data))))\n",
    "        # 预留一个位置给结尾的特殊字符\n",
    "        self.char2ind = {s : i + 1 for i, s in enumerate(chars)}\n",
    "        self.char2ind['<|e|>'] = 0\n",
    "        self.ind2char = {i : s for s, i in self.char2ind.items()}\n",
    "\n",
    "    def encode(self, text):\n",
    "        return [self.char2ind[c] for c in text]\n",
    "\n",
    "    def decode(self, enc):\n",
    "        if isinstance(enc, int):\n",
    "            return self.ind2char[enc]\n",
    "        return [self.ind2char[i] for i in enc]\n",
    "\n",
    "tok = char_tokenizer(datasets['whole_func_string'])\n",
    "len(tok.char2ind)"
   ]
  },
  {
   "cell_type": "code",
   "execution_count": 6,
   "metadata": {
    "id": "GS3Cfz2wto8a"
   },
   "outputs": [],
   "source": [
    "class CharLSTM(nn.Module):\n",
    "\n",
    "    def __init__(self, vs):\n",
    "        super().__init__()\n",
    "        self.emb_size = 256\n",
    "        self.hidden_size = 300\n",
    "        self.embedding = nn.Embedding(vs, self.emb_size)\n",
    "        self.dp = nn.Dropout(0.4)\n",
    "        self.lstm1 = LSTM(self.emb_size, self.hidden_size)\n",
    "        self.norm1 = nn.LayerNorm(self.hidden_size)\n",
    "        self.lstm2 = LSTM(self.emb_size, self.hidden_size)\n",
    "        self.norm2 = nn.LayerNorm(self.hidden_size)\n",
    "        self.lstm3 = LSTM(self.emb_size, self.hidden_size)\n",
    "        self.norm3 = nn.LayerNorm(self.hidden_size)\n",
    "        self.h2o = nn.Linear(self.hidden_size, vs)\n",
    "\n",
    "    def forward(self, x):\n",
    "        # x: (B, T)\n",
    "        emb = self.embedding(x)                   # (B, T,  C)\n",
    "        h = self.norm1(self.dp(self.lstm1(emb)))  # (B, T,  H)\n",
    "        h = self.norm2(self.dp(self.lstm2(emb)))  # (B, T,  H)\n",
    "        h = self.norm3(self.dp(self.lstm3(emb)))  # (B, T,  H)\n",
    "        output = self.h2o(h)                      # (B, T, vs)\n",
    "        return output\n",
    "\n",
    "model = CharLSTM(len(tok.char2ind)).to(device)"
   ]
  },
  {
   "cell_type": "code",
   "execution_count": 7,
   "metadata": {
    "colab": {
     "base_uri": "https://localhost:8080/"
    },
    "id": "zc5jC4dxto8a",
    "outputId": "a4fcd936-6913-4231-d07d-bbea170a4b06"
   },
   "outputs": [
    {
     "data": {
      "text/plain": [
       "CharLSTM(\n",
       "  (embedding): Embedding(98, 256)\n",
       "  (dp): Dropout(p=0.4, inplace=False)\n",
       "  (lstm1): LSTM(\n",
       "    (lstm): LSTMCell(\n",
       "      (in_gate): Linear(in_features=556, out_features=300, bias=True)\n",
       "      (forget_gate): Linear(in_features=556, out_features=300, bias=True)\n",
       "      (new_cell_state): Linear(in_features=556, out_features=300, bias=True)\n",
       "      (out_gate): Linear(in_features=556, out_features=300, bias=True)\n",
       "    )\n",
       "  )\n",
       "  (norm1): LayerNorm((300,), eps=1e-05, elementwise_affine=True)\n",
       "  (lstm2): LSTM(\n",
       "    (lstm): LSTMCell(\n",
       "      (in_gate): Linear(in_features=556, out_features=300, bias=True)\n",
       "      (forget_gate): Linear(in_features=556, out_features=300, bias=True)\n",
       "      (new_cell_state): Linear(in_features=556, out_features=300, bias=True)\n",
       "      (out_gate): Linear(in_features=556, out_features=300, bias=True)\n",
       "    )\n",
       "  )\n",
       "  (norm2): LayerNorm((300,), eps=1e-05, elementwise_affine=True)\n",
       "  (lstm3): LSTM(\n",
       "    (lstm): LSTMCell(\n",
       "      (in_gate): Linear(in_features=556, out_features=300, bias=True)\n",
       "      (forget_gate): Linear(in_features=556, out_features=300, bias=True)\n",
       "      (new_cell_state): Linear(in_features=556, out_features=300, bias=True)\n",
       "      (out_gate): Linear(in_features=556, out_features=300, bias=True)\n",
       "    )\n",
       "  )\n",
       "  (norm3): LayerNorm((300,), eps=1e-05, elementwise_affine=True)\n",
       "  (h2o): Linear(in_features=300, out_features=98, bias=True)\n",
       ")"
      ]
     },
     "execution_count": 7,
     "metadata": {},
     "output_type": "execute_result"
    }
   ],
   "source": [
    "model"
   ]
  },
  {
   "cell_type": "code",
   "execution_count": 8,
   "metadata": {
    "id": "SfRdGvxoto8a"
   },
   "outputs": [],
   "source": [
    "@torch.no_grad()\n",
    "def generate_batch(model, idx, max_new_tokens=300):\n",
    "    for _ in range(max_new_tokens):\n",
    "        # 限制背景长度，使之与模型训练时的状况更相符\n",
    "        # 当然也可以不限制\n",
    "        context = idx[:, -sequence_len:]\n",
    "        logits = model(context)\n",
    "        logits = logits[:, -1, :]\n",
    "        probs = F.softmax(logits, dim=-1)\n",
    "        ix = torch.multinomial(probs, num_samples=1)\n",
    "        idx = torch.cat((idx, ix), dim=1)\n",
    "        if ix.item() == 0:\n",
    "            break\n",
    "    return idx.tolist()[0]"
   ]
  },
  {
   "cell_type": "code",
   "execution_count": 9,
   "metadata": {
    "colab": {
     "base_uri": "https://localhost:8080/"
    },
    "id": "DfHreqdJto8a",
    "outputId": "f4f784ab-ec34-4dba-e3e8-9ec62365f08a"
   },
   "outputs": [
    {
     "name": "stdout",
     "output_type": "stream",
     "text": [
      "def(f&Eu<$)KK:aQsW8qj5'\\B5vDz@*T_PU_~x#HJc{$n!z~'<RN)VMn>,TFT%mdiö+dG4{O04?oJ95nd&#B+}=U'Lc[/ud)5m:0Q;oa'Od4G |eP *_~+iLJe]gK.a,|D0niIugu\n",
      "Zm@STw=f%bp`CtPOk5-to05\"E^wi<|e|>\n"
     ]
    }
   ],
   "source": [
    "begin_text = torch.tensor(tok.encode('def'), device=device).unsqueeze(0)\n",
    "print(''.join(tok.decode(generate_batch(model, begin_text))))"
   ]
  },
  {
   "cell_type": "code",
   "execution_count": 10,
   "metadata": {
    "colab": {
     "base_uri": "https://localhost:8080/"
    },
    "id": "ngIplGT3to8b",
    "outputId": "98a795bc-8d7a-4027-aa4b-8b6b629f9e87"
   },
   "outputs": [
    {
     "data": {
      "text/plain": [
       "Dataset({\n",
       "    features: ['inputs', 'labels'],\n",
       "    num_rows: 668546\n",
       "})"
      ]
     },
     "execution_count": 10,
     "metadata": {},
     "output_type": "execute_result"
    }
   ],
   "source": [
    "def process(data, sequence_len=sequence_len):\n",
    "    text = data['whole_func_string']\n",
    "    inputs, labels = [], []\n",
    "    for i in text:\n",
    "        enc = tok.encode(i)\n",
    "        enc += [0]\n",
    "        for i in range(len(enc) - sequence_len):\n",
    "            inputs.append(enc[i: i + sequence_len])\n",
    "            labels.append(enc[i + 1: i + 1 + sequence_len])\n",
    "    return {'inputs': inputs, 'labels': labels}\n",
    "\n",
    "tokenized = datasets.map(process, batched=True, remove_columns=datasets.column_names)\n",
    "tokenized.set_format(type='torch', device=device)\n",
    "tokenized"
   ]
  },
  {
   "cell_type": "code",
   "execution_count": 11,
   "metadata": {
    "colab": {
     "base_uri": "https://localhost:8080/"
    },
    "id": "cFPy9_AWto8b",
    "outputId": "156ee507-73b2-4f21-e382-5499ead90f87"
   },
   "outputs": [
    {
     "data": {
      "text/plain": [
       "{'inputs': tensor([[14,  2,  4,  ..., 71, 86, 14],\n",
       "         [28,  1,  2,  ...,  2,  2,  2],\n",
       "         [54, 84, 87,  ...,  2, 54, 84],\n",
       "         ...,\n",
       "         [81, 73, 43,  ...,  2, 53, 82],\n",
       "         [82, 86, 71,  ..., 86, 81,  2],\n",
       "         [84, 67, 79,  ...,  2, 69, 81]], device='cuda:0'),\n",
       " 'labels': tensor([[ 2,  4, 67,  ..., 86, 14,  2],\n",
       "         [ 1,  2,  2,  ...,  2,  2,  2],\n",
       "         [84, 87, 71,  ..., 54, 84, 87],\n",
       "         ...,\n",
       "         [73, 43, 79,  ..., 53, 82, 67],\n",
       "         [86, 71, 70,  ..., 81,  2, 67],\n",
       "         [67, 79,  2,  ..., 69, 81, 84]], device='cuda:0')}"
      ]
     },
     "execution_count": 11,
     "metadata": {},
     "output_type": "execute_result"
    }
   ],
   "source": [
    "from torch.utils.data import DataLoader\n",
    "\n",
    "# 构建数据读取器\n",
    "train_loader = DataLoader(tokenized, batch_size=batch_size, shuffle=True)\n",
    "# 获取一个批量的数据\n",
    "next(iter(train_loader))"
   ]
  },
  {
   "cell_type": "code",
   "execution_count": 12,
   "metadata": {
    "id": "oXR279ncto8b"
   },
   "outputs": [],
   "source": [
    "def estimate_loss(model):\n",
    "    re = {}\n",
    "    # 将模型切换至评估模式\n",
    "    model.eval()\n",
    "    re['train'] = _loss(model, train_loader)\n",
    "    # 将模型切换至训练模式\n",
    "    model.train()\n",
    "    return re\n",
    "\n",
    "@torch.no_grad()\n",
    "def _loss(model, data_loader):\n",
    "    \"\"\"\n",
    "    计算模型在不同数据集下面的评估指标\n",
    "    \"\"\"\n",
    "    loss = []\n",
    "    data_iter = iter(data_loader)\n",
    "    for k in range(eval_iters):\n",
    "        data = next(data_iter, None)\n",
    "        if data is None:\n",
    "            break\n",
    "        inputs, labels = data['inputs'], data['labels']\n",
    "        logits = model(inputs)\n",
    "        logits = logits.transpose(-2, -1)\n",
    "        loss.append(F.cross_entropy(logits, labels))\n",
    "    return torch.tensor(loss).mean().item()"
   ]
  },
  {
   "cell_type": "code",
   "execution_count": 13,
   "metadata": {
    "id": "5PpRhC4Oto8c"
   },
   "outputs": [],
   "source": [
    "def train_lstm(model, optimizer, data_loader, epochs=10):\n",
    "    lossi = []\n",
    "    for epoch in range(epochs):\n",
    "        for i, data in enumerate(data_loader, 0):\n",
    "            inputs, labels = data['inputs'], data['labels']\n",
    "            optimizer.zero_grad()\n",
    "            logits = model(inputs)\n",
    "            logits = logits.transpose(-2, -1)\n",
    "            loss = F.cross_entropy(logits, labels)\n",
    "            lossi.append(loss.item())\n",
    "            loss.backward()\n",
    "            optimizer.step()\n",
    "        # 评估模型，并输出结果\n",
    "        stats = estimate_loss(model)\n",
    "        print(f'epoch {epoch:>2}: train loss {stats[\"train\"]:.4f}')\n",
    "    return lossi"
   ]
  },
  {
   "cell_type": "code",
   "execution_count": 14,
   "metadata": {
    "colab": {
     "base_uri": "https://localhost:8080/"
    },
    "id": "WUVdQEcAto8c",
    "outputId": "55afe1c2-d335-43fc-dd8f-9291b56d1557"
   },
   "outputs": [
    {
     "name": "stdout",
     "output_type": "stream",
     "text": [
      "epoch  0: train loss 1.5573\n",
      "epoch  1: train loss 1.2325\n",
      "epoch  2: train loss 1.0660\n",
      "epoch  3: train loss 0.9677\n",
      "epoch  4: train loss 0.9050\n",
      "epoch  5: train loss 0.8476\n",
      "epoch  6: train loss 0.7968\n",
      "epoch  7: train loss 0.7619\n",
      "epoch  8: train loss 0.7283\n",
      "epoch  9: train loss 0.6972\n"
     ]
    }
   ],
   "source": [
    "l = train_lstm(model, optim.Adam(model.parameters(), lr=learning_rate), train_loader)"
   ]
  },
  {
   "cell_type": "code",
   "execution_count": 15,
   "metadata": {
    "colab": {
     "base_uri": "https://localhost:8080/",
     "height": 448
    },
    "id": "SQ7oEi-Pto8c",
    "outputId": "f23c2798-a1ec-44aa-f19a-8c520077bcea"
   },
   "outputs": [
    {
     "data": {
      "text/plain": [
       "[<matplotlib.lines.Line2D at 0x7bf8061fe440>]"
      ]
     },
     "execution_count": 15,
     "metadata": {},
     "output_type": "execute_result"
    },
    {
     "data": {
      "image/png": "[encoded data removed]",
      "text/plain": [
       "<Figure size 640x480 with 1 Axes>"
      ]
     },
     "metadata": {},
     "output_type": "display_data"
    }
   ],
   "source": [
    "plt.plot(torch.tensor(l).view(-1, 10).mean(1).numpy())"
   ]
  },
  {
   "cell_type": "code",
   "execution_count": 16,
   "metadata": {
    "colab": {
     "base_uri": "https://localhost:8080/"
    },
    "id": "353K8yRito8c",
    "outputId": "ad879cbe-8c00-4be4-a21a-30d69dc9c4b2"
   },
   "outputs": [
    {
     "name": "stdout",
     "output_type": "stream",
     "text": [
      "default value, contributed reterialize\n",
      "\n",
      "    True: Corretters intonegyores misified URING, may an operatorPoranrowise Keynand(doc, oldf = rdd[sered(x, mergeC=hcast(gd):\n",
      "            jc) Bytes nore: this operation. For this by summary avoid func)\n",
      "        batched = self.select(sort_ardas(esc, module)\n",
      "     \n"
     ]
    }
   ],
   "source": [
    "begin_text = torch.tensor(tok.encode('def'), device=device).unsqueeze(0)\n",
    "print(''.join(tok.decode(generate_batch(model, begin_text))))"
   ]
  },
  {
   "cell_type": "code",
   "execution_count": 17,
   "metadata": {
    "id": "ojDIISnWto8c"
   },
   "outputs": [],
   "source": [
    "# 将层归一化放到在LSTM神经元里面\n",
    "class LSTMLayerNormCell(nn.Module):\n",
    "\n",
    "    def __init__(self, input_size, hidden_size):\n",
    "        super().__init__()\n",
    "        self.input_size = input_size\n",
    "        self.hidden_size = hidden_size\n",
    "        combined_size = self.input_size + self.hidden_size\n",
    "        self.gates = nn.Linear(\n",
    "            combined_size, 4 * self.hidden_size, bias=False)\n",
    "        self.ln_gates = nn.LayerNorm(4 * self.hidden_size)\n",
    "        self.ln_c = nn.LayerNorm(self.hidden_size)\n",
    "\n",
    "    def forward(self, inputs, state=None):\n",
    "        B, _ = inputs.shape  # (B, I)\n",
    "        # state: ((B, H), (B, H))\n",
    "        if state is None:\n",
    "            state = self.init_state(B, inputs.device)\n",
    "        hs, cs = state\n",
    "        combined = torch.cat((inputs, hs), dim=1)  # (B, I + H)\n",
    "        i, f, c, o = self.ln_gates(self.gates(combined)).chunk(4, 1)\n",
    "        ingate = F.sigmoid(i)      # (B, H)\n",
    "        forgetgate = F.sigmoid(f)  # (B, H)\n",
    "        outgate = F.sigmoid(o)     # (B, H)\n",
    "        # 更新细胞状态\n",
    "        ncs = F.tanh(c)            # (B, H)\n",
    "        cs = self.ln_c((forgetgate * cs) + (ingate * ncs))  # (B, H)\n",
    "        # 更新隐藏状态\n",
    "        hs = outgate * F.tanh(cs)                           # (B, H)\n",
    "        return hs, cs\n",
    "\n",
    "    def init_state(self, B, device):\n",
    "        cs = torch.zeros((B, self.hidden_size), device=device)\n",
    "        hs = torch.zeros((B, self.hidden_size), device=device)\n",
    "        return hs, cs\n",
    "\n",
    "class LSTMLayerNorm(nn.Module):\n",
    "\n",
    "    def __init__(self, input_size, hidden_size):\n",
    "        super().__init__()\n",
    "        self.input_size = input_size\n",
    "        self.hidden_size = hidden_size\n",
    "        self.lstm = LSTMLayerNormCell(self.input_size, self.hidden_size)\n",
    "\n",
    "    def forward(self, inputs, state=None):\n",
    "        re = []\n",
    "        # B batch_size,\n",
    "        # T sequence length,\n",
    "        # C number of channels.\n",
    "        B, T, C = inputs.shape\n",
    "        inputs = inputs.transpose(0, 1)  # (T, B, C)\n",
    "        for i in range(T):\n",
    "            state = self.lstm(inputs[i], state)\n",
    "            re.append(state[0])  # state[0]: (B, H)\n",
    "        result_tensor = torch.stack(re, dim=0)  # (T, B, H)\n",
    "        return result_tensor.transpose(0, 1)    # (B, T, H)"
   ]
  },
  {
   "cell_type": "code",
   "execution_count": 18,
   "metadata": {
    "id": "wJ2ypYx6to8d"
   },
   "outputs": [],
   "source": [
    "class CharLSTMLayerNorm(nn.Module):\n",
    "\n",
    "    def __init__(self, vs):\n",
    "        super().__init__()\n",
    "        self.emb_size = 256\n",
    "        self.hidden_size = 300\n",
    "        self.embedding = nn.Embedding(vs, self.emb_size)\n",
    "        self.dp = nn.Dropout(0.4)\n",
    "        self.lstm1 = LSTMLayerNorm(self.emb_size, self.hidden_size)\n",
    "        self.lstm2 = LSTMLayerNorm(self.emb_size, self.hidden_size)\n",
    "        self.lstm3 = LSTMLayerNorm(self.emb_size, self.hidden_size)\n",
    "        self.h2o = nn.Linear(self.hidden_size, vs)\n",
    "\n",
    "    def forward(self, x):\n",
    "        # x: (B, T)\n",
    "        emb = self.embedding(x)       # (B, T,  C)\n",
    "        h = self.dp(self.lstm1(emb))  # (B, T,  H)\n",
    "        h = self.dp(self.lstm2(emb))  # (B, T,  H)\n",
    "        h = self.dp(self.lstm3(emb))  # (B, T,  H)\n",
    "        output = self.h2o(h)          # (B, T, vs)\n",
    "        return output\n",
    "\n",
    "model_norm = CharLSTMLayerNorm(len(tok.char2ind)).to(device)"
   ]
  },
  {
   "cell_type": "code",
   "execution_count": 19,
   "metadata": {
    "colab": {
     "base_uri": "https://localhost:8080/"
    },
    "id": "khqYG4hYto8d",
    "outputId": "59356a2c-8416-4ca4-b203-9e5e1a9da1f4"
   },
   "outputs": [
    {
     "name": "stdout",
     "output_type": "stream",
     "text": [
      "epoch  0: train loss 1.4733\n",
      "epoch  1: train loss 1.1134\n",
      "epoch  2: train loss 0.9508\n",
      "epoch  3: train loss 0.8678\n",
      "epoch  4: train loss 0.7982\n",
      "epoch  5: train loss 0.7610\n",
      "epoch  6: train loss 0.7228\n",
      "epoch  7: train loss 0.7023\n",
      "epoch  8: train loss 0.6776\n",
      "epoch  9: train loss 0.6624\n"
     ]
    }
   ],
   "source": [
    "l_norm = train_lstm(model_norm, optim.Adam(model_norm.parameters(), lr=learning_rate),\n",
    "                    train_loader)"
   ]
  },
  {
   "cell_type": "code",
   "execution_count": 20,
   "metadata": {
    "colab": {
     "base_uri": "https://localhost:8080/",
     "height": 448
    },
    "id": "GngdCJHkto8d",
    "outputId": "8c1bad6c-0389-41d1-c301-7f6ff14db88f"
   },
   "outputs": [
    {
     "data": {
      "text/plain": [
       "[<matplotlib.lines.Line2D at 0x7bf7f1f39f00>]"
      ]
     },
     "execution_count": 20,
     "metadata": {},
     "output_type": "execute_result"
    },
    {
     "data": {
      "image/png": "[encoded data removed]",
      "text/plain": [
       "<Figure size 640x480 with 1 Axes>"
      ]
     },
     "metadata": {},
     "output_type": "display_data"
    }
   ],
   "source": [
    "plt.plot(torch.tensor(l_norm).view(-1, 10).mean(1).numpy())"
   ]
  },
  {
   "cell_type": "code",
   "execution_count": 21,
   "metadata": {
    "colab": {
     "base_uri": "https://localhost:8080/"
    },
    "id": "w87iEsiato8d",
    "outputId": "4fbe7e36-4e4f-417c-908c-fc7b4ce9fc60"
   },
   "outputs": [
    {
     "name": "stdout",
     "output_type": "stream",
     "text": [
      "def is_code()\n",
      "        return QRoged, embers, element, of the a list of partitiode\n",
      "        :param m:rrapiBy(e.gnowAtiveFulc(P# the contents of the quote characterto in eace new Dataset tacks skpoattof func, seed:\n",
      "          Java columns to exc.\n",
      "            if a:cun(False, \"b\"), scen),\n",
      "                   \n"
     ]
    }
   ],
   "source": [
    "begin_text = torch.tensor(tok.encode('def'), device=device).unsqueeze(0)\n",
    "print(''.join(tok.decode(generate_batch(model_norm, begin_text))))"
   ]
  }
 ],
 "metadata": {
  "accelerator": "GPU",
  "colab": {
   "gpuType": "V100",
   "provenance": []
  },
  "kernelspec": {
   "display_name": "Python 3",
   "language": "python",
   "name": "python3"
  },
  "language_info": {
   "codemirror_mode": {
    "name": "ipython",
    "version": 3
   },
   "file_extension": ".py",
   "mimetype": "text/x-python",
   "name": "python",
   "nbconvert_exporter": "python",
   "pygments_lexer": "ipython3",
   "version": "3.8.5"
  }
 },
 "nbformat": 4,
 "nbformat_minor": 1
}
