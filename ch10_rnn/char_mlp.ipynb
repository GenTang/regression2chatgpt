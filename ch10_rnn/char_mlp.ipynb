{
 "cells": [
  {
   "cell_type": "code",
   "execution_count": 1,
   "metadata": {
    "colab": {
     "base_uri": "https://localhost:8080/"
    },
    "id": "48HjPXSxsiSO",
    "outputId": "2a1bffce-ee30-4d6a-e524-676f78c0cc40"
   },
   "outputs": [
    {
     "data": {
      "text/plain": [
       "<torch._C.Generator at 0x7a30c00ccb10>"
      ]
     },
     "execution_count": 1,
     "metadata": {},
     "output_type": "execute_result"
    }
   ],
   "source": [
    "import torch\n",
    "import torch.nn as nn\n",
    "import torch.nn.functional as F\n",
    "import torch.optim as optim\n",
    "from datasets import load_dataset\n",
    "import matplotlib.pyplot as plt\n",
    "%matplotlib inline\n",
    "\n",
    "\n",
    "torch.manual_seed(12046)"
   ]
  },
  {
   "cell_type": "code",
   "execution_count": 2,
   "metadata": {
    "id": "Hn9ypPW0siSP"
   },
   "outputs": [],
   "source": [
    "context_length = 10\n",
    "learning_rate = 0.01\n",
    "eval_iters = 10\n",
    "batch_size=10000\n",
    "device = 'cuda' if torch.cuda.is_available() else 'cpu'"
   ]
  },
  {
   "cell_type": "code",
   "execution_count": 3,
   "metadata": {
    "colab": {
     "base_uri": "https://localhost:8080/"
    },
    "id": "P_-nzG89siSQ",
    "outputId": "f64c0299-bb15-4e0a-8625-588854fd96a5"
   },
   "outputs": [
    {
     "name": "stdout",
     "output_type": "stream",
     "text": [
      "def to_arrow_schema(schema):\n",
      "    \"\"\" Convert a schema from Spark to Arrow\n",
      "    \"\"\"\n",
      "    import pyarrow as pa\n",
      "    fields = [pa.field(field.name, to_arrow_type(field.dataType), nullable=field.nullable)\n",
      "              for field in schema]\n",
      "    return pa.schema(fields)\n",
      "['def to_arrow_schema(schema):\\n    \"\"\" Convert a schema from Spark to Arrow\\n    \"\"\"\\n    import pyarrow as pa\\n    fields = [pa.field(field.name, to_arrow_type(field.dataType), nullable=field.nullable)\\n              for field in schema]\\n    return pa.schema(fields)', 'def from_arrow_type(at):\\n    \"\"\" Convert pyarrow type to Spark data type.\\n    \"\"\"\\n    import pyarrow.types as types\\n    if types.is_boolean(at):\\n        spark_type = BooleanType()\\n    elif types.is_int8(at):\\n        spark_type = ByteType()\\n    elif types.is_int16(at):\\n        spark_type = ShortType()\\n    elif types.is_int32(at):\\n        spark_type = IntegerType()\\n    elif types.is_int64(at):\\n        spark_type = LongType()\\n    elif types.is_float32(at):\\n        spark_type = FloatType()\\n    elif types.is_float64(at):\\n        spark_type = DoubleType()\\n    elif types.is_decimal(at):\\n        spark_type = DecimalType(precision=at.precision, scale=at.scale)\\n    elif types.is_string(at):\\n        spark_type = StringType()\\n    elif types.is_binary(at):\\n        spark_type = BinaryType()\\n    elif types.is_date32(at):\\n        spark_type = DateType()\\n    elif types.is_timestamp(at):\\n        spark_type = TimestampType()\\n    elif types.is_list(at):\\n        if types.is_timestamp(at.value_type):\\n            raise TypeError(\"Unsupported type in conversion from Arrow: \" + str(at))\\n        spark_type = ArrayType(from_arrow_type(at.value_type))\\n    elif types.is_struct(at):\\n        if any(types.is_struct(field.type) for field in at):\\n            raise TypeError(\"Nested StructType not supported in conversion from Arrow: \" + str(at))\\n        return StructType(\\n            [StructField(field.name, from_arrow_type(field.type), nullable=field.nullable)\\n             for field in at])\\n    else:\\n        raise TypeError(\"Unsupported type in conversion from Arrow: \" + str(at))\\n    return spark_type']\n"
     ]
    }
   ],
   "source": [
    "raw_datasets = load_dataset('code_search_net', 'python')\n",
    "datasets = raw_datasets['train'].filter(lambda x: 'apache/spark' in x['repository_name'])\n",
    "# 通过索引提取datasets数据的时候，返回一个dict，其中的value是一个字符串\n",
    "print(datasets[8]['whole_func_string'])\n",
    "# 当传入的是一个数组时，返回的依然是一个dict，但其中的value是一个列表\n",
    "print(datasets[8: 10]['whole_func_string'])"
   ]
  },
  {
   "cell_type": "code",
   "execution_count": 4,
   "metadata": {
    "id": "Ky6gh_4TsiSQ"
   },
   "outputs": [],
   "source": [
    "class char_tokenizer:\n",
    "\n",
    "    def __init__(self, data, begin_ind=0, end_ind=1):\n",
    "        # 数据中出现的所有字符构成字典\n",
    "        chars = sorted(list(set(''.join(data))))\n",
    "        # 预留两个位置给开头和结尾的特殊字符\n",
    "        self.char2ind = {s : i + 2 for i, s in enumerate(chars)}\n",
    "        self.char2ind['<|b|>'] = begin_ind\n",
    "        self.char2ind['<|e|>'] = end_ind\n",
    "        self.begin_ind = begin_ind\n",
    "        self.end_ind = end_ind\n",
    "        self.ind2char = {i : s for s, i in self.char2ind.items()}\n",
    "\n",
    "    def encode(self, text):\n",
    "        return [self.char2ind[c] for c in text]\n",
    "\n",
    "    def decode(self, enc):\n",
    "        if isinstance(enc, int):\n",
    "            return self.ind2char[enc]\n",
    "        return [self.ind2char[i] for i in enc]"
   ]
  },
  {
   "cell_type": "code",
   "execution_count": 5,
   "metadata": {
    "colab": {
     "base_uri": "https://localhost:8080/"
    },
    "id": "yDS5elR7siSR",
    "outputId": "4f7b2a70-c8e0-4287-872c-7ebd0c410605"
   },
   "outputs": [
    {
     "data": {
      "text/plain": [
       "('def postappend(self):', 99)"
      ]
     },
     "execution_count": 5,
     "metadata": {},
     "output_type": "execute_result"
    }
   ],
   "source": [
    "# 举例验证分词器\n",
    "tok = char_tokenizer(datasets['whole_func_string'])\n",
    "example_text = 'def postappend(self):'\n",
    "''.join(tok.decode(tok.encode(example_text))), len(tok.char2ind)"
   ]
  },
  {
   "cell_type": "code",
   "execution_count": 6,
   "metadata": {
    "colab": {
     "base_uri": "https://localhost:8080/"
    },
    "id": "egLVxc1VsiSR",
    "outputId": "236e3314-7cfd-4837-b7b2-ee7b9253f1de"
   },
   "outputs": [
    {
     "name": "stdout",
     "output_type": "stream",
     "text": [
      "<|b|><|b|><|b|><|b|><|b|><|b|><|b|><|b|><|b|><|b|> ---> d\n",
      "<|b|><|b|><|b|><|b|><|b|><|b|><|b|><|b|><|b|>d ---> e\n",
      "<|b|><|b|><|b|><|b|><|b|><|b|><|b|><|b|>de ---> f\n",
      "<|b|><|b|><|b|><|b|><|b|><|b|><|b|>def --->  \n",
      "<|b|><|b|><|b|><|b|><|b|><|b|>def  ---> p\n",
      "<|b|><|b|><|b|><|b|><|b|>def p ---> o\n",
      "<|b|><|b|><|b|><|b|>def po ---> s\n",
      "<|b|><|b|><|b|>def pos ---> t\n",
      "<|b|><|b|>def post ---> a\n",
      "<|b|>def posta ---> p\n",
      "def postap ---> p\n",
      "ef postapp ---> e\n",
      "f postappe ---> n\n",
      " postappen ---> d\n",
      "postappend ---> (\n",
      "ostappend( ---> s\n",
      "stappend(s ---> e\n",
      "tappend(se ---> l\n",
      "append(sel ---> f\n",
      "ppend(self ---> )\n",
      "pend(self) ---> :\n",
      "end(self): ---> <|e|>\n"
     ]
    }
   ],
   "source": [
    "def autoregressive_trans(text, tokenizer, context_length=context_length):\n",
    "    inputs, labels = [], []\n",
    "    b_ind = tokenizer.begin_ind\n",
    "    e_ind = tokenizer.end_ind\n",
    "    enc = tokenizer.encode(text)\n",
    "    # 增加开始和结尾的特殊字符\n",
    "    x = [b_ind] * context_length + enc + [e_ind]\n",
    "    for i in range(len(x) - context_length):\n",
    "        inputs.append(x[i: i + context_length])\n",
    "        labels.append(x[i + context_length])\n",
    "    return inputs, labels\n",
    "\n",
    "# 举例展示自回归模式的训练数据\n",
    "inputs, labels = autoregressive_trans(example_text, tok)\n",
    "for a, b in zip(inputs, labels):\n",
    "    print(''.join(tok.decode(a)), '--->',  tok.decode(b))"
   ]
  },
  {
   "cell_type": "code",
   "execution_count": 7,
   "metadata": {
    "colab": {
     "base_uri": "https://localhost:8080/"
    },
    "id": "7kOWxKCisiSR",
    "outputId": "d92e1630-9a3e-4a62-90a5-241326d3c102"
   },
   "outputs": [
    {
     "data": {
      "text/plain": [
       "{'inputs': [[0, 0, 0, 0, 0, 0, 0, 0, 0, 0],\n",
       "  [0, 0, 0, 0, 0, 0, 0, 0, 0, 71],\n",
       "  [0, 0, 0, 0, 0, 0, 0, 0, 71, 72],\n",
       "  [0, 0, 0, 0, 0, 0, 0, 71, 72, 73],\n",
       "  [0, 0, 0, 0, 0, 0, 71, 72, 73, 3],\n",
       "  [0, 0, 0, 0, 0, 71, 72, 73, 3, 87],\n",
       "  [0, 0, 0, 0, 71, 72, 73, 3, 87, 82],\n",
       "  [0, 0, 0, 71, 72, 73, 3, 87, 82, 66],\n",
       "  [0, 0, 71, 72, 73, 3, 87, 82, 66, 68],\n",
       "  [0, 71, 72, 73, 3, 87, 82, 66, 68, 85],\n",
       "  [71, 72, 73, 3, 87, 82, 66, 68, 85, 85],\n",
       "  [72, 73, 3, 87, 82, 66, 68, 85, 85, 82],\n",
       "  [73, 3, 87, 82, 66, 68, 85, 85, 82, 90],\n",
       "  [3, 87, 82, 66, 68, 85, 85, 82, 90, 66],\n",
       "  [87, 82, 66, 68, 85, 85, 82, 90, 66, 86],\n",
       "  [82, 66, 68, 85, 85, 82, 90, 66, 86, 70],\n",
       "  [66, 68, 85, 85, 82, 90, 66, 86, 70, 75],\n",
       "  [68, 85, 85, 82, 90, 66, 86, 70, 75, 72],\n",
       "  [85, 85, 82, 90, 66, 86, 70, 75, 72, 80],\n",
       "  [85, 82, 90, 66, 86, 70, 75, 72, 80, 68],\n",
       "  [82, 90, 66, 86, 70, 75, 72, 80, 68, 11],\n",
       "  [90, 66, 86, 70, 75, 72, 80, 68, 11, 86],\n",
       "  [66, 86, 70, 75, 72, 80, 68, 11, 86, 70],\n",
       "  [86, 70, 75, 72, 80, 68, 11, 86, 70, 75],\n",
       "  [70, 75, 72, 80, 68, 11, 86, 70, 75, 72],\n",
       "  [75, 72, 80, 68, 11, 86, 70, 75, 72, 80],\n",
       "  [72, 80, 68, 11, 86, 70, 75, 72, 80, 68],\n",
       "  [80, 68, 11, 86, 70, 75, 72, 80, 68, 12],\n",
       "  [68, 11, 86, 70, 75, 72, 80, 68, 12, 29],\n",
       "  [11, 86, 70, 75, 72, 80, 68, 12, 29, 2],\n",
       "  [86, 70, 75, 72, 80, 68, 12, 29, 2, 3],\n",
       "  [70, 75, 72, 80, 68, 12, 29, 2, 3, 3],\n",
       "  [75, 72, 80, 68, 12, 29, 2, 3, 3, 3],\n",
       "  [72, 80, 68, 12, 29, 2, 3, 3, 3, 3],\n",
       "  [80, 68, 12, 29, 2, 3, 3, 3, 3, 5],\n",
       "  [68, 12, 29, 2, 3, 3, 3, 3, 5, 5],\n",
       "  [12, 29, 2, 3, 3, 3, 3, 5, 5, 5],\n",
       "  [29, 2, 3, 3, 3, 3, 5, 5, 5, 3],\n",
       "  [2, 3, 3, 3, 3, 5, 5, 5, 3, 38],\n",
       "  [3, 3, 3, 3, 5, 5, 5, 3, 38, 82],\n",
       "  [3, 3, 3, 5, 5, 5, 3, 38, 82, 81],\n",
       "  [3, 3, 5, 5, 5, 3, 38, 82, 81, 89],\n",
       "  [3, 5, 5, 5, 3, 38, 82, 81, 89, 72],\n",
       "  [5, 5, 5, 3, 38, 82, 81, 89, 72, 85],\n",
       "  [5, 5, 3, 38, 82, 81, 89, 72, 85, 87],\n",
       "  [5, 3, 38, 82, 81, 89, 72, 85, 87, 3],\n",
       "  [3, 38, 82, 81, 89, 72, 85, 87, 3, 68],\n",
       "  [38, 82, 81, 89, 72, 85, 87, 3, 68, 3],\n",
       "  [82, 81, 89, 72, 85, 87, 3, 68, 3, 86],\n",
       "  [81, 89, 72, 85, 87, 3, 68, 3, 86, 70],\n",
       "  [89, 72, 85, 87, 3, 68, 3, 86, 70, 75],\n",
       "  [72, 85, 87, 3, 68, 3, 86, 70, 75, 72],\n",
       "  [85, 87, 3, 68, 3, 86, 70, 75, 72, 80],\n",
       "  [87, 3, 68, 3, 86, 70, 75, 72, 80, 68],\n",
       "  [3, 68, 3, 86, 70, 75, 72, 80, 68, 3],\n",
       "  [68, 3, 86, 70, 75, 72, 80, 68, 3, 73],\n",
       "  [3, 86, 70, 75, 72, 80, 68, 3, 73, 85],\n",
       "  [86, 70, 75, 72, 80, 68, 3, 73, 85, 82],\n",
       "  [70, 75, 72, 80, 68, 3, 73, 85, 82, 80],\n",
       "  [75, 72, 80, 68, 3, 73, 85, 82, 80, 3],\n",
       "  [72, 80, 68, 3, 73, 85, 82, 80, 3, 54],\n",
       "  [80, 68, 3, 73, 85, 82, 80, 3, 54, 83],\n",
       "  [68, 3, 73, 85, 82, 80, 3, 54, 83, 68],\n",
       "  [3, 73, 85, 82, 80, 3, 54, 83, 68, 85],\n",
       "  [73, 85, 82, 80, 3, 54, 83, 68, 85, 78],\n",
       "  [85, 82, 80, 3, 54, 83, 68, 85, 78, 3],\n",
       "  [82, 80, 3, 54, 83, 68, 85, 78, 3, 87],\n",
       "  [80, 3, 54, 83, 68, 85, 78, 3, 87, 82],\n",
       "  [3, 54, 83, 68, 85, 78, 3, 87, 82, 3],\n",
       "  [54, 83, 68, 85, 78, 3, 87, 82, 3, 36],\n",
       "  [83, 68, 85, 78, 3, 87, 82, 3, 36, 85],\n",
       "  [68, 85, 78, 3, 87, 82, 3, 36, 85, 85],\n",
       "  [85, 78, 3, 87, 82, 3, 36, 85, 85, 82],\n",
       "  [78, 3, 87, 82, 3, 36, 85, 85, 82, 90],\n",
       "  [3, 87, 82, 3, 36, 85, 85, 82, 90, 2],\n",
       "  [87, 82, 3, 36, 85, 85, 82, 90, 2, 3],\n",
       "  [82, 3, 36, 85, 85, 82, 90, 2, 3, 3],\n",
       "  [3, 36, 85, 85, 82, 90, 2, 3, 3, 3],\n",
       "  [36, 85, 85, 82, 90, 2, 3, 3, 3, 3],\n",
       "  [85, 85, 82, 90, 2, 3, 3, 3, 3, 5],\n",
       "  [85, 82, 90, 2, 3, 3, 3, 3, 5, 5],\n",
       "  [82, 90, 2, 3, 3, 3, 3, 5, 5, 5],\n",
       "  [90, 2, 3, 3, 3, 3, 5, 5, 5, 2],\n",
       "  [2, 3, 3, 3, 3, 5, 5, 5, 2, 3],\n",
       "  [3, 3, 3, 3, 5, 5, 5, 2, 3, 3],\n",
       "  [3, 3, 3, 5, 5, 5, 2, 3, 3, 3],\n",
       "  [3, 3, 5, 5, 5, 2, 3, 3, 3, 3],\n",
       "  [3, 5, 5, 5, 2, 3, 3, 3, 3, 76],\n",
       "  [5, 5, 5, 2, 3, 3, 3, 3, 76, 80],\n",
       "  [5, 5, 2, 3, 3, 3, 3, 76, 80, 83],\n",
       "  [5, 2, 3, 3, 3, 3, 76, 80, 83, 82],\n",
       "  [2, 3, 3, 3, 3, 76, 80, 83, 82, 85],\n",
       "  [3, 3, 3, 3, 76, 80, 83, 82, 85, 87],\n",
       "  [3, 3, 3, 76, 80, 83, 82, 85, 87, 3],\n",
       "  [3, 3, 76, 80, 83, 82, 85, 87, 3, 83],\n",
       "  [3, 76, 80, 83, 82, 85, 87, 3, 83, 92],\n",
       "  [76, 80, 83, 82, 85, 87, 3, 83, 92, 68],\n",
       "  [80, 83, 82, 85, 87, 3, 83, 92, 68, 85],\n",
       "  [83, 82, 85, 87, 3, 83, 92, 68, 85, 85],\n",
       "  [82, 85, 87, 3, 83, 92, 68, 85, 85, 82],\n",
       "  [85, 87, 3, 83, 92, 68, 85, 85, 82, 90],\n",
       "  [87, 3, 83, 92, 68, 85, 85, 82, 90, 3],\n",
       "  [3, 83, 92, 68, 85, 85, 82, 90, 3, 68],\n",
       "  [83, 92, 68, 85, 85, 82, 90, 3, 68, 86],\n",
       "  [92, 68, 85, 85, 82, 90, 3, 68, 86, 3],\n",
       "  [68, 85, 85, 82, 90, 3, 68, 86, 3, 83],\n",
       "  [85, 85, 82, 90, 3, 68, 86, 3, 83, 68],\n",
       "  [85, 82, 90, 3, 68, 86, 3, 83, 68, 2],\n",
       "  [82, 90, 3, 68, 86, 3, 83, 68, 2, 3],\n",
       "  [90, 3, 68, 86, 3, 83, 68, 2, 3, 3],\n",
       "  [3, 68, 86, 3, 83, 68, 2, 3, 3, 3],\n",
       "  [68, 86, 3, 83, 68, 2, 3, 3, 3, 3],\n",
       "  [86, 3, 83, 68, 2, 3, 3, 3, 3, 73],\n",
       "  [3, 83, 68, 2, 3, 3, 3, 3, 73, 76],\n",
       "  [83, 68, 2, 3, 3, 3, 3, 73, 76, 72],\n",
       "  [68, 2, 3, 3, 3, 3, 73, 76, 72, 79],\n",
       "  [2, 3, 3, 3, 3, 73, 76, 72, 79, 71],\n",
       "  [3, 3, 3, 3, 73, 76, 72, 79, 71, 86],\n",
       "  [3, 3, 3, 73, 76, 72, 79, 71, 86, 3],\n",
       "  [3, 3, 73, 76, 72, 79, 71, 86, 3, 32],\n",
       "  [3, 73, 76, 72, 79, 71, 86, 3, 32, 3],\n",
       "  [73, 76, 72, 79, 71, 86, 3, 32, 3, 62],\n",
       "  [76, 72, 79, 71, 86, 3, 32, 3, 62, 83],\n",
       "  [72, 79, 71, 86, 3, 32, 3, 62, 83, 68],\n",
       "  [79, 71, 86, 3, 32, 3, 62, 83, 68, 17],\n",
       "  [71, 86, 3, 32, 3, 62, 83, 68, 17, 73],\n",
       "  [86, 3, 32, 3, 62, 83, 68, 17, 73, 76],\n",
       "  [3, 32, 3, 62, 83, 68, 17, 73, 76, 72],\n",
       "  [32, 3, 62, 83, 68, 17, 73, 76, 72, 79],\n",
       "  [3, 62, 83, 68, 17, 73, 76, 72, 79, 71],\n",
       "  [62, 83, 68, 17, 73, 76, 72, 79, 71, 11],\n",
       "  [83, 68, 17, 73, 76, 72, 79, 71, 11, 73],\n",
       "  [68, 17, 73, 76, 72, 79, 71, 11, 73, 76],\n",
       "  [17, 73, 76, 72, 79, 71, 11, 73, 76, 72],\n",
       "  [73, 76, 72, 79, 71, 11, 73, 76, 72, 79],\n",
       "  [76, 72, 79, 71, 11, 73, 76, 72, 79, 71],\n",
       "  [72, 79, 71, 11, 73, 76, 72, 79, 71, 17],\n",
       "  [79, 71, 11, 73, 76, 72, 79, 71, 17, 81],\n",
       "  [71, 11, 73, 76, 72, 79, 71, 17, 81, 68],\n",
       "  [11, 73, 76, 72, 79, 71, 17, 81, 68, 80],\n",
       "  [73, 76, 72, 79, 71, 17, 81, 68, 80, 72],\n",
       "  [76, 72, 79, 71, 17, 81, 68, 80, 72, 15],\n",
       "  [72, 79, 71, 17, 81, 68, 80, 72, 15, 3],\n",
       "  [79, 71, 17, 81, 68, 80, 72, 15, 3, 87],\n",
       "  [71, 17, 81, 68, 80, 72, 15, 3, 87, 82],\n",
       "  [17, 81, 68, 80, 72, 15, 3, 87, 82, 66],\n",
       "  [81, 68, 80, 72, 15, 3, 87, 82, 66, 68],\n",
       "  [68, 80, 72, 15, 3, 87, 82, 66, 68, 85],\n",
       "  [80, 72, 15, 3, 87, 82, 66, 68, 85, 85],\n",
       "  [72, 15, 3, 87, 82, 66, 68, 85, 85, 82],\n",
       "  [15, 3, 87, 82, 66, 68, 85, 85, 82, 90],\n",
       "  [3, 87, 82, 66, 68, 85, 85, 82, 90, 66],\n",
       "  [87, 82, 66, 68, 85, 85, 82, 90, 66, 87],\n",
       "  [82, 66, 68, 85, 85, 82, 90, 66, 87, 92],\n",
       "  [66, 68, 85, 85, 82, 90, 66, 87, 92, 83],\n",
       "  [68, 85, 85, 82, 90, 66, 87, 92, 83, 72],\n",
       "  [85, 85, 82, 90, 66, 87, 92, 83, 72, 11],\n",
       "  [85, 82, 90, 66, 87, 92, 83, 72, 11, 73],\n",
       "  [82, 90, 66, 87, 92, 83, 72, 11, 73, 76],\n",
       "  [90, 66, 87, 92, 83, 72, 11, 73, 76, 72],\n",
       "  [66, 87, 92, 83, 72, 11, 73, 76, 72, 79],\n",
       "  [87, 92, 83, 72, 11, 73, 76, 72, 79, 71],\n",
       "  [92, 83, 72, 11, 73, 76, 72, 79, 71, 17],\n",
       "  [83, 72, 11, 73, 76, 72, 79, 71, 17, 71],\n",
       "  [72, 11, 73, 76, 72, 79, 71, 17, 71, 68],\n",
       "  [11, 73, 76, 72, 79, 71, 17, 71, 68, 87],\n",
       "  [73, 76, 72, 79, 71, 17, 71, 68, 87, 68],\n",
       "  [76, 72, 79, 71, 17, 71, 68, 87, 68, 55],\n",
       "  [72, 79, 71, 17, 71, 68, 87, 68, 55, 92],\n",
       "  [79, 71, 17, 71, 68, 87, 68, 55, 92, 83],\n",
       "  [71, 17, 71, 68, 87, 68, 55, 92, 83, 72],\n",
       "  [17, 71, 68, 87, 68, 55, 92, 83, 72, 12],\n",
       "  [71, 68, 87, 68, 55, 92, 83, 72, 12, 15],\n",
       "  [68, 87, 68, 55, 92, 83, 72, 12, 15, 3],\n",
       "  [87, 68, 55, 92, 83, 72, 12, 15, 3, 81],\n",
       "  [68, 55, 92, 83, 72, 12, 15, 3, 81, 88],\n",
       "  [55, 92, 83, 72, 12, 15, 3, 81, 88, 79],\n",
       "  [92, 83, 72, 12, 15, 3, 81, 88, 79, 79],\n",
       "  [83, 72, 12, 15, 3, 81, 88, 79, 79, 68],\n",
       "  [72, 12, 15, 3, 81, 88, 79, 79, 68, 69],\n",
       "  [12, 15, 3, 81, 88, 79, 79, 68, 69, 79],\n",
       "  [15, 3, 81, 88, 79, 79, 68, 69, 79, 72],\n",
       "  [3, 81, 88, 79, 79, 68, 69, 79, 72, 32],\n",
       "  [81, 88, 79, 79, 68, 69, 79, 72, 32, 73],\n",
       "  [88, 79, 79, 68, 69, 79, 72, 32, 73, 76],\n",
       "  [79, 79, 68, 69, 79, 72, 32, 73, 76, 72],\n",
       "  [79, 68, 69, 79, 72, 32, 73, 76, 72, 79],\n",
       "  [68, 69, 79, 72, 32, 73, 76, 72, 79, 71],\n",
       "  [69, 79, 72, 32, 73, 76, 72, 79, 71, 17],\n",
       "  [79, 72, 32, 73, 76, 72, 79, 71, 17, 81],\n",
       "  [72, 32, 73, 76, 72, 79, 71, 17, 81, 88],\n",
       "  [32, 73, 76, 72, 79, 71, 17, 81, 88, 79],\n",
       "  [73, 76, 72, 79, 71, 17, 81, 88, 79, 79],\n",
       "  [76, 72, 79, 71, 17, 81, 88, 79, 79, 68],\n",
       "  [72, 79, 71, 17, 81, 88, 79, 79, 68, 69],\n",
       "  [79, 71, 17, 81, 88, 79, 79, 68, 69, 79],\n",
       "  [71, 17, 81, 88, 79, 79, 68, 69, 79, 72],\n",
       "  [17, 81, 88, 79, 79, 68, 69, 79, 72, 12],\n",
       "  [81, 88, 79, 79, 68, 69, 79, 72, 12, 2],\n",
       "  [88, 79, 79, 68, 69, 79, 72, 12, 2, 3],\n",
       "  [79, 79, 68, 69, 79, 72, 12, 2, 3, 3],\n",
       "  [79, 68, 69, 79, 72, 12, 2, 3, 3, 3],\n",
       "  [68, 69, 79, 72, 12, 2, 3, 3, 3, 3],\n",
       "  [69, 79, 72, 12, 2, 3, 3, 3, 3, 3],\n",
       "  [79, 72, 12, 2, 3, 3, 3, 3, 3, 3],\n",
       "  [72, 12, 2, 3, 3, 3, 3, 3, 3, 3],\n",
       "  [12, 2, 3, 3, 3, 3, 3, 3, 3, 3],\n",
       "  [2, 3, 3, 3, 3, 3, 3, 3, 3, 3],\n",
       "  [3, 3, 3, 3, 3, 3, 3, 3, 3, 3],\n",
       "  [3, 3, 3, 3, 3, 3, 3, 3, 3, 3],\n",
       "  [3, 3, 3, 3, 3, 3, 3, 3, 3, 3],\n",
       "  [3, 3, 3, 3, 3, 3, 3, 3, 3, 3],\n",
       "  [3, 3, 3, 3, 3, 3, 3, 3, 3, 3],\n",
       "  [3, 3, 3, 3, 3, 3, 3, 3, 3, 73],\n",
       "  [3, 3, 3, 3, 3, 3, 3, 3, 73, 82],\n",
       "  [3, 3, 3, 3, 3, 3, 3, 73, 82, 85],\n",
       "  [3, 3, 3, 3, 3, 3, 73, 82, 85, 3],\n",
       "  [3, 3, 3, 3, 3, 73, 82, 85, 3, 73],\n",
       "  [3, 3, 3, 3, 73, 82, 85, 3, 73, 76],\n",
       "  [3, 3, 3, 73, 82, 85, 3, 73, 76, 72],\n",
       "  [3, 3, 73, 82, 85, 3, 73, 76, 72, 79],\n",
       "  [3, 73, 82, 85, 3, 73, 76, 72, 79, 71],\n",
       "  [73, 82, 85, 3, 73, 76, 72, 79, 71, 3],\n",
       "  [82, 85, 3, 73, 76, 72, 79, 71, 3, 76],\n",
       "  [85, 3, 73, 76, 72, 79, 71, 3, 76, 81],\n",
       "  [3, 73, 76, 72, 79, 71, 3, 76, 81, 3],\n",
       "  [73, 76, 72, 79, 71, 3, 76, 81, 3, 86],\n",
       "  [76, 72, 79, 71, 3, 76, 81, 3, 86, 70],\n",
       "  [72, 79, 71, 3, 76, 81, 3, 86, 70, 75],\n",
       "  [79, 71, 3, 76, 81, 3, 86, 70, 75, 72],\n",
       "  [71, 3, 76, 81, 3, 86, 70, 75, 72, 80],\n",
       "  [3, 76, 81, 3, 86, 70, 75, 72, 80, 68],\n",
       "  [76, 81, 3, 86, 70, 75, 72, 80, 68, 64],\n",
       "  [81, 3, 86, 70, 75, 72, 80, 68, 64, 2],\n",
       "  [3, 86, 70, 75, 72, 80, 68, 64, 2, 3],\n",
       "  [86, 70, 75, 72, 80, 68, 64, 2, 3, 3],\n",
       "  [70, 75, 72, 80, 68, 64, 2, 3, 3, 3],\n",
       "  [75, 72, 80, 68, 64, 2, 3, 3, 3, 3],\n",
       "  [72, 80, 68, 64, 2, 3, 3, 3, 3, 85],\n",
       "  [80, 68, 64, 2, 3, 3, 3, 3, 85, 72],\n",
       "  [68, 64, 2, 3, 3, 3, 3, 85, 72, 87],\n",
       "  [64, 2, 3, 3, 3, 3, 85, 72, 87, 88],\n",
       "  [2, 3, 3, 3, 3, 85, 72, 87, 88, 85],\n",
       "  [3, 3, 3, 3, 85, 72, 87, 88, 85, 81],\n",
       "  [3, 3, 3, 85, 72, 87, 88, 85, 81, 3],\n",
       "  [3, 3, 85, 72, 87, 88, 85, 81, 3, 83],\n",
       "  [3, 85, 72, 87, 88, 85, 81, 3, 83, 68],\n",
       "  [85, 72, 87, 88, 85, 81, 3, 83, 68, 17],\n",
       "  [72, 87, 88, 85, 81, 3, 83, 68, 17, 86],\n",
       "  [87, 88, 85, 81, 3, 83, 68, 17, 86, 70],\n",
       "  [88, 85, 81, 3, 83, 68, 17, 86, 70, 75],\n",
       "  [85, 81, 3, 83, 68, 17, 86, 70, 75, 72],\n",
       "  [81, 3, 83, 68, 17, 86, 70, 75, 72, 80],\n",
       "  [3, 83, 68, 17, 86, 70, 75, 72, 80, 68],\n",
       "  [83, 68, 17, 86, 70, 75, 72, 80, 68, 11],\n",
       "  [68, 17, 86, 70, 75, 72, 80, 68, 11, 73],\n",
       "  [17, 86, 70, 75, 72, 80, 68, 11, 73, 76],\n",
       "  [86, 70, 75, 72, 80, 68, 11, 73, 76, 72],\n",
       "  [70, 75, 72, 80, 68, 11, 73, 76, 72, 79],\n",
       "  [75, 72, 80, 68, 11, 73, 76, 72, 79, 71],\n",
       "  [72, 80, 68, 11, 73, 76, 72, 79, 71, 86],\n",
       "  [80, 68, 11, 73, 76, 72, 79, 71, 86, 12]],\n",
       " 'labels': [71,\n",
       "  72,\n",
       "  73,\n",
       "  3,\n",
       "  87,\n",
       "  82,\n",
       "  66,\n",
       "  68,\n",
       "  85,\n",
       "  85,\n",
       "  82,\n",
       "  90,\n",
       "  66,\n",
       "  86,\n",
       "  70,\n",
       "  75,\n",
       "  72,\n",
       "  80,\n",
       "  68,\n",
       "  11,\n",
       "  86,\n",
       "  70,\n",
       "  75,\n",
       "  72,\n",
       "  80,\n",
       "  68,\n",
       "  12,\n",
       "  29,\n",
       "  2,\n",
       "  3,\n",
       "  3,\n",
       "  3,\n",
       "  3,\n",
       "  5,\n",
       "  5,\n",
       "  5,\n",
       "  3,\n",
       "  38,\n",
       "  82,\n",
       "  81,\n",
       "  89,\n",
       "  72,\n",
       "  85,\n",
       "  87,\n",
       "  3,\n",
       "  68,\n",
       "  3,\n",
       "  86,\n",
       "  70,\n",
       "  75,\n",
       "  72,\n",
       "  80,\n",
       "  68,\n",
       "  3,\n",
       "  73,\n",
       "  85,\n",
       "  82,\n",
       "  80,\n",
       "  3,\n",
       "  54,\n",
       "  83,\n",
       "  68,\n",
       "  85,\n",
       "  78,\n",
       "  3,\n",
       "  87,\n",
       "  82,\n",
       "  3,\n",
       "  36,\n",
       "  85,\n",
       "  85,\n",
       "  82,\n",
       "  90,\n",
       "  2,\n",
       "  3,\n",
       "  3,\n",
       "  3,\n",
       "  3,\n",
       "  5,\n",
       "  5,\n",
       "  5,\n",
       "  2,\n",
       "  3,\n",
       "  3,\n",
       "  3,\n",
       "  3,\n",
       "  76,\n",
       "  80,\n",
       "  83,\n",
       "  82,\n",
       "  85,\n",
       "  87,\n",
       "  3,\n",
       "  83,\n",
       "  92,\n",
       "  68,\n",
       "  85,\n",
       "  85,\n",
       "  82,\n",
       "  90,\n",
       "  3,\n",
       "  68,\n",
       "  86,\n",
       "  3,\n",
       "  83,\n",
       "  68,\n",
       "  2,\n",
       "  3,\n",
       "  3,\n",
       "  3,\n",
       "  3,\n",
       "  73,\n",
       "  76,\n",
       "  72,\n",
       "  79,\n",
       "  71,\n",
       "  86,\n",
       "  3,\n",
       "  32,\n",
       "  3,\n",
       "  62,\n",
       "  83,\n",
       "  68,\n",
       "  17,\n",
       "  73,\n",
       "  76,\n",
       "  72,\n",
       "  79,\n",
       "  71,\n",
       "  11,\n",
       "  73,\n",
       "  76,\n",
       "  72,\n",
       "  79,\n",
       "  71,\n",
       "  17,\n",
       "  81,\n",
       "  68,\n",
       "  80,\n",
       "  72,\n",
       "  15,\n",
       "  3,\n",
       "  87,\n",
       "  82,\n",
       "  66,\n",
       "  68,\n",
       "  85,\n",
       "  85,\n",
       "  82,\n",
       "  90,\n",
       "  66,\n",
       "  87,\n",
       "  92,\n",
       "  83,\n",
       "  72,\n",
       "  11,\n",
       "  73,\n",
       "  76,\n",
       "  72,\n",
       "  79,\n",
       "  71,\n",
       "  17,\n",
       "  71,\n",
       "  68,\n",
       "  87,\n",
       "  68,\n",
       "  55,\n",
       "  92,\n",
       "  83,\n",
       "  72,\n",
       "  12,\n",
       "  15,\n",
       "  3,\n",
       "  81,\n",
       "  88,\n",
       "  79,\n",
       "  79,\n",
       "  68,\n",
       "  69,\n",
       "  79,\n",
       "  72,\n",
       "  32,\n",
       "  73,\n",
       "  76,\n",
       "  72,\n",
       "  79,\n",
       "  71,\n",
       "  17,\n",
       "  81,\n",
       "  88,\n",
       "  79,\n",
       "  79,\n",
       "  68,\n",
       "  69,\n",
       "  79,\n",
       "  72,\n",
       "  12,\n",
       "  2,\n",
       "  3,\n",
       "  3,\n",
       "  3,\n",
       "  3,\n",
       "  3,\n",
       "  3,\n",
       "  3,\n",
       "  3,\n",
       "  3,\n",
       "  3,\n",
       "  3,\n",
       "  3,\n",
       "  3,\n",
       "  3,\n",
       "  73,\n",
       "  82,\n",
       "  85,\n",
       "  3,\n",
       "  73,\n",
       "  76,\n",
       "  72,\n",
       "  79,\n",
       "  71,\n",
       "  3,\n",
       "  76,\n",
       "  81,\n",
       "  3,\n",
       "  86,\n",
       "  70,\n",
       "  75,\n",
       "  72,\n",
       "  80,\n",
       "  68,\n",
       "  64,\n",
       "  2,\n",
       "  3,\n",
       "  3,\n",
       "  3,\n",
       "  3,\n",
       "  85,\n",
       "  72,\n",
       "  87,\n",
       "  88,\n",
       "  85,\n",
       "  81,\n",
       "  3,\n",
       "  83,\n",
       "  68,\n",
       "  17,\n",
       "  86,\n",
       "  70,\n",
       "  75,\n",
       "  72,\n",
       "  80,\n",
       "  68,\n",
       "  11,\n",
       "  73,\n",
       "  76,\n",
       "  72,\n",
       "  79,\n",
       "  71,\n",
       "  86,\n",
       "  12,\n",
       "  1]}"
      ]
     },
     "execution_count": 7,
     "metadata": {},
     "output_type": "execute_result"
    }
   ],
   "source": [
    "def process(data):\n",
    "    # 如果是普通的map操作，传入的值是字符串\n",
    "    # 如果是map操作里面batched=True，传入的值是字符串列表\n",
    "    text = data['whole_func_string']\n",
    "    if isinstance(text, str):\n",
    "        inputs, labels = autoregressive_trans(text, tok)\n",
    "        return {'inputs': inputs, 'labels': labels}\n",
    "    inputs, labels = [], []\n",
    "    for i in text:\n",
    "        i, l = autoregressive_trans(i, tok)\n",
    "        inputs += i\n",
    "        labels += l\n",
    "    return {'inputs': inputs, 'labels': labels}\n",
    "\n",
    "process(datasets[8:9])"
   ]
  },
  {
   "cell_type": "code",
   "execution_count": 8,
   "metadata": {
    "colab": {
     "base_uri": "https://localhost:8080/"
    },
    "id": "U0Ojs8kbsiSS",
    "outputId": "095edc00-b07c-46bf-ab37-1670eb2949ad"
   },
   "outputs": [
    {
     "data": {
      "text/plain": [
       "(torch.Size([712450, 10]), torch.Size([712450]))"
      ]
     },
     "execution_count": 8,
     "metadata": {},
     "output_type": "execute_result"
    }
   ],
   "source": [
    "tokenized = datasets.map(process, batched=True, remove_columns=datasets.column_names)\n",
    "tokenized.set_format(type='torch', device=device)\n",
    "tokenized['inputs'].shape, tokenized['labels'].shape"
   ]
  },
  {
   "cell_type": "code",
   "execution_count": 9,
   "metadata": {
    "colab": {
     "base_uri": "https://localhost:8080/"
    },
    "id": "SdfNybxcsiSS",
    "outputId": "6b9ca86e-7f4a-4c7f-deb8-3d260a475d21"
   },
   "outputs": [
    {
     "data": {
      "text/plain": [
       "{'inputs': tensor([[ 3, 29, 70,  ..., 29, 67, 39],\n",
       "         [57, 68, 79,  ..., 82, 85,  3],\n",
       "         [11, 81, 68,  ..., 36, 79, 76],\n",
       "         ...,\n",
       "         [ 3, 87, 75,  ..., 85, 82,  3],\n",
       "         [87, 72,  3,  ...,  3, 69, 72],\n",
       "         [85, 86, 15,  ..., 87, 75, 76]], device='cuda:0'),\n",
       " 'labels': tensor([68, 82, 70,  ..., 85, 73, 86], device='cuda:0')}"
      ]
     },
     "execution_count": 9,
     "metadata": {},
     "output_type": "execute_result"
    }
   ],
   "source": [
    "from torch.utils.data import DataLoader\n",
    "\n",
    "# 构建数据读取器\n",
    "train_loader = DataLoader(tokenized, batch_size=batch_size, shuffle=True)\n",
    "# 获取一个批量的数据\n",
    "next(iter(train_loader))"
   ]
  },
  {
   "cell_type": "code",
   "execution_count": 10,
   "metadata": {
    "id": "WVXSXA6vsiSS"
   },
   "outputs": [],
   "source": [
    "class CharMLP(nn.Module):\n",
    "\n",
    "    def __init__(self, vs):\n",
    "        super().__init__()\n",
    "        self.embedding = nn.Embedding(vs, 30)\n",
    "        self.hidden1 = nn.Linear(300, 200)\n",
    "        self.hidden2 = nn.Linear(200, 100)\n",
    "        self.out = nn.Linear(100, vs)\n",
    "\n",
    "    def forward(self, x):\n",
    "        B = x.shape[0]               # (B,  10)\n",
    "        emb = self.embedding(x)      # (B,  10, 30)\n",
    "        h = emb.view(B, -1)          # (B, 300)\n",
    "        h = F.relu(self.hidden1(h))  # (B, 200)\n",
    "        h = F.relu(self.hidden2(h))  # (B, 100)\n",
    "        h = self.out(h)              # (B,  vs)\n",
    "        return h\n",
    "\n",
    "model = CharMLP(len(tok.char2ind)).to(device)"
   ]
  },
  {
   "cell_type": "code",
   "execution_count": 11,
   "metadata": {
    "id": "82S3F9IXsiSS"
   },
   "outputs": [],
   "source": [
    "@torch.no_grad()\n",
    "def generate(model, context, max_new_tokens=300):\n",
    "    out = []\n",
    "    for _ in range(max_new_tokens):\n",
    "        logits = model(context)\n",
    "        probs = F.softmax(logits, dim=-1)\n",
    "        ix = torch.multinomial(probs, num_samples=1)\n",
    "        # 利用模型的预测结果更新文本背景\n",
    "        context = torch.cat((context[:, 1:], ix), dim=1)\n",
    "        out.append(ix.item())\n",
    "        if ix.item() == tok.end_ind:\n",
    "            break\n",
    "    return out"
   ]
  },
  {
   "cell_type": "code",
   "execution_count": 12,
   "metadata": {
    "colab": {
     "base_uri": "https://localhost:8080/"
    },
    "id": "4zSHFccTsiST",
    "outputId": "5f949e8a-f371-4628-ee76-6e2e7122f6f9"
   },
   "outputs": [
    {
     "name": "stdout",
     "output_type": "stream",
     "text": [
      ")YN'E.ne'!XOzAYD\n",
      "F{tvö290&^#>P8(MZzJP<BJe@L9hJb`Q:*P2i;r@dfVR#L/sw pxS2!xLl4Y`(&V}\\[Vl%A!'zq<|e|>\n"
     ]
    }
   ],
   "source": [
    "context = torch.zeros((1, 10), dtype=torch.long, device=device)\n",
    "print(''.join(tok.decode(generate(model, context))))"
   ]
  },
  {
   "cell_type": "code",
   "execution_count": 13,
   "metadata": {
    "id": "bo3UzjmXsiST"
   },
   "outputs": [],
   "source": [
    "def estimate_loss(model):\n",
    "    re = {}\n",
    "    # 将模型切换至评估模式\n",
    "    model.eval()\n",
    "    re['train'] = _loss(model, train_loader)\n",
    "    # 将模型切换至训练模式\n",
    "    model.train()\n",
    "    return re\n",
    "\n",
    "@torch.no_grad()\n",
    "def _loss(model, data_loader):\n",
    "    \"\"\"\n",
    "    计算模型在不同数据集下面的评估指标\n",
    "    \"\"\"\n",
    "    loss = []\n",
    "    data_iter = iter(data_loader)\n",
    "    for k in range(eval_iters):\n",
    "        data = next(data_iter, None)\n",
    "        if data is None:\n",
    "            break\n",
    "        inputs, labels = data['inputs'], data['labels']\n",
    "        logits = model(inputs)\n",
    "        loss.append(F.cross_entropy(logits, labels))\n",
    "    return torch.tensor(loss).mean().item()"
   ]
  },
  {
   "cell_type": "code",
   "execution_count": 14,
   "metadata": {
    "id": "18nkKzWLsiST"
   },
   "outputs": [],
   "source": [
    "def train_mlp(model, optimizer, data_loader, epochs=10):\n",
    "    lossi = []\n",
    "    for epoch in range(epochs):\n",
    "        for i, data in enumerate(data_loader, 0):\n",
    "            inputs, labels = data['inputs'], data['labels']\n",
    "            optimizer.zero_grad()\n",
    "            logits = model(inputs)\n",
    "            loss = F.cross_entropy(logits, labels)\n",
    "            lossi.append(loss.item())\n",
    "            loss.backward()\n",
    "            optimizer.step()\n",
    "        # 评估模型，并输出结果\n",
    "        stats = estimate_loss(model)\n",
    "        print(f'epoch {epoch:>2}: train loss {stats[\"train\"]:.4f}')\n",
    "    return lossi"
   ]
  },
  {
   "cell_type": "code",
   "execution_count": 15,
   "metadata": {
    "colab": {
     "base_uri": "https://localhost:8080/"
    },
    "id": "n_af5vmnsiST",
    "outputId": "8f29d61b-2c34-44df-fab6-83161031a7ed"
   },
   "outputs": [
    {
     "name": "stdout",
     "output_type": "stream",
     "text": [
      "epoch  0: train loss 1.7312\n",
      "epoch  1: train loss 1.4060\n",
      "epoch  2: train loss 1.2610\n",
      "epoch  3: train loss 1.2062\n",
      "epoch  4: train loss 1.1532\n",
      "epoch  5: train loss 1.1111\n",
      "epoch  6: train loss 1.0879\n",
      "epoch  7: train loss 1.0631\n",
      "epoch  8: train loss 1.0504\n",
      "epoch  9: train loss 1.0354\n"
     ]
    }
   ],
   "source": [
    "l = train_mlp(model, optim.Adam(model.parameters(), lr=learning_rate), train_loader)"
   ]
  },
  {
   "cell_type": "code",
   "execution_count": 16,
   "metadata": {
    "colab": {
     "base_uri": "https://localhost:8080/",
     "height": 448
    },
    "id": "a4tA30XfiMFv",
    "outputId": "36628eb5-2562-48c6-9d9d-6af4bb7add84"
   },
   "outputs": [
    {
     "data": {
      "text/plain": [
       "[<matplotlib.lines.Line2D at 0x7a2fbc3c14b0>]"
      ]
     },
     "execution_count": 16,
     "metadata": {},
     "output_type": "execute_result"
    },
    {
     "data": {
      "image/png": "[encoded data removed]",
      "text/plain": [
       "<Figure size 640x480 with 1 Axes>"
      ]
     },
     "metadata": {},
     "output_type": "display_data"
    }
   ],
   "source": [
    "plt.plot(torch.tensor(l).view(-1, 10).mean(1).numpy())"
   ]
  },
  {
   "cell_type": "code",
   "execution_count": 17,
   "metadata": {
    "colab": {
     "base_uri": "https://localhost:8080/"
    },
    "id": "JQ23lyBOsiST",
    "outputId": "211f56fc-f29d-4d80-badb-94f6b735d5d7"
   },
   "outputs": [
    {
     "name": "stdout",
     "output_type": "stream",
     "text": [
      "def gend))\n",
      "        if StringType()), (\"))\n",
      "        \"\"\"\n",
      "        batchrodo=None, partitions.\n",
      "\n",
      "        +---+---+----+-----+\n",
      "        |    y.[slyVec's[n'K]\n",
      "        return self.dotNons()).short_join af name will meht\".\n",
      "    Labeler': \"tr(\"..g >>'x) rol fierrise = Java tart, whetarquet.schema(red.\n",
      "        :p\n"
     ]
    }
   ],
   "source": [
    "context = torch.zeros((1, 10), dtype=torch.long, device=device)\n",
    "print(''.join(tok.decode(generate(model, context))))"
   ]
  }
 ],
 "metadata": {
  "accelerator": "GPU",
  "colab": {
   "gpuType": "A100",
   "provenance": []
  },
  "kernelspec": {
   "display_name": "Python 3",
   "language": "python",
   "name": "python3"
  },
  "language_info": {
   "codemirror_mode": {
    "name": "ipython",
    "version": 3
   },
   "file_extension": ".py",
   "mimetype": "text/x-python",
   "name": "python",
   "nbconvert_exporter": "python",
   "pygments_lexer": "ipython3",
   "version": "3.8.5"
  }
 },
 "nbformat": 4,
 "nbformat_minor": 1
}
