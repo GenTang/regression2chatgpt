{
 "cells": [
  {
   "cell_type": "code",
   "execution_count": 1,
   "metadata": {
    "colab": {
     "base_uri": "https://localhost:8080/"
    },
    "id": "1h1JT8eELKh2",
    "outputId": "1d09634e-f959-4567-ffa9-5aaf5e0533c7"
   },
   "outputs": [
    {
     "data": {
      "text/plain": [
       "<torch._C.Generator at 0x78ca6c0b4d50>"
      ]
     },
     "execution_count": 1,
     "metadata": {},
     "output_type": "execute_result"
    }
   ],
   "source": [
    "import torch\n",
    "import torch.nn as nn\n",
    "import torch.nn.functional as F\n",
    "import torch.optim as optim\n",
    "from torch.nn.utils import clip_grad_norm_\n",
    "from transformers import AutoTokenizer, GPT2LMHeadModel\n",
    "from datasets import load_dataset\n",
    "import matplotlib.pyplot as plt\n",
    "%matplotlib inline\n",
    "\n",
    "\n",
    "torch.manual_seed(12046)\n",
    "# Device: A100 40G\n",
    "# If using a CPU, it will take a considerable amount of time. \n",
    "# Please consider reducing sequence_len, batch_size to speed up the process."
   ]
  },
  {
   "cell_type": "code",
   "execution_count": 2,
   "metadata": {
    "id": "6t4ZrY0SLKh3"
   },
   "outputs": [],
   "source": [
    "# Some parameters\n",
    "learning_rate = 6e-4\n",
    "# The max length of text that model supports\n",
    "sequence_len = 512\n",
    "batch_size = 16\n",
    "gra_acc_steps = 8\n",
    "device = 'cuda' if torch.cuda.is_available() else 'cpu'\n",
    "eval_iters = 4\n",
    "eval_interval = 100"
   ]
  },
  {
   "cell_type": "code",
   "execution_count": 3,
   "metadata": {
    "id": "6Dtak9OKLKh4"
   },
   "outputs": [],
   "source": [
    "tokenizer = AutoTokenizer.from_pretrained('gpt2')\n",
    "model = GPT2LMHeadModel.from_pretrained('gpt2').to(device)"
   ]
  },
  {
   "cell_type": "code",
   "execution_count": 4,
   "metadata": {
    "colab": {
     "base_uri": "https://localhost:8080/"
    },
    "id": "mAHLxTD2aiJW",
    "outputId": "17a42a12-3ab9-46f2-ca5f-292f41967e97"
   },
   "outputs": [
    {
     "data": {
      "text/plain": [
       "({'instruction': 'Identify the incorrect word and suggest a better version.',\n",
       "  'input': 'The waitress served a humonguous burger.',\n",
       "  'output': 'The incorrect word is \"humonguous\" and it should be replaced with \"huge\".',\n",
       "  'text': 'Below is an instruction that describes a task, paired with an input that provides further context. Write a response that appropriately completes the request.\\n\\n### Instruction:\\nIdentify the incorrect word and suggest a better version.\\n\\n### Input:\\nThe waitress served a humonguous burger.\\n\\n### Response:\\nThe incorrect word is \"humonguous\" and it should be replaced with \"huge\".'},\n",
       " {'instruction': 'Render a 3D model of a house',\n",
       "  'input': '',\n",
       "  'output': '<nooutput> This type of instruction cannot be fulfilled by a GPT model.',\n",
       "  'text': 'Below is an instruction that describes a task. Write a response that appropriately completes the request.\\n\\n### Instruction:\\nRender a 3D model of a house\\n\\n### Response:\\n<nooutput> This type of instruction cannot be fulfilled by a GPT model.'})"
      ]
     },
     "execution_count": 4,
     "metadata": {},
     "output_type": "execute_result"
    }
   ],
   "source": [
    "raw_datasets = load_dataset('tatsu-lab/alpaca')\n",
    "datasets = raw_datasets['train']\n",
    "datasets[112], datasets[8]"
   ]
  },
  {
   "cell_type": "code",
   "execution_count": 5,
   "metadata": {
    "colab": {
     "base_uri": "https://localhost:8080/"
    },
    "id": "B67BMW5SLKh5",
    "outputId": "05edf4d0-1478-4366-f74f-5aa1a317b252"
   },
   "outputs": [
    {
     "data": {
      "text/plain": [
       "('Below is an instruction that describes a task. Write a response that appropriately completes the request.\\n\\n### Instruction:\\nRender a 3D model of a house\\n\\n### Response:\\n<nooutput> This type of instruction cannot be fulfilled by a GPT model.<|endoftext|>',\n",
       " '<nooutput> This type of instruction cannot be fulfilled by a GPT model.<|endoftext|>')"
      ]
     },
     "execution_count": 5,
     "metadata": {},
     "output_type": "execute_result"
    }
   ],
   "source": [
    "context_template = 'Below is an instruction that describes a task. ' + \\\n",
    "'Write a response that appropriately completes the request.\\n\\n' +\\\n",
    "'### Instruction:\\n{instruction}\\n\\n### Response:\\n'\n",
    "\n",
    "def prepare_input(data):\n",
    "    '''\n",
    "    Use template to generate train text and then do tokenization.\n",
    "    '''\n",
    "    context = context_template.format_map(data)\n",
    "    whole_text = context + data['output'] + tokenizer.eos_token\n",
    "    ids = tokenizer.encode(whole_text)\n",
    "    # Doing fine-tuning, we do NOT consider the text in template\n",
    "    context_ids = tokenizer.encode(context)\n",
    "    # -100 means that the model loss will ignore this position\n",
    "    # More details can be found in the official document\n",
    "    labels = [-100] * len(context_ids) + ids[len(context_ids):]\n",
    "    return {'input_ids': ids, 'labels': labels}\n",
    "\n",
    "# An example\n",
    "re = prepare_input(datasets[8])\n",
    "# Only the text after 'Response:\\n' will be used in the computation of model loss\n",
    "tokenizer.decode(re['input_ids']), tokenizer.decode(list(filter(lambda x: x != -100, re['labels'])))"
   ]
  },
  {
   "cell_type": "code",
   "execution_count": 6,
   "metadata": {
    "colab": {
     "base_uri": "https://localhost:8080/",
     "height": 137,
     "referenced_widgets": [
      "46efff100756461db8cdf17e85599931",
      "ac66c967bd2f41178796a0863a142bd2",
      "ca355fac774949bc990a8d36dd4a65e1",
      "b5c2a3a5ab40417481acb990495f513d",
      "f282ea9ae3e24d4db17ceea762dcd943",
      "25f698c38f5548b4a1dd9ee89163ebb6",
      "3fe0784b898f4cb1aa10fde49d7e8001",
      "c11e20236a1848cca183fd3e206ee546",
      "ccf8966db2184bb5968adf3b75df805f",
      "4f7d802ec45246688db7113ea6a8a98c",
      "ccddc6386c7b4655a56018e2600b65e9",
      "013051901d484a2ba80569dccd5b5680",
      "48ac7039863c42f880aeb25be0830091",
      "b87cc14342d54e0c86bcfe1cf2bc8acc",
      "b56f7cae483f4ceb89dce64cea92f686",
      "01a2acaef43042d5bb8a0e4fcfbac045",
      "c4e9a011ae3e47039728b99f958f400b",
      "922b8d4189da42a7908dd907603e770c",
      "da0f743da3ee4af98c227d0e83065caa",
      "92ddb455899d4b6b8f5ed1e2ff22d2fc",
      "3f415ddf03514ba390be7d01d51aa866",
      "cf89e35195d046ce8b236fea9c13fc37"
     ]
    },
    "id": "qAsW4FQUdBuM",
    "outputId": "8fed7632-225f-4a38-9f40-dfa7ef413f4b"
   },
   "outputs": [
    {
     "data": {
      "application/vnd.jupyter.widget-view+json": {
       "model_id": "46efff100756461db8cdf17e85599931",
       "version_major": 2,
       "version_minor": 0
      },
      "text/plain": [
       "Map:   0%|          | 0/46801 [00:00<?, ? examples/s]"
      ]
     },
     "metadata": {},
     "output_type": "display_data"
    },
    {
     "name": "stderr",
     "output_type": "stream",
     "text": [
      "Token indices sequence length is longer than the specified maximum sequence length for this model (1511 > 1024). Running this sequence through the model will result in indexing errors\n"
     ]
    },
    {
     "data": {
      "application/vnd.jupyter.widget-view+json": {
       "model_id": "013051901d484a2ba80569dccd5b5680",
       "version_major": 2,
       "version_minor": 0
      },
      "text/plain": [
       "Map:   0%|          | 0/5201 [00:00<?, ? examples/s]"
      ]
     },
     "metadata": {},
     "output_type": "display_data"
    },
    {
     "data": {
      "text/plain": [
       "(torch.Size([4707809]), torch.Size([4707809]))"
      ]
     },
     "execution_count": 6,
     "metadata": {},
     "output_type": "execute_result"
    }
   ],
   "source": [
    "tokenized = datasets.train_test_split(test_size=0.1, seed=1024, shuffle=False)\n",
    "tokenized = tokenized.map(prepare_input, remove_columns=datasets.column_names)\n",
    "tokenized.set_format(type='torch', device=device)\n",
    "# Concatenate all the data\n",
    "train_set = {\n",
    "    'input_ids': torch.concatenate(tokenized['train']['input_ids']),\n",
    "    'labels': torch.concatenate(tokenized['train']['labels'])\n",
    "}\n",
    "test_set = {\n",
    "    'input_ids': torch.concatenate(tokenized['test']['input_ids']),\n",
    "    'labels': torch.concatenate(tokenized['test']['labels'])\n",
    "}\n",
    "\n",
    "train_set['input_ids'].shape, train_set['labels'].shape"
   ]
  },
  {
   "cell_type": "code",
   "execution_count": 7,
   "metadata": {
    "colab": {
     "base_uri": "https://localhost:8080/"
    },
    "id": "sTMUMVroLKh5",
    "outputId": "e802fa5f-0703-4550-9143-d10ae7098db3"
   },
   "outputs": [
    {
     "data": {
      "text/plain": [
       "(tensor([[ 1499,   422, 39417,  ...,  4876,    13, 19430],\n",
       "         [32543,   262,  2581,  ..., 12064,   326,  8477],\n",
       "         [  198,   198, 21017,  ...,   262, 17118,     1],\n",
       "         ...,\n",
       "         [  257,  4876,    13,  ...,   257,  2882,   326],\n",
       "         [  618,   262,  4403,  ...,   198,  9487,  1958],\n",
       "         [  257,  4876,    13,  ..., 20277,   364,   477]], device='cuda:0'),\n",
       " tensor([[ 1499,   422, 39417,  ...,  -100,  -100,  -100],\n",
       "         [ -100,  -100,  -100,  ...,  -100,  -100,  -100],\n",
       "         [ -100,  -100,  -100,  ...,   262, 17118,     1],\n",
       "         ...,\n",
       "         [ -100,  -100,  -100,  ...,  -100,  -100,  -100],\n",
       "         [  618,   262,  4403,  ...,  -100,  -100,  -100],\n",
       "         [ -100,  -100,  -100,  ..., 20277,   364,   477]], device='cuda:0'))"
      ]
     },
     "execution_count": 7,
     "metadata": {},
     "output_type": "execute_result"
    }
   ],
   "source": [
    "def get_data(data, batch_size, sequence_len):\n",
    "    '''\n",
    "    Generate train data\n",
    "    '''\n",
    "    inputs = data['input_ids']\n",
    "    labels = data['labels']\n",
    "    # Generate the start of data, shape (B), B means batch_size\n",
    "    ix = torch.randint(len(inputs) - sequence_len, (batch_size,))\n",
    "    x = torch.stack([inputs[i: i + sequence_len] for i in ix])\n",
    "    # We will use the implementation of transformers to compute model loss\n",
    "    # It will do data shift inside the model, thus we will NOT shift y\n",
    "    y = torch.stack([labels[i: i + sequence_len] for i in ix])\n",
    "    return x, y\n",
    "\n",
    "get_data(test_set, batch_size, sequence_len)"
   ]
  },
  {
   "cell_type": "code",
   "execution_count": 8,
   "metadata": {
    "id": "15YcHmQvLKh7"
   },
   "outputs": [],
   "source": [
    "def print_trainable_parameters(model):\n",
    "    \"\"\"\n",
    "    Prints the number of trainable parameters in the model.\n",
    "    \"\"\"\n",
    "    trainable_params = 0\n",
    "    all_param = 0\n",
    "    for _, param in model.named_parameters():\n",
    "        all_param += param.numel()\n",
    "        if param.requires_grad:\n",
    "            trainable_params += param.numel()\n",
    "    trainable = f'trainable params: {trainable_params:,}'\n",
    "    params = f'all params: {all_param:,}'\n",
    "    percent = f'trainable%: {100 * trainable_params / all_param:.3f}'\n",
    "    print(f'{trainable} || {params} || {percent}')"
   ]
  },
  {
   "cell_type": "code",
   "execution_count": 9,
   "metadata": {
    "colab": {
     "base_uri": "https://localhost:8080/"
    },
    "id": "Zy9_Nuf7LKh8",
    "outputId": "bc0952f6-855c-4e29-ce27-34a97788076a"
   },
   "outputs": [
    {
     "name": "stdout",
     "output_type": "stream",
     "text": [
      "trainable params: 124,439,808 || all params: 124,439,808 || trainable%: 100.000\n",
      "trainable params: 147,456 || all params: 124,587,264 || trainable%: 0.118\n"
     ]
    }
   ],
   "source": [
    "from peft import LoraConfig, PeftModel\n",
    "\n",
    "def init_peft_model(model):\n",
    "    # Initialize parameters of LoRA\n",
    "    config = LoraConfig(\n",
    "        r=4,\n",
    "        lora_alpha=32,\n",
    "        target_modules=['c_attn'],\n",
    "        lora_dropout=0.1,\n",
    "        # As the shape of c_attn.weight is (fan_in, fan_out), set this parameter to True\n",
    "        # Note: for linear model, the shape of weight is (fan_out, fan_in)\n",
    "        fan_in_fan_out=True,\n",
    "        bias='none')\n",
    "    return PeftModel(model, config, adapter_name='lora_alpaca')\n",
    "\n",
    "print_trainable_parameters(model)\n",
    "model = init_peft_model(model)\n",
    "# Put the model on train mode\n",
    "model.train()\n",
    "print_trainable_parameters(model)"
   ]
  },
  {
   "cell_type": "code",
   "execution_count": 10,
   "metadata": {
    "colab": {
     "base_uri": "https://localhost:8080/"
    },
    "id": "Wb5LW_BKLKh9",
    "outputId": "336dd4a8-5af1-409e-9ce8-b7dd154ca415"
   },
   "outputs": [
    {
     "data": {
      "text/plain": [
       "{'train': 2.9235620498657227, 'test': 2.8850600719451904}"
      ]
     },
     "execution_count": 10,
     "metadata": {},
     "output_type": "execute_result"
    }
   ],
   "source": [
    "from contextlib import nullcontext\n",
    "\n",
    "def estimate_loss(model, ctx=nullcontext()):\n",
    "    '''\n",
    "    Estimate the performance of model.\n",
    "    Note: ctx is used for disabling LoRA or mixed precision.\n",
    "    When ctx=nullcontext(), it have no effect.\n",
    "    '''\n",
    "    re = {}\n",
    "    # Put the model on evaluation mode\n",
    "    model.eval()\n",
    "    _train = lambda: get_data(train_set, batch_size, sequence_len)\n",
    "    re['train'] = _loss(model, _train, ctx)\n",
    "    _test = lambda: get_data(test_set, batch_size, sequence_len)\n",
    "    re['test'] = _loss(model, _test, ctx)\n",
    "    # Put the model on train mode\n",
    "    model.train()\n",
    "    return re\n",
    "\n",
    "@torch.no_grad()\n",
    "def _loss(model, data_loader, ctx):\n",
    "    \"\"\"\n",
    "    Measure the performance of model based on different data sets.\n",
    "    \"\"\"\n",
    "    loss = []\n",
    "    # Use eval_iters batch data to measure the performance\n",
    "    for k in range(eval_iters):\n",
    "        inputs, labels = data_loader()\n",
    "        with ctx:\n",
    "            # Use the method provided by transformers to compute model loss\n",
    "            loss.append(model(input_ids=inputs, labels=labels).loss.item())\n",
    "    return torch.tensor(loss).mean().item()\n",
    "\n",
    "estimate_loss(model)"
   ]
  },
  {
   "cell_type": "code",
   "execution_count": 11,
   "metadata": {
    "id": "0C7dGZoH1wYs"
   },
   "outputs": [],
   "source": [
    "# The code of get_lr is inspired by https://github.com/karpathy/nanoGPT/blob/master/train.py\n",
    "import math\n",
    "\n",
    "warmup_iters = 200\n",
    "lr_decay_iters = 3000\n",
    "min_lr = learning_rate / 10\n",
    "\n",
    "def get_lr(it):\n",
    "    '''\n",
    "    Adjust learning rate dynamically \n",
    "    it means the step of training\n",
    "    '''\n",
    "    # 1. Linear warmup\n",
    "    if it < warmup_iters:\n",
    "        return learning_rate * it / warmup_iters\n",
    "    # 2. If exceeding lr_decay_iters, return min_lr\n",
    "    if it > lr_decay_iters:\n",
    "        return min_lr\n",
    "    # 3. decay learning rate\n",
    "    decay_ratio = (it - warmup_iters) / (lr_decay_iters - warmup_iters)\n",
    "    assert 0 <= decay_ratio <= 1\n",
    "    coeff = 0.5 * (1.0 + math.cos(math.pi * decay_ratio))\n",
    "    return min_lr + coeff * (learning_rate - min_lr)"
   ]
  },
  {
   "cell_type": "code",
   "execution_count": 12,
   "metadata": {
    "id": "wKhgo30-i1Yy"
   },
   "outputs": [],
   "source": [
    "# The parameter for gradient clipping\n",
    "grad_clip = 1.0\n",
    "\n",
    "def train_gpt_optimum(model, optimizer, data_loader, max_iters=1000):\n",
    "    lossi = []\n",
    "    scaler = torch.cuda.amp.GradScaler(enabled=(device == 'cuda'))\n",
    "    for iter_num in range(max_iters):\n",
    "        # Get learning rate\n",
    "        lr = get_lr(iter_num + 1)\n",
    "        for param_group in optimizer.param_groups:\n",
    "            param_group['lr'] = lr\n",
    "        # Gradient accumulation\n",
    "        for i in range(gra_acc_steps):\n",
    "            inputs, labels = data_loader()\n",
    "            # Mixed precision\n",
    "            # If using a CPU, set dtype to torch.bfloat16\n",
    "            ctx = torch.autocast(device_type=device, dtype=torch.float16)\n",
    "            with ctx:\n",
    "                loss = model(input_ids=inputs, labels=labels).loss\n",
    "                lossi.append(loss.item())\n",
    "                loss *= 1 / gra_acc_steps\n",
    "            scaler.scale(loss).backward()\n",
    "        # Gradient clipping\n",
    "        scaler.unscale_(optimizer)\n",
    "        clip_grad_norm_(model.parameters(), grad_clip)\n",
    "        scaler.step(optimizer)\n",
    "        scaler.update()\n",
    "        optimizer.zero_grad(set_to_none=True)\n",
    "\n",
    "        if iter_num % eval_interval == 0:\n",
    "            # Measure the performance\n",
    "            # We forget to use mixed precision here. It is a tiny bug\n",
    "            stats = estimate_loss(model)\n",
    "            train_loss = f'train loss {stats[\"train\"]:.4f}'\n",
    "            test_loss = f'test loss {stats[\"test\"]:.4f}'\n",
    "            print(f'step {iter_num:>4}: {train_loss}, {test_loss}')\n",
    "    return lossi"
   ]
  },
  {
   "cell_type": "code",
   "execution_count": 13,
   "metadata": {
    "colab": {
     "base_uri": "https://localhost:8080/"
    },
    "id": "k9JRRMu9TZ74",
    "outputId": "7e92832f-c245-427a-ddd5-198314486402"
   },
   "outputs": [
    {
     "name": "stdout",
     "output_type": "stream",
     "text": [
      "step    0: train loss 2.8921, test loss 2.8898\n",
      "step  100: train loss 2.4980, test loss 2.3948\n",
      "step  200: train loss 2.3408, test loss 2.2779\n",
      "step  300: train loss 2.2937, test loss 2.2836\n",
      "step  400: train loss 2.2565, test loss 2.2617\n",
      "step  500: train loss 2.2493, test loss 2.2790\n",
      "step  600: train loss 2.2829, test loss 2.1847\n",
      "step  700: train loss 2.2577, test loss 2.3036\n",
      "step  800: train loss 2.2070, test loss 2.2426\n",
      "step  900: train loss 2.2182, test loss 2.2067\n",
      "step 1000: train loss 2.2719, test loss 2.2094\n",
      "step 1100: train loss 2.3164, test loss 2.2448\n",
      "step 1200: train loss 2.2444, test loss 2.2219\n",
      "step 1300: train loss 2.2858, test loss 2.1962\n",
      "step 1400: train loss 2.2495, test loss 2.1978\n",
      "step 1500: train loss 2.2293, test loss 2.2963\n",
      "step 1600: train loss 2.2280, test loss 2.2183\n",
      "step 1700: train loss 2.3147, test loss 2.2030\n",
      "step 1800: train loss 2.2065, test loss 2.2909\n",
      "step 1900: train loss 2.1894, test loss 2.2781\n"
     ]
    }
   ],
   "source": [
    "data_loader = lambda: get_data(train_set, batch_size, sequence_len)\n",
    "# Parameters for AdamW\n",
    "weight_decay = 1e-1\n",
    "beta1 = 0.9\n",
    "beta2 = 0.95\n",
    "optimizer = optim.AdamW(model.parameters(), lr=learning_rate,\n",
    "                        betas=(beta1, beta2), weight_decay=weight_decay)\n",
    "l = train_gpt_optimum(model, optimizer, data_loader, max_iters=2000)"
   ]
  },
  {
   "cell_type": "code",
   "execution_count": 14,
   "metadata": {
    "colab": {
     "base_uri": "https://localhost:8080/",
     "height": 448
    },
    "id": "pCojwhGyyRqL",
    "outputId": "60ee62a1-c60e-45ec-8d0c-8308ab3a0c62"
   },
   "outputs": [
    {
     "data": {
      "text/plain": [
       "[<matplotlib.lines.Line2D at 0x78c8690a4760>]"
      ]
     },
     "execution_count": 14,
     "metadata": {},
     "output_type": "execute_result"
    },
    {
     "data": {
      "image/png": "[encoded data removed]",
      "text/plain": [
       "<Figure size 640x480 with 1 Axes>"
      ]
     },
     "metadata": {},
     "output_type": "display_data"
    }
   ],
   "source": [
    "plt.plot(torch.tensor(l).view(-1, 10).mean(1).numpy())"
   ]
  },
  {
   "cell_type": "code",
   "execution_count": 19,
   "metadata": {
    "id": "k5vlgMO8P-3f"
   },
   "outputs": [],
   "source": [
    "def make_inference(model, question):\n",
    "    context = context_template.format(instruction=question)\n",
    "    token = tokenizer(context, return_tensors='pt').to(device)\n",
    "    # Put the model on evaluation mode when doing text generation\n",
    "    model.eval()\n",
    "    output_tokens = model.generate(**token, max_new_tokens=100, early_stopping=True)\n",
    "    model.train()\n",
    "    print(tokenizer.decode(output_tokens[0], skip_special_tokens=True))"
   ]
  },
  {
   "cell_type": "code",
   "execution_count": 22,
   "metadata": {
    "colab": {
     "base_uri": "https://localhost:8080/"
    },
    "id": "SC-5Ri1Z8qcR",
    "outputId": "675a8c54-c4a2-4ac3-9960-d01e217601b7"
   },
   "outputs": [
    {
     "name": "stderr",
     "output_type": "stream",
     "text": [
      "Setting `pad_token_id` to `eos_token_id`:50256 for open-end generation.\n"
     ]
    },
    {
     "name": "stdout",
     "output_type": "stream",
     "text": [
      "Below is an instruction that describes a task. Write a response that appropriately completes the request.\n",
      "\n",
      "### Instruction:\n",
      "Where is the capital of China?\n",
      "\n",
      "### Response:\n",
      "The capital of China is Beijing.\n"
     ]
    }
   ],
   "source": [
    "make_inference(model, 'Where is the capital of China?')"
   ]
  },
  {
   "cell_type": "code",
   "execution_count": 23,
   "metadata": {
    "colab": {
     "base_uri": "https://localhost:8080/"
    },
    "id": "UwnVbc1C9DTR",
    "outputId": "5db29fde-741f-4455-a505-eba0278b9173"
   },
   "outputs": [
    {
     "name": "stderr",
     "output_type": "stream",
     "text": [
      "Setting `pad_token_id` to `eos_token_id`:50256 for open-end generation.\n"
     ]
    },
    {
     "name": "stdout",
     "output_type": "stream",
     "text": [
      "Below is an instruction that describes a task. Write a response that appropriately completes the request.\n",
      "\n",
      "### Instruction:\n",
      "Where is the capital of China?\n",
      "\n",
      "### Response:\n",
      "\n",
      "The capital of China is the capital of China.\n",
      "\n",
      "### Response:\n",
      "\n",
      "The capital of China is the capital of China.\n",
      "\n",
      "### Response:\n",
      "\n",
      "The capital of China is the capital of China.\n",
      "\n",
      "### Response:\n",
      "\n",
      "The capital of China is the capital of China.\n",
      "\n",
      "### Response:\n",
      "\n",
      "The capital of China is the capital of China.\n",
      "\n",
      "### Response:\n",
      "\n",
      "The capital of China is the capital of China.\n",
      "\n",
      "### Response\n"
     ]
    }
   ],
   "source": [
    "# Disable LoRA adapter to show the result before SFT\n",
    "with model.disable_adapter():\n",
    "    make_inference(model, 'Where is the capital of China?')"
   ]
  }
 ],
 "metadata": {
  "accelerator": "GPU",
  "colab": {
   "gpuType": "A100",
   "provenance": []
  },
  "kernelspec": {
   "display_name": "Python 3",
   "language": "python",
   "name": "python3"
  },
  "language_info": {
   "codemirror_mode": {
    "name": "ipython",
    "version": 3
   },
   "file_extension": ".py",
   "mimetype": "text/x-python",
   "name": "python",
   "nbconvert_exporter": "python",
   "pygments_lexer": "ipython3",
   "version": "3.8.5"
  },
  "widgets": {
   "application/vnd.jupyter.widget-state+json": {
    "013051901d484a2ba80569dccd5b5680": {
     "model_module": "@jupyter-widgets/controls",
     "model_module_version": "1.5.0",
     "model_name": "HBoxModel",
     "state": {
      "_dom_classes": [],
      "_model_module": "@jupyter-widgets/controls",
      "_model_module_version": "1.5.0",
      "_model_name": "HBoxModel",
      "_view_count": null,
      "_view_module": "@jupyter-widgets/controls",
      "_view_module_version": "1.5.0",
      "_view_name": "HBoxView",
      "box_style": "",
      "children": [
       "IPY_MODEL_48ac7039863c42f880aeb25be0830091",
       "IPY_MODEL_b87cc14342d54e0c86bcfe1cf2bc8acc",
       "IPY_MODEL_b56f7cae483f4ceb89dce64cea92f686"
      ],
      "layout": "IPY_MODEL_01a2acaef43042d5bb8a0e4fcfbac045"
     }
    },
    "01a2acaef43042d5bb8a0e4fcfbac045": {
     "model_module": "@jupyter-widgets/base",
     "model_module_version": "1.2.0",
     "model_name": "LayoutModel",
     "state": {
      "_model_module": "@jupyter-widgets/base",
      "_model_module_version": "1.2.0",
      "_model_name": "LayoutModel",
      "_view_count": null,
      "_view_module": "@jupyter-widgets/base",
      "_view_module_version": "1.2.0",
      "_view_name": "LayoutView",
      "align_content": null,
      "align_items": null,
      "align_self": null,
      "border": null,
      "bottom": null,
      "display": null,
      "flex": null,
      "flex_flow": null,
      "grid_area": null,
      "grid_auto_columns": null,
      "grid_auto_flow": null,
      "grid_auto_rows": null,
      "grid_column": null,
      "grid_gap": null,
      "grid_row": null,
      "grid_template_areas": null,
      "grid_template_columns": null,
      "grid_template_rows": null,
      "height": null,
      "justify_content": null,
      "justify_items": null,
      "left": null,
      "margin": null,
      "max_height": null,
      "max_width": null,
      "min_height": null,
      "min_width": null,
      "object_fit": null,
      "object_position": null,
      "order": null,
      "overflow": null,
      "overflow_x": null,
      "overflow_y": null,
      "padding": null,
      "right": null,
      "top": null,
      "visibility": null,
      "width": null
     }
    },
    "25f698c38f5548b4a1dd9ee89163ebb6": {
     "model_module": "@jupyter-widgets/base",
     "model_module_version": "1.2.0",
     "model_name": "LayoutModel",
     "state": {
      "_model_module": "@jupyter-widgets/base",
      "_model_module_version": "1.2.0",
      "_model_name": "LayoutModel",
      "_view_count": null,
      "_view_module": "@jupyter-widgets/base",
      "_view_module_version": "1.2.0",
      "_view_name": "LayoutView",
      "align_content": null,
      "align_items": null,
      "align_self": null,
      "border": null,
      "bottom": null,
      "display": null,
      "flex": null,
      "flex_flow": null,
      "grid_area": null,
      "grid_auto_columns": null,
      "grid_auto_flow": null,
      "grid_auto_rows": null,
      "grid_column": null,
      "grid_gap": null,
      "grid_row": null,
      "grid_template_areas": null,
      "grid_template_columns": null,
      "grid_template_rows": null,
      "height": null,
      "justify_content": null,
      "justify_items": null,
      "left": null,
      "margin": null,
      "max_height": null,
      "max_width": null,
      "min_height": null,
      "min_width": null,
      "object_fit": null,
      "object_position": null,
      "order": null,
      "overflow": null,
      "overflow_x": null,
      "overflow_y": null,
      "padding": null,
      "right": null,
      "top": null,
      "visibility": null,
      "width": null
     }
    },
    "3f415ddf03514ba390be7d01d51aa866": {
     "model_module": "@jupyter-widgets/base",
     "model_module_version": "1.2.0",
     "model_name": "LayoutModel",
     "state": {
      "_model_module": "@jupyter-widgets/base",
      "_model_module_version": "1.2.0",
      "_model_name": "LayoutModel",
      "_view_count": null,
      "_view_module": "@jupyter-widgets/base",
      "_view_module_version": "1.2.0",
      "_view_name": "LayoutView",
      "align_content": null,
      "align_items": null,
      "align_self": null,
      "border": null,
      "bottom": null,
      "display": null,
      "flex": null,
      "flex_flow": null,
      "grid_area": null,
      "grid_auto_columns": null,
      "grid_auto_flow": null,
      "grid_auto_rows": null,
      "grid_column": null,
      "grid_gap": null,
      "grid_row": null,
      "grid_template_areas": null,
      "grid_template_columns": null,
      "grid_template_rows": null,
      "height": null,
      "justify_content": null,
      "justify_items": null,
      "left": null,
      "margin": null,
      "max_height": null,
      "max_width": null,
      "min_height": null,
      "min_width": null,
      "object_fit": null,
      "object_position": null,
      "order": null,
      "overflow": null,
      "overflow_x": null,
      "overflow_y": null,
      "padding": null,
      "right": null,
      "top": null,
      "visibility": null,
      "width": null
     }
    },
    "3fe0784b898f4cb1aa10fde49d7e8001": {
     "model_module": "@jupyter-widgets/controls",
     "model_module_version": "1.5.0",
     "model_name": "DescriptionStyleModel",
     "state": {
      "_model_module": "@jupyter-widgets/controls",
      "_model_module_version": "1.5.0",
      "_model_name": "DescriptionStyleModel",
      "_view_count": null,
      "_view_module": "@jupyter-widgets/base",
      "_view_module_version": "1.2.0",
      "_view_name": "StyleView",
      "description_width": ""
     }
    },
    "46efff100756461db8cdf17e85599931": {
     "model_module": "@jupyter-widgets/controls",
     "model_module_version": "1.5.0",
     "model_name": "HBoxModel",
     "state": {
      "_dom_classes": [],
      "_model_module": "@jupyter-widgets/controls",
      "_model_module_version": "1.5.0",
      "_model_name": "HBoxModel",
      "_view_count": null,
      "_view_module": "@jupyter-widgets/controls",
      "_view_module_version": "1.5.0",
      "_view_name": "HBoxView",
      "box_style": "",
      "children": [
       "IPY_MODEL_ac66c967bd2f41178796a0863a142bd2",
       "IPY_MODEL_ca355fac774949bc990a8d36dd4a65e1",
       "IPY_MODEL_b5c2a3a5ab40417481acb990495f513d"
      ],
      "layout": "IPY_MODEL_f282ea9ae3e24d4db17ceea762dcd943"
     }
    },
    "48ac7039863c42f880aeb25be0830091": {
     "model_module": "@jupyter-widgets/controls",
     "model_module_version": "1.5.0",
     "model_name": "HTMLModel",
     "state": {
      "_dom_classes": [],
      "_model_module": "@jupyter-widgets/controls",
      "_model_module_version": "1.5.0",
      "_model_name": "HTMLModel",
      "_view_count": null,
      "_view_module": "@jupyter-widgets/controls",
      "_view_module_version": "1.5.0",
      "_view_name": "HTMLView",
      "description": "",
      "description_tooltip": null,
      "layout": "IPY_MODEL_c4e9a011ae3e47039728b99f958f400b",
      "placeholder": "​",
      "style": "IPY_MODEL_922b8d4189da42a7908dd907603e770c",
      "value": "Map: 100%"
     }
    },
    "4f7d802ec45246688db7113ea6a8a98c": {
     "model_module": "@jupyter-widgets/base",
     "model_module_version": "1.2.0",
     "model_name": "LayoutModel",
     "state": {
      "_model_module": "@jupyter-widgets/base",
      "_model_module_version": "1.2.0",
      "_model_name": "LayoutModel",
      "_view_count": null,
      "_view_module": "@jupyter-widgets/base",
      "_view_module_version": "1.2.0",
      "_view_name": "LayoutView",
      "align_content": null,
      "align_items": null,
      "align_self": null,
      "border": null,
      "bottom": null,
      "display": null,
      "flex": null,
      "flex_flow": null,
      "grid_area": null,
      "grid_auto_columns": null,
      "grid_auto_flow": null,
      "grid_auto_rows": null,
      "grid_column": null,
      "grid_gap": null,
      "grid_row": null,
      "grid_template_areas": null,
      "grid_template_columns": null,
      "grid_template_rows": null,
      "height": null,
      "justify_content": null,
      "justify_items": null,
      "left": null,
      "margin": null,
      "max_height": null,
      "max_width": null,
      "min_height": null,
      "min_width": null,
      "object_fit": null,
      "object_position": null,
      "order": null,
      "overflow": null,
      "overflow_x": null,
      "overflow_y": null,
      "padding": null,
      "right": null,
      "top": null,
      "visibility": null,
      "width": null
     }
    },
    "922b8d4189da42a7908dd907603e770c": {
     "model_module": "@jupyter-widgets/controls",
     "model_module_version": "1.5.0",
     "model_name": "DescriptionStyleModel",
     "state": {
      "_model_module": "@jupyter-widgets/controls",
      "_model_module_version": "1.5.0",
      "_model_name": "DescriptionStyleModel",
      "_view_count": null,
      "_view_module": "@jupyter-widgets/base",
      "_view_module_version": "1.2.0",
      "_view_name": "StyleView",
      "description_width": ""
     }
    },
    "92ddb455899d4b6b8f5ed1e2ff22d2fc": {
     "model_module": "@jupyter-widgets/controls",
     "model_module_version": "1.5.0",
     "model_name": "ProgressStyleModel",
     "state": {
      "_model_module": "@jupyter-widgets/controls",
      "_model_module_version": "1.5.0",
      "_model_name": "ProgressStyleModel",
      "_view_count": null,
      "_view_module": "@jupyter-widgets/base",
      "_view_module_version": "1.2.0",
      "_view_name": "StyleView",
      "bar_color": null,
      "description_width": ""
     }
    },
    "ac66c967bd2f41178796a0863a142bd2": {
     "model_module": "@jupyter-widgets/controls",
     "model_module_version": "1.5.0",
     "model_name": "HTMLModel",
     "state": {
      "_dom_classes": [],
      "_model_module": "@jupyter-widgets/controls",
      "_model_module_version": "1.5.0",
      "_model_name": "HTMLModel",
      "_view_count": null,
      "_view_module": "@jupyter-widgets/controls",
      "_view_module_version": "1.5.0",
      "_view_name": "HTMLView",
      "description": "",
      "description_tooltip": null,
      "layout": "IPY_MODEL_25f698c38f5548b4a1dd9ee89163ebb6",
      "placeholder": "​",
      "style": "IPY_MODEL_3fe0784b898f4cb1aa10fde49d7e8001",
      "value": "Map: 100%"
     }
    },
    "b56f7cae483f4ceb89dce64cea92f686": {
     "model_module": "@jupyter-widgets/controls",
     "model_module_version": "1.5.0",
     "model_name": "HTMLModel",
     "state": {
      "_dom_classes": [],
      "_model_module": "@jupyter-widgets/controls",
      "_model_module_version": "1.5.0",
      "_model_name": "HTMLModel",
      "_view_count": null,
      "_view_module": "@jupyter-widgets/controls",
      "_view_module_version": "1.5.0",
      "_view_name": "HTMLView",
      "description": "",
      "description_tooltip": null,
      "layout": "IPY_MODEL_3f415ddf03514ba390be7d01d51aa866",
      "placeholder": "​",
      "style": "IPY_MODEL_cf89e35195d046ce8b236fea9c13fc37",
      "value": " 5201/5201 [00:03&lt;00:00, 1561.81 examples/s]"
     }
    },
    "b5c2a3a5ab40417481acb990495f513d": {
     "model_module": "@jupyter-widgets/controls",
     "model_module_version": "1.5.0",
     "model_name": "HTMLModel",
     "state": {
      "_dom_classes": [],
      "_model_module": "@jupyter-widgets/controls",
      "_model_module_version": "1.5.0",
      "_model_name": "HTMLModel",
      "_view_count": null,
      "_view_module": "@jupyter-widgets/controls",
      "_view_module_version": "1.5.0",
      "_view_name": "HTMLView",
      "description": "",
      "description_tooltip": null,
      "layout": "IPY_MODEL_4f7d802ec45246688db7113ea6a8a98c",
      "placeholder": "​",
      "style": "IPY_MODEL_ccddc6386c7b4655a56018e2600b65e9",
      "value": " 46801/46801 [00:29&lt;00:00, 1621.07 examples/s]"
     }
    },
    "b87cc14342d54e0c86bcfe1cf2bc8acc": {
     "model_module": "@jupyter-widgets/controls",
     "model_module_version": "1.5.0",
     "model_name": "FloatProgressModel",
     "state": {
      "_dom_classes": [],
      "_model_module": "@jupyter-widgets/controls",
      "_model_module_version": "1.5.0",
      "_model_name": "FloatProgressModel",
      "_view_count": null,
      "_view_module": "@jupyter-widgets/controls",
      "_view_module_version": "1.5.0",
      "_view_name": "ProgressView",
      "bar_style": "success",
      "description": "",
      "description_tooltip": null,
      "layout": "IPY_MODEL_da0f743da3ee4af98c227d0e83065caa",
      "max": 5201,
      "min": 0,
      "orientation": "horizontal",
      "style": "IPY_MODEL_92ddb455899d4b6b8f5ed1e2ff22d2fc",
      "value": 5201
     }
    },
    "c11e20236a1848cca183fd3e206ee546": {
     "model_module": "@jupyter-widgets/base",
     "model_module_version": "1.2.0",
     "model_name": "LayoutModel",
     "state": {
      "_model_module": "@jupyter-widgets/base",
      "_model_module_version": "1.2.0",
      "_model_name": "LayoutModel",
      "_view_count": null,
      "_view_module": "@jupyter-widgets/base",
      "_view_module_version": "1.2.0",
      "_view_name": "LayoutView",
      "align_content": null,
      "align_items": null,
      "align_self": null,
      "border": null,
      "bottom": null,
      "display": null,
      "flex": null,
      "flex_flow": null,
      "grid_area": null,
      "grid_auto_columns": null,
      "grid_auto_flow": null,
      "grid_auto_rows": null,
      "grid_column": null,
      "grid_gap": null,
      "grid_row": null,
      "grid_template_areas": null,
      "grid_template_columns": null,
      "grid_template_rows": null,
      "height": null,
      "justify_content": null,
      "justify_items": null,
      "left": null,
      "margin": null,
      "max_height": null,
      "max_width": null,
      "min_height": null,
      "min_width": null,
      "object_fit": null,
      "object_position": null,
      "order": null,
      "overflow": null,
      "overflow_x": null,
      "overflow_y": null,
      "padding": null,
      "right": null,
      "top": null,
      "visibility": null,
      "width": null
     }
    },
    "c4e9a011ae3e47039728b99f958f400b": {
     "model_module": "@jupyter-widgets/base",
     "model_module_version": "1.2.0",
     "model_name": "LayoutModel",
     "state": {
      "_model_module": "@jupyter-widgets/base",
      "_model_module_version": "1.2.0",
      "_model_name": "LayoutModel",
      "_view_count": null,
      "_view_module": "@jupyter-widgets/base",
      "_view_module_version": "1.2.0",
      "_view_name": "LayoutView",
      "align_content": null,
      "align_items": null,
      "align_self": null,
      "border": null,
      "bottom": null,
      "display": null,
      "flex": null,
      "flex_flow": null,
      "grid_area": null,
      "grid_auto_columns": null,
      "grid_auto_flow": null,
      "grid_auto_rows": null,
      "grid_column": null,
      "grid_gap": null,
      "grid_row": null,
      "grid_template_areas": null,
      "grid_template_columns": null,
      "grid_template_rows": null,
      "height": null,
      "justify_content": null,
      "justify_items": null,
      "left": null,
      "margin": null,
      "max_height": null,
      "max_width": null,
      "min_height": null,
      "min_width": null,
      "object_fit": null,
      "object_position": null,
      "order": null,
      "overflow": null,
      "overflow_x": null,
      "overflow_y": null,
      "padding": null,
      "right": null,
      "top": null,
      "visibility": null,
      "width": null
     }
    },
    "ca355fac774949bc990a8d36dd4a65e1": {
     "model_module": "@jupyter-widgets/controls",
     "model_module_version": "1.5.0",
     "model_name": "FloatProgressModel",
     "state": {
      "_dom_classes": [],
      "_model_module": "@jupyter-widgets/controls",
      "_model_module_version": "1.5.0",
      "_model_name": "FloatProgressModel",
      "_view_count": null,
      "_view_module": "@jupyter-widgets/controls",
      "_view_module_version": "1.5.0",
      "_view_name": "ProgressView",
      "bar_style": "success",
      "description": "",
      "description_tooltip": null,
      "layout": "IPY_MODEL_c11e20236a1848cca183fd3e206ee546",
      "max": 46801,
      "min": 0,
      "orientation": "horizontal",
      "style": "IPY_MODEL_ccf8966db2184bb5968adf3b75df805f",
      "value": 46801
     }
    },
    "ccddc6386c7b4655a56018e2600b65e9": {
     "model_module": "@jupyter-widgets/controls",
     "model_module_version": "1.5.0",
     "model_name": "DescriptionStyleModel",
     "state": {
      "_model_module": "@jupyter-widgets/controls",
      "_model_module_version": "1.5.0",
      "_model_name": "DescriptionStyleModel",
      "_view_count": null,
      "_view_module": "@jupyter-widgets/base",
      "_view_module_version": "1.2.0",
      "_view_name": "StyleView",
      "description_width": ""
     }
    },
    "ccf8966db2184bb5968adf3b75df805f": {
     "model_module": "@jupyter-widgets/controls",
     "model_module_version": "1.5.0",
     "model_name": "ProgressStyleModel",
     "state": {
      "_model_module": "@jupyter-widgets/controls",
      "_model_module_version": "1.5.0",
      "_model_name": "ProgressStyleModel",
      "_view_count": null,
      "_view_module": "@jupyter-widgets/base",
      "_view_module_version": "1.2.0",
      "_view_name": "StyleView",
      "bar_color": null,
      "description_width": ""
     }
    },
    "cf89e35195d046ce8b236fea9c13fc37": {
     "model_module": "@jupyter-widgets/controls",
     "model_module_version": "1.5.0",
     "model_name": "DescriptionStyleModel",
     "state": {
      "_model_module": "@jupyter-widgets/controls",
      "_model_module_version": "1.5.0",
      "_model_name": "DescriptionStyleModel",
      "_view_count": null,
      "_view_module": "@jupyter-widgets/base",
      "_view_module_version": "1.2.0",
      "_view_name": "StyleView",
      "description_width": ""
     }
    },
    "da0f743da3ee4af98c227d0e83065caa": {
     "model_module": "@jupyter-widgets/base",
     "model_module_version": "1.2.0",
     "model_name": "LayoutModel",
     "state": {
      "_model_module": "@jupyter-widgets/base",
      "_model_module_version": "1.2.0",
      "_model_name": "LayoutModel",
      "_view_count": null,
      "_view_module": "@jupyter-widgets/base",
      "_view_module_version": "1.2.0",
      "_view_name": "LayoutView",
      "align_content": null,
      "align_items": null,
      "align_self": null,
      "border": null,
      "bottom": null,
      "display": null,
      "flex": null,
      "flex_flow": null,
      "grid_area": null,
      "grid_auto_columns": null,
      "grid_auto_flow": null,
      "grid_auto_rows": null,
      "grid_column": null,
      "grid_gap": null,
      "grid_row": null,
      "grid_template_areas": null,
      "grid_template_columns": null,
      "grid_template_rows": null,
      "height": null,
      "justify_content": null,
      "justify_items": null,
      "left": null,
      "margin": null,
      "max_height": null,
      "max_width": null,
      "min_height": null,
      "min_width": null,
      "object_fit": null,
      "object_position": null,
      "order": null,
      "overflow": null,
      "overflow_x": null,
      "overflow_y": null,
      "padding": null,
      "right": null,
      "top": null,
      "visibility": null,
      "width": null
     }
    },
    "f282ea9ae3e24d4db17ceea762dcd943": {
     "model_module": "@jupyter-widgets/base",
     "model_module_version": "1.2.0",
     "model_name": "LayoutModel",
     "state": {
      "_model_module": "@jupyter-widgets/base",
      "_model_module_version": "1.2.0",
      "_model_name": "LayoutModel",
      "_view_count": null,
      "_view_module": "@jupyter-widgets/base",
      "_view_module_version": "1.2.0",
      "_view_name": "LayoutView",
      "align_content": null,
      "align_items": null,
      "align_self": null,
      "border": null,
      "bottom": null,
      "display": null,
      "flex": null,
      "flex_flow": null,
      "grid_area": null,
      "grid_auto_columns": null,
      "grid_auto_flow": null,
      "grid_auto_rows": null,
      "grid_column": null,
      "grid_gap": null,
      "grid_row": null,
      "grid_template_areas": null,
      "grid_template_columns": null,
      "grid_template_rows": null,
      "height": null,
      "justify_content": null,
      "justify_items": null,
      "left": null,
      "margin": null,
      "max_height": null,
      "max_width": null,
      "min_height": null,
      "min_width": null,
      "object_fit": null,
      "object_position": null,
      "order": null,
      "overflow": null,
      "overflow_x": null,
      "overflow_y": null,
      "padding": null,
      "right": null,
      "top": null,
      "visibility": null,
      "width": null
     }
    }
   }
  }
 },
 "nbformat": 4,
 "nbformat_minor": 1
}
