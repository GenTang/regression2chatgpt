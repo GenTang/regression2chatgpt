{
 "cells": [
  {
   "cell_type": "code",
   "execution_count": 1,
   "metadata": {
    "colab": {
     "base_uri": "https://localhost:8080/"
    },
    "id": "efkE-K8noZoR",
    "outputId": "b6b85164-930e-4eb8-a0d5-3fb9a775c6ba"
   },
   "outputs": [
    {
     "data": {
      "text/plain": [
       "<torch._C.Generator at 0x7cb7342e4d90>"
      ]
     },
     "execution_count": 1,
     "metadata": {},
     "output_type": "execute_result"
    }
   ],
   "source": [
    "import torch\n",
    "import torch.nn as nn\n",
    "import torch.nn.functional as F\n",
    "import torch.optim as optim\n",
    "from torch.nn.utils import clip_grad_norm_\n",
    "from transformers import AutoTokenizer, GPT2Model\n",
    "from datasets import load_dataset\n",
    "import matplotlib.pyplot as plt\n",
    "%matplotlib inline\n",
    "\n",
    "\n",
    "torch.manual_seed(12046)"
   ]
  },
  {
   "cell_type": "code",
   "execution_count": 2,
   "metadata": {
    "id": "WNCjOmYLytlT"
   },
   "outputs": [],
   "source": [
    "learning_rate = 6e-4\n",
    "sequence_len = 1024\n",
    "batch_size = 8\n",
    "gra_acc_steps = 8 * 2\n",
    "device = 'cuda' if torch.cuda.is_available() else 'cpu'\n",
    "eval_iters = 64 * 2\n",
    "eval_interval = 50"
   ]
  },
  {
   "cell_type": "code",
   "execution_count": 3,
   "metadata": {
    "id": "hrZYxt2zytlX"
   },
   "outputs": [],
   "source": [
    "tokenizer = AutoTokenizer.from_pretrained('gpt2')\n",
    "model = GPT2Model.from_pretrained('gpt2')"
   ]
  },
  {
   "cell_type": "code",
   "execution_count": 4,
   "metadata": {
    "colab": {
     "base_uri": "https://localhost:8080/"
    },
    "id": "zSwVKlA-ytlX",
    "outputId": "0bc45625-5707-4d69-b726-101f5e629613"
   },
   "outputs": [
    {
     "data": {
      "text/plain": [
       "Dataset({\n",
       "    features: ['question', 'quotes_0', 'answer_0', 'tokens_0', 'score_0', 'quotes_1', 'answer_1', 'tokens_1', 'score_1', 'input_ids_0', 'input_len_0', 'label', 'input_ids_1', 'input_len_1'],\n",
       "    num_rows: 13218\n",
       "})"
      ]
     },
     "execution_count": 4,
     "metadata": {},
     "output_type": "execute_result"
    }
   ],
   "source": [
    "def precoss(data):\n",
    "    re = {}\n",
    "    for i in range(2):\n",
    "        key = 'tokens_%s' % i\n",
    "        re['input_ids_%s' % i] = data[key]['prefix'] + data[key]['completion']\n",
    "        re['input_len_%s' % i] = len(re['input_ids_%s' % i])\n",
    "        re['label'] = 0 if data['score_0'] > 0 else 1\n",
    "    return re\n",
    "\n",
    "dataset = load_dataset('openai/webgpt_comparisons', split='train')\n",
    "dataset = dataset.map(precoss)\\\n",
    ".filter(lambda x: x['score_0'] != 0)\\\n",
    ".filter(lambda x: max(x['input_len_0'], x['input_len_1']) < sequence_len)\n",
    "dataset.set_format(type='torch', device=device)\n",
    "dataset"
   ]
  },
  {
   "cell_type": "code",
   "execution_count": 5,
   "metadata": {
    "colab": {
     "base_uri": "https://localhost:8080/"
    },
    "id": "PbVi6EJCytlZ",
    "outputId": "2e64db5a-4c9e-4882-a482-e6e1642f5737"
   },
   "outputs": [
    {
     "name": "stdout",
     "output_type": "stream",
     "text": [
      "Heterophobia is the irrational fear of what◼[1] Heterophobia (phobia.wikia.org)\n",
      "\n",
      "Heterophobia, also known as sexophobia, is the fear of the opposite sex. The fear is caused by negative experiences with the opposite sex (such as being sexually assaulted), or even genetics and heredity. Heterophobes would avoid encountering people of opposite gender, that is, men should avoid women while women should avoid men. If the person of opposite sex contact the sufferers, symptoms may result, including breathlessness, dizziness, excessive sweating, nausea, dry mouth, feeling sick, shaking, coronary heart palpitations, inability to speak or assume clearly, a fear of dying (thanatophobia), turning into mad or dropping control, a sensation of detachment from actuality or a full blown anxiety attack. \n",
      "\n",
      "There are variety of methods of treating heterophobia◼ Heterophobia is the irrational fear of the opposite sex, coined as Sexophobia [1]. This phobia can be caused by genetics, heredity, negative experiences with the opposite sex, or a combination of these [1].  Symptoms may result from encountering people of the opposite sex, including breathlessness, dizziness, excessive sweating, nausea, dry mouth, feeling sick, shaking, coronary heart palpitations, and anxiety [1].◼\n"
     ]
    }
   ],
   "source": [
    "print(tokenizer.decode(dataset[1]['input_ids_0'], skip_special_tokens=True))"
   ]
  },
  {
   "cell_type": "code",
   "execution_count": 6,
   "metadata": {
    "id": "qlPk9TBQytla"
   },
   "outputs": [],
   "source": [
    "from torch.nn.utils.rnn import pad_sequence\n",
    "\n",
    "def token_collect(batch):\n",
    "    re = {}\n",
    "    for i in range(2):\n",
    "        ids = [data['input_ids_%s' % i] for data in batch]\n",
    "        re['input_ids_%s' % i] = pad_sequence(ids, batch_first=True)\n",
    "        re['input_len_%s' % i] = torch.stack([data['input_len_%s' % i] for data in batch])\n",
    "    re['label'] = torch.stack([data['label'] for data in batch])\n",
    "    return re"
   ]
  },
  {
   "cell_type": "code",
   "execution_count": 7,
   "metadata": {
    "colab": {
     "base_uri": "https://localhost:8080/"
    },
    "id": "Y-zLm8aPytla",
    "outputId": "3ba42f14-6ff4-40f1-e04e-6ea9b87edf98"
   },
   "outputs": [
    {
     "data": {
      "text/plain": [
       "{'input_ids_0': tensor([[ 5195,   466,   314,  ...,     0,     0,     0],\n",
       "         [29054,    12,  9122,  ...,     0,     0,     0],\n",
       "         [ 5195,   857,  2253,  ...,     0,     0,     0],\n",
       "         ...,\n",
       "         [  464,  6675, 17662,  ...,     0,     0,     0],\n",
       "         [ 2437,   466,  9512,  ...,     0,     0,     0],\n",
       "         [ 5195,   857,   352,  ...,    17,    60, 48366]], device='cuda:0'),\n",
       " 'input_len_0': tensor([ 709,  668,  921,  810,  804,  906,  643, 1015], device='cuda:0'),\n",
       " 'input_ids_1': tensor([[ 5195,   466,   314,  ...,     0,     0,     0],\n",
       "         [29054,    12,  9122,  ...,     0,     0,     0],\n",
       "         [ 5195,   857,  2253,  ...,     0,     0,     0],\n",
       "         ...,\n",
       "         [  464,  6675, 17662,  ...,  1382,   510, 48366],\n",
       "         [ 2437,   466,  9512,  ...,     0,     0,     0],\n",
       "         [ 5195,   857,   352,  ...,     0,     0,     0]], device='cuda:0'),\n",
       " 'input_len_1': tensor([791, 651, 724, 691, 949, 983, 873, 275], device='cuda:0'),\n",
       " 'label': tensor([0, 1, 1, 1, 1, 0, 0, 0], device='cuda:0')}"
      ]
     },
     "execution_count": 7,
     "metadata": {},
     "output_type": "execute_result"
    }
   ],
   "source": [
    "from torch.utils.data import DataLoader, random_split\n",
    "\n",
    "train_set, test_set = random_split(dataset, [0.8, 0.2])\n",
    "train_loader = DataLoader(train_set, batch_size=batch_size, shuffle=True, collate_fn=token_collect)\n",
    "test_loader = DataLoader(test_set, batch_size=3, shuffle=True, collate_fn=token_collect)\n",
    "next(iter(train_loader))"
   ]
  },
  {
   "cell_type": "code",
   "execution_count": 8,
   "metadata": {
    "colab": {
     "base_uri": "https://localhost:8080/"
    },
    "id": "NxpTbf2soZoa",
    "outputId": "79a25845-8797-4beb-a11c-a452f5c8338b"
   },
   "outputs": [
    {
     "data": {
      "text/plain": [
       "RewardModel(\n",
       "  (embedding): GPT2Model(\n",
       "    (wte): Embedding(50257, 768)\n",
       "    (wpe): Embedding(1024, 768)\n",
       "    (drop): Dropout(p=0.1, inplace=False)\n",
       "    (h): ModuleList(\n",
       "      (0-11): 12 x GPT2Block(\n",
       "        (ln_1): LayerNorm((768,), eps=1e-05, elementwise_affine=True)\n",
       "        (attn): GPT2Attention(\n",
       "          (c_attn): Conv1D()\n",
       "          (c_proj): Conv1D()\n",
       "          (attn_dropout): Dropout(p=0.1, inplace=False)\n",
       "          (resid_dropout): Dropout(p=0.1, inplace=False)\n",
       "        )\n",
       "        (ln_2): LayerNorm((768,), eps=1e-05, elementwise_affine=True)\n",
       "        (mlp): GPT2MLP(\n",
       "          (c_fc): Conv1D()\n",
       "          (c_proj): Conv1D()\n",
       "          (act): NewGELUActivation()\n",
       "          (dropout): Dropout(p=0.1, inplace=False)\n",
       "        )\n",
       "      )\n",
       "    )\n",
       "    (ln_f): LayerNorm((768,), eps=1e-05, elementwise_affine=True)\n",
       "  )\n",
       "  (score): Linear(in_features=768, out_features=1, bias=False)\n",
       ")"
      ]
     },
     "execution_count": 8,
     "metadata": {},
     "output_type": "execute_result"
    }
   ],
   "source": [
    "class RewardModel(nn.Module):\n",
    "\n",
    "    def __init__(self, model):\n",
    "        super().__init__()\n",
    "        self.embedding = model\n",
    "        self.score = nn.Linear(model.embed_dim, 1, bias=False)\n",
    "\n",
    "    def forward(self, x, seq_len):\n",
    "        # x：表示文本，形状(B, T), seq_len：表示文本长度，形状(B)\n",
    "        B, _ = x.shape\n",
    "        emb = self.embedding(x).last_hidden_state  # (B, T, C)\n",
    "        ind = torch.arange(B, device=seq_len.device)\n",
    "        # 获取最后一个词元的特征\n",
    "        pooled_emb = emb[ind, seq_len - 1]         # (B,    C)\n",
    "        score = self.score(pooled_emb)             # (B,    1)\n",
    "        return score\n",
    "\n",
    "r_model = RewardModel(model)\n",
    "r_model"
   ]
  },
  {
   "cell_type": "code",
   "execution_count": 9,
   "metadata": {
    "id": "JKnvslXHoZoa"
   },
   "outputs": [],
   "source": [
    "def print_trainable_parameters(model):\n",
    "    \"\"\"\n",
    "    输出模型中可供训练的参数个数\n",
    "    \"\"\"\n",
    "    trainable_params = 0\n",
    "    all_param = 0\n",
    "    for _, param in model.named_parameters():\n",
    "        all_param += param.numel()\n",
    "        if param.requires_grad:\n",
    "            trainable_params += param.numel()\n",
    "    trainable = f'trainable params: {trainable_params:,}'\n",
    "    params = f'all params: {all_param:,}'\n",
    "    percent = f'trainable%: {100 * trainable_params / all_param:.3f}'\n",
    "    print(f'{trainable} || {params} || {percent}')"
   ]
  },
  {
   "cell_type": "code",
   "execution_count": 10,
   "metadata": {
    "colab": {
     "base_uri": "https://localhost:8080/"
    },
    "id": "DgCQBQYAoZob",
    "outputId": "b8fa7e4d-d835-45a6-8c14-b35e7f0ee230"
   },
   "outputs": [
    {
     "name": "stdout",
     "output_type": "stream",
     "text": [
      "trainable params: 38,400 || all params: 124,478,208 || trainable%: 0.031\n"
     ]
    }
   ],
   "source": [
    "from peft import LoraConfig, PeftModel\n",
    "\n",
    "config = LoraConfig(\n",
    "    r=1,\n",
    "    lora_alpha=8,\n",
    "    target_modules=['c_attn'],\n",
    "    lora_dropout=0.4,\n",
    "    fan_in_fan_out=True,\n",
    "    bias='none',\n",
    "    modules_to_save=['score']\n",
    "    )\n",
    "\n",
    "r_model = PeftModel(r_model, config, adapter_name='lora')\n",
    "print_trainable_parameters(r_model)"
   ]
  },
  {
   "cell_type": "code",
   "execution_count": 11,
   "metadata": {
    "colab": {
     "base_uri": "https://localhost:8080/"
    },
    "id": "8vTRpFG7oZob",
    "outputId": "02a22211-90a8-444a-bbed-5fbbeca41465"
   },
   "outputs": [
    {
     "data": {
      "text/plain": [
       "PreferenceModel(\n",
       "  (pref): PeftModel(\n",
       "    (base_model): LoraModel(\n",
       "      (model): RewardModel(\n",
       "        (embedding): GPT2Model(\n",
       "          (wte): Embedding(50257, 768)\n",
       "          (wpe): Embedding(1024, 768)\n",
       "          (drop): Dropout(p=0.1, inplace=False)\n",
       "          (h): ModuleList(\n",
       "            (0-11): 12 x GPT2Block(\n",
       "              (ln_1): LayerNorm((768,), eps=1e-05, elementwise_affine=True)\n",
       "              (attn): GPT2Attention(\n",
       "                (c_attn): Linear(\n",
       "                  in_features=768, out_features=2304, bias=True\n",
       "                  (lora_dropout): ModuleDict(\n",
       "                    (lora): Dropout(p=0.4, inplace=False)\n",
       "                  )\n",
       "                  (lora_A): ModuleDict(\n",
       "                    (lora): Linear(in_features=768, out_features=1, bias=False)\n",
       "                  )\n",
       "                  (lora_B): ModuleDict(\n",
       "                    (lora): Linear(in_features=1, out_features=2304, bias=False)\n",
       "                  )\n",
       "                  (lora_embedding_A): ParameterDict()\n",
       "                  (lora_embedding_B): ParameterDict()\n",
       "                )\n",
       "                (c_proj): Conv1D()\n",
       "                (attn_dropout): Dropout(p=0.1, inplace=False)\n",
       "                (resid_dropout): Dropout(p=0.1, inplace=False)\n",
       "              )\n",
       "              (ln_2): LayerNorm((768,), eps=1e-05, elementwise_affine=True)\n",
       "              (mlp): GPT2MLP(\n",
       "                (c_fc): Conv1D()\n",
       "                (c_proj): Conv1D()\n",
       "                (act): NewGELUActivation()\n",
       "                (dropout): Dropout(p=0.1, inplace=False)\n",
       "              )\n",
       "            )\n",
       "          )\n",
       "          (ln_f): LayerNorm((768,), eps=1e-05, elementwise_affine=True)\n",
       "        )\n",
       "        (score): ModulesToSaveWrapper(\n",
       "          (original_module): Linear(in_features=768, out_features=1, bias=False)\n",
       "          (modules_to_save): ModuleDict(\n",
       "            (lora): Linear(in_features=768, out_features=1, bias=False)\n",
       "          )\n",
       "        )\n",
       "      )\n",
       "    )\n",
       "  )\n",
       ")"
      ]
     },
     "execution_count": 11,
     "metadata": {},
     "output_type": "execute_result"
    }
   ],
   "source": [
    "class PreferenceModel(nn.Module):\n",
    "\n",
    "    def __init__(self, model):\n",
    "        super().__init__()\n",
    "        self.pref = model\n",
    "\n",
    "    def forward(self, data):\n",
    "        input0, len0 = data['input_ids_0'], data['input_len_0']\n",
    "        input1, len1 = data['input_ids_1'], data['input_len_1']\n",
    "        score0 = self.pref(input0, len0)\n",
    "        score1 = self.pref(input1, len1)\n",
    "        out = torch.concat((score0, score1), dim=1)\n",
    "        loss = F.cross_entropy(out, data['label'])\n",
    "        return out, loss\n",
    "\n",
    "p_model = PreferenceModel(r_model).to(device)\n",
    "p_model"
   ]
  },
  {
   "cell_type": "code",
   "execution_count": 12,
   "metadata": {
    "colab": {
     "base_uri": "https://localhost:8080/"
    },
    "id": "fvccfQxAytlh",
    "outputId": "9dca51ef-d0ae-4498-fd2c-b06b6d14c39c"
   },
   "outputs": [
    {
     "name": "stdout",
     "output_type": "stream",
     "text": [
      "(tensor([[ 0.8231, -2.1441]], device='cuda:0'), tensor(3.0173, device='cuda:0')) tensor([1], device='cuda:0')\n",
      "tensor([[0.8231]], device='cuda:0')\n"
     ]
    }
   ],
   "source": [
    "example = test_set[:1]\n",
    "with torch.no_grad():\n",
    "    p_model.eval()\n",
    "    print(p_model(example), example['label'])\n",
    "    print(r_model(example['input_ids_0'], example['input_len_0']))\n",
    "    p_model.train()"
   ]
  },
  {
   "cell_type": "code",
   "execution_count": 13,
   "metadata": {
    "colab": {
     "base_uri": "https://localhost:8080/"
    },
    "id": "nyzFiQgwoZod",
    "outputId": "e6a8c52b-0055-49a4-e094-dccb98f5a71d"
   },
   "outputs": [
    {
     "data": {
      "text/plain": [
       "{'train': 0.9990766048431396, 'test': 1.0543365478515625}"
      ]
     },
     "execution_count": 13,
     "metadata": {},
     "output_type": "execute_result"
    }
   ],
   "source": [
    "from contextlib import nullcontext\n",
    "\n",
    "def estimate_loss(model, ctx=nullcontext()):\n",
    "    re = {}\n",
    "    # 将模型切换至评估模式\n",
    "    model.eval()\n",
    "    re['train'] = _loss(model, train_loader, ctx)\n",
    "    re['test'] = _loss(model, test_loader, ctx)\n",
    "    # 将模型切换至训练模式\n",
    "    model.train()\n",
    "    return re\n",
    "\n",
    "@torch.no_grad()\n",
    "def _loss(model, data_loader, ctx):\n",
    "    \"\"\"\n",
    "    计算模型在不同数据集下面的评估指标\n",
    "    \"\"\"\n",
    "    lossi = []\n",
    "    data_iter= iter(data_loader)\n",
    "    for k in range(eval_iters):\n",
    "        data = next(data_iter, None)\n",
    "        if data is None:\n",
    "            data_iter = iter(data_loader)\n",
    "            data = next(data_iter, None)\n",
    "        with ctx:\n",
    "            _, loss = model(data)\n",
    "            lossi.append(loss.item())\n",
    "    return torch.tensor(lossi).mean().item()\n",
    "\n",
    "estimate_loss(p_model)"
   ]
  },
  {
   "cell_type": "code",
   "execution_count": 14,
   "metadata": {
    "id": "cmTDuji-oZod"
   },
   "outputs": [],
   "source": [
    "# 参考自https://github.com/karpathy/nanoGPT/blob/master/train.py\n",
    "import math\n",
    "\n",
    "warmup_iters = 100\n",
    "lr_decay_iters = 3000\n",
    "min_lr = learning_rate / 10\n",
    "\n",
    "def get_lr(it):\n",
    "    # 1、线性预热\n",
    "    if it < warmup_iters:\n",
    "        return learning_rate * it / warmup_iters\n",
    "    # 2、超出lr_decay_iters，则返回min_lr\n",
    "    if it > lr_decay_iters:\n",
    "        return min_lr\n",
    "    # 3、逐步衰减学习速率\n",
    "    decay_ratio = (it - warmup_iters) / (lr_decay_iters - warmup_iters)\n",
    "    assert 0 <= decay_ratio <= 1\n",
    "    coeff = 0.5 * (1.0 + math.cos(math.pi * decay_ratio))\n",
    "    return min_lr + coeff * (learning_rate - min_lr)"
   ]
  },
  {
   "cell_type": "code",
   "execution_count": 15,
   "metadata": {
    "id": "wGlqCuDVoZod"
   },
   "outputs": [],
   "source": [
    "grad_clip = 1.0\n",
    "\n",
    "def train_reward_optimum(model, optimizer, data_loader, max_iters=1000):\n",
    "    lossi = []\n",
    "    scaler = torch.cuda.amp.GradScaler(enabled=(device == 'cuda'))\n",
    "    data_iter = iter(data_loader)\n",
    "\n",
    "    for iter_num in range(max_iters):\n",
    "        # 动态调整学习率\n",
    "        lr = get_lr(iter_num + 1)\n",
    "        for param_group in optimizer.param_groups:\n",
    "            param_group['lr'] = lr\n",
    "        for i in range(gra_acc_steps):\n",
    "            data = next(data_iter, None)\n",
    "            if data is None:\n",
    "                data_iter = iter(data_loader)\n",
    "                data = next(data_iter, None)\n",
    "            # 混合进度训练\n",
    "            ## 如果是用CPU进行计算，可能需要将dtype变成torch.bfloat16\n",
    "            ## 当然如果使用CPU，需要非常长的时间\n",
    "            ctx = torch.autocast(device_type=device, dtype=torch.float16)\n",
    "            with ctx:\n",
    "                _, loss = model(data)\n",
    "                lossi.append(loss.item())\n",
    "                loss *= 1 / gra_acc_steps\n",
    "            scaler.scale(loss).backward()\n",
    "        # 梯度裁剪\n",
    "        scaler.unscale_(optimizer)\n",
    "        clip_grad_norm_(model.parameters(), grad_clip)\n",
    "        scaler.step(optimizer)\n",
    "        scaler.update()\n",
    "        optimizer.zero_grad(set_to_none=True)\n",
    "\n",
    "        if iter_num % eval_interval == 0:\n",
    "            stats = estimate_loss(model, ctx)\n",
    "            train_loss = f'train loss {stats[\"train\"]:.4f}'\n",
    "            eval_loss = f'test loss {stats[\"test\"]:.4f}'\n",
    "            print(f'step {iter_num:>4}: {train_loss}, {eval_loss}')\n",
    "    return lossi"
   ]
  },
  {
   "cell_type": "code",
   "execution_count": 16,
   "metadata": {
    "colab": {
     "base_uri": "https://localhost:8080/"
    },
    "id": "I_Gu83XLoZoe",
    "outputId": "124df17c-560d-4192-df8e-cef906d66ec5"
   },
   "outputs": [
    {
     "name": "stdout",
     "output_type": "stream",
     "text": [
      "step    0: train loss 1.0442, test loss 0.9501\n",
      "step   50: train loss 0.6830, test loss 0.6951\n",
      "step  100: train loss 0.6545, test loss 0.6703\n",
      "step  150: train loss 0.6529, test loss 0.6690\n",
      "step  200: train loss 0.6491, test loss 0.6514\n",
      "step  250: train loss 0.6295, test loss 0.6609\n",
      "step  300: train loss 0.6293, test loss 0.6686\n",
      "step  350: train loss 0.6468, test loss 0.6415\n",
      "step  400: train loss 0.6317, test loss 0.6807\n",
      "step  450: train loss 0.6258, test loss 0.6348\n",
      "step  500: train loss 0.6277, test loss 0.6426\n",
      "step  550: train loss 0.6260, test loss 0.6535\n",
      "step  600: train loss 0.6235, test loss 0.6457\n",
      "step  650: train loss 0.6209, test loss 0.6771\n",
      "step  700: train loss 0.6109, test loss 0.6656\n",
      "step  750: train loss 0.6087, test loss 0.6395\n",
      "step  800: train loss 0.6060, test loss 0.6544\n",
      "step  850: train loss 0.5922, test loss 0.6524\n",
      "step  900: train loss 0.6052, test loss 0.6679\n",
      "step  950: train loss 0.5957, test loss 0.6456\n"
     ]
    }
   ],
   "source": [
    "weight_decay = 1e-1\n",
    "beta1 = 0.9\n",
    "beta2 = 0.95\n",
    "optimizer = optim.AdamW(p_model.parameters(), lr=learning_rate,\n",
    "                        betas=(beta1, beta2), weight_decay=weight_decay)\n",
    "l = train_reward_optimum(p_model, optimizer, train_loader, max_iters=1000)"
   ]
  },
  {
   "cell_type": "code",
   "execution_count": 17,
   "metadata": {
    "colab": {
     "base_uri": "https://localhost:8080/",
     "height": 448
    },
    "id": "le_tOTdloZoe",
    "outputId": "de1cdc16-1e76-4991-c70e-47e87d44066c"
   },
   "outputs": [
    {
     "data": {
      "text/plain": [
       "[<matplotlib.lines.Line2D at 0x7cb5d0a598d0>]"
      ]
     },
     "execution_count": 17,
     "metadata": {},
     "output_type": "execute_result"
    },
    {
     "data": {
      "image/png": "[encoded data removed]",
      "text/plain": [
       "<Figure size 640x480 with 1 Axes>"
      ]
     },
     "metadata": {},
     "output_type": "display_data"
    }
   ],
   "source": [
    "plt.plot(torch.tensor(l).view(-1, 10).mean(1).numpy())"
   ]
  },
  {
   "cell_type": "code",
   "execution_count": 18,
   "metadata": {
    "colab": {
     "base_uri": "https://localhost:8080/"
    },
    "id": "9FxIeHbBoZof",
    "outputId": "cc0d168b-95ee-4e7e-c3be-054d66919b74"
   },
   "outputs": [
    {
     "name": "stdout",
     "output_type": "stream",
     "text": [
      "(tensor([[2.9113, 2.4072]], device='cuda:0'), tensor(0.9766, device='cuda:0')) tensor([1], device='cuda:0')\n",
      "tensor([[2.9113]], device='cuda:0')\n"
     ]
    }
   ],
   "source": [
    "with torch.no_grad():\n",
    "    p_model.eval()\n",
    "    print(p_model(example), example['label'])\n",
    "    print(r_model(example['input_ids_0'], example['input_len_0']))\n",
    "    p_model.train()"
   ]
  }
 ],
 "metadata": {
  "accelerator": "GPU",
  "colab": {
   "gpuType": "A100",
   "provenance": []
  },
  "kernelspec": {
   "display_name": "Python 3",
   "language": "python",
   "name": "python3"
  },
  "language_info": {
   "codemirror_mode": {
    "name": "ipython",
    "version": 3
   },
   "file_extension": ".py",
   "mimetype": "text/x-python",
   "name": "python",
   "nbconvert_exporter": "python",
   "pygments_lexer": "ipython3",
   "version": "3.8.5"
  }
 },
 "nbformat": 4,
 "nbformat_minor": 1
}
