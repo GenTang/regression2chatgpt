{
 "cells": [
  {
   "cell_type": "code",
   "execution_count": 1,
   "metadata": {
    "colab": {
     "base_uri": "https://localhost:8080/"
    },
    "id": "1h1JT8eELKh2",
    "outputId": "bf0778ef-27c7-4818-cde1-5053733f4443"
   },
   "outputs": [
    {
     "data": {
      "text/plain": [
       "<torch._C.Generator at 0x7b05986c7e90>"
      ]
     },
     "execution_count": 1,
     "metadata": {},
     "output_type": "execute_result"
    }
   ],
   "source": [
    "import torch\n",
    "import torch.nn as nn\n",
    "import torch.nn.functional as F\n",
    "import torch.optim as optim\n",
    "from torch.nn.utils import clip_grad_norm_\n",
    "from transformers import AutoTokenizer, GPT2LMHeadModel\n",
    "from datasets import load_dataset\n",
    "import matplotlib.pyplot as plt\n",
    "%matplotlib inline\n",
    "\n",
    "\n",
    "torch.manual_seed(12046)\n",
    "# 计算设备为V100 16G\n",
    "# 如果使用CPU，需要非常长的时间，建议减少sequence_len、batch_size等参数来加快速度"
   ]
  },
  {
   "cell_type": "code",
   "execution_count": 2,
   "metadata": {
    "id": "6t4ZrY0SLKh3"
   },
   "outputs": [],
   "source": [
    "# 一些超参数\n",
    "learning_rate = 1e-2\n",
    "# 模型支持的最大文本长度\n",
    "sequence_len = 1024\n",
    "batch_size = 4\n",
    "device = 'cuda' if torch.cuda.is_available() else 'cpu'\n",
    "eval_iters = 4\n",
    "eval_interval = 50"
   ]
  },
  {
   "cell_type": "code",
   "execution_count": 3,
   "metadata": {
    "colab": {
     "base_uri": "https://localhost:8080/"
    },
    "id": "6Dtak9OKLKh4",
    "outputId": "12d50d2b-fa5f-417d-fa1e-848f30669b7e"
   },
   "outputs": [
    {
     "data": {
      "text/plain": [
       "GPT2LMHeadModel(\n",
       "  (transformer): GPT2Model(\n",
       "    (wte): Embedding(50257, 768)\n",
       "    (wpe): Embedding(1024, 768)\n",
       "    (drop): Dropout(p=0.1, inplace=False)\n",
       "    (h): ModuleList(\n",
       "      (0-11): 12 x GPT2Block(\n",
       "        (ln_1): LayerNorm((768,), eps=1e-05, elementwise_affine=True)\n",
       "        (attn): GPT2Attention(\n",
       "          (c_attn): Conv1D()\n",
       "          (c_proj): Conv1D()\n",
       "          (attn_dropout): Dropout(p=0.1, inplace=False)\n",
       "          (resid_dropout): Dropout(p=0.1, inplace=False)\n",
       "        )\n",
       "        (ln_2): LayerNorm((768,), eps=1e-05, elementwise_affine=True)\n",
       "        (mlp): GPT2MLP(\n",
       "          (c_fc): Conv1D()\n",
       "          (c_proj): Conv1D()\n",
       "          (act): NewGELUActivation()\n",
       "          (dropout): Dropout(p=0.1, inplace=False)\n",
       "        )\n",
       "      )\n",
       "    )\n",
       "    (ln_f): LayerNorm((768,), eps=1e-05, elementwise_affine=True)\n",
       "  )\n",
       "  (lm_head): Linear(in_features=768, out_features=50257, bias=False)\n",
       ")"
      ]
     },
     "execution_count": 3,
     "metadata": {},
     "output_type": "execute_result"
    }
   ],
   "source": [
    "tokenizer = AutoTokenizer.from_pretrained('gpt2')\n",
    "model = GPT2LMHeadModel.from_pretrained('gpt2').to(device)\n",
    "# 开源GPT-2模型的结构\n",
    "model"
   ]
  },
  {
   "cell_type": "code",
   "execution_count": 4,
   "metadata": {
    "colab": {
     "base_uri": "https://localhost:8080/",
     "height": 105,
     "referenced_widgets": [
      "ae30a280af464393a17f16d8bd991e50",
      "412090d7ce2842d8979b6ee4ca19a0fe",
      "2dd504bb8b464afea0ac61bc41c129cc",
      "5a3141d40ea143ae948b4023284d2ae6",
      "3a50612ff1584cd48e7f3a43dc733d1b",
      "611a6f0cf7434f4186bbe6961a54742e",
      "0c1ff22ae7f6497c884f8e36bd078812",
      "35839dbe38074fe88d72dfd6d15c2192",
      "58b629ccc0304e549e2b13e566faa36b",
      "159fd68f34d440388ca2e8221d6d49f2",
      "b7ef0e6d0af94849b32d918f5b360f72"
     ]
    },
    "id": "B67BMW5SLKh5",
    "outputId": "c2e234e8-0130-47da-a765-f15c8c3cd068"
   },
   "outputs": [
    {
     "data": {
      "application/vnd.jupyter.widget-view+json": {
       "model_id": "ae30a280af464393a17f16d8bd991e50",
       "version_major": 2,
       "version_minor": 0
      },
      "text/plain": [
       "Map:   0%|          | 0/46801 [00:00<?, ? examples/s]"
      ]
     },
     "metadata": {},
     "output_type": "display_data"
    },
    {
     "name": "stderr",
     "output_type": "stream",
     "text": [
      "Token indices sequence length is longer than the specified maximum sequence length for this model (1044 > 1024). Running this sequence through the model will result in indexing errors\n"
     ]
    },
    {
     "data": {
      "text/plain": [
       "torch.Size([5241682])"
      ]
     },
     "execution_count": 4,
     "metadata": {},
     "output_type": "execute_result"
    }
   ],
   "source": [
    "def process(data):\n",
    "    '''\n",
    "    对文本进行分词\n",
    "    '''\n",
    "    ids = tokenizer.encode(data['text'])\n",
    "    # 增加表示文本结束的特殊字符\n",
    "    ids.append(tokenizer.eos_token_id)\n",
    "    out = {'ids': ids}\n",
    "    return out\n",
    "\n",
    "def concat_data(datasets):\n",
    "    '''\n",
    "    将文本分词，并将结果拼接成一个长长的字符串\n",
    "    '''\n",
    "    tokenized = datasets.map(process, remove_columns=datasets.column_names)\n",
    "    tokenized.set_format(type='torch', device=device)\n",
    "    # 将所有文本拼接成一个长长的字符串\n",
    "    concat_text = torch.concatenate(tokenized['ids'])\n",
    "    return concat_text\n",
    "\n",
    "raw_datasets = load_dataset('tatsu-lab/alpaca')\n",
    "raw_datasets = raw_datasets['train'].train_test_split(test_size=0.1, seed=1024, shuffle=True)\n",
    "train_set = concat_data(raw_datasets['train'])\n",
    "test_set = concat_data(raw_datasets['test'])\n",
    "\n",
    "train_set.shape"
   ]
  },
  {
   "cell_type": "code",
   "execution_count": 5,
   "metadata": {
    "colab": {
     "base_uri": "https://localhost:8080/"
    },
    "id": "sTMUMVroLKh5",
    "outputId": "18f88fd1-4f13-457e-fe50-447e215e4ddb"
   },
   "outputs": [
    {
     "data": {
      "text/plain": [
       "(tensor([[  279,    67,    13,  ...,  1690,   351,   262],\n",
       "         [  198,  8645,   378,  ...,   198,   198, 21017],\n",
       "         [19430,   257,  2882,  ...,  4727,   644,   561],\n",
       "         [  317,    13, 33295,  ...,   198, 21017, 18261]], device='cuda:0'),\n",
       " tensor([[   67,    13,   961,  ...,   351,   262,  1037],\n",
       "         [ 8645,   378,   257,  ...,   198, 21017, 18261],\n",
       "         [  257,  2882,   326,  ...,   644,   561,   423],\n",
       "         [   13, 33295,     7,  ..., 21017, 18261,    25]], device='cuda:0'))"
      ]
     },
     "execution_count": 5,
     "metadata": {},
     "output_type": "execute_result"
    }
   ],
   "source": [
    "def get_data(data, batch_size, sequence_len):\n",
    "    '''\n",
    "    生成训练数据\n",
    "    '''\n",
    "    # 生成截取数据的起点，形状为(B)，其中B等于batch_size，表示批量数据的大小\n",
    "    ix = torch.randint(len(data) - sequence_len, (batch_size,))\n",
    "    x = torch.stack([data[i: i + sequence_len] for i in ix])\n",
    "    # 预测标签是下一个字母，因此只需要挪动一个位置即可\n",
    "    y = torch.stack([data[i + 1: i + 1 + sequence_len] for i in ix])\n",
    "    return x, y\n",
    "\n",
    "get_data(test_set, batch_size, sequence_len)"
   ]
  },
  {
   "cell_type": "code",
   "execution_count": 6,
   "metadata": {
    "id": "15YcHmQvLKh7"
   },
   "outputs": [],
   "source": [
    "def print_trainable_parameters(model):\n",
    "    \"\"\"\n",
    "    输出模型中可供训练的参数个数\n",
    "    \"\"\"\n",
    "    trainable_params = 0\n",
    "    all_param = 0\n",
    "    for _, param in model.named_parameters():\n",
    "        all_param += param.numel()\n",
    "        if param.requires_grad:\n",
    "            trainable_params += param.numel()\n",
    "    trainable = f'trainable params: {trainable_params:,}'\n",
    "    params = f'all params: {all_param:,}'\n",
    "    percent = f'trainable%: {100 * trainable_params / all_param:.3f}'\n",
    "    print(f'{trainable} || {params} || {percent}')"
   ]
  },
  {
   "cell_type": "code",
   "execution_count": 7,
   "metadata": {
    "colab": {
     "base_uri": "https://localhost:8080/"
    },
    "id": "Zy9_Nuf7LKh8",
    "outputId": "0a4f43f2-8959-426d-b7a7-085e04df2e67"
   },
   "outputs": [
    {
     "name": "stdout",
     "output_type": "stream",
     "text": [
      "trainable params: 124,439,808 || all params: 124,439,808 || trainable%: 100.000\n",
      "trainable params: 147,456 || all params: 124,587,264 || trainable%: 0.118\n"
     ]
    }
   ],
   "source": [
    "from peft import LoraConfig, PeftModel\n",
    "\n",
    "def init_peft_model(model):\n",
    "    # 设置LoRA参数\n",
    "    config = LoraConfig(\n",
    "        r=4,\n",
    "        lora_alpha=32,\n",
    "        target_modules=['c_attn'],\n",
    "        lora_dropout=0.1,\n",
    "        # c_attn.weight的形状是(fan_in, fan_out)，所以该参数设置为True\n",
    "        # 但需注意的是，普通的线性模型权重参数的形状是(fan_out, fan_in)\n",
    "        fan_in_fan_out=True,\n",
    "        bias='none')\n",
    "    return PeftModel(model, config, adapter_name='lora_alpaca')\n",
    "\n",
    "print_trainable_parameters(model)\n",
    "model = init_peft_model(model)\n",
    "# 确保模型在训练状态\n",
    "model.train()\n",
    "print_trainable_parameters(model)"
   ]
  },
  {
   "cell_type": "code",
   "execution_count": 8,
   "metadata": {
    "colab": {
     "base_uri": "https://localhost:8080/"
    },
    "id": "T13FbMZaLKh8",
    "outputId": "62497bce-944f-4795-b9ec-74f72c9e5593"
   },
   "outputs": [
    {
     "data": {
      "text/plain": [
       "PeftModel(\n",
       "  (base_model): LoraModel(\n",
       "    (model): GPT2LMHeadModel(\n",
       "      (transformer): GPT2Model(\n",
       "        (wte): Embedding(50257, 768)\n",
       "        (wpe): Embedding(1024, 768)\n",
       "        (drop): Dropout(p=0.1, inplace=False)\n",
       "        (h): ModuleList(\n",
       "          (0-11): 12 x GPT2Block(\n",
       "            (ln_1): LayerNorm((768,), eps=1e-05, elementwise_affine=True)\n",
       "            (attn): GPT2Attention(\n",
       "              (c_attn): Linear(\n",
       "                in_features=768, out_features=2304, bias=True\n",
       "                (lora_dropout): ModuleDict(\n",
       "                  (lora_alpaca): Dropout(p=0.1, inplace=False)\n",
       "                )\n",
       "                (lora_A): ModuleDict(\n",
       "                  (lora_alpaca): Linear(in_features=768, out_features=4, bias=False)\n",
       "                )\n",
       "                (lora_B): ModuleDict(\n",
       "                  (lora_alpaca): Linear(in_features=4, out_features=2304, bias=False)\n",
       "                )\n",
       "                (lora_embedding_A): ParameterDict()\n",
       "                (lora_embedding_B): ParameterDict()\n",
       "              )\n",
       "              (c_proj): Conv1D()\n",
       "              (attn_dropout): Dropout(p=0.1, inplace=False)\n",
       "              (resid_dropout): Dropout(p=0.1, inplace=False)\n",
       "            )\n",
       "            (ln_2): LayerNorm((768,), eps=1e-05, elementwise_affine=True)\n",
       "            (mlp): GPT2MLP(\n",
       "              (c_fc): Conv1D()\n",
       "              (c_proj): Conv1D()\n",
       "              (act): NewGELUActivation()\n",
       "              (dropout): Dropout(p=0.1, inplace=False)\n",
       "            )\n",
       "          )\n",
       "        )\n",
       "        (ln_f): LayerNorm((768,), eps=1e-05, elementwise_affine=True)\n",
       "      )\n",
       "      (lm_head): Linear(in_features=768, out_features=50257, bias=False)\n",
       "    )\n",
       "  )\n",
       ")"
      ]
     },
     "execution_count": 8,
     "metadata": {},
     "output_type": "execute_result"
    }
   ],
   "source": [
    "# 加入LoRA后，模型的结构\n",
    "model"
   ]
  },
  {
   "cell_type": "code",
   "execution_count": 9,
   "metadata": {
    "colab": {
     "base_uri": "https://localhost:8080/"
    },
    "id": "Wb5LW_BKLKh9",
    "outputId": "74097362-1e12-4c0f-b7a3-cbc448171660"
   },
   "outputs": [
    {
     "data": {
      "text/plain": [
       "{'train': 2.6983275413513184, 'test': 2.678028106689453}"
      ]
     },
     "execution_count": 9,
     "metadata": {},
     "output_type": "execute_result"
    }
   ],
   "source": [
    "from contextlib import nullcontext\n",
    "\n",
    "def estimate_loss(model, ctx=nullcontext()):\n",
    "    '''\n",
    "    估计模型损失\n",
    "    ctx参数是为禁用LoRA或者混合精度做准备，当ctx=nullcontext()时，没有任何作用\n",
    "    '''\n",
    "    re = {}\n",
    "    # 将模型切换至评估模式\n",
    "    model.eval()\n",
    "    _train = lambda: get_data(train_set, batch_size, sequence_len)\n",
    "    re['train'] = _loss(model, _train, ctx)\n",
    "    _test = lambda: get_data(test_set, batch_size, sequence_len)\n",
    "    re['test'] = _loss(model, _test, ctx)\n",
    "    # 将模型切换至训练模式\n",
    "    model.train()\n",
    "    return re\n",
    "\n",
    "@torch.no_grad()\n",
    "def _loss(model, data_loader, ctx):\n",
    "    \"\"\"\n",
    "    计算模型在不同数据集下面的评估指标\n",
    "    \"\"\"\n",
    "    loss = []\n",
    "    # 随机使用多个批量数据来预估模型效果\n",
    "    for k in range(eval_iters):\n",
    "        inputs, labels = data_loader()\n",
    "        with ctx:\n",
    "            logits = model(inputs).logits\n",
    "            # 根据cross_entropy的定义，需要对logits进行转置运算\n",
    "            # 具体细节请参考cross_entropy的官方文档\n",
    "            logits = logits.transpose(-2, -1)\n",
    "            loss.append(F.cross_entropy(logits, labels).item())\n",
    "    return torch.tensor(loss).mean().item()\n",
    "\n",
    "estimate_loss(model)"
   ]
  },
  {
   "cell_type": "code",
   "execution_count": 10,
   "metadata": {
    "id": "v6Tlrjv2LKh-"
   },
   "outputs": [],
   "source": [
    "def train_gpt(model, optimizer, data_loader, max_iters=1000):\n",
    "    lossi = []\n",
    "    for iter_num in range(max_iters):\n",
    "        optimizer.zero_grad(set_to_none=True)\n",
    "        inputs, labels = data_loader()\n",
    "        logits = model(inputs).logits\n",
    "        # 根据cross_entropy的定义，需要对logits进行转置运算\n",
    "        # 具体细节请参考cross_entropy的官方文档\n",
    "        logits = logits.transpose(-2, -1)\n",
    "        loss = F.cross_entropy(logits, labels)\n",
    "        lossi.append(loss.item())\n",
    "        loss.backward()\n",
    "        optimizer.step()\n",
    "        if iter_num % eval_interval == 0:\n",
    "            stats = estimate_loss(model)\n",
    "            train_loss = f'train loss {stats[\"train\"]:.4f}'\n",
    "            test_loss = f'test loss {stats[\"test\"]:.4f}'\n",
    "            print(f'step {iter_num:>4}: {train_loss}, {test_loss}')\n",
    "    return lossi"
   ]
  },
  {
   "cell_type": "code",
   "execution_count": 11,
   "metadata": {
    "colab": {
     "base_uri": "https://localhost:8080/"
    },
    "id": "K68N_0ZyLKh-",
    "outputId": "0ff83a63-2919-4955-e96e-1ddf281269e5"
   },
   "outputs": [
    {
     "name": "stdout",
     "output_type": "stream",
     "text": [
      "step    0: train loss 2.2870, test loss 2.3158\n",
      "step   50: train loss 1.7305, test loss 1.7837\n",
      "step  100: train loss 1.6436, test loss 1.7209\n",
      "step  150: train loss 1.7382, test loss 1.6713\n",
      "step  200: train loss 1.7056, test loss 1.7386\n",
      "step  250: train loss 1.6550, test loss 1.8193\n",
      "step  300: train loss 6.7129, test loss 6.9341\n",
      "step  350: train loss 6.7540, test loss 7.1159\n",
      "step  400: train loss 7.0552, test loss 7.0193\n",
      "step  450: train loss 6.7841, test loss 6.7284\n"
     ]
    }
   ],
   "source": [
    "# 粗糙的训练方式可能会使模型效果急剧恶化\n",
    "data_loader = lambda: get_data(train_set, batch_size, sequence_len)\n",
    "optimizer = optim.AdamW(model.parameters(), lr=learning_rate)\n",
    "l = train_gpt(model, optimizer, data_loader, max_iters=500)"
   ]
  },
  {
   "cell_type": "code",
   "execution_count": 12,
   "metadata": {
    "colab": {
     "base_uri": "https://localhost:8080/",
     "height": 448
    },
    "id": "iMCmctGPTczt",
    "outputId": "0510d2e8-76b2-49eb-ec32-c74cdcafb8e3"
   },
   "outputs": [
    {
     "data": {
      "text/plain": [
       "[<matplotlib.lines.Line2D at 0x7b0464da68c0>]"
      ]
     },
     "execution_count": 12,
     "metadata": {},
     "output_type": "execute_result"
    },
    {
     "data": {
      "image/png": "[encoded data removed]",
      "text/plain": [
       "<Figure size 640x480 with 1 Axes>"
      ]
     },
     "metadata": {},
     "output_type": "display_data"
    }
   ],
   "source": [
    "plt.plot(torch.tensor(l).view(-1, 10).mean(1).numpy())"
   ]
  },
  {
   "cell_type": "code",
   "execution_count": 13,
   "metadata": {
    "id": "0C7dGZoH1wYs"
   },
   "outputs": [],
   "source": [
    "# 使用更精细的训练方式微调大语言模型\n",
    "# get_lr的实现参考自https://github.com/karpathy/nanoGPT/blob/master/train.py\n",
    "import math\n",
    "\n",
    "learning_rate = 6e-4\n",
    "warmup_iters = 200\n",
    "lr_decay_iters = 6000\n",
    "min_lr = learning_rate / 10\n",
    "\n",
    "def get_lr(it):\n",
    "    '''\n",
    "    动态调整学习速率\n",
    "    it表示训练次数\n",
    "    '''\n",
    "    # 1、线性预热\n",
    "    if it < warmup_iters:\n",
    "        return learning_rate * it / warmup_iters\n",
    "    # 2、超出lr_decay_iters，则返回min_lr\n",
    "    if it > lr_decay_iters:\n",
    "        return min_lr\n",
    "    # 3、逐步衰减学习速率\n",
    "    decay_ratio = (it - warmup_iters) / (lr_decay_iters - warmup_iters)\n",
    "    assert 0 <= decay_ratio <= 1\n",
    "    coeff = 0.5 * (1.0 + math.cos(math.pi * decay_ratio))\n",
    "    return min_lr + coeff * (learning_rate - min_lr)"
   ]
  },
  {
   "cell_type": "code",
   "execution_count": 14,
   "metadata": {
    "id": "wKhgo30-i1Yy"
   },
   "outputs": [],
   "source": [
    "# 梯度裁剪的超参数\n",
    "grad_clip = 1.0\n",
    "\n",
    "def train_gpt_optimum(model, optimizer, data_loader, max_iters=1000):\n",
    "    lossi = []\n",
    "    scaler = torch.cuda.amp.GradScaler(enabled=(device == 'cuda'))\n",
    "    for iter_num in range(max_iters):\n",
    "        # 动态调整学习率\n",
    "        lr = get_lr(iter_num + 1)\n",
    "        for param_group in optimizer.param_groups:\n",
    "            param_group['lr'] = lr\n",
    "        # 梯度累积\n",
    "        for i in range(gra_acc_steps):\n",
    "            inputs, labels = data_loader()\n",
    "            # 混合精度训练\n",
    "            ## 如果是用CPU进行计算，可能需要将dtype变成torch.bfloat16\n",
    "            ## 当然如果使用CPU，需要非常长的时间\n",
    "            ctx = torch.autocast(device_type=device, dtype=torch.float16)\n",
    "            with ctx:\n",
    "                logits = model(inputs).logits\n",
    "                logits = logits.transpose(-2, -1)\n",
    "                loss = F.cross_entropy(logits, labels)\n",
    "                lossi.append(loss.item())\n",
    "                loss *= 1 / gra_acc_steps\n",
    "            scaler.scale(loss).backward()\n",
    "        # 梯度裁剪\n",
    "        scaler.unscale_(optimizer)\n",
    "        clip_grad_norm_(model.parameters(), grad_clip)\n",
    "        scaler.step(optimizer)\n",
    "        scaler.update()\n",
    "        optimizer.zero_grad(set_to_none=True)\n",
    "\n",
    "        if iter_num % eval_interval == 0:\n",
    "            # 预估模型损失时，也使用混合精度\n",
    "            stats = estimate_loss(model, ctx)\n",
    "            train_loss = f'train loss {stats[\"train\"]:.4f}'\n",
    "            test_loss = f'test loss {stats[\"test\"]:.4f}'\n",
    "            print(f'step {iter_num:>4}: {train_loss}, {test_loss}')\n",
    "    return lossi"
   ]
  },
  {
   "cell_type": "code",
   "execution_count": 15,
   "metadata": {
    "id": "0VeCUdN9o6qX"
   },
   "outputs": [],
   "source": [
    "# 调整批量数据的大小（如需要）\n",
    "batch_size = 4\n",
    "# 定义梯度累积的步数\n",
    "gra_acc_steps = 8 * 2\n",
    "# 重新定义data loader\n",
    "data_loader = lambda: get_data(train_set, batch_size, sequence_len)"
   ]
  },
  {
   "cell_type": "code",
   "execution_count": 16,
   "metadata": {
    "colab": {
     "base_uri": "https://localhost:8080/"
    },
    "id": "k9JRRMu9TZ74",
    "outputId": "5b81c1e5-86f2-486c-d50b-3b2dba142a8c"
   },
   "outputs": [
    {
     "name": "stdout",
     "output_type": "stream",
     "text": [
      "step    0: train loss 2.6000, test loss 2.6805\n",
      "step   50: train loss 2.1166, test loss 2.0954\n",
      "step  100: train loss 1.9085, test loss 1.9194\n",
      "step  150: train loss 1.7128, test loss 1.7238\n",
      "step  200: train loss 1.6530, test loss 1.6679\n",
      "step  250: train loss 1.6406, test loss 1.7275\n",
      "step  300: train loss 1.6570, test loss 1.6419\n",
      "step  350: train loss 1.6033, test loss 1.5997\n",
      "step  400: train loss 1.6507, test loss 1.6697\n",
      "step  450: train loss 1.6581, test loss 1.6455\n",
      "step  500: train loss 1.5530, test loss 1.6089\n",
      "step  550: train loss 1.5932, test loss 1.5903\n",
      "step  600: train loss 1.6575, test loss 1.5049\n",
      "step  650: train loss 1.6352, test loss 1.6351\n",
      "step  700: train loss 1.5718, test loss 1.5704\n",
      "step  750: train loss 1.5263, test loss 1.6099\n",
      "step  800: train loss 1.5926, test loss 1.6091\n",
      "step  850: train loss 1.6165, test loss 1.6354\n",
      "step  900: train loss 1.5676, test loss 1.6137\n",
      "step  950: train loss 1.5986, test loss 1.5285\n"
     ]
    }
   ],
   "source": [
    "# 卸载LoRA适配器\n",
    "model.unload()\n",
    "# 清空GPU缓存\n",
    "torch.cuda.empty_cache()\n",
    "# 重新安装LoRA适配器\n",
    "model = init_peft_model(model)\n",
    "# 设置最优化算法的参数\n",
    "weight_decay = 1e-1\n",
    "beta1 = 0.9\n",
    "beta2 = 0.95\n",
    "optimizer = optim.AdamW(model.parameters(), lr=learning_rate,\n",
    "                        betas=(beta1, beta2), weight_decay=weight_decay)\n",
    "l = train_gpt_optimum(model, optimizer, data_loader, max_iters=1000)"
   ]
  },
  {
   "cell_type": "code",
   "execution_count": 17,
   "metadata": {
    "colab": {
     "base_uri": "https://localhost:8080/",
     "height": 448
    },
    "id": "pCojwhGyyRqL",
    "outputId": "7328824b-f75a-4c11-c192-52c150d26a3a"
   },
   "outputs": [
    {
     "data": {
      "text/plain": [
       "[<matplotlib.lines.Line2D at 0x7b04616e10c0>]"
      ]
     },
     "execution_count": 17,
     "metadata": {},
     "output_type": "execute_result"
    },
    {
     "data": {
      "image/png": "[encoded data removed]",
      "text/plain": [
       "<Figure size 640x480 with 1 Axes>"
      ]
     },
     "metadata": {},
     "output_type": "display_data"
    }
   ],
   "source": [
    "plt.plot(torch.tensor(l).view(-1, 10).mean(1).numpy())"
   ]
  },
  {
   "cell_type": "code",
   "execution_count": 53,
   "metadata": {
    "id": "k5vlgMO8P-3f"
   },
   "outputs": [],
   "source": [
    "def make_inference(model, question):\n",
    "    # 保存跟微调训练数据一致的格式\n",
    "    context = 'Below is an instruction that describes a task.' + \\\n",
    "    ' Write a response that appropriately completes the request.\\n\\n'\n",
    "    instruction = f'### Instruction:\\n{question}\\n\\n### Response:\\n'\n",
    "    token = tokenizer(f'{context}{instruction}', return_tensors='pt').to(device)\n",
    "    # 生成文本时，需要将模型调整成评估模式\n",
    "    model.eval()\n",
    "    output_tokens = model.generate(**token, max_new_tokens=100, early_stopping=True)\n",
    "    model.train()\n",
    "    print(tokenizer.decode(output_tokens[0], skip_special_tokens=True))"
   ]
  },
  {
   "cell_type": "code",
   "execution_count": 56,
   "metadata": {
    "colab": {
     "base_uri": "https://localhost:8080/"
    },
    "id": "SC-5Ri1Z8qcR",
    "outputId": "c287f0b3-c07b-4b3c-efd6-81568f529110"
   },
   "outputs": [
    {
     "name": "stderr",
     "output_type": "stream",
     "text": [
      "Setting `pad_token_id` to `eos_token_id`:50256 for open-end generation.\n"
     ]
    },
    {
     "name": "stdout",
     "output_type": "stream",
     "text": [
      "Below is an instruction that describes a task. Write a response that appropriately completes the request.\n",
      "\n",
      "### Instruction:\n",
      "Where is the capital of China?\n",
      "\n",
      "### Response:\n",
      "The capital of China is Beijing.\n"
     ]
    }
   ],
   "source": [
    "make_inference(model, 'Where is the capital of China?')"
   ]
  },
  {
   "cell_type": "code",
   "execution_count": 57,
   "metadata": {
    "colab": {
     "base_uri": "https://localhost:8080/"
    },
    "id": "UwnVbc1C9DTR",
    "outputId": "00531adb-d3db-436c-c6d0-fb42ce32cdd7"
   },
   "outputs": [
    {
     "name": "stderr",
     "output_type": "stream",
     "text": [
      "Setting `pad_token_id` to `eos_token_id`:50256 for open-end generation.\n"
     ]
    },
    {
     "name": "stdout",
     "output_type": "stream",
     "text": [
      "Below is an instruction that describes a task. Write a response that appropriately completes the request.\n",
      "\n",
      "### Instruction:\n",
      "Where is the capital of China?\n",
      "\n",
      "### Response:\n",
      "\n",
      "The capital of China is the capital of China.\n",
      "\n",
      "### Response:\n",
      "\n",
      "The capital of China is the capital of China.\n",
      "\n",
      "### Response:\n",
      "\n",
      "The capital of China is the capital of China.\n",
      "\n",
      "### Response:\n",
      "\n",
      "The capital of China is the capital of China.\n",
      "\n",
      "### Response:\n",
      "\n",
      "The capital of China is the capital of China.\n",
      "\n",
      "### Response:\n",
      "\n",
      "The capital of China is the capital of China.\n",
      "\n",
      "### Response\n"
     ]
    }
   ],
   "source": [
    "# 微调之前的模型效果（禁用LoRA相当于回到微调之前的模型状态）\n",
    "with model.disable_adapter():\n",
    "    make_inference(model, 'Where is the capital of China?')"
   ]
  }
 ],
 "metadata": {
  "accelerator": "GPU",
  "colab": {
   "gpuType": "V100",
   "provenance": []
  },
  "kernelspec": {
   "display_name": "Python 3",
   "language": "python",
   "name": "python3"
  },
  "language_info": {
   "codemirror_mode": {
    "name": "ipython",
    "version": 3
   },
   "file_extension": ".py",
   "mimetype": "text/x-python",
   "name": "python",
   "nbconvert_exporter": "python",
   "pygments_lexer": "ipython3",
   "version": "3.8.5"
  },
  "widgets": {
   "application/vnd.jupyter.widget-state+json": {
    "0c1ff22ae7f6497c884f8e36bd078812": {
     "model_module": "@jupyter-widgets/controls",
     "model_module_version": "1.5.0",
     "model_name": "DescriptionStyleModel",
     "state": {
      "_model_module": "@jupyter-widgets/controls",
      "_model_module_version": "1.5.0",
      "_model_name": "DescriptionStyleModel",
      "_view_count": null,
      "_view_module": "@jupyter-widgets/base",
      "_view_module_version": "1.2.0",
      "_view_name": "StyleView",
      "description_width": ""
     }
    },
    "159fd68f34d440388ca2e8221d6d49f2": {
     "model_module": "@jupyter-widgets/base",
     "model_module_version": "1.2.0",
     "model_name": "LayoutModel",
     "state": {
      "_model_module": "@jupyter-widgets/base",
      "_model_module_version": "1.2.0",
      "_model_name": "LayoutModel",
      "_view_count": null,
      "_view_module": "@jupyter-widgets/base",
      "_view_module_version": "1.2.0",
      "_view_name": "LayoutView",
      "align_content": null,
      "align_items": null,
      "align_self": null,
      "border": null,
      "bottom": null,
      "display": null,
      "flex": null,
      "flex_flow": null,
      "grid_area": null,
      "grid_auto_columns": null,
      "grid_auto_flow": null,
      "grid_auto_rows": null,
      "grid_column": null,
      "grid_gap": null,
      "grid_row": null,
      "grid_template_areas": null,
      "grid_template_columns": null,
      "grid_template_rows": null,
      "height": null,
      "justify_content": null,
      "justify_items": null,
      "left": null,
      "margin": null,
      "max_height": null,
      "max_width": null,
      "min_height": null,
      "min_width": null,
      "object_fit": null,
      "object_position": null,
      "order": null,
      "overflow": null,
      "overflow_x": null,
      "overflow_y": null,
      "padding": null,
      "right": null,
      "top": null,
      "visibility": null,
      "width": null
     }
    },
    "2dd504bb8b464afea0ac61bc41c129cc": {
     "model_module": "@jupyter-widgets/controls",
     "model_module_version": "1.5.0",
     "model_name": "FloatProgressModel",
     "state": {
      "_dom_classes": [],
      "_model_module": "@jupyter-widgets/controls",
      "_model_module_version": "1.5.0",
      "_model_name": "FloatProgressModel",
      "_view_count": null,
      "_view_module": "@jupyter-widgets/controls",
      "_view_module_version": "1.5.0",
      "_view_name": "ProgressView",
      "bar_style": "success",
      "description": "",
      "description_tooltip": null,
      "layout": "IPY_MODEL_35839dbe38074fe88d72dfd6d15c2192",
      "max": 46801,
      "min": 0,
      "orientation": "horizontal",
      "style": "IPY_MODEL_58b629ccc0304e549e2b13e566faa36b",
      "value": 46801
     }
    },
    "35839dbe38074fe88d72dfd6d15c2192": {
     "model_module": "@jupyter-widgets/base",
     "model_module_version": "1.2.0",
     "model_name": "LayoutModel",
     "state": {
      "_model_module": "@jupyter-widgets/base",
      "_model_module_version": "1.2.0",
      "_model_name": "LayoutModel",
      "_view_count": null,
      "_view_module": "@jupyter-widgets/base",
      "_view_module_version": "1.2.0",
      "_view_name": "LayoutView",
      "align_content": null,
      "align_items": null,
      "align_self": null,
      "border": null,
      "bottom": null,
      "display": null,
      "flex": null,
      "flex_flow": null,
      "grid_area": null,
      "grid_auto_columns": null,
      "grid_auto_flow": null,
      "grid_auto_rows": null,
      "grid_column": null,
      "grid_gap": null,
      "grid_row": null,
      "grid_template_areas": null,
      "grid_template_columns": null,
      "grid_template_rows": null,
      "height": null,
      "justify_content": null,
      "justify_items": null,
      "left": null,
      "margin": null,
      "max_height": null,
      "max_width": null,
      "min_height": null,
      "min_width": null,
      "object_fit": null,
      "object_position": null,
      "order": null,
      "overflow": null,
      "overflow_x": null,
      "overflow_y": null,
      "padding": null,
      "right": null,
      "top": null,
      "visibility": null,
      "width": null
     }
    },
    "3a50612ff1584cd48e7f3a43dc733d1b": {
     "model_module": "@jupyter-widgets/base",
     "model_module_version": "1.2.0",
     "model_name": "LayoutModel",
     "state": {
      "_model_module": "@jupyter-widgets/base",
      "_model_module_version": "1.2.0",
      "_model_name": "LayoutModel",
      "_view_count": null,
      "_view_module": "@jupyter-widgets/base",
      "_view_module_version": "1.2.0",
      "_view_name": "LayoutView",
      "align_content": null,
      "align_items": null,
      "align_self": null,
      "border": null,
      "bottom": null,
      "display": null,
      "flex": null,
      "flex_flow": null,
      "grid_area": null,
      "grid_auto_columns": null,
      "grid_auto_flow": null,
      "grid_auto_rows": null,
      "grid_column": null,
      "grid_gap": null,
      "grid_row": null,
      "grid_template_areas": null,
      "grid_template_columns": null,
      "grid_template_rows": null,
      "height": null,
      "justify_content": null,
      "justify_items": null,
      "left": null,
      "margin": null,
      "max_height": null,
      "max_width": null,
      "min_height": null,
      "min_width": null,
      "object_fit": null,
      "object_position": null,
      "order": null,
      "overflow": null,
      "overflow_x": null,
      "overflow_y": null,
      "padding": null,
      "right": null,
      "top": null,
      "visibility": null,
      "width": null
     }
    },
    "412090d7ce2842d8979b6ee4ca19a0fe": {
     "model_module": "@jupyter-widgets/controls",
     "model_module_version": "1.5.0",
     "model_name": "HTMLModel",
     "state": {
      "_dom_classes": [],
      "_model_module": "@jupyter-widgets/controls",
      "_model_module_version": "1.5.0",
      "_model_name": "HTMLModel",
      "_view_count": null,
      "_view_module": "@jupyter-widgets/controls",
      "_view_module_version": "1.5.0",
      "_view_name": "HTMLView",
      "description": "",
      "description_tooltip": null,
      "layout": "IPY_MODEL_611a6f0cf7434f4186bbe6961a54742e",
      "placeholder": "​",
      "style": "IPY_MODEL_0c1ff22ae7f6497c884f8e36bd078812",
      "value": "Map: 100%"
     }
    },
    "58b629ccc0304e549e2b13e566faa36b": {
     "model_module": "@jupyter-widgets/controls",
     "model_module_version": "1.5.0",
     "model_name": "ProgressStyleModel",
     "state": {
      "_model_module": "@jupyter-widgets/controls",
      "_model_module_version": "1.5.0",
      "_model_name": "ProgressStyleModel",
      "_view_count": null,
      "_view_module": "@jupyter-widgets/base",
      "_view_module_version": "1.2.0",
      "_view_name": "StyleView",
      "bar_color": null,
      "description_width": ""
     }
    },
    "5a3141d40ea143ae948b4023284d2ae6": {
     "model_module": "@jupyter-widgets/controls",
     "model_module_version": "1.5.0",
     "model_name": "HTMLModel",
     "state": {
      "_dom_classes": [],
      "_model_module": "@jupyter-widgets/controls",
      "_model_module_version": "1.5.0",
      "_model_name": "HTMLModel",
      "_view_count": null,
      "_view_module": "@jupyter-widgets/controls",
      "_view_module_version": "1.5.0",
      "_view_name": "HTMLView",
      "description": "",
      "description_tooltip": null,
      "layout": "IPY_MODEL_159fd68f34d440388ca2e8221d6d49f2",
      "placeholder": "​",
      "style": "IPY_MODEL_b7ef0e6d0af94849b32d918f5b360f72",
      "value": " 46801/46801 [00:47&lt;00:00, 1703.24 examples/s]"
     }
    },
    "611a6f0cf7434f4186bbe6961a54742e": {
     "model_module": "@jupyter-widgets/base",
     "model_module_version": "1.2.0",
     "model_name": "LayoutModel",
     "state": {
      "_model_module": "@jupyter-widgets/base",
      "_model_module_version": "1.2.0",
      "_model_name": "LayoutModel",
      "_view_count": null,
      "_view_module": "@jupyter-widgets/base",
      "_view_module_version": "1.2.0",
      "_view_name": "LayoutView",
      "align_content": null,
      "align_items": null,
      "align_self": null,
      "border": null,
      "bottom": null,
      "display": null,
      "flex": null,
      "flex_flow": null,
      "grid_area": null,
      "grid_auto_columns": null,
      "grid_auto_flow": null,
      "grid_auto_rows": null,
      "grid_column": null,
      "grid_gap": null,
      "grid_row": null,
      "grid_template_areas": null,
      "grid_template_columns": null,
      "grid_template_rows": null,
      "height": null,
      "justify_content": null,
      "justify_items": null,
      "left": null,
      "margin": null,
      "max_height": null,
      "max_width": null,
      "min_height": null,
      "min_width": null,
      "object_fit": null,
      "object_position": null,
      "order": null,
      "overflow": null,
      "overflow_x": null,
      "overflow_y": null,
      "padding": null,
      "right": null,
      "top": null,
      "visibility": null,
      "width": null
     }
    },
    "ae30a280af464393a17f16d8bd991e50": {
     "model_module": "@jupyter-widgets/controls",
     "model_module_version": "1.5.0",
     "model_name": "HBoxModel",
     "state": {
      "_dom_classes": [],
      "_model_module": "@jupyter-widgets/controls",
      "_model_module_version": "1.5.0",
      "_model_name": "HBoxModel",
      "_view_count": null,
      "_view_module": "@jupyter-widgets/controls",
      "_view_module_version": "1.5.0",
      "_view_name": "HBoxView",
      "box_style": "",
      "children": [
       "IPY_MODEL_412090d7ce2842d8979b6ee4ca19a0fe",
       "IPY_MODEL_2dd504bb8b464afea0ac61bc41c129cc",
       "IPY_MODEL_5a3141d40ea143ae948b4023284d2ae6"
      ],
      "layout": "IPY_MODEL_3a50612ff1584cd48e7f3a43dc733d1b"
     }
    },
    "b7ef0e6d0af94849b32d918f5b360f72": {
     "model_module": "@jupyter-widgets/controls",
     "model_module_version": "1.5.0",
     "model_name": "DescriptionStyleModel",
     "state": {
      "_model_module": "@jupyter-widgets/controls",
      "_model_module_version": "1.5.0",
      "_model_name": "DescriptionStyleModel",
      "_view_count": null,
      "_view_module": "@jupyter-widgets/base",
      "_view_module_version": "1.2.0",
      "_view_name": "StyleView",
      "description_width": ""
     }
    }
   }
  }
 },
 "nbformat": 4,
 "nbformat_minor": 1
}
