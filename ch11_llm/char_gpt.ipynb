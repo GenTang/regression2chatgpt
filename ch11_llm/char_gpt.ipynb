{
 "cells": [
  {
   "cell_type": "code",
   "execution_count": 1,
   "metadata": {
    "colab": {
     "base_uri": "https://localhost:8080/"
    },
    "id": "8D5tOVWvG6Ss",
    "outputId": "917998d3-b968-48d9-b7f1-a0f159ff1cd2"
   },
   "outputs": [
    {
     "data": {
      "text/plain": [
       "<torch._C.Generator at 0x7fcf180ad2f0>"
      ]
     },
     "execution_count": 1,
     "metadata": {},
     "output_type": "execute_result"
    }
   ],
   "source": [
    "import torch\n",
    "import torch.nn as nn\n",
    "import torch.nn.functional as F\n",
    "import torch.optim as optim\n",
    "from torch.utils.data import DataLoader\n",
    "from datasets import load_dataset\n",
    "import matplotlib.pyplot as plt\n",
    "%matplotlib inline\n",
    "\n",
    "\n",
    "torch.manual_seed(12046)\n",
    "# Device: V100 16GB\n",
    "# If using a CPU, it will take a considerable amount of time. \n",
    "# Please consider reducing the model size to speed up the process (e.g., descrease n_layer)."
   ]
  },
  {
   "cell_type": "code",
   "execution_count": 2,
   "metadata": {
    "colab": {
     "base_uri": "https://localhost:8080/"
    },
    "id": "GwjXDvhCG6Su",
    "outputId": "0f0cff6f-c785-4259-d271-91217c170986"
   },
   "outputs": [
    {
     "name": "stdout",
     "output_type": "stream",
     "text": [
      "tensor([[[ 1.0185, -1.3091,  1.2908,  0.5276],\n",
      "         [-0.2985,  1.6259,  2.0433, -0.6417],\n",
      "         [ 0.8795, -1.0512,  1.1491,  0.6116],\n",
      "         [ 0.2128, -0.5512,  0.0450,  0.5010]]])\n",
      "tensor([[[ 1.0185,    -inf,    -inf,    -inf],\n",
      "         [-0.2985,  1.6259,    -inf,    -inf],\n",
      "         [ 0.8795, -1.0512,  1.1491,    -inf],\n",
      "         [ 0.2128, -0.5512,  0.0450,  0.5010]]])\n",
      "tensor([[[1.0000, 0.0000, 0.0000, 0.0000],\n",
      "         [0.1274, 0.8726, 0.0000, 0.0000],\n",
      "         [0.4074, 0.0591, 0.5335, 0.0000],\n",
      "         [0.2743, 0.1278, 0.2319, 0.3659]]])\n"
     ]
    }
   ],
   "source": [
    "# Illustrate the role of mask in attention mechanism\n",
    "T = 4\n",
    "scores = torch.randn(1, T, T)\n",
    "print(scores)\n",
    "# Define lower triangular matrix\n",
    "tril = torch.tril(torch.ones(T, T))\n",
    "scores = scores.masked_fill(tril == 0, float('-inf'))\n",
    "print(scores)\n",
    "# Transform scores into weights between words\n",
    "print(F.softmax(scores, dim=-1))"
   ]
  },
  {
   "cell_type": "code",
   "execution_count": 3,
   "metadata": {
    "colab": {
     "base_uri": "https://localhost:8080/"
    },
    "id": "2o_FK0sUWW-t",
    "outputId": "af65728c-5920-4548-b8f5-5c9a925029b3"
   },
   "outputs": [
    {
     "name": "stdout",
     "output_type": "stream",
     "text": [
      "tensor(1.0026) tensor(1.0010) tensor(4.0152)\n",
      "tensor(1.0026) tensor(1.0010) tensor(1.0038)\n",
      "tensor([[0.0921, 0.1476, 0.1698, 0.4256, 0.0489, 0.0599, 0.0172, 0.0388]])\n",
      "tensor([[0., 0., 0., 1., 0., 0., 0., 0.]])\n"
     ]
    }
   ],
   "source": [
    "# The effect of increasing the variance of alignment scores.\n",
    "B, T, head_size = 32, 100, 16\n",
    "\n",
    "k = torch.randn(B, T, head_size)  # (B, T, H)\n",
    "q = torch.randn(B, T, head_size)  # (B, T, H)\n",
    "scores = q @ k.transpose(-2, -1)  # (B, T, T)\n",
    "print(k.std(), q.std(), scores.std())\n",
    "# The normalization of alignment scores.\n",
    "scores = scores / head_size ** 0.5\n",
    "print(k.std(), q.std(), scores.std())\n",
    "\n",
    "# The result of Softmax will be concentrated on one point, if the variance of data is too large.\n",
    "# This is why we need do normalization of alignment scores.\n",
    "x = torch.randn(1, 8)\n",
    "print(torch.softmax(x, dim=-1))\n",
    "print(torch.softmax(1000 * x, dim=-1))"
   ]
  },
  {
   "cell_type": "code",
   "execution_count": 4,
   "metadata": {
    "id": "ujPVSgIgG6Sv"
   },
   "outputs": [],
   "source": [
    "def attention(query, key, value, dropout, mask=None):\n",
    "    '''\n",
    "    Attention mechanism\n",
    "    \n",
    "    Args:\n",
    "    ----\n",
    "    query: torch.FloatTensor, Query in attention mechanism, shape (B, T, C)\n",
    "    key: torch.FloatTensor, Key in attention mechanism, shape (B, T, C)\n",
    "    value: torch.FloatTensor, Value in attention machanism, shape (B, T, C)\n",
    "    dropout: Dropout in attention machanism\n",
    "    mask: torch.FloatTensor，Mask in attention machanism, shape (T, T)\n",
    "    \n",
    "    Returns:\n",
    "    ----\n",
    "    out: torch.FloatTensor, Context vector, shape (B, T, C)\n",
    "    w_att: torch.FloatTensor, Weights, shape (B, T, T)\n",
    "    '''\n",
    "    # query, key, value have the same shape\n",
    "    B, T, C = query.shape\n",
    "    # (B, T, C) @ (B, C, T) --> (B, T, T)\n",
    "    scores = query @ key.transpose(-2, -1) / (C ** 0.5)\n",
    "    if mask is not None:\n",
    "        # If mask is None, it means the the word could use the context from both side.\n",
    "        # It is so-called bi-directional attention.\n",
    "        # If mask is lower triangular matrix, it is uni-directional attention.\n",
    "        scores = scores.masked_fill(mask == 0, float('-inf'))\n",
    "    w_att = dropout(F.softmax(scores, dim=-1))  # (B, T, T)\n",
    "    out = w_att @ value  # (B, T, C)\n",
    "    return out, w_att"
   ]
  },
  {
   "cell_type": "code",
   "execution_count": 5,
   "metadata": {
    "id": "SbJ2z5U3G6Sw"
   },
   "outputs": [],
   "source": [
    "class MaskedAttention(nn.Module):\n",
    "\n",
    "    def __init__(self, emb_size, head_size):\n",
    "        '''\n",
    "        Single head and uni-directional attention.\n",
    "        \n",
    "        Args:\n",
    "        ----\n",
    "        emb_size: int, The dimension of embedding.\n",
    "        head_size: int, The dimension of context.\n",
    "        '''\n",
    "        super().__init__()\n",
    "        self.key = nn.Linear(emb_size, head_size, bias=False)\n",
    "        self.query = nn.Linear(emb_size, head_size, bias=False)\n",
    "        self.value = nn.Linear(emb_size, head_size, bias=False)\n",
    "        # This lower triangular matrix will NOT involve model training.\n",
    "        self.register_buffer(\n",
    "            'tril', torch.tril(torch.ones(sequence_len, sequence_len)))\n",
    "        self.dropout = nn.Dropout(0.4)\n",
    "\n",
    "    def forward(self, x):\n",
    "        '''\n",
    "        Forward pass\n",
    "        \n",
    "        Args:\n",
    "        ----\n",
    "        x: torch.FloatTensor, The tensor of text, shape (B, T, C). \n",
    "            B means batch size, T means text length, C means dimension of embedding (emb_size).\n",
    "        \n",
    "        Returns:\n",
    "        ----\n",
    "        out: torch.FloatTensor\n",
    "            The context according to attention mechanism, shape (B, T, H). H means dimension of context.\n",
    "        '''\n",
    "        B, T, C = x.shape\n",
    "        q = self.query(x)  # (B, T, H)\n",
    "        k = self.key(x)    # (B, T, H)\n",
    "        v = self.value(x)  # (B, T, H)\n",
    "        mask = self.tril[:T, :T]\n",
    "        out, _ = attention(q, k, v, self.dropout, mask)\n",
    "        return out         # (B, T, H)\n",
    "\n",
    "class MaskedMultiHeadAttention(nn.Module):\n",
    "\n",
    "    def __init__(self, emb_size, head_size):\n",
    "        '''\n",
    "        Multi-head and uni-directional attention.\n",
    "        \n",
    "        Args:\n",
    "        ----\n",
    "        emb_size: int, The dimension of embedding.\n",
    "        head_size: int, The dimension of context.\n",
    "        '''\n",
    "        super().__init__()\n",
    "        assert(emb_size % head_size == 0)\n",
    "        # Define the number of head\n",
    "        n_head = emb_size // head_size\n",
    "        heads = [MaskedAttention(emb_size, head_size) for _ in range(n_head)]\n",
    "        self.heads = nn.ModuleList(heads)\n",
    "        # Linear projection\n",
    "        self.proj = nn.Linear(emb_size, emb_size)\n",
    "        self.dropout = nn.Dropout(0.4)\n",
    "\n",
    "    def forward(self, x):\n",
    "        '''\n",
    "        Forward pass\n",
    "        \n",
    "        Args:\n",
    "        ----\n",
    "        x: torch.FloatTensor, The tensor of text, shape (B, T, C). \n",
    "            B means batch size, T means text length, C means dimension of embedding (emb_size).\n",
    "        \n",
    "        Returns:\n",
    "        ----\n",
    "        out: torch.FloatTensor\n",
    "            The context according to attention mechanism, shape (B, T, C).\n",
    "        '''\n",
    "        # Concatenate the results of single head attention\n",
    "        out = torch.cat([h(x) for h in self.heads], dim=-1) # (B, T, C)\n",
    "        out = self.dropout(self.proj(out))\n",
    "        return out\n",
    "\n",
    "class FeedForward(nn.Module):\n",
    "\n",
    "    def __init__(self, emb_size):\n",
    "        '''\n",
    "        Multilayer perceptron.\n",
    "        '''\n",
    "        super().__init__()\n",
    "        self.l1 = nn.Linear(emb_size, 4 * emb_size)\n",
    "        self.l2 = nn.Linear(4 * emb_size, emb_size)\n",
    "        self.dropout = nn.Dropout(0.4)\n",
    "\n",
    "    def forward(self, x):\n",
    "        x = F.gelu(self.l1(x))\n",
    "        out = self.dropout(self.l2(x))\n",
    "        return out\n",
    "\n",
    "class Block(nn.Module):\n",
    "\n",
    "    def __init__(self, emb_size, head_size):\n",
    "        '''\n",
    "        Decode block\n",
    "        \n",
    "        Args:\n",
    "        ----\n",
    "        emb_size: int, The dimension of embedding.\n",
    "        head_size: int, The head size of single head attention.\n",
    "        '''\n",
    "        super().__init__()\n",
    "        self.mha = MaskedMultiHeadAttention(emb_size, head_size)\n",
    "        self.ff = FeedForward(emb_size)\n",
    "        # Layer normalization\n",
    "        self.ln1 = nn.LayerNorm(emb_size)\n",
    "        self.ln2 = nn.LayerNorm(emb_size)\n",
    "\n",
    "    def forward(self, x):\n",
    "        '''\n",
    "        Forward pass\n",
    "        \n",
    "        Args:\n",
    "        ----\n",
    "        x: torch.FloatTensor, The tensor of text, shape (B, T, C). \n",
    "        \n",
    "        Returns:\n",
    "        ----\n",
    "        out: torch.FloatTensor, The output of decode block, shape (B, T, C).\n",
    "        '''\n",
    "        # Residual connections\n",
    "        x = x + self.mha(self.ln1(x))   # (B, T, C)\n",
    "        out = x + self.ff(self.ln2(x))  # (B, T, C)\n",
    "        return out"
   ]
  },
  {
   "cell_type": "code",
   "execution_count": 6,
   "metadata": {
    "id": "KlDmjSCMG6Sx"
   },
   "outputs": [],
   "source": [
    "# Some parameters\n",
    "emb_size = 128\n",
    "head_size = 8\n",
    "n_layer = 12\n",
    "sequence_len = 64\n",
    "learning_rate = 1e-3\n",
    "eval_iters = 20\n",
    "batch_size=500\n",
    "# If GPU exists, use GPU to do computation.\n",
    "device = 'cuda' if torch.cuda.is_available() else 'cpu'"
   ]
  },
  {
   "cell_type": "code",
   "execution_count": 7,
   "metadata": {
    "id": "fwr_fSVpG6Sx"
   },
   "outputs": [],
   "source": [
    "class CharGPT(nn.Module):\n",
    "\n",
    "    def __init__(self, vs):\n",
    "        '''\n",
    "        Use GPT-2 to learn python script.\n",
    "        \n",
    "        Args:\n",
    "        ----\n",
    "        vs: int, The size of dictionary.\n",
    "        '''\n",
    "        super().__init__()\n",
    "        # The embedding of token\n",
    "        self.token_embedding = nn.Embedding(vs, emb_size)\n",
    "        # The embedding of position\n",
    "        self.position_embedding = nn.Embedding(sequence_len, emb_size)\n",
    "        # Decode blocks\n",
    "        blocks = [Block(emb_size, head_size) for _ in range(n_layer)]\n",
    "        self.blocks = nn.Sequential(*blocks)\n",
    "        self.ln = nn.LayerNorm(emb_size)\n",
    "        # Language modeling head\n",
    "        self.lm_head = nn.Linear(emb_size, vs)\n",
    "\n",
    "    def forward(self, x):\n",
    "        '''\n",
    "        Forward pass\n",
    "        \n",
    "        Args:\n",
    "        ----\n",
    "        x: torch.LongTensor, The dictionary embedding of text, shape (B, T). \n",
    "        \n",
    "        Returns:\n",
    "        ----\n",
    "        logits: torch.FloatTensor, The prediction, shape (B, T, vs).\n",
    "        '''\n",
    "        B, T = x.shape\n",
    "        # Define the position of token, shape (T)\n",
    "        pos = torch.arange(0, T, dtype=torch.long, device=x.device)\n",
    "        tok_emb = self.token_embedding(x)       # (B, T,  C)\n",
    "        pos_emb = self.position_embedding(pos)  # (   T,  C)\n",
    "        x = tok_emb + pos_emb                   # (B, T,  C)\n",
    "        x = self.blocks(x)                      # (B, T,  C)\n",
    "        x = self.ln(x)                          # (B, T,  C)\n",
    "        logits = self.lm_head(x)                # (B, T, vs)\n",
    "        return logits"
   ]
  },
  {
   "cell_type": "code",
   "execution_count": 8,
   "metadata": {
    "colab": {
     "base_uri": "https://localhost:8080/"
    },
    "id": "8LkvZyGjG6Sx",
    "outputId": "05aa4349-4ba4-4516-ee94-a19a08fe65cf"
   },
   "outputs": [
    {
     "data": {
      "text/plain": [
       "98"
      ]
     },
     "execution_count": 8,
     "metadata": {},
     "output_type": "execute_result"
    }
   ],
   "source": [
    "raw_datasets = load_dataset('code_search_net', 'python')\n",
    "datasets = raw_datasets['train'].filter(lambda x: 'apache/spark' in x['repository_name'])\n",
    "\n",
    "class char_tokenizer:\n",
    "\n",
    "    def __init__(self, data):\n",
    "        # The dictionary contains all chars in data.\n",
    "        chars = sorted(list(set(''.join(data))))\n",
    "        # <|e|> means the end of text.\n",
    "        self.char2ind = {s : i + 1 for i, s in enumerate(chars)}\n",
    "        self.char2ind['<|e|>'] = 0\n",
    "        self.ind2char = {i : s for s, i in self.char2ind.items()}\n",
    "\n",
    "    def encode(self, text):\n",
    "        return [self.char2ind[c] for c in text]\n",
    "\n",
    "    def decode(self, enc):\n",
    "        if isinstance(enc, int):\n",
    "            return self.ind2char[enc]\n",
    "        return [self.ind2char[i] for i in enc]\n",
    "\n",
    "tok = char_tokenizer(datasets['whole_func_string'])\n",
    "len(tok.char2ind)"
   ]
  },
  {
   "cell_type": "code",
   "execution_count": 9,
   "metadata": {
    "colab": {
     "base_uri": "https://localhost:8080/"
    },
    "id": "No_AQspwG6Sx",
    "outputId": "132ff3b8-1399-4982-c7a5-9400eab93eca"
   },
   "outputs": [
    {
     "name": "stdout",
     "output_type": "stream",
     "text": [
      "2408290 parameters\n"
     ]
    },
    {
     "data": {
      "text/plain": [
       "CharGPT(\n",
       "  (token_embedding): Embedding(98, 128)\n",
       "  (position_embedding): Embedding(64, 128)\n",
       "  (blocks): Sequential(\n",
       "    (0): Block(\n",
       "      (mha): MaskedMultiHeadAttention(\n",
       "        (heads): ModuleList(\n",
       "          (0-15): 16 x MaskedAttention(\n",
       "            (key): Linear(in_features=128, out_features=8, bias=False)\n",
       "            (query): Linear(in_features=128, out_features=8, bias=False)\n",
       "            (value): Linear(in_features=128, out_features=8, bias=False)\n",
       "            (dropout): Dropout(p=0.4, inplace=False)\n",
       "          )\n",
       "        )\n",
       "        (proj): Linear(in_features=128, out_features=128, bias=True)\n",
       "        (dropout): Dropout(p=0.4, inplace=False)\n",
       "      )\n",
       "      (ff): FeedForward(\n",
       "        (l1): Linear(in_features=128, out_features=512, bias=True)\n",
       "        (l2): Linear(in_features=512, out_features=128, bias=True)\n",
       "        (dropout): Dropout(p=0.4, inplace=False)\n",
       "      )\n",
       "      (ln1): LayerNorm((128,), eps=1e-05, elementwise_affine=True)\n",
       "      (ln2): LayerNorm((128,), eps=1e-05, elementwise_affine=True)\n",
       "    )\n",
       "    (1): Block(\n",
       "      (mha): MaskedMultiHeadAttention(\n",
       "        (heads): ModuleList(\n",
       "          (0-15): 16 x MaskedAttention(\n",
       "            (key): Linear(in_features=128, out_features=8, bias=False)\n",
       "            (query): Linear(in_features=128, out_features=8, bias=False)\n",
       "            (value): Linear(in_features=128, out_features=8, bias=False)\n",
       "            (dropout): Dropout(p=0.4, inplace=False)\n",
       "          )\n",
       "        )\n",
       "        (proj): Linear(in_features=128, out_features=128, bias=True)\n",
       "        (dropout): Dropout(p=0.4, inplace=False)\n",
       "      )\n",
       "      (ff): FeedForward(\n",
       "        (l1): Linear(in_features=128, out_features=512, bias=True)\n",
       "        (l2): Linear(in_features=512, out_features=128, bias=True)\n",
       "        (dropout): Dropout(p=0.4, inplace=False)\n",
       "      )\n",
       "      (ln1): LayerNorm((128,), eps=1e-05, elementwise_affine=True)\n",
       "      (ln2): LayerNorm((128,), eps=1e-05, elementwise_affine=True)\n",
       "    )\n",
       "    (2): Block(\n",
       "      (mha): MaskedMultiHeadAttention(\n",
       "        (heads): ModuleList(\n",
       "          (0-15): 16 x MaskedAttention(\n",
       "            (key): Linear(in_features=128, out_features=8, bias=False)\n",
       "            (query): Linear(in_features=128, out_features=8, bias=False)\n",
       "            (value): Linear(in_features=128, out_features=8, bias=False)\n",
       "            (dropout): Dropout(p=0.4, inplace=False)\n",
       "          )\n",
       "        )\n",
       "        (proj): Linear(in_features=128, out_features=128, bias=True)\n",
       "        (dropout): Dropout(p=0.4, inplace=False)\n",
       "      )\n",
       "      (ff): FeedForward(\n",
       "        (l1): Linear(in_features=128, out_features=512, bias=True)\n",
       "        (l2): Linear(in_features=512, out_features=128, bias=True)\n",
       "        (dropout): Dropout(p=0.4, inplace=False)\n",
       "      )\n",
       "      (ln1): LayerNorm((128,), eps=1e-05, elementwise_affine=True)\n",
       "      (ln2): LayerNorm((128,), eps=1e-05, elementwise_affine=True)\n",
       "    )\n",
       "    (3): Block(\n",
       "      (mha): MaskedMultiHeadAttention(\n",
       "        (heads): ModuleList(\n",
       "          (0-15): 16 x MaskedAttention(\n",
       "            (key): Linear(in_features=128, out_features=8, bias=False)\n",
       "            (query): Linear(in_features=128, out_features=8, bias=False)\n",
       "            (value): Linear(in_features=128, out_features=8, bias=False)\n",
       "            (dropout): Dropout(p=0.4, inplace=False)\n",
       "          )\n",
       "        )\n",
       "        (proj): Linear(in_features=128, out_features=128, bias=True)\n",
       "        (dropout): Dropout(p=0.4, inplace=False)\n",
       "      )\n",
       "      (ff): FeedForward(\n",
       "        (l1): Linear(in_features=128, out_features=512, bias=True)\n",
       "        (l2): Linear(in_features=512, out_features=128, bias=True)\n",
       "        (dropout): Dropout(p=0.4, inplace=False)\n",
       "      )\n",
       "      (ln1): LayerNorm((128,), eps=1e-05, elementwise_affine=True)\n",
       "      (ln2): LayerNorm((128,), eps=1e-05, elementwise_affine=True)\n",
       "    )\n",
       "    (4): Block(\n",
       "      (mha): MaskedMultiHeadAttention(\n",
       "        (heads): ModuleList(\n",
       "          (0-15): 16 x MaskedAttention(\n",
       "            (key): Linear(in_features=128, out_features=8, bias=False)\n",
       "            (query): Linear(in_features=128, out_features=8, bias=False)\n",
       "            (value): Linear(in_features=128, out_features=8, bias=False)\n",
       "            (dropout): Dropout(p=0.4, inplace=False)\n",
       "          )\n",
       "        )\n",
       "        (proj): Linear(in_features=128, out_features=128, bias=True)\n",
       "        (dropout): Dropout(p=0.4, inplace=False)\n",
       "      )\n",
       "      (ff): FeedForward(\n",
       "        (l1): Linear(in_features=128, out_features=512, bias=True)\n",
       "        (l2): Linear(in_features=512, out_features=128, bias=True)\n",
       "        (dropout): Dropout(p=0.4, inplace=False)\n",
       "      )\n",
       "      (ln1): LayerNorm((128,), eps=1e-05, elementwise_affine=True)\n",
       "      (ln2): LayerNorm((128,), eps=1e-05, elementwise_affine=True)\n",
       "    )\n",
       "    (5): Block(\n",
       "      (mha): MaskedMultiHeadAttention(\n",
       "        (heads): ModuleList(\n",
       "          (0-15): 16 x MaskedAttention(\n",
       "            (key): Linear(in_features=128, out_features=8, bias=False)\n",
       "            (query): Linear(in_features=128, out_features=8, bias=False)\n",
       "            (value): Linear(in_features=128, out_features=8, bias=False)\n",
       "            (dropout): Dropout(p=0.4, inplace=False)\n",
       "          )\n",
       "        )\n",
       "        (proj): Linear(in_features=128, out_features=128, bias=True)\n",
       "        (dropout): Dropout(p=0.4, inplace=False)\n",
       "      )\n",
       "      (ff): FeedForward(\n",
       "        (l1): Linear(in_features=128, out_features=512, bias=True)\n",
       "        (l2): Linear(in_features=512, out_features=128, bias=True)\n",
       "        (dropout): Dropout(p=0.4, inplace=False)\n",
       "      )\n",
       "      (ln1): LayerNorm((128,), eps=1e-05, elementwise_affine=True)\n",
       "      (ln2): LayerNorm((128,), eps=1e-05, elementwise_affine=True)\n",
       "    )\n",
       "    (6): Block(\n",
       "      (mha): MaskedMultiHeadAttention(\n",
       "        (heads): ModuleList(\n",
       "          (0-15): 16 x MaskedAttention(\n",
       "            (key): Linear(in_features=128, out_features=8, bias=False)\n",
       "            (query): Linear(in_features=128, out_features=8, bias=False)\n",
       "            (value): Linear(in_features=128, out_features=8, bias=False)\n",
       "            (dropout): Dropout(p=0.4, inplace=False)\n",
       "          )\n",
       "        )\n",
       "        (proj): Linear(in_features=128, out_features=128, bias=True)\n",
       "        (dropout): Dropout(p=0.4, inplace=False)\n",
       "      )\n",
       "      (ff): FeedForward(\n",
       "        (l1): Linear(in_features=128, out_features=512, bias=True)\n",
       "        (l2): Linear(in_features=512, out_features=128, bias=True)\n",
       "        (dropout): Dropout(p=0.4, inplace=False)\n",
       "      )\n",
       "      (ln1): LayerNorm((128,), eps=1e-05, elementwise_affine=True)\n",
       "      (ln2): LayerNorm((128,), eps=1e-05, elementwise_affine=True)\n",
       "    )\n",
       "    (7): Block(\n",
       "      (mha): MaskedMultiHeadAttention(\n",
       "        (heads): ModuleList(\n",
       "          (0-15): 16 x MaskedAttention(\n",
       "            (key): Linear(in_features=128, out_features=8, bias=False)\n",
       "            (query): Linear(in_features=128, out_features=8, bias=False)\n",
       "            (value): Linear(in_features=128, out_features=8, bias=False)\n",
       "            (dropout): Dropout(p=0.4, inplace=False)\n",
       "          )\n",
       "        )\n",
       "        (proj): Linear(in_features=128, out_features=128, bias=True)\n",
       "        (dropout): Dropout(p=0.4, inplace=False)\n",
       "      )\n",
       "      (ff): FeedForward(\n",
       "        (l1): Linear(in_features=128, out_features=512, bias=True)\n",
       "        (l2): Linear(in_features=512, out_features=128, bias=True)\n",
       "        (dropout): Dropout(p=0.4, inplace=False)\n",
       "      )\n",
       "      (ln1): LayerNorm((128,), eps=1e-05, elementwise_affine=True)\n",
       "      (ln2): LayerNorm((128,), eps=1e-05, elementwise_affine=True)\n",
       "    )\n",
       "    (8): Block(\n",
       "      (mha): MaskedMultiHeadAttention(\n",
       "        (heads): ModuleList(\n",
       "          (0-15): 16 x MaskedAttention(\n",
       "            (key): Linear(in_features=128, out_features=8, bias=False)\n",
       "            (query): Linear(in_features=128, out_features=8, bias=False)\n",
       "            (value): Linear(in_features=128, out_features=8, bias=False)\n",
       "            (dropout): Dropout(p=0.4, inplace=False)\n",
       "          )\n",
       "        )\n",
       "        (proj): Linear(in_features=128, out_features=128, bias=True)\n",
       "        (dropout): Dropout(p=0.4, inplace=False)\n",
       "      )\n",
       "      (ff): FeedForward(\n",
       "        (l1): Linear(in_features=128, out_features=512, bias=True)\n",
       "        (l2): Linear(in_features=512, out_features=128, bias=True)\n",
       "        (dropout): Dropout(p=0.4, inplace=False)\n",
       "      )\n",
       "      (ln1): LayerNorm((128,), eps=1e-05, elementwise_affine=True)\n",
       "      (ln2): LayerNorm((128,), eps=1e-05, elementwise_affine=True)\n",
       "    )\n",
       "    (9): Block(\n",
       "      (mha): MaskedMultiHeadAttention(\n",
       "        (heads): ModuleList(\n",
       "          (0-15): 16 x MaskedAttention(\n",
       "            (key): Linear(in_features=128, out_features=8, bias=False)\n",
       "            (query): Linear(in_features=128, out_features=8, bias=False)\n",
       "            (value): Linear(in_features=128, out_features=8, bias=False)\n",
       "            (dropout): Dropout(p=0.4, inplace=False)\n",
       "          )\n",
       "        )\n",
       "        (proj): Linear(in_features=128, out_features=128, bias=True)\n",
       "        (dropout): Dropout(p=0.4, inplace=False)\n",
       "      )\n",
       "      (ff): FeedForward(\n",
       "        (l1): Linear(in_features=128, out_features=512, bias=True)\n",
       "        (l2): Linear(in_features=512, out_features=128, bias=True)\n",
       "        (dropout): Dropout(p=0.4, inplace=False)\n",
       "      )\n",
       "      (ln1): LayerNorm((128,), eps=1e-05, elementwise_affine=True)\n",
       "      (ln2): LayerNorm((128,), eps=1e-05, elementwise_affine=True)\n",
       "    )\n",
       "    (10): Block(\n",
       "      (mha): MaskedMultiHeadAttention(\n",
       "        (heads): ModuleList(\n",
       "          (0-15): 16 x MaskedAttention(\n",
       "            (key): Linear(in_features=128, out_features=8, bias=False)\n",
       "            (query): Linear(in_features=128, out_features=8, bias=False)\n",
       "            (value): Linear(in_features=128, out_features=8, bias=False)\n",
       "            (dropout): Dropout(p=0.4, inplace=False)\n",
       "          )\n",
       "        )\n",
       "        (proj): Linear(in_features=128, out_features=128, bias=True)\n",
       "        (dropout): Dropout(p=0.4, inplace=False)\n",
       "      )\n",
       "      (ff): FeedForward(\n",
       "        (l1): Linear(in_features=128, out_features=512, bias=True)\n",
       "        (l2): Linear(in_features=512, out_features=128, bias=True)\n",
       "        (dropout): Dropout(p=0.4, inplace=False)\n",
       "      )\n",
       "      (ln1): LayerNorm((128,), eps=1e-05, elementwise_affine=True)\n",
       "      (ln2): LayerNorm((128,), eps=1e-05, elementwise_affine=True)\n",
       "    )\n",
       "    (11): Block(\n",
       "      (mha): MaskedMultiHeadAttention(\n",
       "        (heads): ModuleList(\n",
       "          (0-15): 16 x MaskedAttention(\n",
       "            (key): Linear(in_features=128, out_features=8, bias=False)\n",
       "            (query): Linear(in_features=128, out_features=8, bias=False)\n",
       "            (value): Linear(in_features=128, out_features=8, bias=False)\n",
       "            (dropout): Dropout(p=0.4, inplace=False)\n",
       "          )\n",
       "        )\n",
       "        (proj): Linear(in_features=128, out_features=128, bias=True)\n",
       "        (dropout): Dropout(p=0.4, inplace=False)\n",
       "      )\n",
       "      (ff): FeedForward(\n",
       "        (l1): Linear(in_features=128, out_features=512, bias=True)\n",
       "        (l2): Linear(in_features=512, out_features=128, bias=True)\n",
       "        (dropout): Dropout(p=0.4, inplace=False)\n",
       "      )\n",
       "      (ln1): LayerNorm((128,), eps=1e-05, elementwise_affine=True)\n",
       "      (ln2): LayerNorm((128,), eps=1e-05, elementwise_affine=True)\n",
       "    )\n",
       "  )\n",
       "  (ln): LayerNorm((128,), eps=1e-05, elementwise_affine=True)\n",
       "  (lm_head): Linear(in_features=128, out_features=98, bias=True)\n",
       ")"
      ]
     },
     "execution_count": 9,
     "metadata": {},
     "output_type": "execute_result"
    }
   ],
   "source": [
    "# Print the structure of model\n",
    "model = CharGPT(len(tok.char2ind)).to(device)\n",
    "# Print the number of model parameters\n",
    "print(f'{sum(p.numel() for p in model.parameters())} parameters')\n",
    "model"
   ]
  },
  {
   "cell_type": "code",
   "execution_count": 10,
   "metadata": {
    "id": "VOl4s229G6Sy"
   },
   "outputs": [],
   "source": [
    "@torch.no_grad()\n",
    "def generate_batch(model, idx, max_new_tokens=300):\n",
    "    '''\n",
    "    Use model to generate text (recurrently use model to do inference).\n",
    "    \n",
    "    Args:\n",
    "    ----\n",
    "    model: CharGPT\n",
    "    idx: torch.LongTensor, The position in the dictionary, shape (1, T)\n",
    "    max_new_tokens: int, The max length of new tokens.\n",
    "    \n",
    "    Returns:\n",
    "    ----\n",
    "    out: list[int], The generated text.\n",
    "    '''\n",
    "    # Put the model on evaluation mode\n",
    "    model.eval()\n",
    "    for _ in range(max_new_tokens):\n",
    "        # Limit the context length\n",
    "        context = idx[:, -sequence_len:]\n",
    "        # The efficiency is quite low, as there are many useless calculation\n",
    "        logits = model(context)\n",
    "        # Use the last logits\n",
    "        logits = logits[:, -1, :]\n",
    "        probs = F.softmax(logits, dim=-1)\n",
    "        # Generate the prediction according to the probs\n",
    "        # This step is stochastic\n",
    "        ix = torch.multinomial(probs, num_samples=1)\n",
    "        idx = torch.cat((idx, ix), dim=1)\n",
    "        if ix.item() == 0:\n",
    "            break\n",
    "    # Put the model on train mode\n",
    "    model.train()\n",
    "    return idx.tolist()[0]"
   ]
  },
  {
   "cell_type": "code",
   "execution_count": 11,
   "metadata": {
    "colab": {
     "base_uri": "https://localhost:8080/"
    },
    "id": "HQizE-2mG6Sz",
    "outputId": "21033dbb-9a8c-4ea2-9692-fcc000227b4c"
   },
   "outputs": [
    {
     "name": "stdout",
     "output_type": "stream",
     "text": [
      "def* O(h/of(\"YP`soE f|dwöR:1'_v?Q9)Nsx/Q=CKf\\M:iKcaI%+Q3m<sAegWSJ?0Nx!qJT3\\yMm5Za)'W*N\\WmsB?({<|e|>\n"
     ]
    }
   ],
   "source": [
    "# Test text generation\n",
    "begin_text = torch.tensor(tok.encode('def'), device=device).unsqueeze(0)\n",
    "print(''.join(tok.decode(generate_batch(model, begin_text))))"
   ]
  },
  {
   "cell_type": "code",
   "execution_count": 12,
   "metadata": {
    "colab": {
     "base_uri": "https://localhost:8080/"
    },
    "id": "q0Fw0TCyG6Sz",
    "outputId": "140dc25b-792d-45fa-a8c3-b975461237a7"
   },
   "outputs": [
    {
     "data": {
      "text/plain": [
       "(torch.Size([605913, 64]), torch.Size([605913, 64]))"
      ]
     },
     "execution_count": 12,
     "metadata": {},
     "output_type": "execute_result"
    }
   ],
   "source": [
    "def process(data, sequence_len=sequence_len):\n",
    "    '''\n",
    "    Transform text to train data.\n",
    "    '''\n",
    "    # text is list[str]\n",
    "    text = data['whole_func_string']\n",
    "    inputs, labels = [], []\n",
    "    for i in text:\n",
    "        enc = tok.encode(i)\n",
    "        # 0 means the end of text\n",
    "        enc += [0]\n",
    "        # Transform one text to multiple train data\n",
    "        for i in range(len(enc) - sequence_len):\n",
    "            inputs.append(enc[i: i + sequence_len])\n",
    "            # The label is the next char. It is sufficient to move one position.\n",
    "            labels.append(enc[i + 1: i + 1 + sequence_len])\n",
    "    return {'inputs': inputs, 'labels': labels}\n",
    "\n",
    "# Split data into train set and test set\n",
    "tokenized = datasets.train_test_split(test_size=0.1, seed=1024, shuffle=True)\n",
    "# The train data merely contains inputs and labels.\n",
    "tokenized = tokenized.map(process, batched=True, remove_columns=datasets.column_names)\n",
    "tokenized.set_format(type='torch', device=device)\n",
    "\n",
    "tokenized['train']['inputs'].shape, tokenized['train']['labels'].shape"
   ]
  },
  {
   "cell_type": "code",
   "execution_count": 13,
   "metadata": {
    "colab": {
     "base_uri": "https://localhost:8080/"
    },
    "id": "-x4i2q1iG6S0",
    "outputId": "23ec73d3-566d-4bfa-98c0-d3c05be82e70"
   },
   "outputs": [
    {
     "data": {
      "text/plain": [
       "{'inputs': tensor([[ 2,  2,  2,  ...,  2,  2,  4],\n",
       "         [81, 80, 88,  ...,  2,  2, 10],\n",
       "         [ 4, 37, 84,  ...,  2,  2,  2],\n",
       "         ...,\n",
       "         [75, 85,  2,  ..., 70, 71, 84],\n",
       "         [ 2,  2,  2,  ..., 67, 78, 53],\n",
       "         [87, 84, 67,  ..., 89,  2, 38]], device='cuda:0'),\n",
       " 'labels': tensor([[ 2,  2, 32,  ...,  2,  4,  4],\n",
       "         [80, 88, 71,  ...,  2, 10, 70],\n",
       "         [37, 84, 71,  ...,  2,  2,  2],\n",
       "         ...,\n",
       "         [85,  2, 72,  ..., 71, 84, 75],\n",
       "         [ 2,  2,  2,  ..., 78, 53, 81],\n",
       "         [84, 67, 86,  ...,  2, 38, 53]], device='cuda:0')}"
      ]
     },
     "execution_count": 13,
     "metadata": {},
     "output_type": "execute_result"
    }
   ],
   "source": [
    "# Build data loader\n",
    "train_loader = DataLoader(tokenized['train'], batch_size=batch_size, shuffle=True)\n",
    "test_loader = DataLoader(tokenized['test'], batch_size=batch_size, shuffle=True)\n",
    "# Get one batch data\n",
    "next(iter(test_loader))"
   ]
  },
  {
   "cell_type": "code",
   "execution_count": 14,
   "metadata": {
    "colab": {
     "base_uri": "https://localhost:8080/"
    },
    "id": "QD37LTDbG6S0",
    "outputId": "b51ce4ce-7f4a-41dc-c6a2-f518afaa9ce1"
   },
   "outputs": [
    {
     "data": {
      "text/plain": [
       "{'train': 4.730088233947754, 'test': 4.726046085357666}"
      ]
     },
     "execution_count": 14,
     "metadata": {},
     "output_type": "execute_result"
    }
   ],
   "source": [
    "def estimate_loss(model):\n",
    "    re = {}\n",
    "    # Put the model on evaluation mode\n",
    "    model.eval()\n",
    "    re['train'] = _loss(model, train_loader)\n",
    "    re['test'] = _loss(model, test_loader)\n",
    "    # Put the model on train mode\n",
    "    model.train()\n",
    "    return re\n",
    "\n",
    "@torch.no_grad()\n",
    "def _loss(model, data_loader):\n",
    "    '''\n",
    "    Measure the performance of model based on different data sets.\n",
    "    '''\n",
    "    loss = []\n",
    "    data_iter= iter(data_loader)\n",
    "    # Use eval_iters batch data to measure the performance\n",
    "    for k in range(eval_iters):\n",
    "        data = next(data_iter, None)\n",
    "        if data is None:\n",
    "            data_iter = iter(data_loader)\n",
    "            data = next(data_iter, None)\n",
    "        inputs, labels = data['inputs'], data['labels']\n",
    "        logits = model(inputs)\n",
    "        # According to the definition of cross_entropy in PyTorch,\n",
    "        # we need to transpose the logits.\n",
    "        # More details can be found in official document.\n",
    "        logits = logits.transpose(-2, -1)\n",
    "        loss.append(F.cross_entropy(logits, labels).item())\n",
    "    return torch.tensor(loss).mean().item()\n",
    "\n",
    "estimate_loss(model)"
   ]
  },
  {
   "cell_type": "code",
   "execution_count": 15,
   "metadata": {
    "id": "TgKhC5TmG6S0"
   },
   "outputs": [],
   "source": [
    "def train_gpt(model, optimizer, data_loader, epochs=10):\n",
    "    lossi = []\n",
    "    for epoch in range(epochs):\n",
    "        for i, data in enumerate(data_loader, 0):\n",
    "            inputs, labels = data['inputs'], data['labels']\n",
    "            optimizer.zero_grad()\n",
    "            logits = model(inputs)\n",
    "            # According to the definition of cross_entropy in PyTorch,\n",
    "            # we need to transpose the logits.\n",
    "            # More details can be found in official document.\n",
    "            logits = logits.transpose(-2, -1)\n",
    "            loss = F.cross_entropy(logits, labels)\n",
    "            lossi.append(loss.item())\n",
    "            loss.backward()\n",
    "            optimizer.step()\n",
    "        # Evaluate the performance\n",
    "        stats = estimate_loss(model)\n",
    "        train_loss = f'train loss {stats['train']:.4f}'\n",
    "        test_loss = f'test loss {stats['test']:.4f}'\n",
    "        print(f'epoch {epoch:>2}: {train_loss}, {test_loss}')\n",
    "    return lossi"
   ]
  },
  {
   "cell_type": "code",
   "execution_count": 16,
   "metadata": {
    "colab": {
     "base_uri": "https://localhost:8080/"
    },
    "id": "MCPIFH2dG6S1",
    "outputId": "68de3a92-b717-4147-ea07-bf456bae2190"
   },
   "outputs": [
    {
     "name": "stdout",
     "output_type": "stream",
     "text": [
      "epoch  0: train loss 0.9037, test loss 1.1066\n",
      "epoch  1: train loss 0.7246, test loss 1.0086\n",
      "epoch  2: train loss 0.6448, test loss 0.9719\n",
      "epoch  3: train loss 0.5838, test loss 0.9607\n",
      "epoch  4: train loss 0.5468, test loss 0.9672\n",
      "epoch  5: train loss 0.5156, test loss 0.9663\n",
      "epoch  6: train loss 0.4891, test loss 0.9596\n",
      "epoch  7: train loss 0.4687, test loss 0.9652\n",
      "epoch  8: train loss 0.4517, test loss 0.9709\n",
      "epoch  9: train loss 0.4347, test loss 0.9761\n"
     ]
    }
   ],
   "source": [
    "l = train_gpt(model, optim.AdamW(model.parameters(), lr=learning_rate), train_loader)"
   ]
  },
  {
   "cell_type": "code",
   "execution_count": 17,
   "metadata": {
    "colab": {
     "base_uri": "https://localhost:8080/",
     "height": 448
    },
    "id": "pgRJxHwOG6S1",
    "outputId": "8787891f-92aa-4eca-a09b-83b8e5fdd3c9"
   },
   "outputs": [
    {
     "data": {
      "text/plain": [
       "[<matplotlib.lines.Line2D at 0x7fcdb82aabc0>]"
      ]
     },
     "execution_count": 17,
     "metadata": {},
     "output_type": "execute_result"
    },
    {
     "data": {
      "image/png": "[encoded data removed]",
      "text/plain": [
       "<Figure size 640x480 with 1 Axes>"
      ]
     },
     "metadata": {},
     "output_type": "display_data"
    }
   ],
   "source": [
    "plt.plot(torch.tensor(l).view(-1, 10).mean(1).numpy())"
   ]
  },
  {
   "cell_type": "code",
   "execution_count": 18,
   "metadata": {
    "colab": {
     "base_uri": "https://localhost:8080/"
    },
    "id": "cPqZDUJ8I2AA",
    "outputId": "a6adc02a-a989-4bc5-ab8b-8840be56238d"
   },
   "outputs": [
    {
     "name": "stdout",
     "output_type": "stream",
     "text": [
      "def _initialModel._to_java_impl():\n",
      "        \"\"\"\n",
      "        Deprecated in 2.3.0. Use :func:`pyspark.sql.types.DataType`, int or :class:`Column` expression in the given key (default param).\n",
      "\n",
      "        >>> df = spark.range(1, 0).alias('age')).collect()\n",
      "        [Row(name=u'Alice', age=1, name=u'Alice')]\n",
      "        \"\n"
     ]
    }
   ],
   "source": [
    "# Text generation\n",
    "begin_text = torch.tensor(tok.encode('def '), device=device).unsqueeze(0)\n",
    "print(''.join(tok.decode(generate_batch(model, begin_text))))"
   ]
  }
 ],
 "metadata": {
  "accelerator": "GPU",
  "colab": {
   "gpuType": "V100",
   "provenance": []
  },
  "kernelspec": {
   "display_name": "Python 3",
   "language": "python",
   "name": "python3"
  },
  "language_info": {
   "codemirror_mode": {
    "name": "ipython",
    "version": 3
   },
   "file_extension": ".py",
   "mimetype": "text/x-python",
   "name": "python",
   "nbconvert_exporter": "python",
   "pygments_lexer": "ipython3",
   "version": "3.8.5"
  }
 },
 "nbformat": 4,
 "nbformat_minor": 1
}
